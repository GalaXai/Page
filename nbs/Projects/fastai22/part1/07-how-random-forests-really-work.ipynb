{
 "cells": [
  {
   "cell_type": "raw",
   "metadata": {},
   "source": [
    "    ---\n",
    "date: 2023-03-17\n",
    "categories: [ML,Random Forest,fastai]\n",
    "title: p1-07 How random forests really work\n",
    "description: Building Random Forests from scratch.\n",
    "---"
   ]
  },
  {
   "cell_type": "markdown",
   "metadata": {},
   "source": [
    "Additional notes about Random Forests [Link](https://afterhoursbilly.notion.site/Random-Forests-e74ad590ed9641cba5579ef55bd7f193)"
   ]
  },
  {
   "cell_type": "code",
   "execution_count": null,
   "metadata": {},
   "outputs": [],
   "source": [
    "#| hide\n",
    "from fastai.imports import *\n",
    "np.set_printoptions(linewidth=130)"
   ]
  },
  {
   "cell_type": "markdown",
   "metadata": {},
   "source": [
    "## Data preprocessing"
   ]
  },
  {
   "cell_type": "markdown",
   "metadata": {},
   "source": [
    "We'll create `DataFrame`s from the CSV files just like we did in the \"*linear model and neural net from scratch*\" notebook, and do much the same preprocessing."
   ]
  },
  {
   "cell_type": "code",
   "execution_count": null,
   "metadata": {},
   "outputs": [],
   "source": [
    "import os\n",
    "iskaggle = os.environ.get('KAGGLE_KERNEL_RUN_TYPE', '')\n",
    "\n",
    "if iskaggle: path = Path('../input/titanic')\n",
    "else:\n",
    "    import zipfile,kaggle\n",
    "    path = Path('titanic')\n",
    "    kaggle.api.competition_download_cli(str(path))\n",
    "    zipfile.ZipFile(f'{path}.zip').extractall(path)\n",
    "    !rm titanic.zip\n",
    "\n",
    "    \n",
    "df = pd.read_csv(path/'train.csv')\n",
    "tst_df = pd.read_csv(path/'test.csv')\n",
    "modes = df.mode().iloc[0]"
   ]
  },
  {
   "cell_type": "markdown",
   "metadata": {},
   "source": [
    "One difference with Random Forests however is that we don't generally have to create *dummy variables* like we did for non-numeric columns in the linear models and neural network. Instead, we can just convert those fields to *categorical variables*, which internally in Pandas makes a list of all the unique values in the column, and replaces each value with a number. The number is just an index for looking up the value in the list of all unique values."
   ]
  },
  {
   "cell_type": "code",
   "execution_count": null,
   "metadata": {},
   "outputs": [],
   "source": [
    "def proc_data(df):\n",
    "    df['Fare'] = df.Fare.fillna(0)\n",
    "    df.fillna(modes, inplace=True)\n",
    "    df['LogFare'] = np.log1p(df['Fare']) # log1p is basically log(n+1)\n",
    "    df['Embarked'] = pd.Categorical(df.Embarked)\n",
    "    df['Sex'] = pd.Categorical(df.Sex)\n",
    "\n",
    "proc_data(df)\n",
    "proc_data(tst_df)"
   ]
  },
  {
   "cell_type": "markdown",
   "metadata": {},
   "source": [
    "We'll make a list of the continuous, categorical, and dependent variables. Note that we no longer consider `Pclass` a categorical variable. That's because it's *ordered* (i.e 1st, 2nd, and 3rd class have an order), and decision trees, as we'll see, only care about order, not about absolute value."
   ]
  },
  {
   "cell_type": "code",
   "execution_count": null,
   "metadata": {},
   "outputs": [],
   "source": [
    "cats=[\"Sex\",\"Embarked\"]\n",
    "conts=['Age', 'SibSp', 'Parch', 'LogFare',\"Pclass\"]\n",
    "dep=\"Survived\""
   ]
  },
  {
   "cell_type": "markdown",
   "metadata": {},
   "source": [
    "Even although we've made the `cats` columns categorical, they are still shown by Pandas as their original values:"
   ]
  },
  {
   "cell_type": "code",
   "execution_count": null,
   "metadata": {},
   "outputs": [
    {
     "data": {
      "text/plain": [
       "0      male\n",
       "1    female\n",
       "2    female\n",
       "3    female\n",
       "4      male\n",
       "Name: Sex, dtype: category\n",
       "Categories (2, object): ['female', 'male']"
      ]
     },
     "execution_count": null,
     "metadata": {},
     "output_type": "execute_result"
    }
   ],
   "source": [
    "df.Sex.head()"
   ]
  },
  {
   "cell_type": "markdown",
   "metadata": {},
   "source": [
    "However behind the scenes they're now stored as integers, with indices that are looked up in the `Categories` list shown in the output above. We can view the stored values by looking in the `cat.codes` attribute:"
   ]
  },
  {
   "cell_type": "code",
   "execution_count": null,
   "metadata": {},
   "outputs": [
    {
     "data": {
      "text/plain": [
       "0    1\n",
       "1    0\n",
       "2    0\n",
       "3    0\n",
       "4    1\n",
       "dtype: int8"
      ]
     },
     "execution_count": null,
     "metadata": {},
     "output_type": "execute_result"
    }
   ],
   "source": [
    "df.Sex.cat.codes.head()"
   ]
  },
  {
   "cell_type": "markdown",
   "metadata": {},
   "source": [
    "## Binary splits"
   ]
  },
  {
   "cell_type": "markdown",
   "metadata": {},
   "source": [
    "`Random Forest` is a ensemble of  `trees` and a `tree` is a ensemble of `binary splits`. So lets start with binary splits"
   ]
  },
  {
   "cell_type": "markdown",
   "metadata": {},
   "source": [
    "A binary split is where all rows are placed into one of two groups (splits), based on whether they're above or below certain threshold of some column. For example, we could split the rows of our dataset into `males` and `females`, by using the threshold `0.5` and the column `Sex`."
   ]
  },
  {
   "cell_type": "code",
   "execution_count": null,
   "metadata": {},
   "outputs": [
    {
     "data": {
      "image/png": "[encoded data removed]",
      "text/plain": [
       "<Figure size 1100x500 with 2 Axes>"
      ]
     },
     "metadata": {},
     "output_type": "display_data"
    }
   ],
   "source": [
    "import seaborn as sns\n",
    "\n",
    "fig,axs = plt.subplots(1,2, figsize=(11,5))\n",
    "sns.barplot(data=df, y=dep, x=\"Sex\", ax=axs[0]).set(title=\"Survival rate\")\n",
    "sns.countplot(data=df, x=\"Sex\", ax=axs[1]).set(title=\"Histogram\");"
   ]
  },
  {
   "cell_type": "markdown",
   "metadata": {},
   "source": [
    "We can see on the left graph that if we split the date into males and females, we'd have groups that have very different survival rates: `>70%` for females, and `<20%` for males. We can also see on the right graph that the split would be reasonably even, with 300 passengers (out of around 900) in each group. \\\n",
    "Furthermore, we could create a very simple \"model\" which would say that all female survive, and no males do. To do so, we better first split our data into a training and validation set."
   ]
  },
  {
   "cell_type": "code",
   "execution_count": null,
   "metadata": {},
   "outputs": [],
   "source": [
    "from numpy import random\n",
    "from sklearn.model_selection import train_test_split\n",
    "\n",
    "random.seed(42)\n",
    "trn_df,val_df = train_test_split(df, test_size=0.25)\n",
    "trn_df[cats] = trn_df[cats].apply(lambda x: x.cat.codes)\n",
    "val_df[cats] = val_df[cats].apply(lambda x: x.cat.codes)"
   ]
  },
  {
   "cell_type": "markdown",
   "metadata": {},
   "source": [
    "(In the previous step we also replaced the categorical variables with their integer codes, since some of the models we'll be building in a moment require that.)\n",
    "\n",
    "Now we can create our independent variables (the `x` variables) and dependent (the `y` variable):"
   ]
  },
  {
   "cell_type": "code",
   "execution_count": null,
   "metadata": {},
   "outputs": [],
   "source": [
    "def xs_y(df):\n",
    "    xs = df[cats+conts].copy()\n",
    "    return xs,df[dep] if dep in df else None\n",
    "\n",
    "trn_xs,trn_y = xs_y(trn_df)\n",
    "val_xs,val_y = xs_y(val_df)"
   ]
  },
  {
   "cell_type": "code",
   "execution_count": null,
   "metadata": {},
   "outputs": [
    {
     "data": {
      "text/html": [
       "<div>\n",
       "<style scoped>\n",
       "    .dataframe tbody tr th:only-of-type {\n",
       "        vertical-align: middle;\n",
       "    }\n",
       "\n",
       "    .dataframe tbody tr th {\n",
       "        vertical-align: top;\n",
       "    }\n",
       "\n",
       "    .dataframe thead th {\n",
       "        text-align: right;\n",
       "    }\n",
       "</style>\n",
       "<table border=\"1\" class=\"dataframe\">\n",
       "  <thead>\n",
       "    <tr style=\"text-align: right;\">\n",
       "      <th></th>\n",
       "      <th>Sex</th>\n",
       "      <th>Embarked</th>\n",
       "      <th>Age</th>\n",
       "      <th>SibSp</th>\n",
       "      <th>Parch</th>\n",
       "      <th>LogFare</th>\n",
       "      <th>Pclass</th>\n",
       "    </tr>\n",
       "  </thead>\n",
       "  <tbody>\n",
       "    <tr>\n",
       "      <th>298</th>\n",
       "      <td>1</td>\n",
       "      <td>2</td>\n",
       "      <td>24.00</td>\n",
       "      <td>0</td>\n",
       "      <td>0</td>\n",
       "      <td>3.449988</td>\n",
       "      <td>1</td>\n",
       "    </tr>\n",
       "    <tr>\n",
       "      <th>884</th>\n",
       "      <td>1</td>\n",
       "      <td>2</td>\n",
       "      <td>25.00</td>\n",
       "      <td>0</td>\n",
       "      <td>0</td>\n",
       "      <td>2.085672</td>\n",
       "      <td>3</td>\n",
       "    </tr>\n",
       "    <tr>\n",
       "      <th>247</th>\n",
       "      <td>0</td>\n",
       "      <td>2</td>\n",
       "      <td>24.00</td>\n",
       "      <td>0</td>\n",
       "      <td>2</td>\n",
       "      <td>2.740840</td>\n",
       "      <td>2</td>\n",
       "    </tr>\n",
       "    <tr>\n",
       "      <th>478</th>\n",
       "      <td>1</td>\n",
       "      <td>2</td>\n",
       "      <td>22.00</td>\n",
       "      <td>0</td>\n",
       "      <td>0</td>\n",
       "      <td>2.142510</td>\n",
       "      <td>3</td>\n",
       "    </tr>\n",
       "    <tr>\n",
       "      <th>305</th>\n",
       "      <td>1</td>\n",
       "      <td>2</td>\n",
       "      <td>0.92</td>\n",
       "      <td>1</td>\n",
       "      <td>2</td>\n",
       "      <td>5.027492</td>\n",
       "      <td>1</td>\n",
       "    </tr>\n",
       "  </tbody>\n",
       "</table>\n",
       "</div>"
      ],
      "text/plain": [
       "     Sex  Embarked    Age  SibSp  Parch   LogFare  Pclass\n",
       "298    1         2  24.00      0      0  3.449988       1\n",
       "884    1         2  25.00      0      0  2.085672       3\n",
       "247    0         2  24.00      0      2  2.740840       2\n",
       "478    1         2  22.00      0      0  2.142510       3\n",
       "305    1         2   0.92      1      2  5.027492       1"
      ]
     },
     "execution_count": null,
     "metadata": {},
     "output_type": "execute_result"
    }
   ],
   "source": [
    "trn_xs[:5]"
   ]
  },
  {
   "cell_type": "markdown",
   "metadata": {},
   "source": [
    "Here's the predictions for our extremely simple model, where `female` is coded as `0`:"
   ]
  },
  {
   "cell_type": "code",
   "execution_count": null,
   "metadata": {},
   "outputs": [],
   "source": [
    "preds = val_xs.Sex==0"
   ]
  },
  {
   "cell_type": "markdown",
   "metadata": {},
   "source": [
    "We'll use mean absolute error to measure how good this model is:"
   ]
  },
  {
   "cell_type": "code",
   "execution_count": null,
   "metadata": {},
   "outputs": [
    {
     "data": {
      "text/plain": [
       "0.21524663677130046"
      ]
     },
     "execution_count": null,
     "metadata": {},
     "output_type": "execute_result"
    }
   ],
   "source": [
    "from sklearn.metrics import mean_absolute_error\n",
    "mean_absolute_error(val_y, preds)"
   ]
  },
  {
   "cell_type": "markdown",
   "metadata": {},
   "source": [
    "Alternatively, we could try splitting on a continuous column. We have to use a somewhat different chart to see how this might work -- here's an example of how we could look at `LogFare`:"
   ]
  },
  {
   "cell_type": "code",
   "execution_count": null,
   "metadata": {},
   "outputs": [
    {
     "data": {
      "image/png": "[encoded data removed]",
      "text/plain": [
       "<Figure size 1100x500 with 2 Axes>"
      ]
     },
     "metadata": {},
     "output_type": "display_data"
    }
   ],
   "source": [
    "df_fare = trn_df[trn_df.LogFare>0]\n",
    "fig,axs = plt.subplots(1,2, figsize=(11,5))\n",
    "sns.boxenplot(data=df_fare, x=dep, y=\"LogFare\", ax=axs[0])\n",
    "sns.kdeplot(data=df_fare, x=\"LogFare\", ax=axs[1]);"
   ]
  },
  {
   "cell_type": "markdown",
   "metadata": {},
   "source": [
    "The [boxenplot](https://seaborn.pydata.org/generated/seaborn.boxenplot.html) above shows quantiles of `LogFare` for each group of `Survived==0` and `Survived==1`. It shows that the average `LogFare` for passengers that didn't survive is around `2.5`, and for those that did it's around `3.2`. So it seems that people that paid more for their tickets were more likely to get put on a lifeboat.\n",
    "\n",
    "Let's create a simple model based on this observation:"
   ]
  },
  {
   "cell_type": "code",
   "execution_count": null,
   "metadata": {},
   "outputs": [],
   "source": [
    "preds = val_xs.LogFare>2.7"
   ]
  },
  {
   "cell_type": "markdown",
   "metadata": {},
   "source": [
    "...and test it out:"
   ]
  },
  {
   "cell_type": "code",
   "execution_count": null,
   "metadata": {},
   "outputs": [
    {
     "data": {
      "text/plain": [
       "0.336322869955157"
      ]
     },
     "execution_count": null,
     "metadata": {},
     "output_type": "execute_result"
    }
   ],
   "source": [
    "mean_absolute_error(val_y, preds)"
   ]
  },
  {
   "cell_type": "markdown",
   "metadata": {},
   "source": [
    "This is quite a bit less accurate than our model that used `Sex` as the single binary split.\n",
    "\n",
    "Ideally, we'd like some way to try more columns and breakpoints more easily. We could create a function that returns how good our model is, in order to more quickly try out a few different splits. We'll create a `score` function to do this. Instead of returning the mean absolute error, we'll calculate a measure of *impurity* -- that is, how much the binary split creates two groups where the rows in a group are each similar to each other, or dissimilar.\n",
    "\n",
    "We can measure the similarity of rows inside a group by taking the standard deviation of the dependent variable. If it's higher, then it means the rows are more different to each other. We'll then multiply this by the number of rows, since a bigger group as more impact than a smaller group:"
   ]
  },
  {
   "cell_type": "code",
   "execution_count": null,
   "metadata": {},
   "outputs": [],
   "source": [
    "def _side_score(side, y):\n",
    "    tot = side.sum()\n",
    "    if tot<=1: return 0\n",
    "    return y[side].std()*tot"
   ]
  },
  {
   "cell_type": "markdown",
   "metadata": {},
   "source": [
    "Now we've got that written, we can calculate the score for a split by adding up the scores for the \"left hand side\" (lhs) and \"right hand side\" (rhs):"
   ]
  },
  {
   "cell_type": "code",
   "execution_count": null,
   "metadata": {},
   "outputs": [],
   "source": [
    "def score(col, y, split):\n",
    "    lhs = col<=split\n",
    "    return (_side_score(lhs,y) + _side_score(~lhs,y))/len(y) # ~ lhs means `not` left hand side"
   ]
  },
  {
   "cell_type": "markdown",
   "metadata": {},
   "source": [
    "For instance, here's the impurity score for the split on `Sex`:"
   ]
  },
  {
   "cell_type": "code",
   "execution_count": null,
   "metadata": {},
   "outputs": [
    {
     "data": {
      "text/plain": [
       "0.40787530982063946"
      ]
     },
     "execution_count": null,
     "metadata": {},
     "output_type": "execute_result"
    }
   ],
   "source": [
    "score(trn_xs[\"Sex\"], trn_y, 0.5)"
   ]
  },
  {
   "cell_type": "markdown",
   "metadata": {},
   "source": [
    "...and for `LogFare`:"
   ]
  },
  {
   "cell_type": "code",
   "execution_count": null,
   "metadata": {},
   "outputs": [
    {
     "data": {
      "text/plain": [
       "0.47180873952099694"
      ]
     },
     "execution_count": null,
     "metadata": {},
     "output_type": "execute_result"
    }
   ],
   "source": [
    "score(trn_xs[\"LogFare\"], trn_y, 2.7)"
   ]
  },
  {
   "cell_type": "markdown",
   "metadata": {},
   "source": [
    "As we'd expect from our earlier tests, `Sex` appears to be a better split.\n",
    "\n",
    "To make it easier to find the best binary split, we can create a simple interactive tool."
   ]
  },
  {
   "cell_type": "code",
   "execution_count": null,
   "metadata": {},
   "outputs": [
    {
     "data": {
      "text/plain": [
       "0.48105614369455413"
      ]
     },
     "metadata": {},
     "output_type": "display_data"
    }
   ],
   "source": [
    "def iscore(nm, split):\n",
    "    col = trn_xs[nm]\n",
    "    return score(col, trn_y, split)\n",
    "\n",
    "from ipywidgets import interact\n",
    "interact(nm=conts, split=15.5)(iscore);"
   ]
  },
  {
   "cell_type": "markdown",
   "metadata": {},
   "source": [
    "Try selecting different columns and split points using the dropdown and slider above. What splits can you find that increase the purity of the data?\n",
    "\n",
    "We can do the same thing for the categorical variables:"
   ]
  },
  {
   "cell_type": "code",
   "execution_count": null,
   "metadata": {},
   "outputs": [
    {
     "data": {
      "text/plain": [
       "0.4854373192013831"
      ]
     },
     "metadata": {},
     "output_type": "display_data"
    }
   ],
   "source": [
    "interact(nm=cats, split=2)(iscore);"
   ]
  },
  {
   "cell_type": "markdown",
   "metadata": {},
   "source": [
    "That works well enough, but it's rather slow and fiddly. How do we automate it? \\\n",
    "We could make a list of all possible splits and then calculate score and pick the best one."
   ]
  },
  {
   "cell_type": "markdown",
   "metadata": {},
   "source": [
    "Here we can see all the possible splits for `Age`."
   ]
  },
  {
   "cell_type": "code",
   "execution_count": null,
   "metadata": {},
   "outputs": [
    {
     "data": {
      "text/plain": [
       "array([ 0.42,  0.67,  0.75,  0.83,  0.92,  1.  ,  2.  ,  3.  ,  4.  ,  5.  ,  6.  ,  7.  ,  8.  ,  9.  , 10.  , 11.  , 12.  ,\n",
       "       13.  , 14.  , 14.5 , 15.  , 16.  , 17.  , 18.  , 19.  , 20.  , 21.  , 22.  , 23.  , 24.  , 24.5 , 25.  , 26.  , 27.  ,\n",
       "       28.  , 28.5 , 29.  , 30.  , 31.  , 32.  , 32.5 , 33.  , 34.  , 34.5 , 35.  , 36.  , 36.5 , 37.  , 38.  , 39.  , 40.  ,\n",
       "       40.5 , 41.  , 42.  , 43.  , 44.  , 45.  , 45.5 , 46.  , 47.  , 48.  , 49.  , 50.  , 51.  , 52.  , 53.  , 54.  , 55.  ,\n",
       "       55.5 , 56.  , 57.  , 58.  , 59.  , 60.  , 61.  , 62.  , 64.  , 65.  , 70.  , 70.5 , 74.  , 80.  ])"
      ]
     },
     "execution_count": null,
     "metadata": {},
     "output_type": "execute_result"
    }
   ],
   "source": [
    "nm = \"Age\"\n",
    "col = trn_xs[nm]\n",
    "unq = col.unique()\n",
    "unq.sort()\n",
    "unq"
   ]
  },
  {
   "cell_type": "markdown",
   "metadata": {},
   "source": [
    "and  now we just need to find which index of those values is where `score()` is the lowest:"
   ]
  },
  {
   "cell_type": "code",
   "execution_count": null,
   "metadata": {},
   "outputs": [
    {
     "data": {
      "text/plain": [
       "6.0"
      ]
     },
     "execution_count": null,
     "metadata": {},
     "output_type": "execute_result"
    }
   ],
   "source": [
    "scores = np.array([score(col, trn_y, o) for o in unq if not np.isnan(o)])\n",
    "unq[scores.argmin()]"
   ]
  },
  {
   "cell_type": "markdown",
   "metadata": {},
   "source": [
    "Based on this, it looks like, for instance, that for the `Age` column, `6` is the optimal cutoff according to our training set.\n",
    "\n",
    "We can write a little function that implements this idea:"
   ]
  },
  {
   "cell_type": "code",
   "execution_count": null,
   "metadata": {},
   "outputs": [
    {
     "data": {
      "text/plain": [
       "(6.0, 0.478316717508991)"
      ]
     },
     "execution_count": null,
     "metadata": {},
     "output_type": "execute_result"
    }
   ],
   "source": [
    "def min_col(df, nm):\n",
    "    col,y = df[nm],df[dep]\n",
    "    unq = col.dropna().unique()\n",
    "    scores = np.array([score(col, y, o) for o in unq if not np.isnan(o)])\n",
    "    idx = scores.argmin()\n",
    "    return unq[idx],scores[idx]\n",
    "\n",
    "min_col(trn_df, \"Age\")"
   ]
  },
  {
   "cell_type": "markdown",
   "metadata": {},
   "source": [
    "Let's try all the columns:"
   ]
  },
  {
   "cell_type": "code",
   "execution_count": null,
   "metadata": {},
   "outputs": [
    {
     "data": {
      "text/plain": [
       "{'Sex': (0, 0.40787530982063946),\n",
       " 'Embarked': (0, 0.47883342573147836),\n",
       " 'Age': (6.0, 0.478316717508991),\n",
       " 'SibSp': (4, 0.4783740258817434),\n",
       " 'Parch': (0, 0.4805296527841601),\n",
       " 'LogFare': (2.4390808375825834, 0.4620823937736597),\n",
       " 'Pclass': (2, 0.46048261885806596)}"
      ]
     },
     "execution_count": null,
     "metadata": {},
     "output_type": "execute_result"
    }
   ],
   "source": [
    "cols = cats+conts\n",
    "{o:min_col(trn_df, o) for o in cols}"
   ]
  },
  {
   "cell_type": "markdown",
   "metadata": {},
   "source": [
    "According to this, `Sex<=0` is the best split we can use.\n",
    "\n",
    "We've just re-invented the [OneR](https://link.springer.com/article/10.1023/A:1022631118932) classifier (or at least, a minor variant of it), which was found to be one of the most effective classifiers in real-world datasets, compared to the algorithms in use in 1993. Since it's so simple and surprisingly effective, it makes for a great *baseline* -- that is, a starting point that you can use to compare your more sophisticated models to.\n",
    "\n",
    "We found earlier that out OneR rule had an error of around `0.215`, so we'll keep that in mind as we try out more sophisticated approaches."
   ]
  },
  {
   "cell_type": "markdown",
   "metadata": {},
   "source": [
    "## Creating a decision tree"
   ]
  },
  {
   "cell_type": "markdown",
   "metadata": {},
   "source": [
    "How can we improve our OneR classifier, which predicts survival based only on `Sex`?"
   ]
  },
  {
   "cell_type": "markdown",
   "metadata": {},
   "source": [
    "First, we'll remove `Sex` from the list of possible splits (since we've already used it, and there's only one possible split for that binary column), and create our two groups:"
   ]
  },
  {
   "cell_type": "code",
   "execution_count": null,
   "metadata": {},
   "outputs": [],
   "source": [
    "cols.remove(\"Sex\")\n",
    "ismale = trn_df.Sex==1\n",
    "males,females = trn_df[ismale],trn_df[~ismale]"
   ]
  },
  {
   "cell_type": "markdown",
   "metadata": {},
   "source": [
    "Now let's find the single best binary split for males...:"
   ]
  },
  {
   "cell_type": "code",
   "execution_count": null,
   "metadata": {},
   "outputs": [
    {
     "data": {
      "text/plain": [
       "{'Embarked': (0, 0.3875581870410906),\n",
       " 'Age': (6.0, 0.3739828371010595),\n",
       " 'SibSp': (4, 0.3875864227586273),\n",
       " 'Parch': (0, 0.3874704821461959),\n",
       " 'LogFare': (2.803360380906535, 0.3804856231758151),\n",
       " 'Pclass': (1, 0.38155442004360934)}"
      ]
     },
     "execution_count": null,
     "metadata": {},
     "output_type": "execute_result"
    }
   ],
   "source": [
    "{o:min_col(males, o) for o in cols}"
   ]
  },
  {
   "cell_type": "markdown",
   "metadata": {},
   "source": [
    "...and for females:"
   ]
  },
  {
   "cell_type": "code",
   "execution_count": null,
   "metadata": {},
   "outputs": [
    {
     "data": {
      "text/plain": [
       "{'Embarked': (0, 0.4295252982857327),\n",
       " 'Age': (50.0, 0.4225927658431649),\n",
       " 'SibSp': (4, 0.42319212059713535),\n",
       " 'Parch': (3, 0.4193314500446158),\n",
       " 'LogFare': (4.256321678298823, 0.41350598332911376),\n",
       " 'Pclass': (2, 0.3335388911567601)}"
      ]
     },
     "execution_count": null,
     "metadata": {},
     "output_type": "execute_result"
    }
   ],
   "source": [
    "{o:min_col(females, o) for o in cols}"
   ]
  },
  {
   "cell_type": "markdown",
   "metadata": {},
   "source": [
    "We can see that the best next binary split for males is `Age<=6`, and for females is `Pclass<=2`.\n",
    "\n",
    "By adding these rules, we have created a *decision tree*, where our model will first check whether `Sex` is female or male, and depending on the result will then check either the above `Age` or `Pclass` rules, as appropriate. We could then repeat the process, creating new additional rules for each of the four groups we've now created.\n",
    "\n",
    "Rather than writing that code manually, we can use `DecisionTreeClassifier`, from *sklearn*, which does exactly that for us:"
   ]
  },
  {
   "cell_type": "code",
   "execution_count": null,
   "metadata": {},
   "outputs": [],
   "source": [
    "from sklearn.tree import DecisionTreeClassifier, export_graphviz\n",
    "\n",
    "m = DecisionTreeClassifier(max_leaf_nodes=4).fit(trn_xs, trn_y);"
   ]
  },
  {
   "cell_type": "markdown",
   "metadata": {},
   "source": [
    "One handy feature or this class is that it provides a function for drawing a tree representing the rules:"
   ]
  },
  {
   "cell_type": "code",
   "execution_count": null,
   "metadata": {},
   "outputs": [],
   "source": [
    "import graphviz\n",
    "\n",
    "def draw_tree(t, df, size=10, ratio=0.6, precision=2, **kwargs):\n",
    "    s=export_graphviz(t, out_file=None, feature_names=df.columns, filled=True, rounded=True,\n",
    "                      special_characters=True, rotate=False, precision=precision, **kwargs)\n",
    "    return graphviz.Source(re.sub('Tree {', f'Tree {{ size={size}; ratio={ratio}', s))"
   ]
  },
  {
   "cell_type": "code",
   "execution_count": null,
   "metadata": {},
   "outputs": [
    {
     "data": {
      "image/svg+xml": [
       "<?xml version=\"1.0\" encoding=\"UTF-8\" standalone=\"no\"?>\n",
       "<!DOCTYPE svg PUBLIC \"-//W3C//DTD SVG 1.1//EN\"\n",
       " \"http://www.w3.org/Graphics/SVG/1.1/DTD/svg11.dtd\">\n",
       "<!-- Generated by graphviz version 6.0.2 (20221126.1951)\n",
       " -->\n",
       "<!-- Title: Tree Pages: 1 -->\n",
       "<svg width=\"593pt\" height=\"358pt\"\n",
       " viewBox=\"0.00 0.00 592.50 358.40\" xmlns=\"http://www.w3.org/2000/svg\" xmlns:xlink=\"http://www.w3.org/1999/xlink\">\n",
       "<g id=\"graph0\" class=\"graph\" transform=\"scale(1 1) rotate(0) translate(4 354.4)\">\n",
       "<title>Tree</title>\n",
       "<polygon fill=\"white\" stroke=\"none\" points=\"-4,4 -4,-354.4 588.5,-354.4 588.5,4 -4,4\"/>\n",
       "<!-- 0 -->\n",
       "<g id=\"node1\" class=\"node\">\n",
       "<title>0</title>\n",
       "<path fill=\"#f5ceb2\" stroke=\"black\" d=\"M352,-339C352,-339 227,-339 227,-339 221,-339 215,-333 215,-327 215,-327 215,-283 215,-283 215,-277 221,-271 227,-271 227,-271 352,-271 352,-271 358,-271 364,-277 364,-283 364,-283 364,-327 364,-327 364,-333 358,-339 352,-339\"/>\n",
       "<text text-anchor=\"start\" x=\"254.5\" y=\"-323.8\" font-family=\"Helvetica,sans-Serif\" font-size=\"14.00\">Sex ≤ 0.5</text>\n",
       "<text text-anchor=\"start\" x=\"250\" y=\"-308.8\" font-family=\"Helvetica,sans-Serif\" font-size=\"14.00\">gini = 0.47</text>\n",
       "<text text-anchor=\"start\" x=\"236.5\" y=\"-293.8\" font-family=\"Helvetica,sans-Serif\" font-size=\"14.00\">samples = 668</text>\n",
       "<text text-anchor=\"start\" x=\"223\" y=\"-278.8\" font-family=\"Helvetica,sans-Serif\" font-size=\"14.00\">value = [415, 253]</text>\n",
       "</g>\n",
       "<!-- 1 -->\n",
       "<g id=\"node2\" class=\"node\">\n",
       "<title>1</title>\n",
       "<path fill=\"#7ebfee\" stroke=\"black\" d=\"M268.5,-199C268.5,-199 152.5,-199 152.5,-199 146.5,-199 140.5,-193 140.5,-187 140.5,-187 140.5,-143 140.5,-143 140.5,-137 146.5,-131 152.5,-131 152.5,-131 268.5,-131 268.5,-131 274.5,-131 280.5,-137 280.5,-143 280.5,-143 280.5,-187 280.5,-187 280.5,-193 274.5,-199 268.5,-199\"/>\n",
       "<text text-anchor=\"start\" x=\"167\" y=\"-183.8\" font-family=\"Helvetica,sans-Serif\" font-size=\"14.00\">Pclass ≤ 2.5</text>\n",
       "<text text-anchor=\"start\" x=\"171\" y=\"-168.8\" font-family=\"Helvetica,sans-Serif\" font-size=\"14.00\">gini = 0.38</text>\n",
       "<text text-anchor=\"start\" x=\"157.5\" y=\"-153.8\" font-family=\"Helvetica,sans-Serif\" font-size=\"14.00\">samples = 229</text>\n",
       "<text text-anchor=\"start\" x=\"148.5\" y=\"-138.8\" font-family=\"Helvetica,sans-Serif\" font-size=\"14.00\">value = [59, 170]</text>\n",
       "</g>\n",
       "<!-- 0&#45;&gt;1 -->\n",
       "<g id=\"edge1\" class=\"edge\">\n",
       "<title>0&#45;&gt;1</title>\n",
       "<path fill=\"none\" stroke=\"black\" d=\"M270.58,-270.95C259.76,-252.05 246.09,-228.17 234.52,-207.96\"/>\n",
       "<polygon fill=\"black\" stroke=\"black\" points=\"237.55,-206.2 229.54,-199.26 231.47,-209.68 237.55,-206.2\"/>\n",
       "<text text-anchor=\"middle\" x=\"222.98\" y=\"-219.69\" font-family=\"Helvetica,sans-Serif\" font-size=\"14.00\">True</text>\n",
       "</g>\n",
       "<!-- 2 -->\n",
       "<g id=\"node5\" class=\"node\">\n",
       "<title>2</title>\n",
       "<path fill=\"#eb9e67\" stroke=\"black\" d=\"M426.5,-199C426.5,-199 310.5,-199 310.5,-199 304.5,-199 298.5,-193 298.5,-187 298.5,-187 298.5,-143 298.5,-143 298.5,-137 304.5,-131 310.5,-131 310.5,-131 426.5,-131 426.5,-131 432.5,-131 438.5,-137 438.5,-143 438.5,-143 438.5,-187 438.5,-187 438.5,-193 432.5,-199 426.5,-199\"/>\n",
       "<text text-anchor=\"start\" x=\"333\" y=\"-183.8\" font-family=\"Helvetica,sans-Serif\" font-size=\"14.00\">Age ≤ 6.5</text>\n",
       "<text text-anchor=\"start\" x=\"329\" y=\"-168.8\" font-family=\"Helvetica,sans-Serif\" font-size=\"14.00\">gini = 0.31</text>\n",
       "<text text-anchor=\"start\" x=\"315.5\" y=\"-153.8\" font-family=\"Helvetica,sans-Serif\" font-size=\"14.00\">samples = 439</text>\n",
       "<text text-anchor=\"start\" x=\"306.5\" y=\"-138.8\" font-family=\"Helvetica,sans-Serif\" font-size=\"14.00\">value = [356, 83]</text>\n",
       "</g>\n",
       "<!-- 0&#45;&gt;2 -->\n",
       "<g id=\"edge4\" class=\"edge\">\n",
       "<title>0&#45;&gt;2</title>\n",
       "<path fill=\"none\" stroke=\"black\" d=\"M308.42,-270.95C319.24,-252.05 332.91,-228.17 344.48,-207.96\"/>\n",
       "<polygon fill=\"black\" stroke=\"black\" points=\"347.53,-209.68 349.46,-199.26 341.45,-206.2 347.53,-209.68\"/>\n",
       "<text text-anchor=\"middle\" x=\"356.02\" y=\"-219.69\" font-family=\"Helvetica,sans-Serif\" font-size=\"14.00\">False</text>\n",
       "</g>\n",
       "<!-- 3 -->\n",
       "<g id=\"node3\" class=\"node\">\n",
       "<title>3</title>\n",
       "<path fill=\"#40a0e6\" stroke=\"black\" d=\"M119,-62.5C119,-62.5 12,-62.5 12,-62.5 6,-62.5 0,-56.5 0,-50.5 0,-50.5 0,-21.5 0,-21.5 0,-15.5 6,-9.5 12,-9.5 12,-9.5 119,-9.5 119,-9.5 125,-9.5 131,-15.5 131,-21.5 131,-21.5 131,-50.5 131,-50.5 131,-56.5 125,-62.5 119,-62.5\"/>\n",
       "<text text-anchor=\"start\" x=\"26\" y=\"-47.3\" font-family=\"Helvetica,sans-Serif\" font-size=\"14.00\">gini = 0.06</text>\n",
       "<text text-anchor=\"start\" x=\"12.5\" y=\"-32.3\" font-family=\"Helvetica,sans-Serif\" font-size=\"14.00\">samples = 120</text>\n",
       "<text text-anchor=\"start\" x=\"8\" y=\"-17.3\" font-family=\"Helvetica,sans-Serif\" font-size=\"14.00\">value = [4, 116]</text>\n",
       "</g>\n",
       "<!-- 1&#45;&gt;3 -->\n",
       "<g id=\"edge2\" class=\"edge\">\n",
       "<title>1&#45;&gt;3</title>\n",
       "<path fill=\"none\" stroke=\"black\" d=\"M172.78,-130.96C151.11,-111.98 124,-88.24 102.46,-69.37\"/>\n",
       "<polygon fill=\"black\" stroke=\"black\" points=\"104.62,-66.61 94.79,-62.66 100.01,-71.88 104.62,-66.61\"/>\n",
       "</g>\n",
       "<!-- 4 -->\n",
       "<g id=\"node4\" class=\"node\">\n",
       "<title>4</title>\n",
       "<path fill=\"#fffdfb\" stroke=\"black\" d=\"M268,-62.5C268,-62.5 161,-62.5 161,-62.5 155,-62.5 149,-56.5 149,-50.5 149,-50.5 149,-21.5 149,-21.5 149,-15.5 155,-9.5 161,-9.5 161,-9.5 268,-9.5 268,-9.5 274,-9.5 280,-15.5 280,-21.5 280,-21.5 280,-50.5 280,-50.5 280,-56.5 274,-62.5 268,-62.5\"/>\n",
       "<text text-anchor=\"start\" x=\"179.5\" y=\"-47.3\" font-family=\"Helvetica,sans-Serif\" font-size=\"14.00\">gini = 0.5</text>\n",
       "<text text-anchor=\"start\" x=\"161.5\" y=\"-32.3\" font-family=\"Helvetica,sans-Serif\" font-size=\"14.00\">samples = 109</text>\n",
       "<text text-anchor=\"start\" x=\"157\" y=\"-17.3\" font-family=\"Helvetica,sans-Serif\" font-size=\"14.00\">value = [55, 54]</text>\n",
       "</g>\n",
       "<!-- 1&#45;&gt;4 -->\n",
       "<g id=\"edge3\" class=\"edge\">\n",
       "<title>1&#45;&gt;4</title>\n",
       "<path fill=\"none\" stroke=\"black\" d=\"M211.54,-130.96C212.1,-113.15 212.79,-91.14 213.37,-72.9\"/>\n",
       "<polygon fill=\"black\" stroke=\"black\" points=\"216.88,-72.76 213.69,-62.66 209.88,-72.54 216.88,-72.76\"/>\n",
       "</g>\n",
       "<!-- 5 -->\n",
       "<g id=\"node6\" class=\"node\">\n",
       "<title>5</title>\n",
       "<path fill=\"#88c4ef\" stroke=\"black\" d=\"M414.5,-62.5C414.5,-62.5 316.5,-62.5 316.5,-62.5 310.5,-62.5 304.5,-56.5 304.5,-50.5 304.5,-50.5 304.5,-21.5 304.5,-21.5 304.5,-15.5 310.5,-9.5 316.5,-9.5 316.5,-9.5 414.5,-9.5 414.5,-9.5 420.5,-9.5 426.5,-15.5 426.5,-21.5 426.5,-21.5 426.5,-50.5 426.5,-50.5 426.5,-56.5 420.5,-62.5 414.5,-62.5\"/>\n",
       "<text text-anchor=\"start\" x=\"326\" y=\"-47.3\" font-family=\"Helvetica,sans-Serif\" font-size=\"14.00\">gini = 0.41</text>\n",
       "<text text-anchor=\"start\" x=\"317\" y=\"-32.3\" font-family=\"Helvetica,sans-Serif\" font-size=\"14.00\">samples = 21</text>\n",
       "<text text-anchor=\"start\" x=\"312.5\" y=\"-17.3\" font-family=\"Helvetica,sans-Serif\" font-size=\"14.00\">value = [6, 15]</text>\n",
       "</g>\n",
       "<!-- 2&#45;&gt;5 -->\n",
       "<g id=\"edge5\" class=\"edge\">\n",
       "<title>2&#45;&gt;5</title>\n",
       "<path fill=\"none\" stroke=\"black\" d=\"M367.72,-130.96C367.3,-113.15 366.78,-91.14 366.35,-72.9\"/>\n",
       "<polygon fill=\"black\" stroke=\"black\" points=\"369.84,-72.57 366.11,-62.66 362.84,-72.74 369.84,-72.57\"/>\n",
       "</g>\n",
       "<!-- 6 -->\n",
       "<g id=\"node7\" class=\"node\">\n",
       "<title>6</title>\n",
       "<path fill=\"#ea995f\" stroke=\"black\" d=\"M572.5,-62.5C572.5,-62.5 456.5,-62.5 456.5,-62.5 450.5,-62.5 444.5,-56.5 444.5,-50.5 444.5,-50.5 444.5,-21.5 444.5,-21.5 444.5,-15.5 450.5,-9.5 456.5,-9.5 456.5,-9.5 572.5,-9.5 572.5,-9.5 578.5,-9.5 584.5,-15.5 584.5,-21.5 584.5,-21.5 584.5,-50.5 584.5,-50.5 584.5,-56.5 578.5,-62.5 572.5,-62.5\"/>\n",
       "<text text-anchor=\"start\" x=\"475\" y=\"-47.3\" font-family=\"Helvetica,sans-Serif\" font-size=\"14.00\">gini = 0.27</text>\n",
       "<text text-anchor=\"start\" x=\"461.5\" y=\"-32.3\" font-family=\"Helvetica,sans-Serif\" font-size=\"14.00\">samples = 418</text>\n",
       "<text text-anchor=\"start\" x=\"452.5\" y=\"-17.3\" font-family=\"Helvetica,sans-Serif\" font-size=\"14.00\">value = [350, 68]</text>\n",
       "</g>\n",
       "<!-- 2&#45;&gt;6 -->\n",
       "<g id=\"edge6\" class=\"edge\">\n",
       "<title>2&#45;&gt;6</title>\n",
       "<path fill=\"none\" stroke=\"black\" d=\"M406.48,-130.96C428.3,-111.98 455.6,-88.24 477.29,-69.37\"/>\n",
       "<polygon fill=\"black\" stroke=\"black\" points=\"479.76,-71.86 485.01,-62.66 475.16,-66.58 479.76,-71.86\"/>\n",
       "</g>\n",
       "</g>\n",
       "</svg>\n"
      ],
      "text/plain": [
       "<graphviz.files.Source>"
      ]
     },
     "execution_count": null,
     "metadata": {},
     "output_type": "execute_result"
    }
   ],
   "source": [
    "draw_tree(m, trn_xs)"
   ]
  },
  {
   "cell_type": "markdown",
   "metadata": {},
   "source": [
    "We can see that it's found exactly the same splits as we did!\n",
    "\n",
    "In this picture, the more orange nodes have a lower survival rate, and blue have higher survival. Each node shows how many rows (\"*samples*\") match that set of rules, and shows how many perish or survive (\"*values*\"). There's also something called \"*gini*\". That's another measure of impurity, and it's very similar to the `score()` we created earlier. It's defined as follows:"
   ]
  },
  {
   "cell_type": "code",
   "execution_count": null,
   "metadata": {},
   "outputs": [],
   "source": [
    "def gini(cond):\n",
    "    act = df.loc[cond, dep]\n",
    "    return 1 - act.mean()**2 - (1-act).mean()**2"
   ]
  },
  {
   "cell_type": "markdown",
   "metadata": {},
   "source": [
    "What this calculates is the probability that, if you pick two rows from a group, you'll get the same `Survived` result each time. If the group is all the same, the probability is `1.0`, and `0.0` if they're all different:"
   ]
  },
  {
   "cell_type": "code",
   "execution_count": null,
   "metadata": {},
   "outputs": [
    {
     "data": {
      "text/plain": [
       "(0.3828350034484158, 0.3064437162277842)"
      ]
     },
     "execution_count": null,
     "metadata": {},
     "output_type": "execute_result"
    }
   ],
   "source": [
    "gini(df.Sex=='female'), gini(df.Sex=='male')"
   ]
  },
  {
   "cell_type": "markdown",
   "metadata": {},
   "source": [
    "Let's see how this model compares to our OneR version:"
   ]
  },
  {
   "cell_type": "code",
   "execution_count": null,
   "metadata": {},
   "outputs": [
    {
     "data": {
      "text/plain": [
       "0.2242152466367713"
      ]
     },
     "execution_count": null,
     "metadata": {},
     "output_type": "execute_result"
    }
   ],
   "source": [
    "mean_absolute_error(val_y, m.predict(val_xs))"
   ]
  },
  {
   "cell_type": "markdown",
   "metadata": {},
   "source": [
    "It's a tiny bit worse. Since this is such a small dataset (we've only got around 200 rows in our validation set) this small difference isn't really meaningful. Perhaps we'll see better results if we create a bigger tree:"
   ]
  },
  {
   "cell_type": "code",
   "execution_count": null,
   "metadata": {},
   "outputs": [
    {
     "data": {
      "image/svg+xml": [
       "<?xml version=\"1.0\" encoding=\"UTF-8\" standalone=\"no\"?>\n",
       "<!DOCTYPE svg PUBLIC \"-//W3C//DTD SVG 1.1//EN\"\n",
       " \"http://www.w3.org/Graphics/SVG/1.1/DTD/svg11.dtd\">\n",
       "<!-- Generated by graphviz version 6.0.2 (20221126.1951)\n",
       " -->\n",
       "<!-- Title: Tree Pages: 1 -->\n",
       "<svg width=\"1175pt\" height=\"708pt\"\n",
       " viewBox=\"0.00 0.00 1174.50 707.60\" xmlns=\"http://www.w3.org/2000/svg\" xmlns:xlink=\"http://www.w3.org/1999/xlink\">\n",
       "<g id=\"graph0\" class=\"graph\" transform=\"scale(1 1) rotate(0) translate(4 703.6)\">\n",
       "<title>Tree</title>\n",
       "<polygon fill=\"white\" stroke=\"none\" points=\"-4,4 -4,-703.6 1170.5,-703.6 1170.5,4 -4,4\"/>\n",
       "<!-- 0 -->\n",
       "<g id=\"node1\" class=\"node\">\n",
       "<title>0</title>\n",
       "<path fill=\"#f5ceb2\" stroke=\"black\" d=\"M627.5,-698C627.5,-698 502.5,-698 502.5,-698 496.5,-698 490.5,-692 490.5,-686 490.5,-686 490.5,-642 490.5,-642 490.5,-636 496.5,-630 502.5,-630 502.5,-630 627.5,-630 627.5,-630 633.5,-630 639.5,-636 639.5,-642 639.5,-642 639.5,-686 639.5,-686 639.5,-692 633.5,-698 627.5,-698\"/>\n",
       "<text text-anchor=\"start\" x=\"530\" y=\"-682.8\" font-family=\"Helvetica,sans-Serif\" font-size=\"14.00\">Sex ≤ 0.5</text>\n",
       "<text text-anchor=\"start\" x=\"525.5\" y=\"-667.8\" font-family=\"Helvetica,sans-Serif\" font-size=\"14.00\">gini = 0.47</text>\n",
       "<text text-anchor=\"start\" x=\"512\" y=\"-652.8\" font-family=\"Helvetica,sans-Serif\" font-size=\"14.00\">samples = 668</text>\n",
       "<text text-anchor=\"start\" x=\"498.5\" y=\"-637.8\" font-family=\"Helvetica,sans-Serif\" font-size=\"14.00\">value = [415, 253]</text>\n",
       "</g>\n",
       "<!-- 1 -->\n",
       "<g id=\"node2\" class=\"node\">\n",
       "<title>1</title>\n",
       "<path fill=\"#7ebfee\" stroke=\"black\" d=\"M476,-591C476,-591 360,-591 360,-591 354,-591 348,-585 348,-579 348,-579 348,-535 348,-535 348,-529 354,-523 360,-523 360,-523 476,-523 476,-523 482,-523 488,-529 488,-535 488,-535 488,-579 488,-579 488,-585 482,-591 476,-591\"/>\n",
       "<text text-anchor=\"start\" x=\"374.5\" y=\"-575.8\" font-family=\"Helvetica,sans-Serif\" font-size=\"14.00\">Pclass ≤ 2.5</text>\n",
       "<text text-anchor=\"start\" x=\"378.5\" y=\"-560.8\" font-family=\"Helvetica,sans-Serif\" font-size=\"14.00\">gini = 0.38</text>\n",
       "<text text-anchor=\"start\" x=\"365\" y=\"-545.8\" font-family=\"Helvetica,sans-Serif\" font-size=\"14.00\">samples = 229</text>\n",
       "<text text-anchor=\"start\" x=\"356\" y=\"-530.8\" font-family=\"Helvetica,sans-Serif\" font-size=\"14.00\">value = [59, 170]</text>\n",
       "</g>\n",
       "<!-- 0&#45;&gt;1 -->\n",
       "<g id=\"edge1\" class=\"edge\">\n",
       "<title>0&#45;&gt;1</title>\n",
       "<path fill=\"none\" stroke=\"black\" d=\"M518.49,-629.78C503.87,-619.33 487.59,-607.71 472.47,-596.91\"/>\n",
       "<polygon fill=\"black\" stroke=\"black\" points=\"474.38,-593.97 464.21,-591.01 470.31,-599.67 474.38,-593.97\"/>\n",
       "<text text-anchor=\"middle\" x=\"468.32\" y=\"-611.97\" font-family=\"Helvetica,sans-Serif\" font-size=\"14.00\">True</text>\n",
       "</g>\n",
       "<!-- 8 -->\n",
       "<g id=\"node9\" class=\"node\">\n",
       "<title>8</title>\n",
       "<path fill=\"#eb9e67\" stroke=\"black\" d=\"M779,-591C779,-591 663,-591 663,-591 657,-591 651,-585 651,-579 651,-579 651,-535 651,-535 651,-529 657,-523 663,-523 663,-523 779,-523 779,-523 785,-523 791,-529 791,-535 791,-535 791,-579 791,-579 791,-585 785,-591 779,-591\"/>\n",
       "<text text-anchor=\"start\" x=\"668\" y=\"-575.8\" font-family=\"Helvetica,sans-Serif\" font-size=\"14.00\">LogFare ≤ 3.31</text>\n",
       "<text text-anchor=\"start\" x=\"681.5\" y=\"-560.8\" font-family=\"Helvetica,sans-Serif\" font-size=\"14.00\">gini = 0.31</text>\n",
       "<text text-anchor=\"start\" x=\"668\" y=\"-545.8\" font-family=\"Helvetica,sans-Serif\" font-size=\"14.00\">samples = 439</text>\n",
       "<text text-anchor=\"start\" x=\"659\" y=\"-530.8\" font-family=\"Helvetica,sans-Serif\" font-size=\"14.00\">value = [356, 83]</text>\n",
       "</g>\n",
       "<!-- 0&#45;&gt;8 -->\n",
       "<g id=\"edge8\" class=\"edge\">\n",
       "<title>0&#45;&gt;8</title>\n",
       "<path fill=\"none\" stroke=\"black\" d=\"M614.36,-629.78C630.02,-619.24 647.47,-607.49 663.64,-596.61\"/>\n",
       "<polygon fill=\"black\" stroke=\"black\" points=\"665.62,-599.49 671.96,-591.01 661.71,-593.69 665.62,-599.49\"/>\n",
       "<text text-anchor=\"middle\" x=\"667.17\" y=\"-611.84\" font-family=\"Helvetica,sans-Serif\" font-size=\"14.00\">False</text>\n",
       "</g>\n",
       "<!-- 2 -->\n",
       "<g id=\"node3\" class=\"node\">\n",
       "<title>2</title>\n",
       "<path fill=\"#40a0e6\" stroke=\"black\" d=\"M254.5,-484C254.5,-484 147.5,-484 147.5,-484 141.5,-484 135.5,-478 135.5,-472 135.5,-472 135.5,-428 135.5,-428 135.5,-422 141.5,-416 147.5,-416 147.5,-416 254.5,-416 254.5,-416 260.5,-416 266.5,-422 266.5,-428 266.5,-428 266.5,-472 266.5,-472 266.5,-478 260.5,-484 254.5,-484\"/>\n",
       "<text text-anchor=\"start\" x=\"159\" y=\"-468.8\" font-family=\"Helvetica,sans-Serif\" font-size=\"14.00\">SibSp ≤ 0.5</text>\n",
       "<text text-anchor=\"start\" x=\"161.5\" y=\"-453.8\" font-family=\"Helvetica,sans-Serif\" font-size=\"14.00\">gini = 0.06</text>\n",
       "<text text-anchor=\"start\" x=\"148\" y=\"-438.8\" font-family=\"Helvetica,sans-Serif\" font-size=\"14.00\">samples = 120</text>\n",
       "<text text-anchor=\"start\" x=\"143.5\" y=\"-423.8\" font-family=\"Helvetica,sans-Serif\" font-size=\"14.00\">value = [4, 116]</text>\n",
       "</g>\n",
       "<!-- 1&#45;&gt;2 -->\n",
       "<g id=\"edge2\" class=\"edge\">\n",
       "<title>1&#45;&gt;2</title>\n",
       "<path fill=\"none\" stroke=\"black\" d=\"M349.64,-522.92C326.17,-511.57 299.79,-498.8 275.84,-487.21\"/>\n",
       "<polygon fill=\"black\" stroke=\"black\" points=\"277.32,-484.04 266.79,-482.84 274.27,-490.34 277.32,-484.04\"/>\n",
       "</g>\n",
       "<!-- 5 -->\n",
       "<g id=\"node6\" class=\"node\">\n",
       "<title>5</title>\n",
       "<path fill=\"#fffdfb\" stroke=\"black\" d=\"M471.5,-484C471.5,-484 364.5,-484 364.5,-484 358.5,-484 352.5,-478 352.5,-472 352.5,-472 352.5,-428 352.5,-428 352.5,-422 358.5,-416 364.5,-416 364.5,-416 471.5,-416 471.5,-416 477.5,-416 483.5,-422 483.5,-428 483.5,-428 483.5,-472 483.5,-472 483.5,-478 477.5,-484 471.5,-484\"/>\n",
       "<text text-anchor=\"start\" x=\"369.5\" y=\"-468.8\" font-family=\"Helvetica,sans-Serif\" font-size=\"14.00\">LogFare ≤ 2.7</text>\n",
       "<text text-anchor=\"start\" x=\"383\" y=\"-453.8\" font-family=\"Helvetica,sans-Serif\" font-size=\"14.00\">gini = 0.5</text>\n",
       "<text text-anchor=\"start\" x=\"365\" y=\"-438.8\" font-family=\"Helvetica,sans-Serif\" font-size=\"14.00\">samples = 109</text>\n",
       "<text text-anchor=\"start\" x=\"360.5\" y=\"-423.8\" font-family=\"Helvetica,sans-Serif\" font-size=\"14.00\">value = [55, 54]</text>\n",
       "</g>\n",
       "<!-- 1&#45;&gt;5 -->\n",
       "<g id=\"edge5\" class=\"edge\">\n",
       "<title>1&#45;&gt;5</title>\n",
       "<path fill=\"none\" stroke=\"black\" d=\"M418,-522.78C418,-513.69 418,-503.7 418,-494.15\"/>\n",
       "<polygon fill=\"black\" stroke=\"black\" points=\"421.5,-494.01 418,-484.01 414.5,-494.01 421.5,-494.01\"/>\n",
       "</g>\n",
       "<!-- 3 -->\n",
       "<g id=\"node4\" class=\"node\">\n",
       "<title>3</title>\n",
       "<path fill=\"#3c9ee5\" stroke=\"black\" d=\"M110,-368.5C110,-368.5 12,-368.5 12,-368.5 6,-368.5 0,-362.5 0,-356.5 0,-356.5 0,-327.5 0,-327.5 0,-321.5 6,-315.5 12,-315.5 12,-315.5 110,-315.5 110,-315.5 116,-315.5 122,-321.5 122,-327.5 122,-327.5 122,-356.5 122,-356.5 122,-362.5 116,-368.5 110,-368.5\"/>\n",
       "<text text-anchor=\"start\" x=\"21.5\" y=\"-353.3\" font-family=\"Helvetica,sans-Serif\" font-size=\"14.00\">gini = 0.03</text>\n",
       "<text text-anchor=\"start\" x=\"12.5\" y=\"-338.3\" font-family=\"Helvetica,sans-Serif\" font-size=\"14.00\">samples = 67</text>\n",
       "<text text-anchor=\"start\" x=\"8\" y=\"-323.3\" font-family=\"Helvetica,sans-Serif\" font-size=\"14.00\">value = [1, 66]</text>\n",
       "</g>\n",
       "<!-- 2&#45;&gt;3 -->\n",
       "<g id=\"edge3\" class=\"edge\">\n",
       "<title>2&#45;&gt;3</title>\n",
       "<path fill=\"none\" stroke=\"black\" d=\"M157.09,-415.75C139.86,-402.71 120.17,-387.8 103.12,-374.89\"/>\n",
       "<polygon fill=\"black\" stroke=\"black\" points=\"105.07,-371.98 94.98,-368.73 100.84,-377.56 105.07,-371.98\"/>\n",
       "</g>\n",
       "<!-- 4 -->\n",
       "<g id=\"node5\" class=\"node\">\n",
       "<title>4</title>\n",
       "<path fill=\"#45a3e7\" stroke=\"black\" d=\"M250,-368.5C250,-368.5 152,-368.5 152,-368.5 146,-368.5 140,-362.5 140,-356.5 140,-356.5 140,-327.5 140,-327.5 140,-321.5 146,-315.5 152,-315.5 152,-315.5 250,-315.5 250,-315.5 256,-315.5 262,-321.5 262,-327.5 262,-327.5 262,-356.5 262,-356.5 262,-362.5 256,-368.5 250,-368.5\"/>\n",
       "<text text-anchor=\"start\" x=\"161.5\" y=\"-353.3\" font-family=\"Helvetica,sans-Serif\" font-size=\"14.00\">gini = 0.11</text>\n",
       "<text text-anchor=\"start\" x=\"152.5\" y=\"-338.3\" font-family=\"Helvetica,sans-Serif\" font-size=\"14.00\">samples = 53</text>\n",
       "<text text-anchor=\"start\" x=\"148\" y=\"-323.3\" font-family=\"Helvetica,sans-Serif\" font-size=\"14.00\">value = [3, 50]</text>\n",
       "</g>\n",
       "<!-- 2&#45;&gt;4 -->\n",
       "<g id=\"edge4\" class=\"edge\">\n",
       "<title>2&#45;&gt;4</title>\n",
       "<path fill=\"none\" stroke=\"black\" d=\"M201,-415.75C201,-404.01 201,-390.76 201,-378.82\"/>\n",
       "<polygon fill=\"black\" stroke=\"black\" points=\"204.5,-378.73 201,-368.73 197.5,-378.73 204.5,-378.73\"/>\n",
       "</g>\n",
       "<!-- 6 -->\n",
       "<g id=\"node7\" class=\"node\">\n",
       "<title>6</title>\n",
       "<path fill=\"#cbe5f8\" stroke=\"black\" d=\"M399.5,-368.5C399.5,-368.5 292.5,-368.5 292.5,-368.5 286.5,-368.5 280.5,-362.5 280.5,-356.5 280.5,-356.5 280.5,-327.5 280.5,-327.5 280.5,-321.5 286.5,-315.5 292.5,-315.5 292.5,-315.5 399.5,-315.5 399.5,-315.5 405.5,-315.5 411.5,-321.5 411.5,-327.5 411.5,-327.5 411.5,-356.5 411.5,-356.5 411.5,-362.5 405.5,-368.5 399.5,-368.5\"/>\n",
       "<text text-anchor=\"start\" x=\"306.5\" y=\"-353.3\" font-family=\"Helvetica,sans-Serif\" font-size=\"14.00\">gini = 0.49</text>\n",
       "<text text-anchor=\"start\" x=\"297.5\" y=\"-338.3\" font-family=\"Helvetica,sans-Serif\" font-size=\"14.00\">samples = 59</text>\n",
       "<text text-anchor=\"start\" x=\"288.5\" y=\"-323.3\" font-family=\"Helvetica,sans-Serif\" font-size=\"14.00\">value = [25, 34]</text>\n",
       "</g>\n",
       "<!-- 5&#45;&gt;6 -->\n",
       "<g id=\"edge6\" class=\"edge\">\n",
       "<title>5&#45;&gt;6</title>\n",
       "<path fill=\"none\" stroke=\"black\" d=\"M395.42,-415.75C387.04,-403.42 377.53,-389.42 369.11,-377.02\"/>\n",
       "<polygon fill=\"black\" stroke=\"black\" points=\"371.99,-375.04 363.48,-368.73 366.2,-378.97 371.99,-375.04\"/>\n",
       "</g>\n",
       "<!-- 7 -->\n",
       "<g id=\"node8\" class=\"node\">\n",
       "<title>7</title>\n",
       "<path fill=\"#f6d5bd\" stroke=\"black\" d=\"M548.5,-368.5C548.5,-368.5 441.5,-368.5 441.5,-368.5 435.5,-368.5 429.5,-362.5 429.5,-356.5 429.5,-356.5 429.5,-327.5 429.5,-327.5 429.5,-321.5 435.5,-315.5 441.5,-315.5 441.5,-315.5 548.5,-315.5 548.5,-315.5 554.5,-315.5 560.5,-321.5 560.5,-327.5 560.5,-327.5 560.5,-356.5 560.5,-356.5 560.5,-362.5 554.5,-368.5 548.5,-368.5\"/>\n",
       "<text text-anchor=\"start\" x=\"455.5\" y=\"-353.3\" font-family=\"Helvetica,sans-Serif\" font-size=\"14.00\">gini = 0.48</text>\n",
       "<text text-anchor=\"start\" x=\"446.5\" y=\"-338.3\" font-family=\"Helvetica,sans-Serif\" font-size=\"14.00\">samples = 50</text>\n",
       "<text text-anchor=\"start\" x=\"437.5\" y=\"-323.3\" font-family=\"Helvetica,sans-Serif\" font-size=\"14.00\">value = [30, 20]</text>\n",
       "</g>\n",
       "<!-- 5&#45;&gt;7 -->\n",
       "<g id=\"edge7\" class=\"edge\">\n",
       "<title>5&#45;&gt;7</title>\n",
       "<path fill=\"none\" stroke=\"black\" d=\"M442.15,-415.75C451.11,-403.42 461.28,-389.42 470.29,-377.02\"/>\n",
       "<polygon fill=\"black\" stroke=\"black\" points=\"473.26,-378.88 476.31,-368.73 467.6,-374.76 473.26,-378.88\"/>\n",
       "</g>\n",
       "<!-- 9 -->\n",
       "<g id=\"node10\" class=\"node\">\n",
       "<title>9</title>\n",
       "<path fill=\"#e99659\" stroke=\"black\" d=\"M779,-484C779,-484 663,-484 663,-484 657,-484 651,-478 651,-472 651,-472 651,-428 651,-428 651,-422 657,-416 663,-416 663,-416 779,-416 779,-416 785,-416 791,-422 791,-428 791,-428 791,-472 791,-472 791,-478 785,-484 779,-484\"/>\n",
       "<text text-anchor=\"start\" x=\"681\" y=\"-468.8\" font-family=\"Helvetica,sans-Serif\" font-size=\"14.00\">Age ≤ 20.5</text>\n",
       "<text text-anchor=\"start\" x=\"681.5\" y=\"-453.8\" font-family=\"Helvetica,sans-Serif\" font-size=\"14.00\">gini = 0.24</text>\n",
       "<text text-anchor=\"start\" x=\"668\" y=\"-438.8\" font-family=\"Helvetica,sans-Serif\" font-size=\"14.00\">samples = 320</text>\n",
       "<text text-anchor=\"start\" x=\"659\" y=\"-423.8\" font-family=\"Helvetica,sans-Serif\" font-size=\"14.00\">value = [275, 45]</text>\n",
       "</g>\n",
       "<!-- 8&#45;&gt;9 -->\n",
       "<g id=\"edge9\" class=\"edge\">\n",
       "<title>8&#45;&gt;9</title>\n",
       "<path fill=\"none\" stroke=\"black\" d=\"M721,-522.78C721,-513.69 721,-503.7 721,-494.15\"/>\n",
       "<polygon fill=\"black\" stroke=\"black\" points=\"724.5,-494.01 721,-484.01 717.5,-494.01 724.5,-494.01\"/>\n",
       "</g>\n",
       "<!-- 18 -->\n",
       "<g id=\"node19\" class=\"node\">\n",
       "<title>18</title>\n",
       "<path fill=\"#f1bc96\" stroke=\"black\" d=\"M1005.5,-484C1005.5,-484 898.5,-484 898.5,-484 892.5,-484 886.5,-478 886.5,-472 886.5,-472 886.5,-428 886.5,-428 886.5,-422 892.5,-416 898.5,-416 898.5,-416 1005.5,-416 1005.5,-416 1011.5,-416 1017.5,-422 1017.5,-428 1017.5,-428 1017.5,-472 1017.5,-472 1017.5,-478 1011.5,-484 1005.5,-484\"/>\n",
       "<text text-anchor=\"start\" x=\"910\" y=\"-468.8\" font-family=\"Helvetica,sans-Serif\" font-size=\"14.00\">SibSp ≤ 0.5</text>\n",
       "<text text-anchor=\"start\" x=\"912.5\" y=\"-453.8\" font-family=\"Helvetica,sans-Serif\" font-size=\"14.00\">gini = 0.43</text>\n",
       "<text text-anchor=\"start\" x=\"899\" y=\"-438.8\" font-family=\"Helvetica,sans-Serif\" font-size=\"14.00\">samples = 119</text>\n",
       "<text text-anchor=\"start\" x=\"894.5\" y=\"-423.8\" font-family=\"Helvetica,sans-Serif\" font-size=\"14.00\">value = [81, 38]</text>\n",
       "</g>\n",
       "<!-- 8&#45;&gt;18 -->\n",
       "<g id=\"edge18\" class=\"edge\">\n",
       "<title>8&#45;&gt;18</title>\n",
       "<path fill=\"none\" stroke=\"black\" d=\"M791.25,-524.07C818.44,-511.71 849.6,-497.54 877.21,-485\"/>\n",
       "<polygon fill=\"black\" stroke=\"black\" points=\"878.77,-488.13 886.42,-480.81 875.87,-481.76 878.77,-488.13\"/>\n",
       "</g>\n",
       "<!-- 10 -->\n",
       "<g id=\"node11\" class=\"node\">\n",
       "<title>10</title>\n",
       "<path fill=\"#f1b992\" stroke=\"black\" d=\"M697.5,-368.5C697.5,-368.5 590.5,-368.5 590.5,-368.5 584.5,-368.5 578.5,-362.5 578.5,-356.5 578.5,-356.5 578.5,-327.5 578.5,-327.5 578.5,-321.5 584.5,-315.5 590.5,-315.5 590.5,-315.5 697.5,-315.5 697.5,-315.5 703.5,-315.5 709.5,-321.5 709.5,-327.5 709.5,-327.5 709.5,-356.5 709.5,-356.5 709.5,-362.5 703.5,-368.5 697.5,-368.5\"/>\n",
       "<text text-anchor=\"start\" x=\"604.5\" y=\"-353.3\" font-family=\"Helvetica,sans-Serif\" font-size=\"14.00\">gini = 0.43</text>\n",
       "<text text-anchor=\"start\" x=\"595.5\" y=\"-338.3\" font-family=\"Helvetica,sans-Serif\" font-size=\"14.00\">samples = 55</text>\n",
       "<text text-anchor=\"start\" x=\"586.5\" y=\"-323.3\" font-family=\"Helvetica,sans-Serif\" font-size=\"14.00\">value = [38, 17]</text>\n",
       "</g>\n",
       "<!-- 9&#45;&gt;10 -->\n",
       "<g id=\"edge10\" class=\"edge\">\n",
       "<title>9&#45;&gt;10</title>\n",
       "<path fill=\"none\" stroke=\"black\" d=\"M696.85,-415.75C687.89,-403.42 677.72,-389.42 668.71,-377.02\"/>\n",
       "<polygon fill=\"black\" stroke=\"black\" points=\"671.4,-374.76 662.69,-368.73 665.74,-378.88 671.4,-374.76\"/>\n",
       "</g>\n",
       "<!-- 11 -->\n",
       "<g id=\"node12\" class=\"node\">\n",
       "<title>11</title>\n",
       "<path fill=\"#e89050\" stroke=\"black\" d=\"M856,-376C856,-376 740,-376 740,-376 734,-376 728,-370 728,-364 728,-364 728,-320 728,-320 728,-314 734,-308 740,-308 740,-308 856,-308 856,-308 862,-308 868,-314 868,-320 868,-320 868,-364 868,-364 868,-370 862,-376 856,-376\"/>\n",
       "<text text-anchor=\"start\" x=\"758\" y=\"-360.8\" font-family=\"Helvetica,sans-Serif\" font-size=\"14.00\">Age ≤ 32.5</text>\n",
       "<text text-anchor=\"start\" x=\"758.5\" y=\"-345.8\" font-family=\"Helvetica,sans-Serif\" font-size=\"14.00\">gini = 0.19</text>\n",
       "<text text-anchor=\"start\" x=\"745\" y=\"-330.8\" font-family=\"Helvetica,sans-Serif\" font-size=\"14.00\">samples = 265</text>\n",
       "<text text-anchor=\"start\" x=\"736\" y=\"-315.8\" font-family=\"Helvetica,sans-Serif\" font-size=\"14.00\">value = [237, 28]</text>\n",
       "</g>\n",
       "<!-- 9&#45;&gt;11 -->\n",
       "<g id=\"edge11\" class=\"edge\">\n",
       "<title>9&#45;&gt;11</title>\n",
       "<path fill=\"none\" stroke=\"black\" d=\"M745.15,-415.75C752.39,-405.79 760.42,-394.73 767.99,-384.32\"/>\n",
       "<polygon fill=\"black\" stroke=\"black\" points=\"770.89,-386.28 773.93,-376.13 765.22,-382.16 770.89,-386.28\"/>\n",
       "</g>\n",
       "<!-- 12 -->\n",
       "<g id=\"node13\" class=\"node\">\n",
       "<title>12</title>\n",
       "<path fill=\"#e99356\" stroke=\"black\" d=\"M781,-269C781,-269 665,-269 665,-269 659,-269 653,-263 653,-257 653,-257 653,-213 653,-213 653,-207 659,-201 665,-201 665,-201 781,-201 781,-201 787,-201 793,-207 793,-213 793,-213 793,-257 793,-257 793,-263 787,-269 781,-269\"/>\n",
       "<text text-anchor=\"start\" x=\"678.5\" y=\"-253.8\" font-family=\"Helvetica,sans-Serif\" font-size=\"14.00\">Age ≤ 24.75</text>\n",
       "<text text-anchor=\"start\" x=\"683.5\" y=\"-238.8\" font-family=\"Helvetica,sans-Serif\" font-size=\"14.00\">gini = 0.22</text>\n",
       "<text text-anchor=\"start\" x=\"670\" y=\"-223.8\" font-family=\"Helvetica,sans-Serif\" font-size=\"14.00\">samples = 181</text>\n",
       "<text text-anchor=\"start\" x=\"661\" y=\"-208.8\" font-family=\"Helvetica,sans-Serif\" font-size=\"14.00\">value = [158, 23]</text>\n",
       "</g>\n",
       "<!-- 11&#45;&gt;12 -->\n",
       "<g id=\"edge12\" class=\"edge\">\n",
       "<title>11&#45;&gt;12</title>\n",
       "<path fill=\"none\" stroke=\"black\" d=\"M774.27,-307.78C767.36,-298.11 759.73,-287.43 752.52,-277.32\"/>\n",
       "<polygon fill=\"black\" stroke=\"black\" points=\"755.24,-275.11 746.58,-269.01 749.54,-279.18 755.24,-275.11\"/>\n",
       "</g>\n",
       "<!-- 17 -->\n",
       "<g id=\"node18\" class=\"node\">\n",
       "<title>17</title>\n",
       "<path fill=\"#e78946\" stroke=\"black\" d=\"M921,-261.5C921,-261.5 823,-261.5 823,-261.5 817,-261.5 811,-255.5 811,-249.5 811,-249.5 811,-220.5 811,-220.5 811,-214.5 817,-208.5 823,-208.5 823,-208.5 921,-208.5 921,-208.5 927,-208.5 933,-214.5 933,-220.5 933,-220.5 933,-249.5 933,-249.5 933,-255.5 927,-261.5 921,-261.5\"/>\n",
       "<text text-anchor=\"start\" x=\"832.5\" y=\"-246.3\" font-family=\"Helvetica,sans-Serif\" font-size=\"14.00\">gini = 0.11</text>\n",
       "<text text-anchor=\"start\" x=\"823.5\" y=\"-231.3\" font-family=\"Helvetica,sans-Serif\" font-size=\"14.00\">samples = 84</text>\n",
       "<text text-anchor=\"start\" x=\"819\" y=\"-216.3\" font-family=\"Helvetica,sans-Serif\" font-size=\"14.00\">value = [79, 5]</text>\n",
       "</g>\n",
       "<!-- 11&#45;&gt;17 -->\n",
       "<g id=\"edge17\" class=\"edge\">\n",
       "<title>11&#45;&gt;17</title>\n",
       "<path fill=\"none\" stroke=\"black\" d=\"M821.41,-307.78C829.86,-295.79 839.41,-282.24 847.92,-270.17\"/>\n",
       "<polygon fill=\"black\" stroke=\"black\" points=\"851,-271.88 853.9,-261.69 845.28,-267.84 851,-271.88\"/>\n",
       "</g>\n",
       "<!-- 13 -->\n",
       "<g id=\"node14\" class=\"node\">\n",
       "<title>13</title>\n",
       "<path fill=\"#e88d4c\" stroke=\"black\" d=\"M704,-161C704,-161 588,-161 588,-161 582,-161 576,-155 576,-149 576,-149 576,-105 576,-105 576,-99 582,-93 588,-93 588,-93 704,-93 704,-93 710,-93 716,-99 716,-105 716,-105 716,-149 716,-149 716,-155 710,-161 704,-161\"/>\n",
       "<text text-anchor=\"start\" x=\"593\" y=\"-145.8\" font-family=\"Helvetica,sans-Serif\" font-size=\"14.00\">LogFare ≤ 2.18</text>\n",
       "<text text-anchor=\"start\" x=\"606.5\" y=\"-130.8\" font-family=\"Helvetica,sans-Serif\" font-size=\"14.00\">gini = 0.16</text>\n",
       "<text text-anchor=\"start\" x=\"593\" y=\"-115.8\" font-family=\"Helvetica,sans-Serif\" font-size=\"14.00\">samples = 114</text>\n",
       "<text text-anchor=\"start\" x=\"584\" y=\"-100.8\" font-family=\"Helvetica,sans-Serif\" font-size=\"14.00\">value = [104, 10]</text>\n",
       "</g>\n",
       "<!-- 12&#45;&gt;13 -->\n",
       "<g id=\"edge13\" class=\"edge\">\n",
       "<title>12&#45;&gt;13</title>\n",
       "<path fill=\"none\" stroke=\"black\" d=\"M698.85,-200.75C691.61,-190.79 683.58,-179.73 676.01,-169.32\"/>\n",
       "<polygon fill=\"black\" stroke=\"black\" points=\"678.78,-167.16 670.07,-161.13 673.11,-171.28 678.78,-167.16\"/>\n",
       "</g>\n",
       "<!-- 16 -->\n",
       "<g id=\"node17\" class=\"node\">\n",
       "<title>16</title>\n",
       "<path fill=\"#eb9f69\" stroke=\"black\" d=\"M853.5,-153.5C853.5,-153.5 746.5,-153.5 746.5,-153.5 740.5,-153.5 734.5,-147.5 734.5,-141.5 734.5,-141.5 734.5,-112.5 734.5,-112.5 734.5,-106.5 740.5,-100.5 746.5,-100.5 746.5,-100.5 853.5,-100.5 853.5,-100.5 859.5,-100.5 865.5,-106.5 865.5,-112.5 865.5,-112.5 865.5,-141.5 865.5,-141.5 865.5,-147.5 859.5,-153.5 853.5,-153.5\"/>\n",
       "<text text-anchor=\"start\" x=\"760.5\" y=\"-138.3\" font-family=\"Helvetica,sans-Serif\" font-size=\"14.00\">gini = 0.31</text>\n",
       "<text text-anchor=\"start\" x=\"751.5\" y=\"-123.3\" font-family=\"Helvetica,sans-Serif\" font-size=\"14.00\">samples = 67</text>\n",
       "<text text-anchor=\"start\" x=\"742.5\" y=\"-108.3\" font-family=\"Helvetica,sans-Serif\" font-size=\"14.00\">value = [54, 13]</text>\n",
       "</g>\n",
       "<!-- 12&#45;&gt;16 -->\n",
       "<g id=\"edge16\" class=\"edge\">\n",
       "<title>12&#45;&gt;16</title>\n",
       "<path fill=\"none\" stroke=\"black\" d=\"M747.15,-200.75C756.11,-188.42 766.28,-174.42 775.29,-162.02\"/>\n",
       "<polygon fill=\"black\" stroke=\"black\" points=\"778.26,-163.88 781.31,-153.73 772.6,-159.76 778.26,-163.88\"/>\n",
       "</g>\n",
       "<!-- 14 -->\n",
       "<g id=\"node15\" class=\"node\">\n",
       "<title>14</title>\n",
       "<path fill=\"#e99254\" stroke=\"black\" d=\"M625,-53.5C625,-53.5 527,-53.5 527,-53.5 521,-53.5 515,-47.5 515,-41.5 515,-41.5 515,-12.5 515,-12.5 515,-6.5 521,-0.5 527,-0.5 527,-0.5 625,-0.5 625,-0.5 631,-0.5 637,-6.5 637,-12.5 637,-12.5 637,-41.5 637,-41.5 637,-47.5 631,-53.5 625,-53.5\"/>\n",
       "<text text-anchor=\"start\" x=\"536.5\" y=\"-38.3\" font-family=\"Helvetica,sans-Serif\" font-size=\"14.00\">gini = 0.21</text>\n",
       "<text text-anchor=\"start\" x=\"527.5\" y=\"-23.3\" font-family=\"Helvetica,sans-Serif\" font-size=\"14.00\">samples = 50</text>\n",
       "<text text-anchor=\"start\" x=\"523\" y=\"-8.3\" font-family=\"Helvetica,sans-Serif\" font-size=\"14.00\">value = [44, 6]</text>\n",
       "</g>\n",
       "<!-- 13&#45;&gt;14 -->\n",
       "<g id=\"edge14\" class=\"edge\">\n",
       "<title>13&#45;&gt;14</title>\n",
       "<path fill=\"none\" stroke=\"black\" d=\"M622.3,-92.82C615.17,-82.84 607.35,-71.89 600.19,-61.86\"/>\n",
       "<polygon fill=\"black\" stroke=\"black\" points=\"603.02,-59.81 594.36,-53.71 597.33,-63.88 603.02,-59.81\"/>\n",
       "</g>\n",
       "<!-- 15 -->\n",
       "<g id=\"node16\" class=\"node\">\n",
       "<title>15</title>\n",
       "<path fill=\"#e78946\" stroke=\"black\" d=\"M765,-53.5C765,-53.5 667,-53.5 667,-53.5 661,-53.5 655,-47.5 655,-41.5 655,-41.5 655,-12.5 655,-12.5 655,-6.5 661,-0.5 667,-0.5 667,-0.5 765,-0.5 765,-0.5 771,-0.5 777,-6.5 777,-12.5 777,-12.5 777,-41.5 777,-41.5 777,-47.5 771,-53.5 765,-53.5\"/>\n",
       "<text text-anchor=\"start\" x=\"676.5\" y=\"-38.3\" font-family=\"Helvetica,sans-Serif\" font-size=\"14.00\">gini = 0.12</text>\n",
       "<text text-anchor=\"start\" x=\"667.5\" y=\"-23.3\" font-family=\"Helvetica,sans-Serif\" font-size=\"14.00\">samples = 64</text>\n",
       "<text text-anchor=\"start\" x=\"663\" y=\"-8.3\" font-family=\"Helvetica,sans-Serif\" font-size=\"14.00\">value = [60, 4]</text>\n",
       "</g>\n",
       "<!-- 13&#45;&gt;15 -->\n",
       "<g id=\"edge15\" class=\"edge\">\n",
       "<title>13&#45;&gt;15</title>\n",
       "<path fill=\"none\" stroke=\"black\" d=\"M669.7,-92.82C676.83,-82.84 684.65,-71.89 691.81,-61.86\"/>\n",
       "<polygon fill=\"black\" stroke=\"black\" points=\"694.67,-63.88 697.64,-53.71 688.98,-59.81 694.67,-63.88\"/>\n",
       "</g>\n",
       "<!-- 19 -->\n",
       "<g id=\"node20\" class=\"node\">\n",
       "<title>19</title>\n",
       "<path fill=\"#f6d5bd\" stroke=\"black\" d=\"M1005.5,-368.5C1005.5,-368.5 898.5,-368.5 898.5,-368.5 892.5,-368.5 886.5,-362.5 886.5,-356.5 886.5,-356.5 886.5,-327.5 886.5,-327.5 886.5,-321.5 892.5,-315.5 898.5,-315.5 898.5,-315.5 1005.5,-315.5 1005.5,-315.5 1011.5,-315.5 1017.5,-321.5 1017.5,-327.5 1017.5,-327.5 1017.5,-356.5 1017.5,-356.5 1017.5,-362.5 1011.5,-368.5 1005.5,-368.5\"/>\n",
       "<text text-anchor=\"start\" x=\"912.5\" y=\"-353.3\" font-family=\"Helvetica,sans-Serif\" font-size=\"14.00\">gini = 0.48</text>\n",
       "<text text-anchor=\"start\" x=\"903.5\" y=\"-338.3\" font-family=\"Helvetica,sans-Serif\" font-size=\"14.00\">samples = 60</text>\n",
       "<text text-anchor=\"start\" x=\"894.5\" y=\"-323.3\" font-family=\"Helvetica,sans-Serif\" font-size=\"14.00\">value = [36, 24]</text>\n",
       "</g>\n",
       "<!-- 18&#45;&gt;19 -->\n",
       "<g id=\"edge19\" class=\"edge\">\n",
       "<title>18&#45;&gt;19</title>\n",
       "<path fill=\"none\" stroke=\"black\" d=\"M952,-415.75C952,-404.01 952,-390.76 952,-378.82\"/>\n",
       "<polygon fill=\"black\" stroke=\"black\" points=\"955.5,-378.73 952,-368.73 948.5,-378.73 955.5,-378.73\"/>\n",
       "</g>\n",
       "<!-- 20 -->\n",
       "<g id=\"node21\" class=\"node\">\n",
       "<title>20</title>\n",
       "<path fill=\"#eda877\" stroke=\"black\" d=\"M1154.5,-368.5C1154.5,-368.5 1047.5,-368.5 1047.5,-368.5 1041.5,-368.5 1035.5,-362.5 1035.5,-356.5 1035.5,-356.5 1035.5,-327.5 1035.5,-327.5 1035.5,-321.5 1041.5,-315.5 1047.5,-315.5 1047.5,-315.5 1154.5,-315.5 1154.5,-315.5 1160.5,-315.5 1166.5,-321.5 1166.5,-327.5 1166.5,-327.5 1166.5,-356.5 1166.5,-356.5 1166.5,-362.5 1160.5,-368.5 1154.5,-368.5\"/>\n",
       "<text text-anchor=\"start\" x=\"1061.5\" y=\"-353.3\" font-family=\"Helvetica,sans-Serif\" font-size=\"14.00\">gini = 0.36</text>\n",
       "<text text-anchor=\"start\" x=\"1052.5\" y=\"-338.3\" font-family=\"Helvetica,sans-Serif\" font-size=\"14.00\">samples = 59</text>\n",
       "<text text-anchor=\"start\" x=\"1043.5\" y=\"-323.3\" font-family=\"Helvetica,sans-Serif\" font-size=\"14.00\">value = [45, 14]</text>\n",
       "</g>\n",
       "<!-- 18&#45;&gt;20 -->\n",
       "<g id=\"edge20\" class=\"edge\">\n",
       "<title>18&#45;&gt;20</title>\n",
       "<path fill=\"none\" stroke=\"black\" d=\"M998.74,-415.75C1017.24,-402.59 1038.41,-387.53 1056.67,-374.54\"/>\n",
       "<polygon fill=\"black\" stroke=\"black\" points=\"1058.71,-377.38 1064.83,-368.73 1054.65,-371.68 1058.71,-377.38\"/>\n",
       "</g>\n",
       "</g>\n",
       "</svg>\n"
      ],
      "text/plain": [
       "<graphviz.files.Source>"
      ]
     },
     "execution_count": null,
     "metadata": {},
     "output_type": "execute_result"
    }
   ],
   "source": [
    "m = DecisionTreeClassifier(min_samples_leaf=50)\n",
    "m.fit(trn_xs, trn_y)\n",
    "draw_tree(m, trn_xs, size=25)"
   ]
  },
  {
   "cell_type": "code",
   "execution_count": null,
   "metadata": {},
   "outputs": [
    {
     "data": {
      "text/plain": [
       "0.18385650224215247"
      ]
     },
     "execution_count": null,
     "metadata": {},
     "output_type": "execute_result"
    }
   ],
   "source": [
    "mean_absolute_error(val_y, m.predict(val_xs))"
   ]
  },
  {
   "cell_type": "markdown",
   "metadata": {},
   "source": [
    "It looks like this is an improvement, although again it's a bit hard to tell with small datasets like this. Let's try submitting it to Kaggle:"
   ]
  },
  {
   "cell_type": "code",
   "execution_count": null,
   "metadata": {},
   "outputs": [],
   "source": [
    "tst_df[cats] = tst_df[cats].apply(lambda x: x.cat.codes)\n",
    "tst_xs,_ = xs_y(tst_df)\n",
    "\n",
    "def subm(preds, suff):\n",
    "    tst_df['Survived'] = preds\n",
    "    sub_df = tst_df[['PassengerId','Survived']]\n",
    "    sub_df.to_csv(f'sub-{suff}.csv', index=False)\n",
    "\n",
    "# subm(m.predict(tst_xs), 'tree')"
   ]
  },
  {
   "cell_type": "markdown",
   "metadata": {},
   "source": [
    "When I submitted this, I got a score of 0.765, which isn't as good as our linear models or most of our neural nets, but it's pretty close to those results.\n",
    "\n",
    "Hopefully you can now see why we didn't really need to create dummy variables, but instead just converted the labels into numbers using some (potentially arbitary) ordering of categories. For instance, here's how the first few items of `Embarked` are labeled:"
   ]
  },
  {
   "cell_type": "code",
   "execution_count": null,
   "metadata": {},
   "outputs": [
    {
     "data": {
      "text/plain": [
       "0    S\n",
       "1    C\n",
       "2    S\n",
       "3    S\n",
       "4    S\n",
       "Name: Embarked, dtype: category\n",
       "Categories (3, object): ['C', 'Q', 'S']"
      ]
     },
     "execution_count": null,
     "metadata": {},
     "output_type": "execute_result"
    }
   ],
   "source": [
    "df.Embarked.head()"
   ]
  },
  {
   "cell_type": "markdown",
   "metadata": {},
   "source": [
    "...resulting in these integer codes:"
   ]
  },
  {
   "cell_type": "code",
   "execution_count": null,
   "metadata": {},
   "outputs": [
    {
     "data": {
      "text/plain": [
       "0    2\n",
       "1    0\n",
       "2    2\n",
       "3    2\n",
       "4    2\n",
       "dtype: int8"
      ]
     },
     "execution_count": null,
     "metadata": {},
     "output_type": "execute_result"
    }
   ],
   "source": [
    "df.Embarked.cat.codes.head()"
   ]
  },
  {
   "cell_type": "markdown",
   "metadata": {},
   "source": [
    "So let's say we wanted to split into \"C\" in one group, vs \"Q\" or \"S\" in the other group. Then we just have to split on codes `<=0` (since `C` is mapped to category `0`). Note that if we wanted to split into \"Q\" in one group, we'd need to use two binary splits, first to separate \"C\" from \"Q\" and \"S\", and then a second split to separate \"Q\" from \"S\". For this reason, sometimes it can still be helpful to use dummy variables for categorical variables with few levels (like this one).\n",
    "\n",
    "In practice, I often use dummy variables for <4 levels, and numeric codes for >=4 levels."
   ]
  },
  {
   "cell_type": "markdown",
   "metadata": {},
   "source": [
    "## The random forest"
   ]
  },
  {
   "cell_type": "markdown",
   "metadata": {},
   "source": [
    "We can't make the decision tree much bigger than the example above, since some leaf nodes already have only 50 rows in them. That's not a lot of data to make a prediction."
   ]
  },
  {
   "cell_type": "markdown",
   "metadata": {},
   "source": [
    "So how could we use bigger trees? One big insight came from Leo Breiman: what if we create lots of bigger trees, and take the average of their predictions? Taking the average prediction of a bunch of models in this way is known as [bagging](https://link.springer.com/article/10.1007/BF00058655).\n",
    "\n",
    "The idea is that we want each model's predictions in the averaged ensemble to be uncorrelated with each other model. That way, if we average the predictions, the average will be equal to the true target value -- that's because the average of lots of uncorrelated random errors is zero. That's quite an amazing insight!"
   ]
  },
  {
   "cell_type": "markdown",
   "metadata": {},
   "source": [
    "One way we can create a bunch of uncorrelated models is to train each of them on a different random subset of the data. Here's how we can create a tree on a random subset of the data:"
   ]
  },
  {
   "cell_type": "code",
   "execution_count": null,
   "metadata": {},
   "outputs": [],
   "source": [
    "def get_tree(prop=0.75):\n",
    "    n = len(trn_y)\n",
    "    idxs = random.choice(n, int(n*prop))\n",
    "    return DecisionTreeClassifier(min_samples_leaf=5).fit(trn_xs.iloc[idxs], trn_y.iloc[idxs])"
   ]
  },
  {
   "cell_type": "markdown",
   "metadata": {},
   "source": [
    "Now we can create as many trees as we want:"
   ]
  },
  {
   "cell_type": "code",
   "execution_count": null,
   "metadata": {},
   "outputs": [],
   "source": [
    "trees = [get_tree() for t in range(100)]"
   ]
  },
  {
   "cell_type": "markdown",
   "metadata": {},
   "source": [
    "Our prediction will be the average of these trees' predictions:"
   ]
  },
  {
   "cell_type": "code",
   "execution_count": null,
   "metadata": {},
   "outputs": [
    {
     "data": {
      "text/plain": [
       "0.2272645739910314"
      ]
     },
     "execution_count": null,
     "metadata": {},
     "output_type": "execute_result"
    }
   ],
   "source": [
    "all_probs = [t.predict(val_xs) for t in trees]\n",
    "avg_probs = np.stack(all_probs).mean(0)\n",
    "\n",
    "mean_absolute_error(val_y, avg_probs)"
   ]
  },
  {
   "cell_type": "markdown",
   "metadata": {},
   "source": [
    "This is nearly identical to what `sklearn`'s `RandomForestClassifier` does. The main extra piece in a \"real\" random forest is that as well as choosing a random sample of data for each tree, it also picks a random subset of columns for each split. Here's how we repeat the above process with a random forest:"
   ]
  },
  {
   "cell_type": "code",
   "execution_count": null,
   "metadata": {},
   "outputs": [
    {
     "data": {
      "text/plain": [
       "0.18834080717488788"
      ]
     },
     "execution_count": null,
     "metadata": {},
     "output_type": "execute_result"
    }
   ],
   "source": [
    "from sklearn.ensemble import RandomForestClassifier\n",
    "\n",
    "rf = RandomForestClassifier(100, min_samples_leaf=5)\n",
    "rf.fit(trn_xs, trn_y);\n",
    "mean_absolute_error(val_y, rf.predict(val_xs))"
   ]
  },
  {
   "cell_type": "markdown",
   "metadata": {},
   "source": [
    "We can submit that to Kaggle too:"
   ]
  },
  {
   "cell_type": "code",
   "execution_count": null,
   "metadata": {},
   "outputs": [],
   "source": [
    "# subm(rf.predict(tst_xs), 'rf')"
   ]
  },
  {
   "cell_type": "markdown",
   "metadata": {},
   "source": [
    "I found that gave nearly an identical result as our single tree (which, in turn, was slightly lower than our linear and neural net models in the previous notebook)."
   ]
  },
  {
   "cell_type": "markdown",
   "metadata": {},
   "source": [
    "One particularly nice feature of random forests is they can tell us which independent variables were the most important in the model, using `feature_importances_`:"
   ]
  },
  {
   "cell_type": "code",
   "execution_count": null,
   "metadata": {},
   "outputs": [
    {
     "data": {
      "image/png": "[encoded data removed]",
      "text/plain": [
       "<Figure size 432x288 with 1 Axes>"
      ]
     },
     "metadata": {
      "needs_background": "light"
     },
     "output_type": "display_data"
    }
   ],
   "source": [
    "pd.DataFrame(dict(cols=trn_xs.columns, imp=m.feature_importances_)).plot('cols', 'imp', 'barh');"
   ]
  },
  {
   "cell_type": "markdown",
   "metadata": {},
   "source": [
    "We can see that `Sex` is by far the most important predictor, with `Pclass` a distant second, and `LogFare` and `Age` behind that. In datasets with many columns, I generally recommend creating a feature importance plot as soon as possible, in order to find which columns are worth studying more closely. (Note also that we didn't really need to take the `log()` of `Fare`, since random forests only care about order, and `log()` doesn't change the order -- we only did it to make our graphs earlier easier to read.)\n",
    "\n",
    "For details about deriving and understanding feature importances, and the many other important diagnostic tools provided by random forests, take a look at [chapter 8](https://github.com/fastai/fastbook/blob/master/08_collab.ipynb) of [book](https://www.amazon.com/Deep-Learning-Coders-fastai-PyTorch/dp/1492045527)."
   ]
  },
  {
   "cell_type": "markdown",
   "metadata": {},
   "source": [
    "## Conclusion"
   ]
  },
  {
   "cell_type": "markdown",
   "metadata": {},
   "source": [
    "So what can we take away from all this?\n",
    "\n",
    "I think the first thing I'd note from this is that, clearly, more complex models aren't always better. Our \"OneR\" model, consisting of a single binary split, was nearly as good as our more complex models. Perhaps in practice a simple model like this might be much easier to use, and could be worth considering. Our random forest wasn't an improvement on the single decision tree at all.\n",
    "\n",
    "So we should always be careful to benchmark simple models, as see if they're good enough for our needs. In practice, you will often find that simple models will have trouble providing adequate accuracy for more complex tasks, such as recommendation systems, NLP, computer vision, or multivariate time series. But there's no need to guess -- it's so easy to try a few different models, there's no reason not to give the simpler ones a go too!\n",
    "\n",
    "Another thing I think we can take away is that random forests aren't actually that complicated at all. We were able to implement the key features of them in a notebook quite quickly. And they aren't sensitive to issues like normalization, interactions, or non-linear transformations, which make them extremely easy to work with, and hard to mess up!"
   ]
  }
 ],
 "metadata": {
  "kernelspec": {
   "display_name": "Python 3 (ipykernel)",
   "language": "python",
   "name": "python3"
  }
 },
 "nbformat": 4,
 "nbformat_minor": 4
}
