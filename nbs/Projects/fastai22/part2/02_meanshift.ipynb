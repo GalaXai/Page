{
  "cells": [
    {
      "cell_type": "raw",
      "metadata": {
        "id": "RjIHdy7_QTta"
      },
      "source": [
        "---\n",
        "date: 2023-03-20\n",
        "title: p2-02_meanshift\n",
        "description: Creating meanshift + visualization of the algorithm.\n",
        "categories: [Clustering,fastai]\n",
        "image: images/02_meanshift_plot.png\n",
        "---"
      ]
    },
    {
      "cell_type": "markdown",
      "metadata": {
        "id": "j8rC1OZ1QTtc"
      },
      "source": [
        "# Clustering"
      ]
    },
    {
      "cell_type": "markdown",
      "metadata": {
        "id": "BLnxoqYAQTtf"
      },
      "source": [
        "Clustering techniques are unsupervised learning algorithms that try to group unlabelled data into \"clusters\", using the (typically spatial) structure of the data itself. It has many [applications](https://en.wikipedia.org/wiki/Cluster_analysis#Applications).\n",
        "\n",
        "The easiest way to demonstrate how clustering works is to simply generate some data and show them in action. We'll start off by importing the libraries we'll be using today."
      ]
    },
    {
      "cell_type": "code",
      "execution_count": 1,
      "metadata": {
        "id": "o61t_u_1QTth"
      },
      "outputs": [],
      "source": [
        "import math, matplotlib.pyplot as plt, operator, torch\n",
        "from functools import partial"
      ]
    },
    {
      "cell_type": "code",
      "execution_count": 2,
      "metadata": {
        "id": "4TMVsFeOQTtk"
      },
      "outputs": [],
      "source": [
        "torch.manual_seed(42)\n",
        "torch.set_printoptions(precision=3, linewidth=140, sci_mode=False)"
      ]
    },
    {
      "cell_type": "markdown",
      "metadata": {
        "id": "N8KU2eQ-QTtl"
      },
      "source": [
        "## Create data"
      ]
    },
    {
      "cell_type": "code",
      "execution_count": 3,
      "metadata": {
        "id": "qYsmvLe0QTtm"
      },
      "outputs": [],
      "source": [
        "n_clusters=6\n",
        "n_samples =250"
      ]
    },
    {
      "cell_type": "markdown",
      "metadata": {
        "id": "vdqUbGUVQTto"
      },
      "source": [
        "To generate our data, we're going to pick 6 random points, which we'll call centroids, and for each point we're going to generate 250 random points about it."
      ]
    },
    {
      "cell_type": "code",
      "execution_count": 4,
      "metadata": {
        "id": "iHupVFu9QTtq"
      },
      "outputs": [],
      "source": [
        "centroids = torch.rand(n_clusters, 2)*70-35"
      ]
    },
    {
      "cell_type": "code",
      "execution_count": 5,
      "metadata": {
        "colab": {
          "base_uri": "https://localhost:8080/"
        },
        "id": "N9OKW9MKQTtr",
        "outputId": "add456d4-7c0b-4ef9-a0c4-c4ef44281adf"
      },
      "outputs": [
        {
          "output_type": "execute_result",
          "data": {
            "text/plain": [
              "tensor([[ 26.759,  29.050],\n",
              "        [ -8.200,  32.151],\n",
              "        [ -7.669,   7.063],\n",
              "        [-17.040,  20.555],\n",
              "        [ 30.854, -25.677],\n",
              "        [ 30.422,   6.551]])"
            ]
          },
          "metadata": {},
          "execution_count": 5
        }
      ],
      "source": [
        "centroids"
      ]
    },
    {
      "cell_type": "code",
      "execution_count": 6,
      "metadata": {
        "id": "ABZ5e2MDQTtt"
      },
      "outputs": [],
      "source": [
        "from torch.distributions.multivariate_normal import MultivariateNormal\n",
        "from torch import tensor"
      ]
    },
    {
      "cell_type": "code",
      "execution_count": 7,
      "metadata": {
        "id": "G_TclTTdQTtu"
      },
      "outputs": [],
      "source": [
        "def sample(m): return MultivariateNormal(m, torch.diag(tensor([5.,5.]))).sample((n_samples,))"
      ]
    },
    {
      "cell_type": "code",
      "execution_count": 8,
      "metadata": {
        "id": "hvoag2uCQTtv"
      },
      "outputs": [],
      "source": [
        "slices = [sample(c) for c in centroids]"
      ]
    },
    {
      "cell_type": "markdown",
      "metadata": {
        "id": "-GrPNmX2QTtw"
      },
      "source": [
        "`torch.cat` - concatenates given sequence.\\\n",
        "`torch.cat()` can be seen as an inverse operation for `torch.split()` and `torch.chunk()`."
      ]
    },
    {
      "cell_type": "code",
      "execution_count": 9,
      "metadata": {
        "colab": {
          "base_uri": "https://localhost:8080/"
        },
        "id": "LpeOVaIeQTtx",
        "outputId": "14ff82a8-58a8-4375-9306-7187260d8804"
      },
      "outputs": [
        {
          "output_type": "execute_result",
          "data": {
            "text/plain": [
              "torch.Size([1500, 2])"
            ]
          },
          "metadata": {},
          "execution_count": 9
        }
      ],
      "source": [
        "data = torch.cat(slices)\n",
        "data.shape"
      ]
    },
    {
      "cell_type": "markdown",
      "metadata": {
        "id": "eH8zNsfUQTty"
      },
      "source": [
        "Below we can see each centroid marked w/ X, and the coloring associated to each respective cluster."
      ]
    },
    {
      "cell_type": "code",
      "execution_count": 10,
      "metadata": {
        "id": "rMNlkGVYQTtz"
      },
      "outputs": [],
      "source": [
        "def plot_data(centroids, data, n_samples, ax=None):\n",
        "    if ax is None: _,ax = plt.subplots()\n",
        "    for i, centroid in enumerate(centroids):\n",
        "        samples = data[i*n_samples:(i+1)*n_samples]\n",
        "        ax.scatter(samples[:,0], samples[:,1], s=1)\n",
        "        ax.plot(*centroid, markersize=10, marker=\"x\", color='k', mew=5)\n",
        "        ax.plot(*centroid, markersize=5, marker=\"x\", color='m', mew=2)"
      ]
    },
    {
      "cell_type": "code",
      "execution_count": 11,
      "metadata": {
        "colab": {
          "base_uri": "https://localhost:8080/",
          "height": 265
        },
        "id": "AAAvmiHXQTt0",
        "outputId": "0f518305-af0f-4fcb-ed1d-561e4b20a829"
      },
      "outputs": [
        {
          "output_type": "display_data",
          "data": {
            "text/plain": [
              "<Figure size 432x288 with 1 Axes>"
            ],
            "image/png": "[encoded data removed]"
          },
          "metadata": {
            "needs_background": "light"
          }
        }
      ],
      "source": [
        "plot_data(centroids, data, n_samples)"
      ]
    },
    {
      "cell_type": "markdown",
      "metadata": {
        "id": "XiNtsNHUQTt2"
      },
      "source": [
        "## Mean shift"
      ]
    },
    {
      "cell_type": "markdown",
      "metadata": {
        "id": "Z6urW40jQTt3"
      },
      "source": [
        "Most people that have come across clustering algorithms have learnt about **k-means**. Mean shift clustering is a newer and less well-known approach, but it has some important advantages:\n",
        "* It doesn't require selecting the number of clusters in advance, but instead just requires a **bandwidth** to be specified, which can be easily chosen automatically\n",
        "* It can handle clusters of any shape, whereas k-means (without using special extensions) requires that clusters be roughly ball shaped."
      ]
    },
    {
      "cell_type": "markdown",
      "metadata": {
        "id": "o0mbSECQQTt3"
      },
      "source": [
        "The algorithm is as follows:\n",
        "* For each data point `x` in the sample `X`, find the distance between that point `x` and every other point in `X`\n",
        "* Create weights for each point in `X` by using the **Gaussian kernel** of that point's distance to `x`\n",
        "    * This weighting approach penalizes points further away from `x`\n",
        "    * The rate at which the weights fall to zero is determined by the **bandwidth**, which is the standard deviation of the Gaussian\n",
        "* Update `x` as the weighted average of all other points in `X`, weighted based on the previous step\n",
        "\n",
        "This will iteratively push points that are close together even closer until they are next to each other."
      ]
    },
    {
      "cell_type": "code",
      "execution_count": 12,
      "metadata": {
        "colab": {
          "base_uri": "https://localhost:8080/"
        },
        "id": "e2QvPmoNQTt4",
        "outputId": "9baa0e3f-3104-48f7-bfc3-607ec5a11ad7"
      },
      "outputs": [
        {
          "output_type": "execute_result",
          "data": {
            "text/plain": [
              "tensor([ 9.222, 11.604])"
            ]
          },
          "metadata": {},
          "execution_count": 12
        }
      ],
      "source": [
        "midp = data.mean(0)\n",
        "midp"
      ]
    },
    {
      "cell_type": "code",
      "execution_count": 13,
      "metadata": {
        "colab": {
          "base_uri": "https://localhost:8080/",
          "height": 265
        },
        "id": "8v7kkiQAQTt5",
        "outputId": "2e2e91e8-3626-46ab-db98-97aa05b9967f"
      },
      "outputs": [
        {
          "output_type": "display_data",
          "data": {
            "text/plain": [
              "<Figure size 432x288 with 1 Axes>"
            ],
            "image/png": "[encoded data removed]"
          },
          "metadata": {
            "needs_background": "light"
          }
        }
      ],
      "source": [
        "plot_data([midp]*6, data, n_samples)"
      ]
    },
    {
      "cell_type": "markdown",
      "metadata": {
        "id": "NW0lxnPlQTt5"
      },
      "source": [
        "So here's the definition of the gaussian kernel, which you may remember from high school...\n",
        " This person at the science march certainly remembered!\n",
        "\n",
        "<img src=\"http://i.imgur.com/nijQLHw.jpg\" width=400>"
      ]
    },
    {
      "cell_type": "code",
      "execution_count": 14,
      "metadata": {
        "id": "hXEXoMqHQTt6"
      },
      "outputs": [],
      "source": [
        "def gaussian(d, bw): return torch.exp(-0.5*((d/bw))**2) / (bw*math.sqrt(2*math.pi))"
      ]
    },
    {
      "cell_type": "markdown",
      "metadata": {
        "id": "Vl6FfChSQTt7"
      },
      "source": [
        "`troch.linespace(start,end,step)` - Creates a one-dimensional tensor of size `steps` whose values are evenly spaced from `start` to `end`, inclusive\n",
        "* start (float) – the starting value for the set of points\n",
        "* end (float) – the ending value for the set of points\n",
        "* steps (int) – size of the constructed tensor"
      ]
    },
    {
      "cell_type": "code",
      "execution_count": 15,
      "metadata": {
        "colab": {
          "base_uri": "https://localhost:8080/"
        },
        "id": "1yKzNxbzQTt7",
        "outputId": "edbac28b-d157-4e10-f674-9609f82b73b0"
      },
      "outputs": [
        {
          "output_type": "execute_result",
          "data": {
            "text/plain": [
              "tensor([ 0.,  1.,  2.,  3.,  4.,  5.,  6.,  7.,  8.,  9., 10.])"
            ]
          },
          "metadata": {},
          "execution_count": 15
        }
      ],
      "source": [
        "torch.linspace(0,10,11)"
      ]
    },
    {
      "cell_type": "code",
      "execution_count": 16,
      "metadata": {
        "id": "A2mTI102QTt8"
      },
      "outputs": [],
      "source": [
        "def plot_func(f):\n",
        "    x = torch.linspace(0,10,100)\n",
        "    plt.plot(x, f(x))"
      ]
    },
    {
      "cell_type": "code",
      "execution_count": 17,
      "metadata": {
        "colab": {
          "base_uri": "https://localhost:8080/",
          "height": 265
        },
        "id": "V6qicaiaQTt9",
        "outputId": "97cfcd39-b707-4f93-eb99-ea92d6c4a67f"
      },
      "outputs": [
        {
          "output_type": "display_data",
          "data": {
            "text/plain": [
              "<Figure size 432x288 with 1 Axes>"
            ],
            "image/png": "[encoded data removed]"
          },
          "metadata": {
            "needs_background": "light"
          }
        }
      ],
      "source": [
        "plot_func(partial(gaussian, bw=2.5))"
      ]
    },
    {
      "cell_type": "markdown",
      "metadata": {
        "id": "0pjWqMgpQTt9"
      },
      "source": [
        "the `partial` function is a higher-order function that allows you to create a new function by \"partial\" application of an existing function. In other words, it lets you fix some of the arguments of a function and create a new function with fewer arguments."
      ]
    },
    {
      "cell_type": "code",
      "execution_count": 18,
      "metadata": {
        "colab": {
          "base_uri": "https://localhost:8080/"
        },
        "id": "6ajW090FQTt-",
        "outputId": "c73b671a-59b7-49bd-d766-8efeee698b9a"
      },
      "outputs": [
        {
          "output_type": "execute_result",
          "data": {
            "text/plain": [
              "functools.partial"
            ]
          },
          "metadata": {},
          "execution_count": 18
        }
      ],
      "source": [
        "partial"
      ]
    },
    {
      "cell_type": "markdown",
      "metadata": {
        "id": "WPwmrXmkQTt_"
      },
      "source": [
        "In our implementation, we choose the bandwidth to be 2.5. \n",
        "\n",
        "One easy way to choose bandwidth is to find which bandwidth covers one third of the data."
      ]
    },
    {
      "cell_type": "code",
      "execution_count": 19,
      "metadata": {
        "id": "QZ8X-uovQTt_"
      },
      "outputs": [],
      "source": [
        "def tri(d, i): return (-d+i).clamp_min(0)/i"
      ]
    },
    {
      "cell_type": "code",
      "execution_count": 20,
      "metadata": {
        "colab": {
          "base_uri": "https://localhost:8080/",
          "height": 265
        },
        "id": "DMq_9QqoQTuB",
        "outputId": "a5742ecc-eae3-4c44-b080-6e78ecb7cad3"
      },
      "outputs": [
        {
          "output_type": "display_data",
          "data": {
            "text/plain": [
              "<Figure size 432x288 with 1 Axes>"
            ],
            "image/png": "[encoded data removed]"
          },
          "metadata": {
            "needs_background": "light"
          }
        }
      ],
      "source": [
        "plot_func(partial(tri, i=8))"
      ]
    },
    {
      "cell_type": "code",
      "execution_count": 21,
      "metadata": {
        "id": "B1SLod3BQTuC"
      },
      "outputs": [],
      "source": [
        "X = data.clone()\n",
        "x = data[0]"
      ]
    },
    {
      "cell_type": "code",
      "execution_count": 22,
      "metadata": {
        "colab": {
          "base_uri": "https://localhost:8080/"
        },
        "id": "1xrsrb6bQTuD",
        "outputId": "53a4b072-5d40-4cd4-ca1f-522d618fb5fd"
      },
      "outputs": [
        {
          "output_type": "execute_result",
          "data": {
            "text/plain": [
              "(tensor([26.204, 26.349]), tensor([26.204, 26.349]))"
            ]
          },
          "metadata": {},
          "execution_count": 22
        }
      ],
      "source": [
        "x,X[0]"
      ]
    },
    {
      "cell_type": "code",
      "execution_count": 23,
      "metadata": {
        "colab": {
          "base_uri": "https://localhost:8080/"
        },
        "id": "oQJ2nWeoQTuE",
        "outputId": "e8f06f95-5d9c-4885-ba48-e74d3f1c23ba"
      },
      "outputs": [
        {
          "output_type": "execute_result",
          "data": {
            "text/plain": [
              "(torch.Size([2]), torch.Size([1500, 2]), torch.Size([1, 2]))"
            ]
          },
          "metadata": {},
          "execution_count": 23
        }
      ],
      "source": [
        "x.shape, X.shape, x[None].shape"
      ]
    },
    {
      "cell_type": "code",
      "execution_count": 24,
      "metadata": {
        "colab": {
          "base_uri": "https://localhost:8080/"
        },
        "id": "9X1kH3czQTuE",
        "outputId": "383dc875-6e53-458c-bead-0bb85c75a93e"
      },
      "outputs": [
        {
          "output_type": "execute_result",
          "data": {
            "text/plain": [
              "tensor([[ 0.000,  0.000],\n",
              "        [ 0.513, -3.865],\n",
              "        [-4.227, -2.345],\n",
              "        [ 0.557, -3.685],\n",
              "        [-5.033, -3.745],\n",
              "        [-4.073, -0.638],\n",
              "        [-3.415, -5.601],\n",
              "        [-1.920, -5.686]])"
            ]
          },
          "metadata": {},
          "execution_count": 24
        }
      ],
      "source": [
        "(x[None]-X)[:8]"
      ]
    },
    {
      "cell_type": "code",
      "execution_count": 25,
      "metadata": {
        "colab": {
          "base_uri": "https://localhost:8080/"
        },
        "id": "yIHqndbQQTuF",
        "outputId": "430ad7b8-5c26-4e37-acd0-4a975d41085b"
      },
      "outputs": [
        {
          "output_type": "execute_result",
          "data": {
            "text/plain": [
              "torch.Size([8, 2])"
            ]
          },
          "metadata": {},
          "execution_count": 25
        }
      ],
      "source": [
        "(x-X)[:8].shape"
      ]
    },
    {
      "cell_type": "code",
      "execution_count": 26,
      "metadata": {
        "colab": {
          "base_uri": "https://localhost:8080/"
        },
        "id": "1yRsLNpuQTuG",
        "outputId": "f795d1b7-a749-4a5e-8e20-2539fa0eea0c"
      },
      "outputs": [
        {
          "output_type": "execute_result",
          "data": {
            "text/plain": [
              "tensor([[    0.000,     0.000],\n",
              "        [    0.263,    14.936],\n",
              "        [   17.871,     5.498],\n",
              "        ...,\n",
              "        [   20.869,   289.860],\n",
              "        [    9.926,   501.266],\n",
              "        [   24.641,   442.675]])"
            ]
          },
          "metadata": {},
          "execution_count": 26
        }
      ],
      "source": [
        "(x-X)**2"
      ]
    },
    {
      "cell_type": "code",
      "execution_count": 27,
      "metadata": {
        "colab": {
          "base_uri": "https://localhost:8080/"
        },
        "id": "1MGx1RegQTuG",
        "outputId": "5c8091a7-9c9c-49e4-d939-4c019e3aa1a3"
      },
      "outputs": [
        {
          "output_type": "execute_result",
          "data": {
            "text/plain": [
              "tensor([0.000, 3.899, 4.834, 3.726, 6.273, 4.122, 6.560, 6.002])"
            ]
          },
          "metadata": {},
          "execution_count": 27
        }
      ],
      "source": [
        "# rewrite using torch.einsum\n",
        "from torch import einsum\n",
        "d = torch.einsum('ij,ij -> i',x-X,x-X).sqrt()\n",
        "d[:8]"
      ]
    },
    {
      "cell_type": "code",
      "execution_count": 28,
      "metadata": {
        "colab": {
          "base_uri": "https://localhost:8080/"
        },
        "id": "0l31OtwAQTuH",
        "outputId": "39bd4e61-40e9-416e-a7d5-9751191cb7ee"
      },
      "outputs": [
        {
          "output_type": "execute_result",
          "data": {
            "text/plain": [
              "tensor([0.000, 3.899, 4.834, 3.726, 6.273, 4.122, 6.560, 6.002])"
            ]
          },
          "metadata": {},
          "execution_count": 28
        }
      ],
      "source": [
        "dist = ((x-X)**2).sum(1).sqrt()\n",
        "dist[:8]"
      ]
    },
    {
      "cell_type": "code",
      "execution_count": 29,
      "metadata": {
        "colab": {
          "base_uri": "https://localhost:8080/"
        },
        "id": "oVRP7RcVQTuH",
        "outputId": "d6055126-99a8-4dff-faaa-1f4ef2fb98d5"
      },
      "outputs": [
        {
          "output_type": "execute_result",
          "data": {
            "text/plain": [
              "tensor([    0.160,     0.047,     0.025,  ...,     0.000,     0.000,     0.000])"
            ]
          },
          "metadata": {},
          "execution_count": 29
        }
      ],
      "source": [
        "weight = gaussian(dist, 2.5)\n",
        "weight"
      ]
    },
    {
      "cell_type": "code",
      "execution_count": 30,
      "metadata": {
        "colab": {
          "base_uri": "https://localhost:8080/"
        },
        "id": "c9-qu--5QTuJ",
        "outputId": "3395c5ee-c594-49eb-ec4a-de38d01412c0"
      },
      "outputs": [
        {
          "output_type": "execute_result",
          "data": {
            "text/plain": [
              "(torch.Size([1500]), torch.Size([1500, 2]))"
            ]
          },
          "metadata": {},
          "execution_count": 30
        }
      ],
      "source": [
        "weight.shape,X.shape"
      ]
    },
    {
      "cell_type": "code",
      "execution_count": 31,
      "metadata": {
        "colab": {
          "base_uri": "https://localhost:8080/"
        },
        "id": "y7RnJwXVQTuJ",
        "outputId": "cd533d3c-a3c5-46aa-db48-13d35fbcdb9b"
      },
      "outputs": [
        {
          "output_type": "execute_result",
          "data": {
            "text/plain": [
              "torch.Size([1500, 1])"
            ]
          },
          "metadata": {},
          "execution_count": 31
        }
      ],
      "source": [
        "weight[:,None].shape"
      ]
    },
    {
      "cell_type": "code",
      "execution_count": 32,
      "metadata": {
        "colab": {
          "base_uri": "https://localhost:8080/"
        },
        "id": "14QZNtMuQTuJ",
        "outputId": "9c4afe50-f022-48bb-b7fa-8f6cc985c567"
      },
      "outputs": [
        {
          "output_type": "execute_result",
          "data": {
            "text/plain": [
              "tensor([[    4.182,     4.205],\n",
              "        [    1.215,     1.429],\n",
              "        [    0.749,     0.706],\n",
              "        ...,\n",
              "        [    0.000,     0.000],\n",
              "        [    0.000,     0.000],\n",
              "        [    0.000,     0.000]])"
            ]
          },
          "metadata": {},
          "execution_count": 32
        }
      ],
      "source": [
        "weight[:,None]*X"
      ]
    },
    {
      "cell_type": "code",
      "execution_count": 33,
      "metadata": {
        "id": "BYgmKaIiQTuL"
      },
      "outputs": [],
      "source": [
        "def one_update(X):\n",
        "    for i, x in enumerate(X):\n",
        "        # Here we calculate the distance for each point x\n",
        "        #dist = torch.einsum('ij,ij -> i',x-X,x-X).sqrt() # IS SLOWER\n",
        "        dist = torch.sqrt(((x-X)**2).sum(1)) # OLD FORMULA\n",
        "#         weight = gaussian(dist, 2.5)\n",
        "        weight = tri(dist, 8)\n",
        "        X[i] = (weight[:,None]*X).sum(0)/weight.sum()"
      ]
    },
    {
      "cell_type": "code",
      "execution_count": 34,
      "metadata": {
        "id": "SlTlhCgvQTuL"
      },
      "outputs": [],
      "source": [
        "def meanshift(data):\n",
        "    X = data.clone()\n",
        "    for it in range(5): one_update(X)\n",
        "    return X"
      ]
    },
    {
      "cell_type": "code",
      "execution_count": 35,
      "metadata": {
        "colab": {
          "base_uri": "https://localhost:8080/"
        },
        "id": "oA_CDaJXQTuM",
        "outputId": "ffd42b4a-e514-4ab2-fb95-a285093893b0"
      },
      "outputs": [
        {
          "output_type": "stream",
          "name": "stdout",
          "text": [
            "CPU times: user 1.23 s, sys: 46.5 ms, total: 1.27 s\n",
            "Wall time: 1.4 s\n"
          ]
        }
      ],
      "source": [
        "%time X=meanshift(data)"
      ]
    },
    {
      "cell_type": "code",
      "execution_count": 36,
      "metadata": {
        "colab": {
          "base_uri": "https://localhost:8080/",
          "height": 265
        },
        "id": "1pCH4JRSQTuN",
        "outputId": "c06421a0-b0aa-4ba8-d18a-68cee3089413"
      },
      "outputs": [
        {
          "output_type": "display_data",
          "data": {
            "text/plain": [
              "<Figure size 432x288 with 1 Axes>"
            ],
            "image/png": "[encoded data removed]"
          },
          "metadata": {
            "needs_background": "light"
          }
        }
      ],
      "source": [
        "plot_data(centroids+2, X, n_samples)"
      ]
    },
    {
      "cell_type": "markdown",
      "metadata": {
        "id": "TcIgfEW6QTuO"
      },
      "source": [
        "## Animation"
      ]
    },
    {
      "cell_type": "code",
      "execution_count": 37,
      "metadata": {
        "id": "gatN6S1mQTuO"
      },
      "outputs": [],
      "source": [
        "from matplotlib.animation import FuncAnimation\n",
        "from IPython.display import HTML"
      ]
    },
    {
      "cell_type": "code",
      "execution_count": 38,
      "metadata": {
        "id": "kk-dagGMQTuj"
      },
      "outputs": [],
      "source": [
        "def do_one(d):\n",
        "    if d: one_update(X)\n",
        "    ax.clear()\n",
        "    plot_data(centroids+2, X, n_samples, ax=ax)"
      ]
    },
    {
      "cell_type": "code",
      "execution_count": 39,
      "metadata": {
        "colab": {
          "base_uri": "https://localhost:8080/",
          "height": 390
        },
        "id": "yxyvbM-PQTuk",
        "outputId": "0737986d-d53e-4b62-e983-cb7de8646d51"
      },
      "outputs": [
        {
          "output_type": "execute_result",
          "data": {
            "text/plain": [
              "<IPython.core.display.HTML object>"
            ],
            "text/html": [
              "\n",
              "<link rel=\"stylesheet\"\n",
              "href=\"https://maxcdn.bootstrapcdn.com/font-awesome/4.4.0/css/font-awesome.min.css\">\n",
              "<script language=\"javascript\">\n",
              "  function isInternetExplorer() {\n",
              "    ua = navigator.userAgent;\n",
              "    /* MSIE used to detect old browsers and Trident used to newer ones*/\n",
              "    return ua.indexOf(\"MSIE \") > -1 || ua.indexOf(\"Trident/\") > -1;\n",
              "  }\n",
              "\n",
              "  /* Define the Animation class */\n",
              "  function Animation(frames, img_id, slider_id, interval, loop_select_id){\n",
              "    this.img_id = img_id;\n",
              "    this.slider_id = slider_id;\n",
              "    this.loop_select_id = loop_select_id;\n",
              "    this.interval = interval;\n",
              "    this.current_frame = 0;\n",
              "    this.direction = 0;\n",
              "    this.timer = null;\n",
              "    this.frames = new Array(frames.length);\n",
              "\n",
              "    for (var i=0; i<frames.length; i++)\n",
              "    {\n",
              "     this.frames[i] = new Image();\n",
              "     this.frames[i].src = frames[i];\n",
              "    }\n",
              "    var slider = document.getElementById(this.slider_id);\n",
              "    slider.max = this.frames.length - 1;\n",
              "    if (isInternetExplorer()) {\n",
              "        // switch from oninput to onchange because IE <= 11 does not conform\n",
              "        // with W3C specification. It ignores oninput and onchange behaves\n",
              "        // like oninput. In contrast, Microsoft Edge behaves correctly.\n",
              "        slider.setAttribute('onchange', slider.getAttribute('oninput'));\n",
              "        slider.setAttribute('oninput', null);\n",
              "    }\n",
              "    this.set_frame(this.current_frame);\n",
              "  }\n",
              "\n",
              "  Animation.prototype.get_loop_state = function(){\n",
              "    var button_group = document[this.loop_select_id].state;\n",
              "    for (var i = 0; i < button_group.length; i++) {\n",
              "        var button = button_group[i];\n",
              "        if (button.checked) {\n",
              "            return button.value;\n",
              "        }\n",
              "    }\n",
              "    return undefined;\n",
              "  }\n",
              "\n",
              "  Animation.prototype.set_frame = function(frame){\n",
              "    this.current_frame = frame;\n",
              "    document.getElementById(this.img_id).src =\n",
              "            this.frames[this.current_frame].src;\n",
              "    document.getElementById(this.slider_id).value = this.current_frame;\n",
              "  }\n",
              "\n",
              "  Animation.prototype.next_frame = function()\n",
              "  {\n",
              "    this.set_frame(Math.min(this.frames.length - 1, this.current_frame + 1));\n",
              "  }\n",
              "\n",
              "  Animation.prototype.previous_frame = function()\n",
              "  {\n",
              "    this.set_frame(Math.max(0, this.current_frame - 1));\n",
              "  }\n",
              "\n",
              "  Animation.prototype.first_frame = function()\n",
              "  {\n",
              "    this.set_frame(0);\n",
              "  }\n",
              "\n",
              "  Animation.prototype.last_frame = function()\n",
              "  {\n",
              "    this.set_frame(this.frames.length - 1);\n",
              "  }\n",
              "\n",
              "  Animation.prototype.slower = function()\n",
              "  {\n",
              "    this.interval /= 0.7;\n",
              "    if(this.direction > 0){this.play_animation();}\n",
              "    else if(this.direction < 0){this.reverse_animation();}\n",
              "  }\n",
              "\n",
              "  Animation.prototype.faster = function()\n",
              "  {\n",
              "    this.interval *= 0.7;\n",
              "    if(this.direction > 0){this.play_animation();}\n",
              "    else if(this.direction < 0){this.reverse_animation();}\n",
              "  }\n",
              "\n",
              "  Animation.prototype.anim_step_forward = function()\n",
              "  {\n",
              "    this.current_frame += 1;\n",
              "    if(this.current_frame < this.frames.length){\n",
              "      this.set_frame(this.current_frame);\n",
              "    }else{\n",
              "      var loop_state = this.get_loop_state();\n",
              "      if(loop_state == \"loop\"){\n",
              "        this.first_frame();\n",
              "      }else if(loop_state == \"reflect\"){\n",
              "        this.last_frame();\n",
              "        this.reverse_animation();\n",
              "      }else{\n",
              "        this.pause_animation();\n",
              "        this.last_frame();\n",
              "      }\n",
              "    }\n",
              "  }\n",
              "\n",
              "  Animation.prototype.anim_step_reverse = function()\n",
              "  {\n",
              "    this.current_frame -= 1;\n",
              "    if(this.current_frame >= 0){\n",
              "      this.set_frame(this.current_frame);\n",
              "    }else{\n",
              "      var loop_state = this.get_loop_state();\n",
              "      if(loop_state == \"loop\"){\n",
              "        this.last_frame();\n",
              "      }else if(loop_state == \"reflect\"){\n",
              "        this.first_frame();\n",
              "        this.play_animation();\n",
              "      }else{\n",
              "        this.pause_animation();\n",
              "        this.first_frame();\n",
              "      }\n",
              "    }\n",
              "  }\n",
              "\n",
              "  Animation.prototype.pause_animation = function()\n",
              "  {\n",
              "    this.direction = 0;\n",
              "    if (this.timer){\n",
              "      clearInterval(this.timer);\n",
              "      this.timer = null;\n",
              "    }\n",
              "  }\n",
              "\n",
              "  Animation.prototype.play_animation = function()\n",
              "  {\n",
              "    this.pause_animation();\n",
              "    this.direction = 1;\n",
              "    var t = this;\n",
              "    if (!this.timer) this.timer = setInterval(function() {\n",
              "        t.anim_step_forward();\n",
              "    }, this.interval);\n",
              "  }\n",
              "\n",
              "  Animation.prototype.reverse_animation = function()\n",
              "  {\n",
              "    this.pause_animation();\n",
              "    this.direction = -1;\n",
              "    var t = this;\n",
              "    if (!this.timer) this.timer = setInterval(function() {\n",
              "        t.anim_step_reverse();\n",
              "    }, this.interval);\n",
              "  }\n",
              "</script>\n",
              "\n",
              "<style>\n",
              ".animation {\n",
              "    display: inline-block;\n",
              "    text-align: center;\n",
              "}\n",
              "input[type=range].anim-slider {\n",
              "    width: 374px;\n",
              "    margin-left: auto;\n",
              "    margin-right: auto;\n",
              "}\n",
              ".anim-buttons {\n",
              "    margin: 8px 0px;\n",
              "}\n",
              ".anim-buttons button {\n",
              "    padding: 0;\n",
              "    width: 36px;\n",
              "}\n",
              ".anim-state label {\n",
              "    margin-right: 8px;\n",
              "}\n",
              ".anim-state input {\n",
              "    margin: 0;\n",
              "    vertical-align: middle;\n",
              "}\n",
              "</style>\n",
              "\n",
              "<div class=\"animation\">\n",
              "  <img id=\"_anim_img5a3d3826453c4b378bac1a0d9c9e5351\">\n",
              "  <div class=\"anim-controls\">\n",
              "    <input id=\"_anim_slider5a3d3826453c4b378bac1a0d9c9e5351\" type=\"range\" class=\"anim-slider\"\n",
              "           name=\"points\" min=\"0\" max=\"1\" step=\"1\" value=\"0\"\n",
              "           oninput=\"anim5a3d3826453c4b378bac1a0d9c9e5351.set_frame(parseInt(this.value));\">\n",
              "    <div class=\"anim-buttons\">\n",
              "      <button title=\"Decrease speed\" aria-label=\"Decrease speed\" onclick=\"anim5a3d3826453c4b378bac1a0d9c9e5351.slower()\">\n",
              "          <i class=\"fa fa-minus\"></i></button>\n",
              "      <button title=\"First frame\" aria-label=\"First frame\" onclick=\"anim5a3d3826453c4b378bac1a0d9c9e5351.first_frame()\">\n",
              "        <i class=\"fa fa-fast-backward\"></i></button>\n",
              "      <button title=\"Previous frame\" aria-label=\"Previous frame\" onclick=\"anim5a3d3826453c4b378bac1a0d9c9e5351.previous_frame()\">\n",
              "          <i class=\"fa fa-step-backward\"></i></button>\n",
              "      <button title=\"Play backwards\" aria-label=\"Play backwards\" onclick=\"anim5a3d3826453c4b378bac1a0d9c9e5351.reverse_animation()\">\n",
              "          <i class=\"fa fa-play fa-flip-horizontal\"></i></button>\n",
              "      <button title=\"Pause\" aria-label=\"Pause\" onclick=\"anim5a3d3826453c4b378bac1a0d9c9e5351.pause_animation()\">\n",
              "          <i class=\"fa fa-pause\"></i></button>\n",
              "      <button title=\"Play\" aria-label=\"Play\" onclick=\"anim5a3d3826453c4b378bac1a0d9c9e5351.play_animation()\">\n",
              "          <i class=\"fa fa-play\"></i></button>\n",
              "      <button title=\"Next frame\" aria-label=\"Next frame\" onclick=\"anim5a3d3826453c4b378bac1a0d9c9e5351.next_frame()\">\n",
              "          <i class=\"fa fa-step-forward\"></i></button>\n",
              "      <button title=\"Last frame\" aria-label=\"Last frame\" onclick=\"anim5a3d3826453c4b378bac1a0d9c9e5351.last_frame()\">\n",
              "          <i class=\"fa fa-fast-forward\"></i></button>\n",
              "      <button title=\"Increase speed\" aria-label=\"Increase speed\" onclick=\"anim5a3d3826453c4b378bac1a0d9c9e5351.faster()\">\n",
              "          <i class=\"fa fa-plus\"></i></button>\n",
              "    </div>\n",
              "    <form title=\"Repetition mode\" aria-label=\"Repetition mode\" action=\"#n\" name=\"_anim_loop_select5a3d3826453c4b378bac1a0d9c9e5351\"\n",
              "          class=\"anim-state\">\n",
              "      <input type=\"radio\" name=\"state\" value=\"once\" id=\"_anim_radio1_5a3d3826453c4b378bac1a0d9c9e5351\"\n",
              "             checked>\n",
              "      <label for=\"_anim_radio1_5a3d3826453c4b378bac1a0d9c9e5351\">Once</label>\n",
              "      <input type=\"radio\" name=\"state\" value=\"loop\" id=\"_anim_radio2_5a3d3826453c4b378bac1a0d9c9e5351\"\n",
              "             >\n",
              "      <label for=\"_anim_radio2_5a3d3826453c4b378bac1a0d9c9e5351\">Loop</label>\n",
              "      <input type=\"radio\" name=\"state\" value=\"reflect\" id=\"_anim_radio3_5a3d3826453c4b378bac1a0d9c9e5351\"\n",
              "             >\n",
              "      <label for=\"_anim_radio3_5a3d3826453c4b378bac1a0d9c9e5351\">Reflect</label>\n",
              "    </form>\n",
              "  </div>\n",
              "</div>\n",
              "\n",
              "\n",
              "<script language=\"javascript\">\n",
              "  /* Instantiate the Animation class. */\n",
              "  /* The IDs given should match those used in the template above. */\n",
              "  (function() {\n",
              "    var img_id = \"_anim_img5a3d3826453c4b378bac1a0d9c9e5351\";\n",
              "    var slider_id = \"_anim_slider5a3d3826453c4b378bac1a0d9c9e5351\";\n",
              "    var loop_select_id = \"_anim_loop_select5a3d3826453c4b378bac1a0d9c9e5351\";\n",
              "    var frames = new Array(5);\n",
              "    \n",
              "  frames[0] = \"data:image/png;base64,iVBORw0KGgoAAAANSUhEUgAAAbAAAAEgCAYAAADVKCZpAAAAOXRFWHRTb2Z0d2FyZQBNYXRwbG90\\\n",
              "bGliIHZlcnNpb24zLjcuMSwgaHR0cHM6Ly9tYXRwbG90bGliLm9yZy/bCgiHAAAACXBIWXMAAAsT\\\n",
              "AAALEwEAmpwYAABTb0lEQVR4nO3dd3yV5f3/8Vf2JIMsMoAkhLACBAlDFEhkuCggLvhixdUgWkuh\\\n",
              "RWltC2lVqLNWEY0i0GrhJ0oDBQUZCRshCMgQCJCQScg6Wedkcn5/3Nw354RDSFjJST7Px+P7CNxn\\\n",
              "XYev5c3nuj7XddsYjUYjQgghhJWxbekBCCGEENdDAkwIIYRVkgATQghhlSTAhBBCWCUJMCGEEFZJ\\\n",
              "AkwIIYRVkgATQghhlSTAhBBCWCUJMCGEEFZJAkwIIYRVkgATQghhlSTAhBBCWCUJMCGEEFZJAkwI\\\n",
              "IYRVkgATQghhlSTAhBBCWCUJMCGEEFZJAkwIIYRVkgATQghhlSTAhBBCWCUJMCGEEFZJAkwIIYRV\\\n",
              "kgATQghhlSTAhBBCWCUJMCGEEFZJAkwIIYRVkgATQghhlSTAhBBCWCUJMCGEEFZJAkwIIYRVkgAT\\\n",
              "QghhlSTAhBBCWCUJMCGEEFZJAkwIIYRVsm/pAdwqvr6+hIaGtvQwhBDCqmRkZFBYWNjSw2iSNhtg\\\n",
              "oaGhpKamtvQwhBDCqsTExLT0EJqsVU4h1tfXM2DAAMaNGwdAeno6Q4YMISIigscff5yampoWHqEQ\\\n",
              "QoiW1ioD7P3336dXr17a71955RVmzZrF6dOn8fb2ZsmSJS04OiGEEK1Bqwuw7Oxs1q9fz3PPPQeA\\\n",
              "0Whk69atPPLIIwBMmzaNpKSkFhyhEEKI1qDVBdhvf/tb3nzzTWxtlaEVFRXh5eWFvb2yXBcSEkJO\\\n",
              "Tk5LDlEIIUQr0KoCbN26dfj7+zNw4MDren1iYiIxMTHExMRQUFBwk0cnhBCiNWlVXYi7du1i7dq1\\\n",
              "fPvtt1RVVVFWVsbMmTPR6XTU1dVhb29PdnY2wcHBFl8fHx9PfHw8YF2dNEIIIZqvVVVgCxYsIDs7\\\n",
              "m4yMDFauXMk999zDl19+SVxcHF9//TUAy5cvZ8KECS080jaisgh2va/8FEIIK9OqAuxq/v73v/Pu\\\n",
              "u+8SERFBUVERzz77bEsPqW049AVs+ovyUwghrEyrmkI0FRsbS2xsLADh4eHs27evZQfUFkU/Yf7z\\\n",
              "aiqLlJCLfgLcfJr+mBBC3EJWUYGJW8TNB+6aee3gaaxSu5lVnExpCiGaodVWYKIVaaxSa2oV1xRq\\\n",
              "GIISrEII0QgJsLbuZkzxqZVacx9rrpsZhkKINk+mENs6tarZ90nTp+dMp/JuZFqvua9t6pSmEEIg\\\n",
              "FVjbp1YzNXrz6TlLlZl6rUYP2xZefo/rndaTKUEhxC0kAdbWqVVNZRE4ul4OtH2JSkjV6CHuD8o1\\\n",
              "NXBGvgJj/mo+ldeMTsWiKvDx8TGfEqwsomjbJ/iMnC4VlhDippApxPbiiuk5Y4OfQOQD0H0sRD16\\\n",
              "+bmma1zJCyD5DctTi5fCb/4vh9OvbxSnTp0y+8xTa9+l3+Q/Mf+lqbfrGwsh2jipwNqrwdPB0e1y\\\n",
              "lVRZBN//EdK+h9C7wW/m5esNpxVzD4JvT9jzT+V61CNwJpn5B/1IWPszAHFxcSSvX01k5V5OuQ0l\\\n",
              "7nefk1tuJGHpRugyn/nz59/+7yyEaFMkwNqrht2Dh75Qwqv7WPPpQtNpxZFzIWO78jxDifJ4bSV8\\\n",
              "/0fmf/4dCdsu32g0NzeXuNjhJD5gT/x3RnJ1VdpjCQkJUKNn/quvyCZoIcR1kylEoYh+Qln3mvix\\\n",
              "eZio1wdPh8HxgI1y3Xjpp4MbRTFz+PQn8/+UJjIRfakb41YY0OucmchEs8c//TSRom2fyFFWotUr\\\n",
              "rqzhk21nKK6UO8G3NhJg7VVBGnz5qPITLLewN+xU3JcI53YpjwX1v7Re9gg+PQaTvPcwQYGdACW8\\\n",
              "ZjKT93iPUEJ5j/eYyUwtxIJ8PUnetFFp6DBtFpGTOEQrtCo1iwXfnWBValZLD0U0IAHWXqnrXd//\\\n",
              "8erP2Zd4aQ9ZohIqWXuV6+Gx4NpRef13v4fkBUQG+5D8zjMEdbAhhRQyyCCUUJaylFBCySCDFFII\\\n",
              "CuxE8qaNRJZsUd7XdPpQDhcWrdCjMZ35w/09Gd07QCqxVkYCrL0aNB1cfaHvlEY2LZt0Ku5LhLMp\\\n",
              "0LEb3P+20qnYMVy5tm0hHPqCyNFPkRg/DB06Ekgw+7gEEtChI/HTz4is3Avb/q69TqNOV8pJHOIW\\\n",
              "a8q0oPocgOkju7H5eL5UYq2MNHG0R5VF8P1c0BfC9jegMO3yY6YbjwdPB30xHFkFXe5SrhefgaNf\\\n",
              "K3vKis8q17y6QkEap74bT3ziSbzwYh7zzD5yHvOYxSzi4+OV7sSRrwA22h4xDn2htPELcRuo04Kg\\\n",
              "hJOp4soaVqVmoa+p4/0tp7XnPBrTGVAqMvU5j8Z0pqOb4+0dvNBIBdbeVBZB0vNKaHXsBmGxMOwl\\\n",
              "pR0+8oHLFVBBmvK8tO+VoDq5HroOu/QmRuU50b8EexfQnePUlmXE/fMkueVGYonVpg2f5mltOjGW\\\n",
              "WKU78YGJnAp+RNlA7eZzeerwu99fnrIU4hYa3TuAuB5+jO4dcMVjl8PNhj/c35NRYa4AdHRzZPrI\\\n",
              "bnR0c2RVahavrd53RTUmDR+3l1RgbcW1Du013c+ltssHDVCm8rqPVa6BUlnB5TUyz87g0hEMxRA6\\\n",
              "AkKHo3UiZu+FOgNFeohbrie3XJlyTCIJgBRS0KFjFrOIJVa7npt3nrjYkfx05Kj5iR2VhcqUpOnm\\\n",
              "aiFuEtOqafPxfJJPFtAvJAdXR3utkiqurKGoopq7I3wZGenHX+bNY/7337AtJZnIyEjtvQZ4Gij/\\\n",
              "zyzOuv0KRv5Nu66Gn76mTntf9bpUazefBFhbca1zBxseExX5ABxdpeztinpE2bxcU6k8p6YSvLqA\\\n",
              "szeUZsGw34CDi/I+NQZlA3PGDujUHyoK8QkbwK9ivichWa99XBJJBHWw4YvHuxL//zJJKk8yG86v\\\n",
              "7uuvhBeYH3fl5itrYOKqGk7dNWcqb/nudN7fchp9TR3ThoUBoK+pN5tKXJWaReKOdACO/u8zDq/9\\\n",
              "DLi0MT9ZCbFTp07x0IP3UlqYz5sLXsPF0Y758+dTXFmDvqaOmaO6A2jva/rrhtOV4sZIgLUVjd2K\\\n",
              "pLJICaWRc5W9XG4+SrPGtr8rHYUAwYNgwxwY9CvABvZ/duX7bFsIIYOVX6vt9ADpW5k/wh68epHw\\\n",
              "X+UkjqAONiRPcyWyfwTJzoXErbAlt6gcgHkP9WL+B19eHptp5djYob9y9+d273KFU4+ro90V61SN\\\n",
              "s9F+qtOBxZU1uDrama1vFVVUs/KTdzn8vyXaK3Nzc4mLiyMxMZHnfhXP+bxc7bGEBKVhKTDul7y/\\\n",
              "5TR/uL8nj8Z0Nntf9b1vJlmHkzWwtqOxW5Hs+0QJK3Vqbtf7l889VLsIk6Yra13pKUrIDfoVOHsp\\\n",
              "zzcC6TuVX9deOlGjQ5Dy085J+RkymPkvPcG83/+aIE8HJbyCfaBTNJGTXiV58yaCAjsx7+l7mf/v\\\n",
              "HdfXOi9t9u2e2tIORrN1qqaEw/joIO6O8KWkspr3Np2yuE7V0c0Rp3o9x5P/a3Z9IhPR5+oZN24c\\\n",
              "VXl6CxvzP2VUmKs2FtP1MtNf30yyP00qsLbFtJvv1Lcmlcqlf3nWGi43ZoBy6sa+T5RpQUMJZO6C\\\n",
              "8Yuh6Cwc+hJq9eDbXXl55qWKq/Ck8tPdH+prlE5GgMJTkL2P+X1jeSneCR9ff+Wx1E+h+1giB8fz\\\n",
              "097t+GR9q3Q2quOs0SvTmk2ZNpQbXopLxkcHo/yHabyiArFUmRRX1vDauuPsPF3ITqVgw9XRDjCf\\\n",
              "3iuurMHWpQNz/vkflvzhaQry87SN+ROYQAIJzGMeoYQCylR5p8AgkpOTiegSSEQXGh3HzWRaNbZX\\\n",
              "rSrAqqqqGDFiBNXV1dTV1fHII4+QkJBAeno6kydPpqioiIEDB/Lvf/8bR8f2WTI3Sq1QMnZeDqm7\\\n",
              "ZioVlaOreQOHGgKObsrPPf9U1sa6DIJ/DlDCy94Zut+PVrmpzRwADm5KQDl5Ql0VVOmU64Wn8ek1\\\n",
              "HEYlwJlNkLVP+cxDX+BTU6lUgqc2wLndcGarUgGO+euVlaOl6cKbefdnYZVM299dHe1Y8N0JXB3t\\\n",
              "zaYPTde6Zo3pob0u+WQBQ8K8qam7iKO9HaN7B+Dtqvw9om5SLqqoIXHHWWaOimDn9hTi4uJIyU1h\\\n",
              "AhO0jfnA5Y35QUH8d/1GkvPssPOuYPPxfC2wGmvVvxnUyq49a1VTiE5OTmzdupXDhw9z6NAhNmzY\\\n",
              "wN69e3nllVeYNWsWp0+fxtvbmyVLllz7zdqyqx25pG4EHvuG+YZgNx+l2snaqzRkqOcdao0fNpcb\\\n",
              "O3a9f3nPl28vJdiOfKPs9br/HQiPU9ruf3HpedWlUF+tTDd6dYWybGV9LGs3xP0RHl5iMpbLaxCA\\\n",
              "UsGNnGu5opLpQmGB6akY+pp6Zo6KMDsho7iyhgPnlIOmD5zTadOE6uuGhvtyMKuUH9KLif9XKhmF\\\n",
              "lQCsPZTLgu9OcDyvFIA1h3Kx8w7inX8uanRj/jv/XMTig3oWfHeC19YdN5vSUz+zPVdIt1qrqsBs\\\n",
              "bGxwd3cHoLa2ltraWmxsbNi6dSv/+c9/AJg2bRrz589nxowZLTnUlnW1jkPTCsWvQaXy/R+Vaqcs\\\n",
              "B+76rXLNdEpObexQOxWH/QaOr1EeL7+0YH1kBTyZdLk6sjFpd7/jSeg5HlY/C+4B0HkYfP9nyDkA\\\n",
              "/r2VvV1RjwBGZcrSzkEZT+R9ltftZLqwXbrWtJtadXyy7Qzvb0lj5qju/CXpKLvOFLH9VAExod7s\\\n",
              "PF1ENz83dp4u5HdfHeJP43rz//ZnsfdMIYUVNUzoH0jKqQLOFFQy+6tDZBTp6drRlSfv7IqzvS3Z\\\n",
              "JQYyivTM+WwDW955sdGN+dOnT8d90t+IHdSP7v4d6BfiZTGwpOHi1mhVAQZQX1/PwIEDOX36NC++\\\n",
              "+CLdunXDy8sLe3tlqCEhIeTk5LTwKFvY9fzlPvYNKElXNjAnPa9UYZbet6YSsIHzP4HuHDh7QlWp\\\n",
              "sh9s7BvK89SmkJhfgZ0j+HRX2uzPbFJeozsHO968PI2pdiw6uipTltv+rlRe3e658iQO07U7mS5s\\\n",
              "d5pyQsajMZ21kNDX1LHrjDITsetMEX2CPLk7wocgLxeqautJPlmAvuYIP6QXa++zPa2QUkMdoARi\\\n",
              "/UUj54r1/O9wLiX6WoaEeeNquMDmt39DefEFJjJR25hvugYWSyxJRUmw+s+Ud/mQxDNF/OH+nlpA\\\n",
              "mX4XkFb6W6HVBZidnR2HDh1Cp9Px0EMPceLEiWu/6JLExEQSE5VTHAoKCm7VEFve9fzl7tcdnt54\\\n",
              "uYlj3yfKjSlN18rUho9tCy+Hk1dX2P8pRP+f8h6ANgVog/IcexcllO78jdKWH9APeo1X1r+qdEr4\\\n",
              "9Xno8s0vwXxtS6381LW7jJ1X3tZFtAtXa0worqzhNysOsvN0IfqaemaNidSaLgw19RzOLqV/iCcu\\\n",
              "jnbsPG0+tZ5VrMfD2Z6yKiW0Onu7MKZXABuPn+fHTB0dnJVmjhJ9Ld6uDuw+fo7zS1+irlx5n2tt\\\n",
              "zC8rusC3f3+ewbOXMCi0I59sO6OFrL6mDn1NPeOjgyx+L3FjWl2Aqby8vIiLi2PPnj3odDrq6uqw\\\n",
              "t7cnOzub4OBgi6+Jj48nPj4egJiYmNs5XOvg5qMEQ8MTOcwquUvTgm4dYdzbypFSunPK4b1qpRT1\\\n",
              "iFJNqU0Y9TXKOldNpfL7bvcoa2BVOqWL8fEVSmW16S/K6yIfUIJ07BtKKKqfr56FeKnpQyqw9qWx\\\n",
              "abZVqVnsPK10vB44V8yZAqVhYnTvANIuVPBDejGujna8dE939p4tJKvYQG5pFd6uDuSWKls/Onsr\\\n",
              "m/F/yimjsqZeq8LKq+pxdrAl0r8DP+WUYufigVu/sZTuWqF9fhJJuHv74TdqHhWbFpFUmmQ2Pvf+\\\n",
              "95Jb7cAHW9NIPqn843n6yG64OtpfajSxk8rrFmhVAVZQUICDgwNeXl4YDAY2bdrEK6+8QlxcHF9/\\\n",
              "/TWTJ09m+fLlTJgwoaWHav3UEGq4KTjqUaUyi3pU+f2pb5VACb1b+f2mvyjh5+gKsX9SKrDhLyuB\\\n",
              "FfWoMkVoGojq+7uaTHuatvJPXWVeUaoBqzaUyKbldqOx6UOlmqnnwLlidp4uYt6aY+w8XcjGY0oV\\\n",
              "1dnbRQuOH9KVJo67uvnw14lRrD2UQ0llLcknL5BVYuCubj78bmwP3t10iiBPJzYez6fUUEdhRbX2\\\n",
              "eV1GTyMTtBCzc++I16OvYecdTEzfD9n23kvodcrn9X7wGaJ+8Sxdfdw4V1RJ/PDwKypJqbxujVYV\\\n",
              "YHl5eUybNo36+nouXrzIY489xrhx4+jduzeTJ0/mT3/6EwMGDODZZ59t6aFar2sdOWUaWH4zLa+3\\\n",
              "VRYo04wdw2HKV5erKzXYQAmd6Ccsn7KhrqWpP02pz1OnFa82TtHmNHbae0c3R2aNidSuF1VUs/N0\\\n",
              "IQXlSugEebnwxNCujO4dQG39UXaeLqJPsCebj+czbVgYv/vqEFklBgD6BHtyR1dvvnhuiPLBqw7z\\\n",
              "1YFsvFwuV2v39QkgN+Q3HPRy4eS2JAKmLMDOOxhPF3ti+vWm55vL+WzuUwy69xF8Rz7BD+nF5JdV\\\n",
              "k1Gkx9XRXqsgpdX91mpVAdavXz8OHjx4xfXw8HD27dvXAiNqg67VANLw8YbrbXfNhOQFyq+Lzyrd\\\n",
              "jWpDiHqWovq8q4WlX3el8rqRcYo2x/Qv+0+2nbFYjZkeAeXj7sSg0I58sDWNP43rTTc/d4oraxjY\\\n",
              "1ZuBXTuintax92wRkwYEs+dMIVV1RlwczHcP5eiUYHNysCXUx5WMIj2nCyr5MVPHk8/9lotPPMeW\\\n",
              "s3ryyqrwcHbgX3szAXhw/hf07RZC4vaz2thCvF3407jet/qPSlzSqgLMWtSVlFC6ejWekyZh7+3d\\\n",
              "0sNpHksNIM05jxCUjdE1esj/SamiTA/jNZ1CbE4INRyDdCG2G5bWvixNvTV8nhps7zwWzfLd6agn\\\n",
              "c7y/5TTxw8M5llvKHV28SD5ZQHphJVV1RpztbSiprNX2h61KzeJ3Y3vguDWN7gEdSNx+lm5+btpn\\\n",
              "ni3UM7y7P3mHTtDNz40zBZXcHaFMae88XYSts7JvrGtHV37M1PGH+3vSzc+9Wd9VXD8JsOtQuno1\\\n",
              "F956GwAfa5/OVO8PZtqNaPqYaaiY/v7ev135Xg1DpzkhdK2pTdFmWVr7sjT1drU1slWpWdqBvjNH\\\n",
              "decP9/dkR1oBu84UaY0bg0M7UqKvodRQx7/2nsPbzZGfsnUknyzgD/f3ZOnTgymurCEtv5zkkwV0\\\n",
              "cLYj2MuZ2WMiCfVVAm107wCtcWTtoVx6B3pQVXcRGxuYPaYH+zOKr7nWdatP52hvJMCug+ekSWY/\\\n",
              "rY7pviv1vl9XdCNifjSV2lxxtZC50ZPiZcqw3Wpqo4P6uHryhlrFjO4dwPZTBZcqH+VsxNG9A3ht\\\n",
              "3XH83J3IOpCNs4Mdbo72lBrqCPZyBowknyzg7ghf9DV1FFfW0NHNkXcei2b0uykUV9ZSXlXP/oxi\\\n",
              "7ujqzaMxnbXKSQnMNOJ6+GmNI8O7F2uPqUFnqcqSpo6bSwLsOth7e1t35dXwzMTuYy3vu4p+4vJz\\\n",
              "1HBSr4N5aDUMu+aGmEwZtlvXanQwnXZTT+FQq5hHYzprJ3EA7NpbpJ2N+M5j0fxmhbKmfrawUmvQ\\\n",
              "eLBvkHY/sAPnSnh/y2kOnNMxsKsX04aF8dmTg5j91SFGdPc1uyGlehsXMDJzVHfGRwfRLyQHsNHC\\\n",
              "S11zM22lb853Fc0jAdaemFZeoPwMvfvqVZPpvjFL62NqaNXoAaNyTqLs4RI3WcNpN9MqZlVqlhZe\\\n",
              "3fzcGRHpp3Ux/u6rQ+w8XUhcDz9eukfZhN87sAPPxyoBkppRwq4zRQR0cLp0Sn0hP2WX8qdxvZky\\\n",
              "uIvFNTn1/mPqWpd6WLDpc0b3DmBoeL5UWbeBBFgrd1MbRixNATY8M7GhxiojtRJTT5kf+Qp0i5Np\\\n",
              "QHFTNZx2M61iHo3pzPZTynqXt5uDWRdj8skC4nr48c5j0dpG6N5BHvxmxY/U1l/U9otV1dUD4Gxv\\\n",
              "e+noqZ/4Ib1EO0HjtXXH+dO43lr3Iyh3clanHVUd3RzNphqlSePWkwBr5W5Gw4gWgveOw34MNy9g\\\n",
              "LHUfNjZ1KHdUFtfhatNu6tTiXydGaWtOKtPQU4NFX1PPmkM5ZBTpAbg7woeBXTsyoLMXf1t/nIFd\\\n",
              "vPnqQDaX75pg5LV1xy9NBx7XghDg/S1pFk/XkCaN20sCrAU1pbq6GQ0j5iHYglN70mkobqLGwqJh\\\n",
              "6HV0c8TV0Y6MIj1eLg6M7x/Eb8dEalVSbE9/iitr6ObvbtaEUaKvAZQKTP08tdPR0hShNGncXhJg\\\n",
              "N9G1Aqnh4w2rK0uvvxkNI7e8a7KpwSSdhuImam5YPBrTWWuwCPZ2uWKKzzT0uo10164tfXowAN4x\\\n",
              "l9fDrjY9KE0at5mxjRo4cOBt/8zCzz4zHu/R01j42WfatdriYmPhZ59pP00fN33M9PXn4uMvXyss\\\n",
              "tPxZV7neIioKjcad/1B+CtGKFVVUGz9OOW0sqqhu6aG0Wi3xd+f1kgrsJrJU6ZhWWep193vuoWjJ\\\n",
              "EjwnTTKrrjwnTaJy3z4qt22ndPVqPsjK4tNPPyU5OZlwPz+tOjtbUEBcXBy/+tWvmD9//u37glcj\\\n",
              "LfDCSjRWIckpGdbH9tpPEZbUlZRQtGQJdSUl2jV1uk+d/qsrKeGi3kDHZ57mol45b83n2Wep2LqV\\\n",
              "C2+9Tenq1WbvBRC0cCG+L77Iwq+/JiEhgdzcXOLi4jjw0UdceOttDnz0EXFxceTm5pKQkNA6AkyI\\\n",
              "NkBd41IbNUTrJxXYdbLUHdhwDavo008p/nwp9iHB1GXnYOvqgs+zz15RqZV88SWFixZxUW/A76Vf\\\n",
              "89am73l7wwbts3Jzc5n0wQe8NmAAf/rgA3Lz87XHEhISACTIhLjkeispacCwPhJgzaSGlPs99wCW\\\n",
              "pwsv6vXYurqiP/Cj8prsHNxGjmikicKo/SwqKuLL1FSzRycykZT8FJ7ZsAEvvJjIRO1usACfJiYy\\\n",
              "1dubsCeftL7DhYW4ya63lV0aMKyPBFgzqSFVuW8fQQsXmgWGGlAX9QYuvPU2zgOiAXCOjjZ77uWg\\\n",
              "M2Dr6oLb8OEYjh7FY9w47GxtWf3ii0xatIjcvDwmMpGZzGQCE0gggXnMI5RQQLlLbFBQEKtfeIG6\\\n",
              "xR9T6u5+RceiVZ+cL8R1kEqq/ZAAayaXgQOx7eitNVqYBoa6BlZXUoKtqwt1RUVUHTyE6x0DKPni\\\n",
              "S8CIx7hxXNQb8H3xBS4a9BQuWoTrnXei37OHisFKu67Hv79g9YsvMvHtt0nRpTCBCYQSylKWApBB\\\n",
              "Bimk0MnT83KDR6dOFiu8NnVyvhBNIJVU+yEB1gSmVUzh4sVcLC7BITzsqlOC9t7eeE6aRMkXX+D7\\\n",
              "4otcrDJQuGgRAPofD6LfsweH8DBcBgwAwDE8DPe778Jl4EAK3v8nXlP/D18PDxa//TYPPfccCSRo\\\n",
              "4QWQQAI6dHw5eTqRkZHA1cPJ6k/OF0KIq5AAawLTKiZg7lzyL/1sOCVXV1KiVVoXDVUUf/45Dl27\\\n",
              "4Hb33dpz6svLsfX0pPZsOsaaWgAqdu6ky8cfk79wIfo9e6jNP0/aiZM8n38eL7yYxzyzz5nHPGYx\\\n",
              "i9+tXEn0s8/Se9Cgq47d6k/OF0KIq5A2+ibwnDQJ/zm/x3PSJJzCwujyySc4hYVd8bzS1aspXLSI\\\n",
              "wkUfUfXzzwDUnsukJj0d12F3AlB99CgXS5W7uDr17gV2dtSdyyTzV/E4BIfgeuedlE2dytO5OeTr\\\n",
              "9cQSSyihZJDB0zxNBhmEEkossZwvLWXU2LGcOnXKYlu/EEK0Za2qAsvKyuLJJ58kPz8fGxsb4uPj\\\n",
              "mTlzJsXFxTz++ONkZGQQGhrKV199hfdtakhorAnC9DFQmje8pv4fNenpeD78CDXnznGxtpaLej3e\\\n",
              "v3ySquM/c1Gnw2XQINwGD6J03TqoV07CrsvORvef/2A/43kefPFF8qurAbRuwxRS0KFjFrOIJVa7\\\n",
              "fl6nIy42lpRXXqFu8cdU7NqFc89e2Lq44P3EVGncEEK0Wa0qwOzt7XnnnXe44447KC8vZ+DAgYwZ\\\n",
              "M4Zly5YxatQo5s6dy8KFC1m4cCF///vfb8uYGmuCMN2/BZg1ZNSeP09dbi4AVQUF5Ge+xkWdDofw\\\n",
              "MEL++T723t64DR9O9u9/j72XNy79+2Hv5YXb8OE84u3Nh5eqNLjUbRgYyDs9ovnDzp0k1SWZjeP/\\\n",
              "+kcT9uST5B4/TuW27eh37wHQ9p0JIURb1KoCLDAwkMDAQAA6dOhAr169yMnJYc2aNaSkpAAwbdo0\\\n",
              "YmNjb1uANd4EoezfumjQU3VC2Xfi3Ksn7nffhWP37uS//jrOfftSX1xMh3vvo+C997TGjbqSEgwH\\\n",
              "DuB5770UL/mci2VlBL35d3JfeYUXnJy56OPDR0XKjfoC/fxITkmhq4MD4XPnMnXbNm0z8ws+Prz8\\\n",
              "wP0AuET1xalbN8AGWxcXadwQQrRprSrATGVkZHDw4EGGDBlCfn6+FmydOnUi3+QkilutsSYI7yee\\\n",
              "wNbVlYt6A/rde3AbOQKfX/0Ke29vCj74kNpzmXiO+wXer75KxtSpXNTpKPtmNbWZWdReyKfuXCb2\\\n",
              "XbsAUJuZSeZTT2OsUm57PjOqL7aZ5/gqK4svhw/He+P3nP/xRwIO/8Tql15i4ptvMsnBgd+PHg3Y\\\n",
              "UPLFFxQu+gj/Ob+XqksI0S60yiaOiooKHn74Yf7xj3/g4eFh9piNjQ02NjYWX5eYmEhMTAwxMTEU\\\n",
              "FBTc8DgaNkbUlZSQ/9ZbnHvmGarT07Vw835iKv5zfk/A3LmUrl596flqdWYgd+5cas+mg7Mzjj17\\\n",
              "Yti/n7pzmdi4uCghFhICgLGqCjs/P5yjo3HsHMIby5ax8ZFHCXVwpHDRIqX9vmsXQh0c2frbWfza\\\n",
              "1w9bF9dLLfo2Ssu+Xm+xkUOaPIQQbU2rC7Da2loefvhhpk6dyqRLU2ABAQHk5eUBkJeXh7+/v8XX\\\n",
              "xsfHk5qaSmpqKn5+ftf1+aZ/0avrXyVffEHBBx+QM/t3FC/5HP3uPeQvXGh2CK/Ps89Stm49F956\\\n",
              "m5zZv8Nj3Dj85/weWxdnKrdtx9bLC6qquFhRAYBNhw4YDQZcBg2iy6eJ2Li5AXBRr6fq0CEM+1Mp\\\n",
              "XrqMzqNHUXXokDI4Z2dqz2VS/Pnn+Pr64D/n93R8+ikcwsNwG343tq4uFC766IpDgk2/ixqwEmZC\\\n",
              "CGvXqqYQjUYjzz77LL169WL27Nna9fHjx7N8+XLmzp3L8uXLmTBhwi0bg6Xbn1zUX96I7DJoEDYO\\\n",
              "9gTMnXvFIbxq1aXfs4eydevxe+nXl0LChopdO6k6pMN95Agcg4IoT07BkJoKRiO6VV9rpyE6dO6M\\\n",
              "rZMTVYcPYx8YqJ1mX755C7WZmTh07aJMS17qMMycPp3as+kULl5MwNy5VO7bp53TaOm7eE6aJKdz\\\n",
              "CCHahFYVYLt27eLf//43ffv2JTo6GoA33niDuXPn8thjj7FkyRK6du3KV199dcvGYPoXvenRUEo4\\\n",
              "2TRoTTea/fR+4gkq9+3DsD+Vyn0/4F2iPNfW1YWqQ4dxHXYn9l7KKR0uAweS+/IrXKxSNjyrXAfe\\\n",
              "gb2XN1WHD1OXl0fZ6tX4z/k9nT9RNjoHzJ1rtgfNd8YMajIycAgJQbdqFZXbtlMWFYX3E09wUa/H\\\n",
              "98UXzb5Lw+8ohBDWqlUF2N13343RaLT42JYtW27LGCw1bdh7e+P30ktXPFdt4jANAht7BwAM+1Mp\\\n",
              "+eIL/F56Cfd77qFy3z6cIiIoXLQIw9EjuERFUZuZecV72jo5c9GgxyUmBsfwMFzvGKAFUJdPPtGe\\\n",
              "p04LXtQbqD2Xie7cf3C98051FJc2VStNHQ33gsnpHEKItqBVBZi1UYOgOj2d3LlzcerWTWm06NLl\\\n",
              "UjgpzSYVW7dSuW07LlFRuI0ccenXfen47DMYDv+EU2Qkti7O2Do7A1C46CMADKmpuI0cQcOtyHUl\\\n",
              "JeTM/h36PXvo+Mwz+L74IupBwRVbt5oFqqUqS06oF0K0BRJgzXC1v/jzFy6kctt2atIz8H3xBTzG\\\n",
              "jUP39dfoD/5IdXq62ZSdh07H+Zpa6kqKqUnPwJCaSoe4WK0iqk5PR7duHXXnMnHo0sXiqfelq1ej\\\n",
              "33Nps7KLM95PTKV09WrsvLy0Kc/GAkrWwIQQbYEEWDOoe60u6vVmU4oBc+eSlZVF7dl0bF1dsfPy\\\n",
              "ojw5mdqz6eQvXEiXTz7RgkU9sFcNIIfwMK3pApRqre5cJm4jR+A7YwaFixebPQ5KEF7UG7ho0AM2\\\n",
              "FH32mbIZ+lIzybUCStbAhBBtQatro2/dbMx+qu3odl5ehH75pbYPq+SLL6k9m45DeBi+M2aYtbJX\\\n",
              "btuO65130vGZp3GJiaH2bDpl69Zpn6AeHBwwdy6FixdTuW07FVu3mo3C3tsb7yemUn3mDIWLFmkH\\\n",
              "B6vNJKaHD1uiTn3K9KEQwppJBdYM3k9Mxdb18hFNDSsdW1cXLrz1Nr4vvqAFyNVa2dXTOgypqVwO\\\n",
              "xsvhUrRkCZXbtuM2csRVb1SpPh4wd67Z2pc0aQgh2gMJsGZoGAwNp+IaBpSla6avbxiIpiy9V2OP\\\n",
              "OzUILGnUEEK0dTbGq/WtW7mYmBhSU1Nv+ee01qAoWrKEC2+9LWcjCiGa5Xb93XkzSAV2g1prR580\\\n",
              "aggh2joJsBvUWoNC1sGEEG2ddCFep4YH+baW6cPbeVBvSVUJS48upaRKDgUWQtx+EmDXyfR099bk\\\n",
              "do4r6XQS7x54l6TTSbf8s4QQoiGZQrxOt2vqsLlNIrdzSnNixESzn0IIcTtJgF2n27XG1Nwmkdu5\\\n",
              "9uXt7M3TUU/fls8SQoiGZAqxlbvWqRrXS9avhGgZ+rJS9q/9Bn1ZaUsPxepJgLVyt+rYJ1m/EqJl\\\n",
              "HEvZzPYvl3IsZXNLD8XqyRRiOyXrV0LcXvqyUo6lbCZ84BAA+sSObuERWT+pwNopdf3K2/nmVHaN\\\n",
              "TUnKdKVoLxqbHlQrr7MHfmDQ+Idx9fC8rvcRl0mAiZuisSnJ5kxXStiJ2+1mhkVj04N9YkczYurT\\\n",
              "Taq8ZJqxaWQKUdywkqoSDHUGZvSfYXFKsjnTlWrYAdLhKG4LNSwABo1/uFmvVacF+8SOxtXDUwsn\\\n",
              "SyHl6uHZ5Pdv7H3EZa2uAnvmmWfw9/cnKipKu1ZcXMyYMWPo3r07Y8aMoeQ2nDIhmqakqoRXd77K\\\n",
              "4sOLcbF3wdvZ26yKKioqsjhdWVRUZLHamhgxkdkDZ5uFnVRl4lZqTmXUUMNKSQ0pS9ODzan0Gnsf\\\n",
              "cVmrC7CnnnqKDRs2mF1buHAho0aNIi0tjVGjRrFw4cIWGl3b19SwUJ+34sQKduTsIMwjjNjOscDl\\\n",
              "Kuqp2U/Rr18/Tp06ZfbaU6dO0a9fP56a/dQVU4uWwk46JsWtZCksmho2TQ0/fVkpGz56j+8+/8Ti\\\n",
              "tGBRUdH1Db6da3UBNmLECDp27Gh2bc2aNUybNg2AadOmkZSU1AIjazsaC6mGYXG156rPO3jhIEMD\\\n",
              "h5Jels7MrTNJL01nYsREwn8IZ+3iteTm5jJk+BD2H9lPSVUJC9YtIDY2ltzcXNYuXkv4D+HXnFq0\\\n",
              "VJU19fsI0VSmoXWz16COpWzm43//h/eT9+IYEmr2mPoPuvnz51/XWNuzVhdgluTn5xMYGAhAp06d\\\n",
              "yM/Pb+ERWbfGKpqGYaE+99Wdr2oBoa55DQwYyN68vfTs2JMwjzAtxObPn8/axWu199Rd0DF29FgS\\\n",
              "Pk/gL7/8C3l5edpjaxev5anZTzUaPtfqmJQKTTRVU7oE1TWtEVOfJnzgEPav/YainGyLrzu0YR3b\\\n",
              "v1zKoQ3rrnh/018n7dnPpuNpFJeVc/+4X2izEqdOnSIuLo7c3FwSEhKaHGLS5KGwuiYOGxsbbGxs\\\n",
              "LD6WmJhIYmIiAAUFBbdzWFbFtKmipKqEpNNJTIyYiLeztxYWalUT2zmW3Tm72ZGzg5e2voSLnQuh\\\n",
              "nqGsPLmS/n79AThaeJS/3fU3/rzrz6TlprHlsy3mn8dEUi6k8P6L7+OFF7HEkkSS9vi3K77li//7\\\n",
              "gpfufumGv48QjWmsYcO0cUKdVty/9hu2f7mUrONHSD+Yqr1OX1bKoQ3ryDx+BACjzZXvD7D9y6Uk\\\n",
              "rvh/fLZylXYtLy+PuLg4PvjHezz//AwKiou1xxISEgCuGWTS5KGwigALCAggLy+PwMBA8vLy8Pf3\\\n",
              "t/i8+Ph44uPjAeWuosIyb2dvJkZMJOl0EoY6A4sPL8ZQZ8DF3kULMrWq2X9+P6Geoew9v5fDBYcB\\\n",
              "yK3MBcDeVvnPJzU/lR8v/Mjy+5eTdDqJk5+c5J3n3qFOV8dEJjKTmUxgAgkkMI95hBIKQBJJePh5\\\n",
              "8NtPf4udux0lVSXXtS9NzmQU19KUTcRqF2HDrsLaqipqq6vxCe5CTXUV+rJSDm5cx95vVgAQNiCG\\\n",
              "0H4DWb1wPkMemsydD0+hprqK0H4D8Y3szbpP/2X2OROZSEpuCg8/9jheeDGRiWb/oPv000956aWX\\\n",
              "8PHxsfg99q/5hgvnznDP0zPafZOHVUwhjh8/nuXLlwOwfPlyJkyY0MIjsi6W1ohM29VnD5wNYDYN\\\n",
              "F9s5ljCPMHbk7CCjLAOA/n79GdppKG/c/QazB85m3p3zeKrPUwz0H0hxVTGZZZnsP7+fKcOn8Nd/\\\n",
              "/5XAwEBSSCGDDEIJZSlLCSWUDDJIIQV7L3t+++lvCe0WyuLDi2UKUNwyDTcRA1dMCaqNFurUnBp6\\\n",
              "RhtIXbeaMz/uY+/XKziWshkbo/KaLlHR3PfCLH7470rSD6byw39XYrSBvV+vYMOidyk8dZwP5r1K\\\n",
              "UFAQgPYPuvd4j1BCeY/3mMlMJjIRgKCgIJKTky2Gl/o9UtetJvPIYbb9+7Nb9wdmJVpdBTZlyhRS\\\n",
              "UlIoLCwkJCSEhIQE5s6dy2OPPcaSJUvo2rUrX331VUsP06pY2ltlOu2mtr6rFRhASlYK6WXpDA8e\\\n",
              "zpxBc/gu/TsApvScgrezN108urDixApOFJ/gwIUDHLhwgJUnVlJVX0XtxVr+OPyP7HxxJ9/+6VsS\\\n",
              "SGApl6dVEkhAh46Zr8/kt/f+VrsuU4DiVmk45WZpKvFYymbSD6YSNiBGq8S2f7mUOx+eQtiAGNIP\\\n",
              "ptIlKpqa6ip63jUSB2dn7f08/ALw6hTEkIcmc+7wAQB0+bmEDYjhvqlP0m/UvcTFxZGSm8IEJmj/\\\n",
              "oAO0f9AFBgaSnJxMZGSkNm5L+8z0paVcOHeGkb987vb84bVirS7AVqxYYfH6li1bLF4XlzVcz1JZ\\\n",
              "WiNqOO3WcO2ru1d3wjzCmN5vOl5OXhwtPMqOnB242LsQ2zlW6TgsSwfAy9ELXY2OqvoqAAx1Bp76\\\n",
              "91Psfns3Xngxj3lm45zHPGYxi1Wvr+KF0S8QGRl51SnAq30nIZqj4SZi00CzNL1ouik5fOAQamqq\\\n",
              "qa2qor6+jr1fr8DRydmskjv8/XoATu/bzYWMs/SJHUN5YQEjf/kcrh6ehAC/f3Yas/+24Kr/oHty\\\n",
              "8FB83FzNxt0waF09PBn5y2duzR+SFWp1ASau39VOsWjOGpH6Hl5OXuiqdbyy4xU6u3dm7/m9DO00\\\n",
              "lNyKXJ787kl01Tq8HL2I8I4gNT+V/n79KTIU4enkyb4j+0hfmE6dro5YYrVpQ9M1sFhiScpNYkTs\\\n",
              "CGYmzuT50c9bDKgVJ1Zoa3QvRL9wc/6gRLtnGmhqo0ZtVRUOzs5XPGf/2m848L/Ldzj3DgohfOAQ\\\n",
              "Lfh8QkJx9/HDxgayTx7nfNoJvINCKMnN5uSubejLy9j+3Xre/3Zzo/+gW/Z9Mt3f/Tu/fucD7TFp\\\n",
              "1micBFgb0rDSMq1eAIu/bhgaEyMmsv/8fnbk7AAgpyKHnIochgcPJ8o3isWHFwPgbOeMrkbHoE6D\\\n",
              "GBEyQmsGca9118IL0BanU0hBh45ZzDLrQszPy+cvv/wL7v9zv+4uRCFuhBoONdVVWsfhfS/M0hok\\\n",
              "+sSOpqa6CkNZGed+OkhJbjZHt37PmR/3UZKbjYd/ABVFStezu7cPYQNiGPLQZHJPHkNfWsrmb/4f\\\n",
              "i1P2UmaoZiL3X/0fdIYkXv9yFWOnv6RNIzbn+Kn2SAKsDWlYaZlWZA27DdUOw9fvft0sxLydvXn9\\\n",
              "7tdZcWIFhjoDAC72LkzpOQVdtY6k00nkVeYR4h5CVX0V5yvO08m9E/eH3Q/A2tNr8R7pTcGay9sY\\\n",
              "kkgiMDCQt//xNjNfmElSUZLZuKN/Ec24vuMsfqcpPaeYrc0JcT0ariWZUkNCX1ZK/pk00g+msv6f\\\n",
              "bxLUozcD7h2Hq4cndz06lf1rv0F3PpcufaNJ27+H0vw8vINCcHZzp+yCsje1Y3BnRkx96lKn4Fns\\\n",
              "Onhq4QXX/gfd+fx8YmNjWf7mG9w1/qF232V4LRJgbZhpRbbixAqz67tzlb1dL29/mTdHvAmYV2UN\\\n",
              "p+tKqkp4a/9b5FUqm5BPl54GILsiG1BCzlBnIKcyh26PdQPQQszey54nP3iSNbZrCJoTROabmVQX\\\n",
              "K/+DjvllDFWjqkjJSiHMM8zs89Qxq40jQlwvS00bpqGmPmfkL5+jvq6WzCOHyTxymPwzaVo1prbU\\\n",
              "55z8mdL8PLw6BdLtjsF07tOfte++Rn1tLcU5WRzasI7UdcqUY2D3ntw3bChfbdmmjSWJJDoFBLBu\\\n",
              "yTri4+NJyk0yG+uDI+/mp/99TXl2hlklKK4kAdaGmVZkppWMt7M3A/wHsDdvL3vz9mrV1rJjy0gv\\\n",
              "TafQUMicQXMAeGv/W0zvN50PD33I3ry9DAwYSJcOXdiVuwsbbJQW+upiunt15w87/gCALbYEPBRA\\\n",
              "tH80u1bvInhOMEdsjpBZlkmnrp2Y/9/5vPDIC9w16S4+/PuHpGSlENs5Vts4nZKVolWMoGyUblgp\\\n",
              "CtEcltaSTEOtprqKvV+voKa6iqAevck8chivgCDSD6ay9t0F2AABEZE4ODmRefQQXaKiqa+vI3Xd\\\n",
              "ak6n7qW+thaA8pIisi5tbgYoLSxgsI87hkHR/G//IQA8XJx4a/Zv8K+v4tv/reWBX4wnN1fZWzlv\\\n",
              "3jxenj2LDR+9R/rBVI6lbNaqw6tVkO2ZBFg70XB6cUrPKRy8cJC9eXsBOFF0AoCtmVsprSnlSOER\\\n",
              "3OzdyKnMIbs8W+s4rLtYx9nSs1zQXwCgvLacvXl7ya/MR1ejw9nOmbLaMoYGDqVnfE+y+mfh29GX\\\n",
              "zPJM7bip6o7VnPn5DD4+PtretO/Sv2Px4cXa+tuM/jOY0X8GBy8cZEfODpJOJ8lmZXFTmYaaehSU\\\n",
              "jRGi7xuHo5MzPiGhbFj8Ljk/HwUg++ej9Ikdg4uHJx18/TiWsgkA3flcgntFUV5UQNmFfCoKC3Du\\\n",
              "4EFVeRn6kiLsnZwZGRZMVWUl+zKyeX7kYOwry9j+5VK6REXzzpxZzH7zXeLj47UTOO57YRYHN66j\\\n",
              "tqrK7GxGaP4tX9oyCbB2SG3u+OOQP2rVj6HOADbwcMTD/GX3X9BV69BV6wh2C2ZI4BAqaiooqCrg\\\n",
              "cMFh3B3cAfB38aebVzeifKMI9wjnjX1vcGfgnXyb8S219bUcLTyKvbs9uhodQwOHap9n2jyirtOp\\\n",
              "gWWoM9DNS5mCnNJzClN6TjFrPhHielgKANMGiej7xpnt6wI48O1qDGWlOLm54xXQCXsnZ7KO/4Sh\\\n",
              "rJScE0cZ+sgUDGVl5Kefoa66CuPFiwAE94rCt3NXCrPOAUZyfj6Gh38AD4/04+7uObg5OeLbpSuO\\\n",
              "Ls7a8VRL/vYX7n/2eYpystn2788Y+cvncHRyNjuWaugjU8za/qUas5KTOMTNpYZGSlYKT0c9TUpW\\\n",
              "CsuOLaNnx568f/B9DPUGnGydACirKWPlyZXo6/QAONk6UVFbAYCfix/Lji3Dxd6FtWfXUlJdQnF1\\\n",
              "McODh3PgwgFS81Pp0qELAAP8BxDmGXbFobzq4cHqFOeyY8s4UXyCxYcXMytlFitOrLjmHjA5jV5c\\\n",
              "S/jAIYQNiNH2ejVGDTv/rt3w6hRIdWUFTm7u5Px8FBf3Djh36EDctOe569GpePr5cz7tBPlnT1Ne\\\n",
              "WIC7rx+VxcXavrCLdfUEdu9JWHQMnv7+uDk5AlCUdQ6f4C4Edu8JQFlWBvqyUrYu/Zj0g6lsXfqx\\\n",
              "dqCw0Qb2fKPsPXP18JSDfE1IBdbGWdoI3LDdXv25O3e31pRRfbEabydvSqqVUAj1DEVfq+flQS+z\\\n",
              "4IcFZFZkYm9nz/Dg4dzhfwfFVcUY6gwEugaSVZHFQ90eIk+fx7Te0/jPif9oXYqNjU0dR3FVMXvz\\\n",
              "9nIg/wAH8g/gYu/S6PSh3MVZqK5WnZw98INW7VhqjDCt0MIHDiHr+BEiBg/jwrkz6M7nUV9bR5e+\\\n",
              "/ck8opwHWpSdQaeICEoLLtDB14/62lr0pTpsUE7gcHb30KYeAfLSlCn64F5RVBYXk/3zUbJ/PkqX\\\n",
              "vsqB2Nk/H+XgxnX4dw0n88ghLtYp21D6xI7m4MZ1xIybpJ3DKHvDLpMAa+Ms/eV+tVM4YjvH8udd\\\n",
              "fya/Mp/YzrGMCx/HP378B0ajkXnD5mldgh92+JA3fniD8upyduTsQF+r58CFAwwPHs5/z/wXgAv6\\\n",
              "C2SWZ5JVnkVORQ5RvlFXTAe+uvNVbb+Zeriw+pja1diUFno5jV6orrZW1Cd2tHaivNoYYco0FNQj\\\n",
              "pQAyjxzGOyiEnBNHGfiLSdRUVaPXlRDUow/HUjZrlZZnQCCU6nDz9sHDN4CL9XXkpZXh5OaOnYMD\\\n",
              "el0JHv4BdOndlz3frFA6GAfdSfdBwyi9cIHS/DxsjDBowsMU5WRq4wTlXEX1KCv1BBBZB1NIgLVx\\\n",
              "jf3lrlZAauffxIiJjOoyincPvEuQexBdPLowImQEsZ1jtbMQ7w+7n5SsFAb4D9C6BG1sbLT1q2D3\\\n",
              "YDLKMgj1CCXzZCY5FTnaZ5kGFsCOnB0MDx6uhZdp0Dbn1A05jV6orladuHp4ct8Ls8za5htWa2oo\\\n",
              "mB4h1Sm8O7XV1XDHYM6fPsX5S5XU7lVfEBzZiz6xY8g5cYy4adM59P3/tLMU0w+maqdxdOreE72u\\\n",
              "hLDoGKLvG8f5s8peM0dHJ37470ptP1mPu0ZaHKc6ls69+2r3J5P1L4UEWBtn+pd7wyk7NTR25+xm\\\n",
              "7/m9GOoMTOk5BUOdAUOdQTvGyfRkjg3pG0gvS2do4FAm95hMRlkGv47+NZ/89Ak7cnYwe+BsXh36\\\n",
              "Kuml6WSUZWCoM3C44DC7c3eTWZ6pBZaq4fShVFHiRjR2ckXDxw5uXKe1zg+4d5zFMHNwdmbPN0oF\\\n",
              "lH1pStDZvQMdfPzY880KuvTtj+58LkWX9mwdS9lMUI8+AGancZxPO4GDoxPHUjYz5KHJAOjLy0g/\\\n",
              "mIpXQBAludmcPfADPsEhZp+vnpbv0qGD2f3JQLoRQQKsXWlY5ZitOZ3fy8ELB7VmincPvMvQTkOZ\\\n",
              "0X8G94fdT5RvlNZ2H+YRxt68vQwLGsarQ19l6dGlWjWl7ucy1BnYm7eXGf1n4OHooT1uup9LrbxM\\\n",
              "K0DZ6yVuJdOqS70lio2x8alHUCogn+Au2gkc5ZeOjvLv2o3QfneYBd+uVV+SfjCVgG7duevRqejL\\\n",
              "SrF3diL35HEyjxy+fLL9pfWviEFDcfX0tLim1XBcsv5lTgKsHVEDSw2ZiRETtRPoz+jOaPutTM9D\\\n",
              "HBY8jDDPMF6IfsHilGNJVQmGOgMz+s/Q1rhM2+IB5gyaw6BOg64IKNObZqoVnkwFilvJNBAstc5f\\\n",
              "LRhcOnTA1dOT0vw8wgbEED32F5QXFRIxeBjBPZROQvVGl1lHlY3MakC6enji6OSshZdagQ15aLJZ\\\n",
              "+KnvoZ6Mf/bAD1fcgFPORjQnAdaOqNOJS48uNavE1PMPTacXTX/f8PWA1tCx9OhSFh9ezOyBs6+Y\\\n",
              "ClQD6mpdhOpz7/C/A1CCVYhbybSCaRgGloLBNPBM7868ZelHlF3IZ8Oid5ny2ltae/very/fpTn6\\\n",
              "vsvne6qvNdrAucMHSD+YSufefa/4TPXz1IaTq41LKCTA2qHm3B+sue9l+rrYzrHsP7/fYjCZrscl\\\n",
              "nU5iR84OBnUaZHYeohA3W3MrmIaBp66JqXT5uVpXo3pqfV1VNfbOThjKy83W1RyclY3JQx+Zwoip\\\n",
              "T1tsJjGdsuzcu69MFV6DBFgbZ2kf2M3o2jN936u913fp37EjZwdRvlFXdBWarsdJA4dorSzdCFMN\\\n",
              "KaONMk2oHvdkemr99i+Xaifbw5XrV6YdhA3XudTP8wkOuV1f02pJgLVxt2qT742+r2loNSVQ5c7M\\\n",
              "orVwdHLWbrOihtX5s+an1sOVVZTpbVtMW+GlMeP6SYC1cY3d5PJaxzM19jxLVVPD1zR2L6/mVoFy\\\n",
              "2kb71lrO/7PUFdhwg7Rp1Wapimr4Hg2rvNbyXa2B1QTYhg0bmDlzJvX19Tz33HPMnTu3pYdkFRq7\\\n",
              "yeWNHM9kKYDUfWOGOgMvRL9wUzcYyzRj+3Y7T2PXl5VyaMM6jDZolZaqYbV0tY3HjblWxSUnzzed\\\n",
              "VQRYfX09L774Ips2bSIkJIRBgwYxfvx4evfu3dJDszpNDYLWFhhy2kb7djun2Y6lbNYaNdSjm1SW\\\n",
              "mkCa2xhyrefLlGLTWUWA7du3j4iICMLDwwGYPHkya9askQC7Dk0NgusJjMamDIW4Ebdz/5Npy3tL\\\n",
              "hIjs9Wo6qwiwnJwcOnfurP0+JCSEH374oQVHJCyRKkm0Ba4engx7bGpLD0M0gVUEWFMlJiaSmJgI\\\n",
              "QEFBQQuPRgghxK1kFTe0DA4OJisrS/t9dnY2wcHBVzwvPj6e1NRUUlNT8fPzu51DFEIIcZtZRYAN\\\n",
              "GjSItLQ00tPTqampYeXKlYwfP76lhyWEEKIFWcUUor29PR9++CH33nsv9fX1PPPMM/Tp06elhyWE\\\n",
              "EKIFWUWAATzwwAM88MADLT0MIYQQrYRVTCEKIYQQDUmACSGEsEoSYEIIIaySBJgQQgirJAEmhBDC\\\n",
              "KkmACSGEsEoSYEIIIaySBJgQQgirJAEmhBDCKkmACSGEsEoSYEIIIaySBJgQQgirJAEmhBDCKkmA\\\n",
              "CSGEsEoSYEIIIaySBJgQQgirJAEmhBDCKkmACSGEsEoSYEIIIaySBJgQQgir1GoCbNWqVfTp0wdb\\\n",
              "W1tSU1PNHluwYAERERH06NGDjRs3ttAIhRBCtCb2LT0AVVRUFKtXr2b69Olm148fP87KlSs5duwY\\\n",
              "ubm5jB49mlOnTmFnZ9dCIxVCCNEatJoKrFevXvTo0eOK62vWrGHy5Mk4OTkRFhZGREQE+/bta4ER\\\n",
              "CiGEaE1aTYBdTU5ODp07d9Z+HxISQk5OTguOSAghRGtwW6cQR48ezfnz56+4/vrrrzNhwoQbfv/E\\\n",
              "xEQSExMBKCgouOH3E0II0Xrd1gDbvHlzs18THBxMVlaW9vvs7GyCg4MtPjc+Pp74+HgAYmJirm+Q\\\n",
              "QgghrEKrn0IcP348K1eupLq6mvT0dNLS0hg8eHBLD0sIIUQLazUB9t///peQkBD27NnDgw8+yL33\\\n",
              "3gtAnz59eOyxx+jduzf33XcfixYtkg5EIYQQ2BiNRmNLD+JWiImJuWI/mRBCiMZZ09+draYCE0II\\\n",
              "IZpDAkwIIYRVkgATQghhlSTAhBBCWCUJMCGEEFZJAkwIIYRVkgATQghhlSTAhBBCWCUJMCGEEFZJ\\\n",
              "AkwIIYRVkgATQghhlSTAhBBCWCUJMCGEEFZJAkwIIYRVkgATQghhlSTAhBBCWCUJMCGEEFZJAkwI\\\n",
              "IYRVkgATQohbwFBRw4/fn8NQUdPSQ2mzWk2AzZkzh549e9KvXz8eeughdDqd9tiCBQuIiIigR48e\\\n",
              "bNy4seUGKYQQTfTz7jz2rD7Dz7vzWnoobVarCbAxY8Zw9OhRfvrpJyIjI1mwYAEAx48fZ+XKlRw7\\\n",
              "dowNGzbwwgsvUF9f38KjFUKIxvUaFsidk7rRa1jgNZ8r1dr1aTUBNnbsWOzt7QEYOnQo2dnZAKxZ\\\n",
              "s4bJkyfj5OREWFgYERER7Nu3ryWHKoQQ1+Ti7sgdY7vi4u54zedKtXZ97Ft6AJZ8/vnnPP744wDk\\\n",
              "5OQwdOhQ7bGQkBBycnJaamhCCHHTqVVaU6o1cdltDbDRo0dz/vz5K66//vrrTJgwQfu1vb09U6dO\\\n",
              "bfb7JyYmkpiYCEBBQcGNDVYIIW4TtVoTzXNbA2zz5s2NPr5s2TLWrVvHli1bsLGxASA4OJisrCzt\\\n",
              "OdnZ2QQHB1t8fXx8PPHx8QDExMTcpFELIdozQ0UNP+/Oo9ewwCZNB94OrXFMLaHVrIFt2LCBN998\\\n",
              "k7Vr1+Lq6qpdHz9+PCtXrqS6upr09HTS0tIYPHhwC45UCNGeqOtTR5Kzr9pocbUmDPV6SX5ls5o0\\\n",
              "rtXUIWtmilazBvbrX/+a6upqxowZAyiNHB9//DF9+vThscceo3fv3tjb27No0SLs7OxaeLRCiLai\\\n",
              "YTXT8PfqupShvIb96zOoq65n8C/CzV5bV13P/vUZAGZTgWrQ5JwqIfNosfZ4UVERPj4+V4wl+1we\\\n",
              "F07WUFtdT6qF91PJmpmi1QTY6dOnr/rYq6++yquvvnobRyOEaC/UkAElLBr+Xl2f+uF/ZwHIPaOj\\\n",
              "JL+S9MOFWtDEPBhqsWW+17BADOU15J0ppVOEB2H9fZk/fz6ffvopycnJREZGas89deoUdw8bQUzo\\\n",
              "vbz6hz/RJaojYf19LY5Z1swUrSbAhBDidjNU1FBXXU/Mg6FXVDUNw6hfXAgXzpWRebSYnavSyDxa\\\n",
              "TPSYznSJ6kjk4AC8A9yueH8Xd0eK8yrJP1sGwNzfv0riF+8DEBcXp4XYqVOniIuLo6Aon++K/kXQ\\\n",
              "114M8JzATtIY/VTvdr3O1ZhWswYmhBC328+789i/PgMHJzstJBru31LXowBGP9WbQQ+G4h3oxqAH\\\n",
              "Q3FwtCPzaDHphwuv+hkxD4Ti6efC/oLVWngB5ObmEhcXx/r164mLiyM3N1d7bMnKf7Ij4/+RebSY\\\n",
              "n5KzMVTUsO9/Z/nhf2dls7MJCTAhRLulnpYR1t/3qk0Tpg0Taqgd3qR0RncfHNDoVB9A3ulScrLO\\\n",
              "8+22r82uT2Qi+lw948aNQ5+rZyITzR7fun8NFVWl2HA5aFPXZ7T7xg1TMoUohGi31Grrx+/Pac0W\\\n",
              "6pSd2qChhpM6pWi89NrsUyXkntGRc0JnNtVnuQnkDu6J38B9D4yluLSAiUxkJjOZwAQSSGAe8wgl\\\n",
              "FIAkkggKCuK7dRupK+igfW5ddT1GpHHDlASYEMLq3ei+qF7DArVOQfV9Ni87rnUO9hoWqF3v0qcj\\\n",
              "R1KyyUsrBcDZzZ7Mo8V8vTCVsAF+gFKh1VbX0y8uRHvdz7vhxfveYtGGOaSUpjCBCYQSylKWApBB\\\n",
              "BimkEBQUZNbgoX63vnEhZt9N9oJJgAkh2oCGnYONMf2LX31tr2GBjH6qt0nY5JF5tJguUR3pNSyQ\\\n",
              "AxvPcXhTFvryGgqzyqmurAOgg48z5UVVAJQVVnF4Uxaefi4A2tTfntVnqK1WDiAfN3U4XpEL+N3f\\\n",
              "niOBBC28ABJIQIeO+c+/S+egUG2spkFq+t1+Ss4mdX0GtdX1DLnU1t/eSIAJIaxec/ZFmYYdYBZ8\\\n",
              "akA0fL+MQ0qTRlFWBd4BbuSc0AHQJaojpfkG3Do6Ul5QxUWjkfOnywjp6Y2+oobCnyvoFOFBVUUN\\\n",
              "R7fl4h9t5O3P/oIXXsxjntm45jGPWcxi3sI5ONV2ZNrL92tB6hXgok1lanvPapRQtLmuP7G2QZo4\\\n",
              "hBBWrzknv5ve5uRqtzwxfb8jydmUFhjw8HXGM8CFopwKAIJ7euHq7kj2iRI6dnLnod8N5IHn+zHo\\\n",
              "wVCMGDm2LZf8s2WcP11GUU4l+bosnn9lCnl5ucQSSyihZJDB0zxNBhmEEkossZTqi5j7zrMsf/M7\\\n",
              "wvr70iWqI7p8AztXpWnhtWf1GYwoAdp9cMCt+CO1ClKBCSHaFTWcGk4l/vj9uSvWkwwVNWQeL1Je\\\n",
              "18GBY9uUVvfACE9ssME/zIMuUR0JjPDkx+/PEdbfl+yTJeSdLsWvqxsOjvb4hXpQXFTIP//3O0r1\\\n",
              "ynslkQRACino0DGLWcQSq11XQyyy32ZGP9Vbm0ZUm0pyTpVgA2QeLSataz72Tnbtci1MAkwI0S6Z\\\n",
              "HvPk39XD4tFNPyVnk59eDoCdvS0xD4ZSV1NP+qFCSgsMFGaXU1WhrIdlHi3m2I4cygqUNTF7R3uC\\\n",
              "I70xAp4dOjKs14N8d+Bf2nsnkYSnqw9/+r/3WbL+7yTlJZmN7/6Rj9DrjlB+3p3H3Y92Jz2y0Gx9\\\n",
              "zr+rB3dO6kZtdX2T1//aGgkwIUS7ZNp5GHApDLRzDxusM3XwdcY/1EPrKiwtMGDvaEtVRR1eAS7E\\\n",
              "PBAKoDVbuHd0AiPa+YidIjx4MGYadvY2rPthOQAdPfx48f63iO4RxYYXNjJ69GgKivMBmHz/dO7u\\\n",
              "8hg/rD1LzgmdWaOG6fqc2rbvcKkCa29sjEaj8dpPsz4xMTGkpqa29DCEEK3Y1Q7y1ZfXcHhTFv3H\\\n",
              "dMbB0Y6cUyXkpZUS0tObEVMi2b7iFNknSnB2s6eqso5BD4ZSU1PP2R8LKC+q0roTA8I9sHe0pUNH\\\n",
              "Z07sPk/PYQF8tvIDNv/wX2aMeZMAr84AeAW4UOdWzMyEaYy98yFmzngZB0c7DJeaP4K6e3Lf9L5N\\\n",
              "miK80fZ6a/q7U5o4hBDtVsPmD3VaUe06dHS0w8HJTtvzlX2ihJ2r0vDp7A5AVaVSgRkqlMBTwstJ\\\n",
              "a623d7Ql54SO3DQdABXFNdzd5TH+889veXDqcKJGBuHsZo8u34BtuTd/ePRTxg15mkObsjBeGh9A\\\n",
              "blopPyVnW/wODW+90p5utSIBJoRo10wDoNewQKU1vsBAl6iO9I0LIay/Lx5+zgB4+DqTebSYgowy\\\n",
              "+o/pTEhPb3T5BopyKwEICPdAbWz39HNh5JQeBPf0oqygCg8/Z/qPVl7j6qxMR3bwcdFCcPjjkYR0\\\n",
              "7aSFnw3QNy6EkJ7e2u8taRhYV+usbItkDUwI0a413AStbmgO6+/LkeRscs/oKCuooktUR7wD3Ti8\\\n",
              "KYvctFKCIr3xvVSJeQW4XKrSjJQXVeHkas/dj3fn2M5cSi8YACgrqOJISjbZJ0rIPlGCSwdHs/Ws\\\n",
              "n3fnocs34OHnTHi0n3byxtjn+ph1SzbUcM9ae7rVigSYEKJdu9om6LR9+VoTRkhPb/y7ehA5OIC6\\\n",
              "mnoyDhdyeEsmtVUXAQjs5smdk7qR8ZMy9Vitr+NISrbW1AFK9RbzQCj+XT2wAcL6+5oFk768hg4+\\\n",
              "zpQVVGHveOXp+FfTngKrIQkwIUS71jAA1COaOkV4EDUymJL8SjwDXEhdn0HeGR022FCpu3xqvYef\\\n",
              "s1YthfX3JfmLE2BUbqPSwceZ0/svUK2vo6ywitRvM7RDf9UDhFXqCffQvk/XaA4JMCGEMKGGx/nT\\\n",
              "ZdjZK00YxnqlWTvnhI5OER74dXVHX1qNe0dnRk3rDcAP/zuLDRAc6U3q+gwyjxVTXlRFtb6O4J5e\\\n",
              "2GCjbUa+Y2zXKyq/2up66mrqcXC0o29cyBXjksN7ryQBJoQQJtTwMAJ1NfXknNDhH+pBcKS3dvuU\\\n",
              "Oyd1MzvNo7a6XtsIHdTdk5gHQ7WTMrwCXBgyPpysY8V06uZptlZlesr9tQ7kNd14LXdpVrSaAPvz\\\n",
              "n//MmjVrsLW1xd/fn2XLlhEUFITRaGTmzJl8++23uLq6smzZMu64446WHq4Qoo1ycXdk8KUwMVTU\\\n",
              "aM0W6j6xn5KzqauupyS/kp2r0sg8WsygB0MJ7ul1qWW+lK59fek1LJC8M6Vknyhh39p0sk+UcOek\\\n",
              "bmbvc/7S43DtUzQa3vKlva57mWo1bfRz5szhp59+4tChQ4wbN46//vWvAHz33XekpaWRlpZGYmIi\\\n",
              "M2bMaOGRCiGsScN9Us3RcJ+Yi7sjDk527F+foYVXSE/luKiRU3oQ82Aogx4M1QKvUzdPAHw6u5u1\\\n",
              "tv+8O4/U9RlknyjRbtnSlLGMfqp3u2mRb4pWU4F5eHhov66srMTGRpmJXrNmDU8++SQ2NjYMHToU\\\n",
              "nU5HXl4egYHy/0AhxLU1515hTaGGR1h/X9IjC6mrrmf/+gwcnOzMpgENFTXYADEPhtKvwc0oew0L\\\n",
              "xFBeQ2FWBXc/2r3J04HtuePQklYTYACvvvoq//rXv/D09CQ5ORmAnJwcOnfurD0nJCSEnJwcCTAh\\\n",
              "RJM0515hTWEaIt5j3TBU1GinwZv6eXce+9dnaNOGDRXnVZJ9ooT0w4V4j3Wz+FnSuNG42zqFOHr0\\\n",
              "aKKioq74vzVr1gDw+uuvk5WVxdSpU/nwww+b/f6JiYnExMQQExNDQUHBzR6+EMIKNedeYTfz/Rs7\\\n",
              "EeNIcrY2/Wj6eHs+Fup63NYKbPPmzU163tSpU3nggQdISEggODiYrKzL+yOys7MJDg62+Lr4+Hji\\\n",
              "4+MB5UBKIYRoiltR6Via7lM/p+bSKfedunmafV7D6c6bXT22Na2miSMtLU379Zo1a+jZsycA48eP\\\n",
              "51//+hdGo5G9e/fi6ekp04dCiJuqKZXOjTSDNPwcR0c77pzUjX4N9ns1rNpudfVo7VrNGtjcuXM5\\\n",
              "efIktra2dO3alY8//hiABx54gG+//ZaIiAhcXV1ZunRpC49UCNHWNKXSuRnNIA3v5dWQNGk0j9wP\\\n",
              "TAghmqC9NFRY09+draYCE0KI1kyqo9an1ayBCSGEEM0hASaEEMIqSYAJIYSwShJgQgghrJIEmBBC\\\n",
              "CKskASaEEMIqSYAJIYSwSm12I7Ovry+hoaG37fMKCgrw8/O7bZ93K8l3ab3a0veR79I6ZWRkUFhY\\\n",
              "2NLDaJI2G2C3mzXtXr8W+S6tV1v6PvJdxI2SKUQhhBBWSQJMCCGEVZIAu0nU+5C1BfJdWq+29H3k\\\n",
              "u4gbJWtgQgghrJJUYEIIIaySBNgNmDNnDj179qRfv3489NBD6HQ67bEFCxYQERFBjx492LhxY8sN\\\n",
              "shlWrVpFnz59sLW1vaKjyhq/z4YNG+jRowcREREsXLiwpYfTLM888wz+/v5ERUVp14qLixkzZgzd\\\n",
              "u3dnzJgxlJSUtOAImy4rK4u4uDh69+5Nnz59eP/99wHr/T5VVVUMHjyY/v3706dPH+bNmwdAeno6\\\n",
              "Q4YMISIigscff5yamuu/c7NoIqO4bhs3bjTW1tYajUaj8eWXXza+/PLLRqPRaDx27JixX79+xqqq\\\n",
              "KuPZs2eN4eHhxrq6upYcapMcP37ceOLECePIkSON+/fv165b4/epq6szhoeHG8+cOWOsrq429uvX\\\n",
              "z3js2LGWHlaTbdu2zXjgwAFjnz59tGtz5swxLliwwGg0Go0LFizQ/ntr7XJzc40HDhwwGo1GY1lZ\\\n",
              "mbF79+7GY8eOWe33uXjxorG8vNxoNBqNNTU1xsGDBxv37NljfPTRR40rVqwwGo1G4/Tp040fffRR\\\n",
              "Sw6zXZAK7AaMHTsWe3vlnqBDhw4lOzsbgDVr1jB58mScnJwICwsjIiKCffv2teRQm6RXr1706NHj\\\n",
              "iuvW+H327dtHREQE4eHhODo6MnnyZNasWdPSw2qyESNG0LFjR7Nra9asYdq0aQBMmzaNpKSkFhhZ\\\n",
              "8wUGBnLHHXcA0KFDB3r16kVOTo7Vfh8bGxvc3d0BqK2tpba2FhsbG7Zu3cojjzwCWNf3sWYSYDfJ\\\n",
              "559/zv333w9ATk4OnTt31h4LCQkhJyenpYZ2w6zx+1jjmK8lPz+fwMBAADp16kR+fn4Lj6j5MjIy\\\n",
              "OHjwIEOGDLHq71NfX090dDT+/v6MGTOGbt264eXlpf2Dti3892YN7Ft6AK3d6NGjOX/+/BXXX3/9\\\n",
              "dSZMmKD92t7enqlTp97u4TVbU76PaP1sbGywsbFp6WE0S0VFBQ8//DD/+Mc/8PDwMHvM2r6PnZ0d\\\n",
              "hw4dQqfT8dBDD3HixImWHlK7JAF2DZs3b2708WXLlrFu3Tq2bNmi/Q8wODiYrKws7TnZ2dkEBwff\\\n",
              "0nE21bW+jyWt+ftcjTWO+VoCAgLIy8sjMDCQvLw8/P39W3pITVZbW8vDDz/M1KlTmTRpEmDd30fl\\\n",
              "5eVFXFwce/bsQafTUVdXh729fZv4780ayBTiDdiwYQNvvvkma9euxdXVVbs+fvx4Vq5cSXV1Nenp\\\n",
              "6aSlpTF48OAWHOmNscbvM2jQINLS0khPT6empoaVK1cyfvz4lh7WDRk/fjzLly8HYPny5VZTMRuN\\\n",
              "Rp599ll69erF7NmztevW+n0KCgq0jmODwcCmTZvo1asXcXFxfP3114B1fR+r1tJdJNasW7duxpCQ\\\n",
              "EGP//v2N/fv3N06fPl177LXXXjOGh4cbIyMjjd9++20LjrLpVq9ebQwODjY6Ojoa/f39jWPHjtUe\\\n",
              "s8bvs379emP37t2N4eHhxtdee62lh9MskydPNnbq1Mlob29vDA4ONn722WfGwsJC4z333GOMiIgw\\\n",
              "jho1ylhUVNTSw2ySHTt2GAFj3759tf+trF+/3mq/z+HDh43R0dHGvn37Gvv06WNMSEgwGo1G45kz\\\n",
              "Z4yDBg0yduvWzfjII48Yq6qqWnikbZ+cxCGEEMIqyRSiEEIIqyQBJoQQwipJgAkhhLBKEmBCCCGs\\\n",
              "kgSYEEIIqyQBJoQQwipJgAkhhLBKEmBCCCGskgSYEEIIqyQBJoQQwipJgAkhhLBKEmBCCCGskgSY\\\n",
              "EEIIqyQBJoQQwipJgAkhhLBKEmBCCCGskgSYEEIIqyQBJoQQwipJgAkhhLBKEmBCCCGs0v8HuVN4\\\n",
              "ZSD5FvUAAAAASUVORK5CYII=\\\n",
              "\"\n",
              "  frames[1] = \"data:image/png;base64,iVBORw0KGgoAAAANSUhEUgAAAbAAAAEgCAYAAADVKCZpAAAAOXRFWHRTb2Z0d2FyZQBNYXRwbG90\\\n",
              "bGliIHZlcnNpb24zLjcuMSwgaHR0cHM6Ly9tYXRwbG90bGliLm9yZy/bCgiHAAAACXBIWXMAAAsT\\\n",
              "AAALEwEAmpwYAAAkjElEQVR4nO3dfXxU5Z338c/IECQgBsJTJqEmIQxCMKAGUGs1U4hW5YYoinjT\\\n",
              "u4iUsatuWeytsrvdJtnVwrrbontXWwcVae0LXmoxWGhhRRLrAxpDBSoUJmKyJpmQhiFBIYQ8cO4/\\\n",
              "4gwZEyCEJGfOzPf9TzLXOWfyO7yY+c51netcYzMMw0BERMRiLjK7ABERke5QgImIiCUpwERExJIU\\\n",
              "YCIiYkkKMBERsSQFmIiIWJICTERELEkBJiIilqQAExERS1KAiYiIJSnARETEkhRgIiJiSQowERGx\\\n",
              "JAWYiIhYkgJMREQsSQEmIiKWpAATERFLUoCJiIglKcBERMSSFGAiImJJCjAREbEkBZiIiFiSAkxE\\\n",
              "RCxJASYiIpakABMREUtSgImIiCUpwERExJIUYCIiYkkKMBERsSQFmIiIWJICTERELEkBJiIilqQA\\\n",
              "ExERS1KAiYiIJdnNLqC3DB8+nOTkZLPLEBGxlPLycg4fPmx2GV0SsQGWnJxMSUmJ2WWIiFhKZmam\\\n",
              "2SV0mYYQRUTEkhRg0mV+v/+82kVEepMCTLokLy+PjIwMvF5vSLvX6yUjI4O8vDxzChORqKUAk3PK\\\n",
              "y8sjPz8fn8+Hy+UKhpjX68XlcuHz+cjPz1eIiUifUoDJWQXCKyAQYps3bw6GV4BCTET6kgJMzsjv\\\n",
              "97N69eqQthxyaPA1MGvWLBp8DeSQE7J99erVuiYmIn1CARaNjvvhvafbfp5FfHw8hYWFOBwOoC28\\\n",
              "lrKUVawimWRWsYqlLA2GmMPhoLCwkPj4+N4+AxERBVhU2vUyvPmTtp/n4HQ6Kdy8AcfwSymiiHLK\\\n",
              "SSaZNawhmWTKKaeIomB4OZ3OPjgBEREFWHQJ9Lyct0L2v8KU73bc1kmvzHn8AzzZTdRTTz75Idvy\\\n",
              "yaeeejwej8JLRPqUAiyaBHpe3j/AN5fCoHioLYXf3gXvPXXGXpl30DW434whjjhyyQ3ZlksuccTh\\\n",
              "drs7TLEXEelNCrBoMuW7p3tex/1QuALWzYPS/4b9m+DG5ae3fdUb83q9uG67A9/ho2SRFRw2XMSi\\\n",
              "4HBiFlkdptiLiPS2iF0LUToxKL6t53XcD7+7Dz4ramsfcCkc+Qxq9sKamyHlRvjoefxHj+Na8kxw\\\n",
              "qnwBBQAUUUQ99SxjGVlkBdsDIbZnzx5N5BBpx+/3d/qaOFO7dI16YNFo18unw6v/YDj5Rdvv+38P\\\n",
              "h0th50tw6RjiTx1hycIFIYcWUECsI5ZNmzYR64gNhlfAkiVL9IIUaUer2PQeBVg0mvJdSM1q+735\\\n",
              "GGCEbj/VAkcroGQ1edlx5Oaevu4VmG142223hUyxB8jNzdWLUaQdrWLTuzSEGE2O+6H4OcAGY755\\\n",
              "uhd2Nk0nyMv7N6DtJuX2U+WdTieFhYW4XC6WLFmiF6FIO2daxcbj8eB2uzusYhM4RrrOZhiGce7d\\\n",
              "rCczM1PfB9becT8U/KBtwgaA7SIwTp37uBsfA9c/ARrHF+kqv99PRkZGSEjlkBO8fhxHXMj1Y2gb\\\n",
              "3QiH68dWeu/UEGK02PVyW3hd9s224cNrl577GPtAmHZ/8OGZXlhmv+BEwo1WsekbYRVgjY2NTJs2\\\n",
              "jcmTJ5Oenh689lJWVsb06dNJS0vj7rvvpqmpyeRKLaL9zcmBKfTJ17cNHe76zdmPtQ+ESXOh4Ujb\\\n",
              "dPvCn55z6SkROS0wxO5wOLSKTS8JqwAbMGAA27dvZ/fu3ezatYstW7bwwQcf8Nhjj7Fs2TI+/fRT\\\n",
              "hg4dygsvvGB2qdbQfsmowBT6affD8HHQcBgujoNLvpqEYet/+rjULPjmD9uO++9/grdXwtv/3qWl\\\n",
              "p0TkNKfTicfj6fYqNkeON/Hc2wc5clwf2jsTVgFms9kYPHgwAM3NzTQ3N2Oz2di+fTt33nknAAsX\\\n",
              "LqSgoMDEKi2k/Y3LAYPi4e51bSHWWA8jvnrhGM1twXXjcpj7YlvQZf8r3PTTtrYbHwt9HhE5J6/X\\\n",
              "i9vt7vYqNq+WVLDij/t5taSiL8q1nLCbhdja2srVV1/Np59+yoMPPsjYsWOJi4vDbm8rNSkpiaqq\\\n",
              "KpOrtIhAr+vrRoyDRVuh2APNx2F0BvSPhWnutmMCAse6/rFv6hWJIO2nyueQExw2zCefXHKDq9gU\\\n",
              "+ApwuVydDiPelTkm5KeECqseGEC/fv3YtWsXlZWVFBcXs3///i4f6/F4yMzMJDMzk9ra2l6s0kIC\\\n",
              "18FqS0MX6x0UDzGx8P7/g/4D29qKn9N1LpGz+PqQXuDxwdpjPPrqbibnb+XRV3ezfddBrpx+fcgq\\\n",
              "Nk/zNMtYRjnlLGMZT/N0h1Vsvv5desMGxXD/jWMZNiimT8/TKsKuBxYQFxeHy+Vix44d1NfX09LS\\\n",
              "gt1up7KyksTExE6PcbvduN1uoG0qqHD6Olj5u6en0Ad6VoEhwaaGtutcADGDOu+1iUS5g7XHcP+6\\\n",
              "hIO1x1lX/DnTUobx9oFaar48yZNb9tP61Q1Jr+yspOBj6J8+E95bFzy+gAIcDgcve17G7XZT4CsI\\\n",
              "eX6tYnP+wirAamtr6d+/P3FxcZw4cYI333yTxx57DJfLxWuvvcb8+fNZu3Ytc+bMMbtU6wiElPPW\\\n",
              "thmIX78eFlgbEQBD17lEvnLkeBOvllRwV+YYhg2K4ScFn3Cw9jgA5f4Gyv0NwX1bv3Y3bdMpiLu+\\\n",
              "bRm2o1+FWGzciOAwYWABgEAPTavYdE9YBVh1dTULFy6ktbWVU6dOMW/ePGbNmsXEiROZP38+P/7x\\\n",
              "j7nyyitZvHix2aVaR/vrYCPO0LMaFK/rXCJfs/b9cp5+q5SGplaWZTsZO3Iw7x3s+hD7QLsNrl/A\\\n",
              "5KRLKdn6Ozb+catWselhYRVgGRkZfPzxxx3aU1NTKS4uNqEiiznubxsynPLd0MkYItINRujP81yz\\\n",
              "qKnVwP2tFH7wL09jND7eYXjQ6XSGxcobVhZWASYXKHC9C3QdS+QCLbwuhdgYe3AG4MHaY1067vbJ\\\n",
              "o/n9X2poOWVQ+rdjbRMwzvCBUuF1YRRgkSRw/UrXsUQuWGAGYMC/5kziH3+3B5vNxnenf4N/27SP\\\n",
              "oyeaedA1lg0f+7hh3Aj+IdvJsEExPDTzGI9v2sePZ0008QwinxbzFRGRICu9d4bdfWAiIiJdoQAT\\\n",
              "ERFLUoCJiIglKcBERMSSFGAiImJJCjAREbEkBZiIiFiSAkxERCxJASYiIpakAOtFX/9yus7aW+rq\\\n",
              "8L/wAi11dX1VlohIRFCA9ZK8vDwyMjLwer0h7V6vl4yMjODXJxzdsIG//cd/cnTDBhOqFBGxLi3m\\\n",
              "2wvy8vLIz88HwOVyBb/Ezuv1Br/ELrD9x0vbVo2/9I47TKtXRMSKFGA9rH14Afh8PlwuFx6PB7fb\\\n",
              "HfwGViC4n77MTkTk/GkIsRPdvS7l9/tZvXp1SFsOOTT4Gpg1axYNvgZyyAnZvnr16jNeKxMRkTNT\\\n",
              "gHWiu9el4uPjKSwsxOFwAG3htZSlrGIVySSzilUsZWkwxBwOB4WFhfpSOxGRbtAQYicC16O6c13K\\\n",
              "6XRSWFiIy+WiyFfEHOaQTDJrWANAOeUUURQML6fT2aO1i4hEC/XAOmEfOpT4xYuxDx3areOdTice\\\n",
              "j4d66sknP2RbPvnUU4/H41F4iYhcAAVYL/B6vbjdbuKII5fckG255BJHHG63u8MUexER6ToFWA9r\\\n",
              "P1U+iyySSaacchaxiHLKSSaZLLKCsxMVYiIi3aNrYBegpa6Ooxs2cOkdd2AfOhS/3x8ML4ACCgAo\\\n",
              "ooh66lnGMrLICrYHQmzPnj2ayCEicp4UYF3QUldH3csv03zoEMc+/JDB06fTf/RoTjU2cuSFFzn2\\\n",
              "7nsk/vxnxMfHs2TJkpD7wAoowOFw8LLnZdxuNwW+gpDnXrJkicJLRKQbwirAKioq+N73vkdNTQ02\\\n",
              "mw23283SpUs5cuQId999N+Xl5SQnJ/PKK68wtJsTLM5XS10dVT/6EQ3v7wi2Ha38anp9v34ANOzY\\\n",
              "Qd3Lv2XE3z8UvCk5EGLtZxsGZicGemi5ubm6iVlEpJvC6hqY3W7nZz/7Gfv27eODDz7gmWeeYd++\\\n",
              "faxcuZIZM2ZQWlrKjBkzWLlyZZ/U01JXh2/58pDwCtHaGvy1fvPm4I3PeXl55ObmdpgqHwgxh8Oh\\\n",
              "8BIRuUA2wzAMs4s4kzlz5vDQQw/x0EMPUVRUREJCAtXV1WRlZXHgwIGzHpuZmUlJScl5/82TZWXU\\\n",
              "rFzJqOXL+WLTZg4/8wz9Ro+mtaYGzvFPNWBSOv0uGcLon/wLA1JS8Pv9nQ4PnqldRMRs3X3vNENY\\\n",
              "DSG2V15ezscff8z06dOpqakhISEBgNGjR1NTU9Nrf7dm5UqOv/0naoCBkyYB0HroUJeOPfnJXgA+\\\n",
              "X/x9Un732hlDSuElInLhwjLAjh07xty5c3nqqacYMmRIyDabzYbNZuv0OI/Hg8fjAaC2trZbf3vU\\\n",
              "8uXUfPWzX1wcYKNuwwZaq6u7/BwtPh9HN2wgfvHibtUgIiLnFlbXwACam5uZO3cuCxYs4I6vlnIa\\\n",
              "NWoU1V8FSHV1NSNHjuz0WLfbTUlJCSUlJYwYMaJbf39ASgrfeO45BqSkAHBR7EAGXXft6R1iYk7/\\\n",
              "3r8/AP0SEhg4dSq2r/6m3eHQ16OIiPSysAowwzBYvHgxEyZM4OGHHw62z549m7Vr1wKwdu1a5syZ\\\n",
              "0yf1BBb1bfG1hWfstdeSurGA4Q8+yPAHH+Cy3/yaQTfewGUvvkDyb35Nyq/XMujGG/jGC893exkq\\\n",
              "ERHpmrCaxPHuu+/yrW99iyuuuIKLLmrL1p/+9KdMnz6defPm8fnnn3PZZZfxyiuvMGzYsLM+V09c\\\n",
              "iAzcqDz429/m2PbtwRuWu3pcV/cXEQkXmsTRTddffz1nytO33nqrj6s5vagvwIDzuJ4V6LkBug4m\\\n",
              "ItJLwirAIsWFfB2LiIh0jQKsF7TvuYmISO8Iq0kcIiIiXaUAExERS1KAiYiIJSnARETEkhRgIiJi\\\n",
              "SQowERGxJAWYiIhYkgJMREQsSQEmIiKWpAATERFLUoCJiIglKcBERMSSFGAiImJJCjAREbEkBZiI\\\n",
              "iFiSAkxERCxJASYiIpakABMREUtSgImIiCUpwERExJIUYBGqrrGONZ+soa6xzuxSRER6RdgF2H33\\\n",
              "3cfIkSOZNGlSsO3IkSNkZ2czbtw4srOzqavTm/K5FHxawM93/pyCTwvOul93g87v959Xu4hITwu7\\\n",
              "ALv33nvZsmVLSNvKlSuZMWMGpaWlzJgxg5UrV5pUnXXkpOXw8NUPk5OWc9b9uhp07eXl5ZGRkYHX\\\n",
              "6w1p93q9ZGRkkJeXd/4Fi4icLyMMlZWVGenp6cHHTqfT8Pl8hmEYhs/nM5xO5zmf4+qrr+61+iLJ\\\n",
              "kRNHjBf/8qJx5MSRLu2fm5trAAZgOBwO48CBA4ZhGMaBAwcMh8MR3Jabm9uLVYuIYRjG4cOHz6u9\\\n",
              "K6z03hl2PbDO1NTUkJCQAMDo0aOpqakxuaLIMfTioSyatIihFw895755eXnk5+cHH/t8PlwuF5s3\\\n",
              "b8blcuHz+YLb8vPz1RMT6UUaCQnDIcRzsdls2Gy2Trd5PB4yMzPJzMyktra2jyuLbH6/n9WrV4e0\\\n",
              "5ZBDg6+BWbNm0eBrIIeckO2rV6/WNTGRXhD4MBn4EBkIMa/XG/wwGRUfIs3uAnZGQ4jhqf0wYQ45\\\n",
              "RiGFxhrWGMkkG2tYYxRSaOSQ02F4UUR6TvthfNoN52/atClkGJ9uDudb6b3TEj2w2bNns3btWgDW\\\n",
              "rl3LnDlzTK4oOjmdTgoLC3E4HBRRRDnlJJPMGtaQTDLllFNEEQ6Hg8LCQpxOp9kli0QUjYSECrsA\\\n",
              "u+eee7j22ms5cOAASUlJvPDCCyxfvpw333yTcePGsW3bNpYvX252mVHL6XTi8Xiop5588kO25ZNP\\\n",
              "PfV4PB6Fl0gviI+PD36IhLbwWspSVrGKZJJZxSqWsjQYYoEPk/Hx8SZW3XtshmEYZhfRGzIzMykp\\\n",
              "KTG7jIgTGGNv8DUEXzQB5ZSzjGXEOmLVAxPpRb35OrTSe2fY9cDEXHWNdTy761me3fVsh5ubvV4v\\\n",
              "WVlZ+Hw+ssgKDhsuYlFwODGLrA4XlkXk/DR8cZSP3vgdDV8c7XS7RkLaqAcWxeoa6yj4tICctJzg\\\n",
              "NPpndz3LL3f/EoDJIyZz5cgrAWg91spT//spqqurg8fnkEMRRdRTTxxxZJFFAQXB7Q6Hgz179kTs\\\n",
              "8IVIb3n/ld+y43fruHbuPVw3b0GH7eqBtVEPLAoFlo9at39dcBWOusY6fvLuT3j+L88H99tdu5uX\\\n",
              "9r7ES3tf4jf/8xum5kwNeZ4CChiYMJClzyxlYMLAkPACWLJkicJLpIv8VZVsWJmHv6oS46s7hQxb\\\n",
              "x97Y7j/v5Pprr9VICOqBRaVAL+ve9HsZdvEwxsWNY/k7yzna1PlwhQ0bd4+/m6EXD+XA+gP817//\\\n",
              "F0DIbMP2958A5ObmRv49KCLd1PDFUfYWbSM9ayaxQy4F4NXH/5nP/7KbS4aPYMjwUQweFk/NZ6Uk\\\n",
              "Xp7O3qI3+cakKVzzfxZz9dWZ1B45Enyunh4JsdJ7p3pgUWz/kf1cNfIqfvjWD88YXgAGBuVHy/nl\\\n",
              "7l9SNr2MEXNGEDcyLmR4ov0Ue4WXyNntLdrGn367hr1F24I9rEviRwLw5eFaqvZ/woH336b+kI+/\\\n",
              "/mk7AJ9/sov31jzHrTdcH/JcBRQQ64hl06ZNxDpio2okRD2wKFTXWMejf3qUD6o/ICE2geqG6nMe\\\n",
              "M3nEZOwX2dlZs5NrRl/D8knLGZs4tsN+fr8/Yl8sIj0l0ANLvXo629f8ks//spv+A2NpPtHQpeP3\\\n",
              "nophzWuvAz0/EmKl9071wKLQ0IuHBidnnOJUl47ZXbsbG20D81eOurLT8AIUXiJdEDvkUqbOnstn\\\n",
              "Oz/k87/sBuhyeI24LJXrEuJZ9uCDHRYNiLaRELvZBYg57rn8HgbaB+I75mP9gfVn3XeQfRDHW47T\\\n",
              "fKqZv5v8d9xz+T19VKVIZGrfA2s4epSqA/s4XPl5l0LsS38tjce+JG3IpXzw3ruMSU4J2e50OqNm\\\n",
              "9q96YFEmMAMRYNGkRTww5QHuTb+XzFGZ3Jp8K4PtgwEY1G9Q8JjjLceBtl7YQPvALq1cLyJnFrgG\\\n",
              "tv/9t/lb+WdUl+5n4rdc9B8Ye9bjhiYkMjbzGi4efAknvjjKoT1/7nS/aAgvUA8s6gS+wBIIfo3K\\\n",
              "jzJ/FNxe11jHP7/7z7xT9Q4AmaMymTS87duxB9oHnvMLMkXk3NKzZgLQ3NjI55/sAiD2kiEseOLn\\\n",
              "vPR/H4BTHYf240YnkJo5nZ2/38A1d95DzICLg88TrRRgUSZrTBYfHfqIrDFZnW4fevFQnrj+Cdbt\\\n",
              "Xwe0DTWqxyXSswLXwAL3dhk2mHLzLPYWbYNTp7APuJiWk40MdSRx8w/+gQ9fX0/ZxyX0HzCAGxYs\\\n",
              "Cpl+H80UYFGmqKKId6reYeroqaRcmtLpPkMvHsoDUx7o28JEolDskEtDVtoI9KhSr57OZzs/DAbV\\\n",
              "dx5Y1uG+MVGARZ3AEKCGAkXCT6BnBhCfmNRpu5ymAIsyQy8eyqJJi8wuQ0TkgmkWoohIN5xrxXjp\\\n",
              "fQowEZFuaL8clJhDQ4giIt0QmHAR7VPZzaQAExHpBk2sMJ+GEEVExJIUYCIiYkkKMBERsSQFmIiI\\\n",
              "WJICTERELMkyAbZlyxbGjx9PWloaK1euNLscERExmSUCrLW1lQcffJA//vGP7Nu3j3Xr1rFv3z6z\\\n",
              "yxIRERNZIsCKi4tJS0sjNTWVmJgY5s+fz8aNG80uS0RETGSJAKuqqmLMmDHBx0lJSVRVVZlYkYiI\\\n",
              "mC2iVuLweDx4PB4AamtrTa5GRER6kyV6YImJiVRUVAQfV1ZWkpiY2GE/t9tNSUkJJSUljBgxoi9L\\\n",
              "FBGRPmaJAJs6dSqlpaWUlZXR1NTE+vXrmT17ttlliYiIiSwxhGi32/nFL37BzTffTGtrK/fddx/p\\\n",
              "6elmlyUiIiayRIAB3Hrrrdx6661mlyEiImHCEkOIIiIiX6cAExERS1KAiYiIJSnARETEkhRgIiJi\\\n",
              "SQowERGxJAWYiIhYkgJMREQsSQEmIiKWpAATERFLUoCJiIglKcBERMSSFGAiImJJCjAREbEkBZiI\\\n",
              "iFiSAkxERCxJASYiIpakABMREUtSgImIiCUpwERExJIUYCIiYkkKMBERsSQFmIiIWJICTERELCls\\\n",
              "AuzVV18lPT2diy66iJKSkpBtK1asIC0tjfHjx7N161aTKhQRkXBiN7uAgEmTJrFhwwbuv//+kPZ9\\\n",
              "+/axfv169u7di8/nY+bMmXi9Xvr162dSpSIiEg7Cpgc2YcIExo8f36F948aNzJ8/nwEDBpCSkkJa\\\n",
              "WhrFxcUmVCgiIuEkbALsTKqqqhgzZkzwcVJSElVVVSZWJCIi4aBPhxBnzpzJoUOHOrQ/8cQTzJkz\\\n",
              "54Kf3+Px4PF4AKitrb3g5xMRkfDVpwG2bdu28z4mMTGRioqK4OPKykoSExM73dftduN2uwHIzMzs\\\n",
              "XpEiImIJYT+EOHv2bNavX8/JkycpKyujtLSUadOmmV2WiIiYLGwC7PXXXycpKYkdO3Zw2223cfPN\\\n",
              "NwOQnp7OvHnzmDhxIt/5znd45plnNANRRESwGYZhmF1Eb8jMzOxwP5mIiJydld47w6YHJiIicj4U\\\n",
              "YCIiYkkKMBERsSQFmIiIWJICTERELEkBJiIilqQAExERS1KAiYiIJSnARETEkhRgIiJiSQowERGx\\\n",
              "JAWYiIhYkgJMREQsSQEmIiKWpAATERFLUoCJiIglKcBERMSSFGAiImJJCjAREbEkBZiIiFiSAkxE\\\n",
              "RCxJASYiIpakABMREUsKmwB75JFHuPzyy8nIyOD222+nvr4+uG3FihWkpaUxfvx4tm7dal6RIiIS\\\n",
              "NsImwLKzs/nkk0/Ys2cPTqeTFStWALBv3z7Wr1/P3r172bJlCw888ACtra0mVysiImYLmwC76aab\\\n",
              "sNvtAFxzzTVUVlYCsHHjRubPn8+AAQNISUkhLS2N4uJiM0sVEZEwEDYB1t6LL77ILbfcAkBVVRVj\\\n",
              "xowJbktKSqKqqsqs0kREJEzY+/KPzZw5k0OHDnVof+KJJ5gzZ07wd7vdzoIFC877+T0eDx6PB4Da\\\n",
              "2toLK1ZERMJanwbYtm3bzrr9pZdeYtOmTbz11lvYbDYAEhMTqaioCO5TWVlJYmJip8e73W7cbjcA\\\n",
              "mZmZPVS1iIiEo7AZQtyyZQtPPvkkb7zxBrGxscH22bNns379ek6ePElZWRmlpaVMmzbNxEpFRCQc\\\n",
              "9GkP7GweeughTp48SXZ2NtA2keNXv/oV6enpzJs3j4kTJ2K323nmmWfo16+fydWKiIjZbIZhGGYX\\\n",
              "0RsyMzMpKSkxuwwREUux0ntn2AwhiohI9/n9/vNqjwQKMBERi8vLyyMjIwOv1xvS7vV6ycjIIC8v\\\n",
              "z5zCepkCTETEwvLy8sjPz8fn8+FyuYIh5vV6cblc+Hw+8vPzIzLEFGAiIhYVCK+AQIht3rw5GF4B\\\n",
              "kRhiCjAREQvy+/2sXr06pC2HHBp8DcyaNYsGXwM55IRsX716dURdE1OAiYhYUHx8PIWFhTgcDqAt\\\n",
              "vJaylFWsIplkVrGKpSwNhpjD4aCwsJD4+HgTq+5ZCjAREYs5cayJP//3/zDGkRwMsSKKKKecZJJZ\\\n",
              "wxqSSaaccoooCoaX0+k0u/QepQATEbGYv75fzY4NB/nr+9U4nU48Hg/11JNPfsh++eRTTz0ejyfi\\\n",
              "wgsUYCIipgv0qE4cazprW8CE6xK49o6xpEwezusvFrLk+0uII45cckP2yyWXOOJwu90dpthHAgWY\\\n",
              "iIjJ2veoAj78/Wfs2HCQD3//GSeONfHh7z+j+KvfBw6O4aqbLqNoczGL/v4uqg9Vk0VWcNhwEYuC\\\n",
              "w4lZZHWYYh8pwmYtRBGRaHLiWBN/fb+aCdclMOG6BE582UTFviOkTB5O4/Fm9r3TNgV+79s+9r9f\\\n",
              "TWuzETzOHtOPg/srePS/FnC0oW1WYQEFABRRRD31LGMZWWQF2wMhtmfPnoiZyKEemIiICb7e6yrf\\\n",
              "c5jK/XW88fQuXv/PP2OcOr1vILwAPnnbx643K/iyAqan3RLynAUUEOuIZdOmTcQ6YoPhFbBkyZKI\\\n",
              "CS9QgImImCJwHWvCdQn89f1q6mtOMCDWzrEjJ0PC62xunfo93N9dGnw8In4Uf9y0ldtuuy1kij1A\\\n",
              "bm5uxN3IrCFEERETBK5jQVuYtZxs5a8fVHOyoaXLz3Fp/MU899RTJIyN49lf/IofzPx3WmovAcDp\\\n",
              "dFJYWIjL5WLJkiURF16gABMRMd3AwTHYB/TjmP/keR03ZmLbcGBeXh7fX3Q/fzvQxITrEoLbnU5n\\\n",
              "RF3z+joNIYqIhIGUycOJGzUQAFsX3plHpQ7BHtMvOM0+6bIErrrpMgYOjgnZL1LDCxRgIiJhoWz3\\\n",
              "YeprTvCNScO4J3c6CWmXBrdde8dYJmePAWBUyiVMyR5D/5h+lGwuD5l6H200hCgiEgYCQ38Trktg\\\n",
              "4OAYbvnBFewprMTWblvsJTHBSR+V++v4xqRhIUOG0UYBJiISBtpP6gg8nv6/UkP2aT/pI/Dz60OG\\\n",
              "0UQBJiJiMV8Pu2ila2AiImJJCjAREbEkBZiIiFiSAkxERCxJASYiIpakABMREUtSgImIiCXZDMMw\\\n",
              "zr2b9QwfPpzk5OQO7bW1tYwYMaLvCzJJNJ2vzjUyRdO5gvnnW15ezuHDh037++cjYgPsTDIzMykp\\\n",
              "KTG7jD4TTeerc41M0XSuEH3neyE0hCgiIpakABMREUuKugBzu91ml9Cnoul8da6RKZrOFaLvfC9E\\\n",
              "1F0DExGRyBB1PTAREYkMURNgjzzyCJdffjkZGRncfvvt1NfXB7etWLGCtLQ0xo8fz9atW80rsoe8\\\n",
              "+uqrpKenc9FFF3WYzRRp5wqwZcsWxo8fT1paGitXrjS7nB533333MXLkSCZNmhRsO3LkCNnZ2Ywb\\\n",
              "N47s7Gzq6upMrLDnVFRU4HK5mDhxIunp6Tz99NNAZJ5vY2Mj06ZNY/LkyaSnp5ObmwtAWVkZ06dP\\\n",
              "Jy0tjbvvvpumpiaTKw1jRpTYunWr0dzcbBiGYTz66KPGo48+ahiGYezdu9fIyMgwGhsbjc8++8xI\\\n",
              "TU01WlpazCz1gu3bt8/Yv3+/ceONNxofffRRsD0Sz7WlpcVITU01Dh48aJw8edLIyMgw9u7da3ZZ\\\n",
              "Pertt982du7caaSnpwfbHnnkEWPFihWGYRjGihUrgv+frc7n8xk7d+40DMMwvvjiC2PcuHHG3r17\\\n",
              "I/J8T506ZXz55ZeGYRhGU1OTMW3aNGPHjh3GXXfdZaxbt84wDMO4//77jWeffdbMMsNa1PTAbrrp\\\n",
              "Juz2tu/vvOaaa6isrARg48aNzJ8/nwEDBpCSkkJaWhrFxcVmlnrBJkyYwPjx4zu0R+K5FhcXk5aW\\\n",
              "RmpqKjExMcyfP5+NGzeaXVaPuuGGGxg2bFhI28aNG1m4cCEACxcupKCgwITKel5CQgJXXXUVAJdc\\\n",
              "cgkTJkygqqoqIs/XZrMxePBgAJqbm2lubsZms7F9+3buvPNOIHLOtbdETYC19+KLL3LLLbcAUFVV\\\n",
              "xZgxY4LbkpKSqKqqMqu0XhWJ5xqJ59QVNTU1JCS0fa386NGjqampMbminldeXs7HH3/M9OnTI/Z8\\\n",
              "W1tbmTJlCiNHjiQ7O5uxY8cSFxcX/LAdLf+fu8tudgE9aebMmRw6dKhD+xNPPMGcOXOCv9vtdhYs\\\n",
              "WNDX5fWorpyrRAebzYbNZjO7jB517Ngx5s6dy1NPPcWQIUNCtkXS+fbr149du3ZRX1/P7bffzv79\\\n",
              "+80uyVIiKsC2bdt21u0vvfQSmzZt4q233gq+ABITE6moqAjuU1lZSWJiYq/W2RPOda6dseq5nk0k\\\n",
              "nlNXjBo1iurqahISEqiurmbkyJFml9RjmpubmTt3LgsWLOCOO+4AIvt8AeLi4nC5XOzYsYP6+npa\\\n",
              "Wlqw2+1R8/+5u6JmCHHLli08+eSTvPHGG8TGxgbbZ8+ezfr16zl58iRlZWWUlpYybdo0EyvtPZF4\\\n",
              "rlOnTqW0tJSysjKamppYv349s2fPNrusXjd79mzWrl0LwNq1ayOm120YBosXL2bChAk8/PDDwfZI\\\n",
              "PN/a2trgbOgTJ07w5ptvMmHCBFwuF6+99hoQOefaa8yeRdJXxo4dayQlJRmTJ082Jk+ebNx///3B\\\n",
              "bY8//riRmppqOJ1O4w9/+IOJVfaMDRs2GImJiUZMTIwxcuRI46abbgpui7RzNQzD2Lx5szFu3Dgj\\\n",
              "NTXVePzxx80up8fNnz/fGD16tGG3243ExETj+eefNw4fPmx8+9vfNtLS0owZM2YYfr/f7DJ7xDvv\\\n",
              "vGMAxhVXXBF8rW7evDkiz3f37t3GlClTjCuuuMJIT0838vPzDcMwjIMHDxpTp041xo4da9x5551G\\\n",
              "Y2OjyZWGL63EISIilhQ1Q4giIhJZFGAiImJJCjAREbEkBZiIiFiSAkxERCxJASYiIpakABMREUtS\\\n",
              "gImIiCUpwERExJIUYCIiYkkKMBERsSQFmIiIWJICTERELEkBJiIilqQAExERS1KAiYiIJSnARETE\\\n",
              "khRgIiJiSQowERGxJAWYiIhY0v8HCo1t5olki8UAAAAASUVORK5CYII=\\\n",
              "\"\n",
              "  frames[2] = \"data:image/png;base64,iVBORw0KGgoAAAANSUhEUgAAAbAAAAEgCAYAAADVKCZpAAAAOXRFWHRTb2Z0d2FyZQBNYXRwbG90\\\n",
              "bGliIHZlcnNpb24zLjcuMSwgaHR0cHM6Ly9tYXRwbG90bGliLm9yZy/bCgiHAAAACXBIWXMAAAsT\\\n",
              "AAALEwEAmpwYAAAZd0lEQVR4nO3df2xb9b3/8Vdo1Eq5/AiEBuKkLG1dZ6lp2q2hbNLUxWsDG42S\\\n",
              "QFnJ1D8yQDZfbUNV+Yqtf0yyLdEl271TqbTubs4Yi6Yr8h2IJVOyFVGa7DtNRV3QoJfmts5YIiVx\\\n",
              "qVKDt6HQNg2f+0dlU5MG2hLnnI/zfEgV9TlOeR+B8/Q5/uS0wBhjBACAZa5zegAAAK4FAQMAWImA\\\n",
              "AQCsRMAAAFYiYAAAKxEwAICVCBgAwEoEDABgJQIGALASAQMAWImAAQCsRMAAAFYiYAAAKxEwAICV\\\n",
              "CBgAwEoEDABgJQIGALASAQMAWImAAQCsRMAAAFYiYAAAKxEwAICVCBgAwEoEDABgJQIGALASAQMA\\\n",
              "WImAAQCsRMAAAFYiYAAAKxEwAICVCBgAwEoEDABgJQIGALASAQMAWKnQ6QFy5dZbb1VlZaXTYwCA\\\n",
              "VUZHR3XmzBmnx7gieRuwyspKDQ4OOj0GAFiltrbW6RGuGJcQkSWZTF7VdgBwCgFDRiQSUU1NjeLx\\\n",
              "eNb2eDyumpoaRSIRZwYDgMsgYJB0MV7RaFSJREKBQCATsXg8rkAgoEQioWg0SsQAuAYBQyZeaemI\\\n",
              "9fX1ZeKVRsQAuAUBW+SSyaQ6OjqytjWrWVOJKTU0NGgqMaVmNWft7+jo4DMxAI4jYItcSUmJ+vv7\\\n",
              "5fF4JF2M1y7t0j7tU6UqtU/7tEu7MhHzeDzq7+9XSUmJg1MDAAGDJJ/Pl4nYgAY0qlFVqlLP6llV\\\n",
              "qlKjGtWABjLx8vl8To8MAAQMF/l8PsViMaWUUlTRrH1RRZVSSrFYjHgBcA0CBkkXVxuGQiEVq1hh\\\n",
              "hbP2hRVWsYoVCoVmLbEHAKcQMGQtla9TXeay4cN6OHM5sU51s5bYA4CT8vZWUrgyyWQya6l8t7ol\\\n",
              "SQMaUEop7dZu1akusz0dsWPHjrGQA4CjOANb5EpKShQMBrO2datbRZ4i9fb2qshTlIlXWjAYJF7A\\\n",
              "VeAWbblBwKBIJKJw+MPPvdKrDbdt25a1xF6SwuEwP8gMXAVu0ZZDJk9t3LjR6RHc5fAPjQnfdPGf\\\n",
              "cwiHw8bj8ZiTJ09mbT958qTxeDwmHA7ndkYgz4TDYSPJSMp6baVfU+l9bnpt2fS9s8AYY5xNaG7U\\\n",
              "1tby16lcKnLTJb//x5xPSyaTl708ONd2AJf30Vu0SRevbsRiMYVCoaxbtEnuubph0/dOLiEiy1yR\\\n",
              "Il7AleMWbQuDgAHAPOMWbQvDVQE7e/asNm3apPXr18vv92cWFoyMjOjuu++W1+vVQw89pPPnzzs8\\\n",
              "qYUi//jwF4Cc4xZtueeqgC1btkyHDx/WG2+8oddff10HDx7Uq6++qu9973vavXu3/va3v+nmm2/W\\\n",
              "M8884/SoAPCJuEVbbrkqYAUFBbr++uslSdPT05qenlZBQYEOHz6sBx98UJLU2tqq7u5uB6cEgCvD\\\n",
              "Ldpyy1UBk6SZmRlt2LBBpaWlqq+v1+rVq1VcXKzCwos3DamoqNDExITDUwLAx+MWbbnnultJLVmy\\\n",
              "RK+//rpSqZTuv/9+nThx4oq/NhaLKRaLSZImJydzNSIAfCxu0bYwXHcGllZcXKxAIKAjR44olUrp\\\n",
              "woULkqTx8XGVl5df9mtCoZAGBwc1ODio5cuXL+S4AJDBLdoWhqsCNjk5qVQqJUl6//339fLLL6u6\\\n",
              "ulqBQEAvvPCCJKmzs1NNTU0OTgkA0luT76lyT1/m10dxi7bcc9UlxFOnTqm1tVUzMzP64IMPtGPH\\\n",
              "DjU0NGjt2rVqaWnR97//fX3uc5/To48+6vSoABa5p3qHPvE56Sh1dHRkLZVPL7EPBAIKBoPE6xpx\\\n",
              "KykAuAZvTb6nLT/+Y+bxaPu2OZ9r0y3abPre6aozMACwxerl139stC7FLdpyw1WfgQEAcKUIGADA\\\n",
              "SgQMAGAlAgYAsBIBAwBYiYABAKxEwAAAViJgAAArETAAgJUIGADASgQMAGAlAgYAsBIBu0bJZPKq\\\n",
              "tgMA5hcBuwaRSEQ1NTWKx+NZ2+PxuGpqavi7fQBgARCwqxSJRBSNRpVIJBQIBDIRi8fjCgQCSiQS\\\n",
              "ikajRAwAcoyAXYV0vNLSEevr68vEK42IAUBuEbArlEwm1dHRkbWtWc2aSkypoaFBU4kpNas5a39H\\\n",
              "RwefiQFAjhCwK1RSUqL+/n55PB5JF+O1S7u0T/tUqUrt0z7t0q5MxDwej/r7+/kbVwEgRwjYVfD5\\\n",
              "fJmIDWhAoxpVpSr1rJ5VpSo1qlENaCATL5/P5/TIAJC3CNhV8vl8isViSimlqKJZ+6KKKqWUYrEY\\\n",
              "8QKAHCNgVykejysUCqlYxQornLUvrLCKVaxQKDRriT0AYH4RsKtw6VL5OtVlLhs+rIczlxPrVDdr\\\n",
              "iT0AYP4VOj2ALZLJZNZS+W51S5IGNKCUUtqt3apTXWZ7OmLHjh1jIQcA5ICrzsDGxsYUCAS0du1a\\\n",
              "+f1+7d+/X5L0zjvvqL6+XmvWrFF9fb3efffdBZ+tpKREwWAwa1u3ulXkKVJvb6+KPEWZeKUFg0Hi\\\n",
              "BQA54qqAFRYW6sc//rGGhob06quv6sCBAxoaGlJ7e7u2bNmi4eFhbdmyRe3t7Y7MF4lEFA5/+LlX\\\n",
              "erXhtm3bspbYS1I4HOYHmQEgh1x1CbGsrExlZWWSpBtuuEHV1dWamJhQT0+PBgYGJEmtra2qq6vT\\\n",
              "D3/4w5zM8D+frc78/t8aGnTHf/x71v50lDo6OrKWyqeX2AcCAQWDQeIFADlWYIwxTg9xOaOjo9q8\\\n",
              "ebPefPNN3XHHHUqlUpIkY4xuvvnmzOO51NbWanBw8Kr/vZcGTJKqT/zPZZ+XTCYve3lwru0AYINr\\\n",
              "/d7pBFedgaW999572r59u55++mndeOONWfsKCgpUUFBw2a+LxWKKxWKSpMnJyU89x781NMy5b65I\\\n",
              "ES8AWBiuC9j09LS2b9+unTt36oEHHpAk3XbbbTp16pTKysp06tQplZaWXvZrQ6GQQqGQpIvvIq7F\\\n",
              "XGdcAAB3cdUiDmOMHn30UVVXV+uJJ57IbG9sbFRnZ6ckqbOzU01NTU6NCABwCVedgf35z3/Wr3/9\\\n",
              "a61bt04bNmyQJP3gBz/Qnj17tGPHDj3zzDP6zGc+o9/85jfODgoAcJyrAvalL31Jc60peeWVVxZ4\\\n",
              "GgCAm7nqEiIAAFeKgAEArETAAABWImAAACsRMACAlQgYAMBKBAwAYCUCBgCwEgEDAFiJgAEArETA\\\n",
              "AABWImAAACsRMACAlQgYAMBKBAwAYCUCBgCwEgEDAFiJgAEArETAAABWImAAACsRMACAlQgYAMBK\\\n",
              "BAwAYCUCBgCwkusC9sgjj6i0tFR33nlnZts777yj+vp6rVmzRvX19Xr33XcdnBAA4AauC9g3v/lN\\\n",
              "HTx4MGtbe3u7tmzZouHhYW3ZskXt7e0OTbe4JJPJq9oOAAvJdQHbvHmzbrnllqxtPT09am1tlSS1\\\n",
              "traqu7vbgckWl0gkopqaGsXj8azt8XhcNTU1ikQizgwGIGOxv8l0XcAu5/Tp0yorK5Mk3X777Tp9\\\n",
              "+rTDE+W3SCSiaDSqRCKhQCCQiVg8HlcgEFAikVA0GiVigIN4kynJuNDIyIjx+/2ZxzfddFPW/uLi\\\n",
              "4st+3c9//nOzceNGs3HjRnPHHXfkcsS8FQ6HjaSsXx6Px/T29hqPxzNrXzgcdnpkYNG59HXq8XjM\\\n",
              "yZMnjTHGnDx5Mut1ei2vz40bN87ztLljRcB8Pp9JJBLGGGMSiYTx+Xyf+GfY9B/BLc6cOTMrUs1q\\\n",
              "NsUqNpJMsYpNs5pnxe3MmTNOjw4sGrl+k2nT904rLiE2Njaqs7NTktTZ2ammpiaHJ8pPJSUl6u/v\\\n",
              "l8fjkSQ1q1m7tEv7tE+VqtQ+7dMu7VKzmiVJHo9H/f39KikpcXBqYPFIJpPq6OjI2tasZk0lptTQ\\\n",
              "0KCpxFTm9ZnW0dGRt5+JuS5g3/jGN/TFL35RJ0+eVEVFhZ555hnt2bNHL7/8stasWaNDhw5pz549\\\n",
              "To+Zt3w+XyZiAxrQqEZVqUo9q2dVqUqNalQDGsjEy+fzOT0ysGjwJjNbgTHGOD1ELtTW1mpwcNDp\\\n",
              "MazV19enhoaGTLzSHtbDGtWoent7tW3bNgcnBBav9IKqqcRUJl5poxrVbu1Wkafomt5k2vS903Vn\\\n",
              "YHBePB5XKBRSsYoVVjhrX1hhFatYoVBo1uonAAvD5/MpFosppZSiimbtiyqqlFKKxWJ5f4WEgCHL\\\n",
              "pUvl61SXuWyYPvOqVKXqVDdriT2AhcObzIsIGDKSyWQmXpLUrW7t137t1u7MZYn92q9udUtSJmL5\\\n",
              "+gEx4Ea8yfwQAUNGSUmJgsFg1rZudavIU6Te3l4VeYoy8UoLBoN5+wEx4Da8ycxGwBahdZ3rMr8+\\\n",
              "KhKJKBz+8JJEehXTtm3bslY/SVI4HF4cP+0PuARvMrMVOj0A3CcdpY6OjqxVTOkl9oFAQMFgkHgB\\\n",
              "Dki/7qLRi4s3Lv2RlvTrM32Glu9vMllGvwhdeub1363/PefzksnkZd+5zbUdwKc39c9/6D+DOzOP\\\n",
              "/+//673s8yKRyKw3mdKHn5Fd65tMm753cgaGOc0VKeIF5M7xgUNX9LxIJKLHH3981uvR5/Pp2LFj\\\n",
              "i+J1SsAWoY876wLgLH/dVv3//3r2k58o3mQSMABwkaIbb5rzsiGysQoRAGAlAgYAsBIBAwBYiYAB\\\n",
              "AKxEwAAAViJgAAArETAAgJUIGADASgQMAGAlAgYAsBIBAwBYiYABAKxEwAAAViJgAAArETAAgJWs\\\n",
              "CdjBgwdVVVUlr9er9vZ2p8cBADjMioDNzMzo29/+tv7whz9oaGhIzz33nIaGhpweCwDgICsCdvTo\\\n",
              "UXm9Xq1atUpLly5VS0uLenp6nB4LAOAgKwI2MTGhFStWZB5XVFRoYmLCwYkAAE4rdHqA+RSLxRSL\\\n",
              "xSRJk5OTDk8DAMglK87AysvLNTY2lnk8Pj6u8vLyWc8LhUIaHBzU4OCgli9fvpAjAgAWmBUBu+uu\\\n",
              "uzQ8PKyRkRGdP39eXV1damxsdHosAICDrLiEWFhYqJ/85Ce69957NTMzo0ceeUR+v9/psQAADrIi\\\n",
              "YJJ033336b777nN6DACAS1hxCREAgI8iYAAAKxEwAICVCBgAwEoEDABgJQIGALASAQMAWImAAQCs\\\n",
              "RMAAAFYiYAAAKxEwAICVCBgAwEoEDABgJQIGALASAQMAWImAAQCsRMAAAFYiYAAAKxEwAICVCBgA\\\n",
              "wEoEDABgJQIGALASAQMAWImAAQCs5JqAPf/88/L7/bruuus0ODiYta+trU1er1dVVVV66aWXHJoQ\\\n",
              "AOAmhU4PkHbnnXfqxRdf1GOPPZa1fWhoSF1dXTp+/LgSiYS2bt2qeDyuJUuWODQpAMANXHMGVl1d\\\n",
              "raqqqlnbe3p61NLSomXLlmnlypXyer06evSoAxMCANzENQGby8TEhFasWJF5XFFRoYmJCQcnAgC4\\\n",
              "wYJeQty6davefvvtWdv37t2rpqamT/3nx2IxxWIxSdLk5OSn/vMAAO61oAE7dOjQVX9NeXm5xsbG\\\n",
              "Mo/Hx8dVXl5+2eeGQiGFQiFJUm1t7bUNCQCwgusvITY2Nqqrq0vnzp3TyMiIhoeHtWnTJqfHAgA4\\\n",
              "zDUB++1vf6uKigodOXJE27Zt07333itJ8vv92rFjh9auXauvfvWrOnDgACsQAQAqMMYYp4fIhdra\\\n",
              "2lk/TwYA+Hg2fe90zRkYAABXg4ABAKxEwAAAViJgAAArETAAgJUIGADASgQMAGAlAgYAsBIBAwBY\\\n",
              "iYABAKxEwAAAViJgAAArETAAgJUIGADASgQMAGAlAgYAsBIBAwBYiYABAKxEwAAAViJgAAArETAA\\\n",
              "gJUIGADASgQMAGAlAgYAsJJrAvbkk0/qs5/9rGpqanT//fcrlUpl9rW1tcnr9aqqqkovvfSSc0MC\\\n",
              "AFzDNQGrr6/Xm2++qWPHjsnn86mtrU2SNDQ0pK6uLh0/flwHDx7Ut771Lc3MzDg8LQDAaa4J2D33\\\n",
              "3KPCwkJJ0he+8AWNj49Lknp6etTS0qJly5Zp5cqV8nq9Onr0qJOjAgBcwDUBu9Qvf/lLfe1rX5Mk\\\n",
              "TUxMaMWKFZl9FRUVmpiYcGo0AIBLFC7kv2zr1q16++23Z23fu3evmpqaMr8vLCzUzp07r/rPj8Vi\\\n",
              "isVikqTJyclPNywAwNUWNGCHDh362P2/+tWv1Nvbq1deeUUFBQWSpPLyco2NjWWeMz4+rvLy8st+\\\n",
              "fSgUUigUkiTV1tbO09QAADdyzSXEgwcP6kc/+pF+97vfqaioKLO9sbFRXV1dOnfunEZGRjQ8PKxN\\\n",
              "mzY5OCkAwA0W9Azs43znO9/RuXPnVF9fL+niQo6f/exn8vv92rFjh9auXavCwkIdOHBAS5YscXha\\\n",
              "AIDTCowxxukhcqG2tlaDg4NOjwEAVrHpe6drLiECAK5dMpm8qu35gIABgOUikYhqamoUj8eztsfj\\\n",
              "cdXU1CgSiTgzWI4RMACwWCQSUTQaVSKRUCAQyEQsHo8rEAgokUgoGo3mZcQIGABYKh2vtHTE+vr6\\\n",
              "MvFKy8eIETAAsFAymVRHR0fWtmY1ayoxpYaGBk0lptSs5qz9HR0defWZGAEDAAuVlJSov79fHo9H\\\n",
              "0sV47dIu7dM+VapS+7RPu7QrEzGPx6P+/n6VlJQ4OPX8ImAAYCmfz5eJ2IAGNKpRVapSz+pZVapS\\\n",
              "oxrVgAYy8fL5fE6PPK8IGABYzOfzKRaLKaWUoopm7YsqqpRSisVieRcviYABgNXi8bhCoZCKVayw\\\n",
              "wln7wgqrWMUKhUKzltjnAwIGAJa6dKl8neoylw0f1sOZy4l1qpu1xD5fuOZeiACAK5dMJrOWyner\\\n",
              "W5I0oAGllNJu7Vad6jLb0xE7duxY3izk4AwMACxUUlKiYDCYta1b3SryFKm3t1dFnqJMvNKCwWDe\\\n",
              "xEviDAwAXO3A/zmc+f23f/aVrH3pH0xO/zDzpasN+/v7s87QwuFw3v0gMwEDAIulo9TR0ZG1VP7S\\\n",
              "iAWDwbyLl0TAAMB6kUhEjz/++KzLgz6fL68+8/ooAgYALvbRy4ZzmStS+RoviUUcAABLETAAgJUI\\\n",
              "GADASgQMAGAlAgYAsBIBAwBYiYABAKxUYIwxTg+RC7feeqsqKyudHiPnJicntXz5cqfHWFAc8+LA\\\n",
              "MTtjdHRUZ86ccXSGK5W3AVssamtrNTg46PQYC4pjXhw4ZnwSLiECAKxEwAAAViJglguFQk6PsOA4\\\n",
              "5sWBY8Yn4TMwAICVOAMDAFiJgFnq+eefl9/v13XXXTdr1VJbW5u8Xq+qqqr00ksvOTRhbhw8eFBV\\\n",
              "VVXyer1qb293epyceOSRR1RaWqo777wzs+2dd95RfX291qxZo/r6er377rsOTjj/xsbGFAgEtHbt\\\n",
              "Wvn9fu3fv19Sfh/32bNntWnTJq1fv15+v1/hcFiSNDIyorvvvlter1cPPfSQzp8/7/CkLmZgpaGh\\\n",
              "IXPixAnz5S9/2fzlL3/JbD9+/LipqakxZ8+eNX//+9/NqlWrzIULFxycdP5cuHDBrFq1yrz11lvm\\\n",
              "3Llzpqamxhw/ftzpsebdH//4R/Paa68Zv9+f2fbkk0+atrY2Y4wxbW1t5rvf/a5T4+VEIpEwr732\\\n",
              "mjHGmH/+859mzZo15vjx43l93B988IH517/+ZYwx5vz582bTpk3myJEj5utf/7p57rnnjDHGPPbY\\\n",
              "Y+anP/2pk2O6GmdglqqurlZVVdWs7T09PWppadGyZcu0cuVKeb1eHT161IEJ59/Ro0fl9Xq1atUq\\\n",
              "LV26VC0tLerp6XF6rHm3efNm3XLLLVnbenp61NraKklqbW1Vd3e3A5PlTllZmT7/+c9Lkm644QZV\\\n",
              "V1drYmIir4+7oKBA119/vSRpenpa09PTKigo0OHDh/Xggw9Kyr9jnm8ELM9MTExoxYoVmccVFRWa\\\n",
              "mJhwcKL5k8/H9klOnz6tsrIySdLtt9+u06dPOzxR7oyOjuqvf/2r7r777rw/7pmZGW3YsEGlpaWq\\\n",
              "r6/X6tWrVVxcrMLCQkmL6//xa1Ho9ACY29atW/X222/P2r537141NTU5MBHcoKCgQAUFBU6PkRPv\\\n",
              "vfeetm/frqefflo33nhj1r58PO4lS5bo9ddfVyqV0v33368TJ044PZJVCJiLHTp06Kq/pry8XGNj\\\n",
              "Y5nH4+PjKi8vn8+xHJPPx/ZJbrvtNp06dUplZWU6deqUSktLnR5p3k1PT2v79u3auXOnHnjgAUmL\\\n",
              "47glqbi4WIFAQEeOHFEqldKFCxdUWFi4qP4fvxZcQswzjY2N6urq0rlz5zQyMqLh4WFt2rTJ6bHm\\\n",
              "xV133aXh4WGNjIzo/Pnz6urqUmNjo9NjLYjGxkZ1dnZKkjo7O/PuDNwYo0cffVTV1dV64oknMtvz\\\n",
              "+bgnJyeVSqUkSe+//75efvllVVdXKxAI6IUXXpCUf8c875xeRYJr8+KLL5ry8nKzdOlSU1paau65\\\n",
              "557MvqeeesqsWrXK+Hw+8/vf/97BKedfX1+fWbNmjVm1apV56qmnnB4nJ1paWsztt99uCgsLTXl5\\\n",
              "ufnFL35hzpw5Y77yla8Yr9drtmzZYpLJpNNjzqs//elPRpJZt26dWb9+vVm/fr3p6+vL6+N+4403\\\n",
              "zIYNG8y6deuM3+830WjUGGPMW2+9Ze666y6zevVq8+CDD5qzZ886PKl7cScOAICVuIQIALASAQMA\\\n",
              "WImAAQCsRMAAAFYiYAAAKxEwAICVCBgAwEoEDABgJQIGALASAQMAWImAAQCsRMAAAFYiYAAAKxEw\\\n",
              "AICVCBgAwEoEDABgJQIGALASAQMAWImAAQCsRMAAAFb6X/2FVZjzo/xdAAAAAElFTkSuQmCC\\\n",
              "\"\n",
              "  frames[3] = \"data:image/png;base64,iVBORw0KGgoAAAANSUhEUgAAAbAAAAEgCAYAAADVKCZpAAAAOXRFWHRTb2Z0d2FyZQBNYXRwbG90\\\n",
              "bGliIHZlcnNpb24zLjcuMSwgaHR0cHM6Ly9tYXRwbG90bGliLm9yZy/bCgiHAAAACXBIWXMAAAsT\\\n",
              "AAALEwEAmpwYAAAZEElEQVR4nO3dcUzU9/3H8ddVoglpO1oqlgO3U49jiKJbEbdkcdyUdqsEtDrL\\\n",
              "4h+sGq6/bGuM/aWbfyy5u6QOtmSxJnNZjnUd2R/ltzYdLLBhtMKyLDaOZtZVfnqsgwQ4bPD0fltD\\\n",
              "VcTv7w9zV69oK47j+/0cz0diAp8v2Pclhed9v/e5ry7LsiwBAGCY++weAACAe0HAAABGImAAACMR\\\n",
              "MACAkQgYAMBIBAwAYCQCBgAwEgEDABiJgAEAjETAAABGImAAACMRMACAkQgYAMBIBAwAYCQCBgAw\\\n",
              "EgEDABiJgAEAjETAAABGImAAACMRMACAkQgYAMBIBAwAYCQCBgAwEgEDABiJgAEAjETAAABGImAA\\\n",
              "ACMRMACAkQgYAMBIBAwAYCQCBgAwEgEDABiJgAEAjETAAABGyrF7gEx55JFH5PF47B4DAIwyPDys\\\n",
              "ixcv2j3GXcnagHk8HvX399s9BgAYpbKy0u4R7hqXEJEmHo/Pah0A7ELAkBIKhVRRUaFoNJq2Ho1G\\\n",
              "VVFRoVAoZM9gAHAbBAySbsYrHA4rFovJ7/enIhaNRuX3+xWLxRQOh4kYAMcgYEjFKykZse7u7lS8\\\n",
              "kogYAKcgYAtcPB5Xa2tr2to2bdNkbFK1tbWajE1qm7alHW9tbeU1MQC2I2ALXH5+vnp7e+V2uyXd\\\n",
              "jNc+7dMhHZJHHh3SIe3TvlTE3G63ent7lZ+fb+PUAEDAIMnn86Ui1qc+DWtYHnn0il6RRx4Na1h9\\\n",
              "6kvFy+fz2T0yABAw3OTz+RSJRJRQQmGF046FFVZCCUUiEeIFwDEIGCTd3G0YCASUpzwFFUw7FlRQ\\\n",
              "ecpTIBCYscUeAOxCwJC2Vb5a1anLhs/omdTlxGpVz9hiDwB2ytpbSeHuxOPxtK3yHeqQJPWpTwkl\\\n",
              "tF/7Va3q1HoyYmfOnGEjBwBbcQa2wOXn56upqSltrUMdynXnqqurS7nu3FS8kpqamogXMAvcoi0z\\\n",
              "CBgUCoUUDH70uldyt+HWrVvTtthLUjAY5I3MwCxwi7YMsrLUY489ZvcIxgkGg5bb7bbOnz+ftn7+\\\n",
              "/HnL7XZbwWDQnsEAQwWDQUuSJSntZyv5M5U85qSfLZN+d7osy7LsTWhmVFZW8s+p3Cr0mVs+/r87\\\n",
              "flk8Hr/t5cE7rQO4vY/fok26eXUjEokoEAik3aJNcs7VDZN+d3IJEWnuFCniBdw9btE2PwgYAMwx\\\n",
              "btE2PxwVsCtXrqiqqkrr1q1TeXl5amPB0NCQNm7cKK/Xq6efflrXrl2zeVIDhf7voz8AMo5btGWe\\\n",
              "owK2ZMkSnThxQu+8845Onz6tnp4evfXWW/rBD36g/fv36x//+Iceeughvfzyy3aPCgCfilu0ZZaj\\\n",
              "AuZyuXT//fdLkqampjQ1NSWXy6UTJ05o586dkqTGxkZ1dHTYOCUA3B1u0ZZZjgqYJE1PT2v9+vUq\\\n",
              "KChQTU2NVq1apby8POXk3LxpSHFxscbGxmyeEgA+GbdoyzzH3Upq0aJFOn36tBKJhLZv365z587d\\\n",
              "9fdGIhFFIhFJ0sTERKZGBIBPxC3a5ofjzsCS8vLy5Pf7dfLkSSUSCV2/fl2SNDo6qqKiott+TyAQ\\\n",
              "UH9/v/r7+7V06dL5HBcAUrhF2/xwVMAmJiaUSCQkSR9++KGOHTumsrIy+f1+vf7665KktrY21dfX\\\n",
              "2zglANzkOdCd+vNx3KIt8xx1CXF8fFyNjY2anp7WjRs3tGvXLtXW1mr16tVqaGjQD3/4Q33hC1/Q\\\n",
              "3r177R4VAD5VMkqtra1pW+WTW+z9fr+ampqI1z3iVlIAcI9uPfMabtl6x68z6RZtJv3udNQZGACY\\\n",
              "5JOidStu0ZYZjnoNDACAu0XAAABGImAAACMRMACAkQgYAMBIBAwAYCQCBgAwEgEDABiJgAEAjETA\\\n",
              "AABGImAAACMRMACAkQjYPYrH47NaBwDMLQJ2D0KhkCoqKhSNRtPWo9GoKioq+Ld9AGAeELBZCoVC\\\n",
              "CofDisVi8vv9qYhFo1H5/X7FYjGFw2EiBgAZRsBmIRmvpGTEuru7U/FKImIAkFkE7C7F43G1tram\\\n",
              "rW3TNk3GJlVbW6vJ2KS2aVva8dbWVl4TA4AMIWB3KT8/X729vXK73ZJuxmuf9umQDskjjw7pkPZp\\\n",
              "Xypibrdbvb29/IurAJAhBGwWfD5fKmJ96tOwhuWRR6/oFXnk0bCG1ae+VLx8Pp/dIwNA1iJgs+Tz\\\n",
              "+RSJRJRQQmGF046FFVZCCUUiEeIFABlGwGYpGo0qEAgoT3kKKph2LKig8pSnQCAwY4s9AGBuEbBZ\\\n",
              "uHWrfLWqU5cNn9EzqcuJ1aqescUeADD3cuwewBTxeDxtq3yHOiRJfepTQgnt135Vqzq1nozYmTNn\\\n",
              "2MgBABngqDOwkZER+f1+rV69WuXl5Tp8+LAk6dKlS6qpqVFJSYlqamp0+fLleZ8tPz9fTU1NaWsd\\\n",
              "6lCuO1ddXV3Kdeem4pXU1NREvAAgQxwVsJycHP30pz/VwMCA3nrrLR05ckQDAwNqaWnR5s2bNTg4\\\n",
              "qM2bN6ulpcWW+UKhkILBj173Su423Lp1a9oWe0kKBoO8kRkAMshRlxALCwtVWFgoSXrggQdUVlam\\\n",
              "sbExdXZ2qq+vT5LU2Nio6upq/fjHP87IDP/7+bLUx2Xn/nfG8WSUWltb07bKJ7fY+/1+NTU1ES8A\\\n",
              "yDCXZVmW3UPczvDwsDZt2qR3331Xn/3sZ5VIJCRJlmXpoYceSn1+J5WVlerv75/1f/fTApYUj8dv\\\n",
              "e3nwTusAYIJ7/d1pB0edgSV98MEH2rFjh1566SU9+OCDacdcLpdcLtdtvy8SiSgSiUiSJiYmMjrj\\\n",
              "nSJFvABgfjguYFNTU9qxY4d2796tp556SpK0bNkyjY+Pq7CwUOPj4yooKLjt9wYCAQUCAUk3n0Xc\\\n",
              "i0866wIAOIejNnFYlqW9e/eqrKxMzz//fGq9rq5ObW1tkqS2tjbV19fbNSIAwCEcdQb2l7/8Rb/5\\\n",
              "zW+0du1arV+/XpL0ox/9SAcOHNCuXbv08ssv63Of+5x++9vf2jsoAMB2jgrYV77yFd1pT8mbb745\\\n",
              "z9MAAJzMUZcQAQC4WwQMAGAkAgYAMBIBAwAYiYABAIxEwAAARiJgAAAjETAAgJEIGADASAQMAGAk\\\n",
              "AgYAMBIBAwAYiYABAIxEwAAARiJgAAAjETAAgJEIGADASAQMAGAkAgYAMBIBAwAYiYABAIxEwAAA\\\n",
              "RiJgAAAjETAAgJEIGADASI4L2J49e1RQUKA1a9ak1i5duqSamhqVlJSopqZGly9ftnHChSMej89q\\\n",
              "HQDmk+MC9u1vf1s9PT1pay0tLdq8ebMGBwe1efNmtbS02DTdwhEKhVRRUaFoNJq2Ho1GVVFRoVAo\\\n",
              "ZM9gAFIW+pNMxwVs06ZNevjhh9PWOjs71djYKElqbGxUR0eHDZMtHKFQSOFwWLFYTH6/PxWxaDQq\\\n",
              "v9+vWCymcDhMxAAb8SRTkuVAQ0NDVnl5eerzz3zmM6mPb9y4kfb5nTz22GMZmCz7BYNBS1LaH7fb\\\n",
              "bXV1dVlut3vGsWAwaPfIwIJz68+p2+22zp8/b1mWZZ0/fz7t5/Refj5N+t3puDOwT+NyueRyuW57\\\n",
              "LBKJqLKyUpWVlZqYmJjnycwXj8fV2tqatrZN2zQZm1Rtba0mY5Papm1px1tbWxfM5QrACZJXSJKS\\\n",
              "V0q6u7tTV0iSsv1KiREBW7ZsmcbHxyVJ4+PjKigouO3XBQIB9ff3q7+/X0uXLp3PEbNCfn6+ent7\\\n",
              "5Xa7Jd2M1z7t0yEdkkceHdIh7dO+VMTcbrd6e3uVn59v49TAwsGTzHRGBKyurk5tbW2SpLa2NtXX\\\n",
              "19s8Ufby+XypiPWpT8MalkcevaJX5JFHwxpWn/pS8fL5fHaPDCwYPMlM57iAfetb39KXv/xlnT9/\\\n",
              "XsXFxXr55Zd14MABHTt2TCUlJTp+/LgOHDhg95hZzefzKRKJKKGEwgqnHQsrrIQSikQixAuwAU8y\\\n",
              "P+KyLMuye4hMqKysVH9/v91jGCm523AyNpl6Zpc0rGHt137lunOz/ocDcLLu7m7V1tam4pX0jJ7R\\\n",
              "sIbV1dWlrVu3zvrvNel3p+POwGCvW7fKV6s69Ywu+UPhkUfVqp6xxR7A/IlGowoEAspTnoIKph0L\\\n",
              "Kqg85SkQCGT9zycBQ0o8Hk/bxdShDh3WYe3X/tSZ12EdVoc6JH20+ylbXyAGnIgnmR8hYEjJz89X\\\n",
              "U1NT2lqHOpTrzlVXV5dy3bmpeCU1NTVl7QvEgNPwJDMdAUOaUCikYPCjSxLJF4K3bt2atvtJkoLB\\\n",
              "YFa/xwRwGp5kfozd76TOFJPeTT7f1vx6TerPnQSDwbR3+Ccl3+nPHTgA+3AnjpvYhbgArW1bm/r4\\\n",
              "741/v+PXxePx2z5zu9M6gLnx06drUx//9/903fZrQqGQWltbZ+wGTr5G1tTUdE9XSEz63Zlj9wBw\\\n",
              "rjtFingB9guFQnruuedm/Dz6fD6dOXNmQfycErAF6JPOugCYY6E/ySRgAOAwd7psiHTsQgQAGImA\\\n",
              "AQCMRMAAAEYiYAAAIxEwAICRCBgAwEgEDABgJAIGADASAQMAGImAAQCMRMAAAEYiYAAAIxEwAICR\\\n",
              "CBgAwEgEDABgJGMC1tPTo9LSUnm9XrW0tNg9DgDAZkYEbHp6Wt/97nf1xz/+UQMDA3r11Vc1MDBg\\\n",
              "91gAABsZEbBTp07J6/Vq5cqVWrx4sRoaGtTZ2Wn3WAAAGxkRsLGxMS1fvjz1eXFxscbGxmycCABg\\\n",
              "txy7B5hLkUhEkUhEkjQxMWHzNACATDLiDKyoqEgjIyOpz0dHR1VUVDTj6wKBgPr7+9Xf36+lS5fO\\\n",
              "54gAgHlmRMA2bNigwcFBDQ0N6dq1a2pvb1ddXZ3dYwEAbGTEJcScnBz97Gc/0xNPPKHp6Wnt2bNH\\\n",
              "5eXldo8FALCREQGTpCeffFJPPvmk3WMAABzCiEuIAAB8HAEDABiJgAEAjETAAABGImAAACMRMACA\\\n",
              "kQgYAMBIBAwAYCQCBgAwEgEDABiJgAEAjETAAABGImAAACMRMACAkQgYAMBIBAwAYCQCBgAwEgED\\\n",
              "ABiJgAEAjETAAABGImAAACMRMACAkQgYAMBIBAwAYCTHBOy1115TeXm57rvvPvX396cda25ultfr\\\n",
              "VWlpqY4ePWrThAAAJ8mxe4CkNWvW6I033tCzzz6btj4wMKD29nadPXtWsVhMW7ZsUTQa1aJFi2ya\\\n",
              "FADgBI45AysrK1NpaemM9c7OTjU0NGjJkiVasWKFvF6vTp06ZcOEAAAncUzA7mRsbEzLly9PfV5c\\\n",
              "XKyxsTEbJwIAOMG8XkLcsmWLLly4MGP94MGDqq+v/4///kgkokgkIkmamJj4j/8+AIBzzWvAjh8/\\\n",
              "PuvvKSoq0sjISOrz0dFRFRUV3fZrA4GAAoGAJKmysvLehgQAGMHxlxDr6urU3t6uq1evamhoSIOD\\\n",
              "g6qqqrJ7LACAzRwTsN/97ncqLi7WyZMntXXrVj3xxBOSpPLycu3atUurV6/W17/+dR05coQdiAAA\\\n",
              "uSzLsuweIhMqKytnvJ8MAPDJTPrd6ZgzMAAAZoOAAQCMRMAAAEYiYAAAIxEwAICRCBgAwEgEDABg\\\n",
              "JAIGADASAQMAGImAAQCMRMAAAEYiYAAAIxEwAICRCBgAwEgEDABgJAIGADASAQMAGImAAQCMRMAA\\\n",
              "AEYiYAAAIxEwAICRCBgAwEgEDABgJAIGADCSYwL2wgsv6POf/7wqKiq0fft2JRKJ1LHm5mZ5vV6V\\\n",
              "lpbq6NGj9g0JAHAMxwSspqZG7777rs6cOSOfz6fm5mZJ0sDAgNrb23X27Fn19PToO9/5jqanp22e\\\n",
              "FgBgN8cE7PHHH1dOTo4k6Utf+pJGR0clSZ2dnWpoaNCSJUu0YsUKeb1enTp1ys5RAQAO4JiA3epX\\\n",
              "v/qVvvGNb0iSxsbGtHz58tSx4uJijY2N2TUaAMAhcubzP7ZlyxZduHBhxvrBgwdVX1+f+jgnJ0e7\\\n",
              "d++e9d8fiUQUiUQkSRMTE//ZsAAAR5vXgB0/fvwTj//6179WV1eX3nzzTblcLklSUVGRRkZGUl8z\\\n",
              "OjqqoqKi235/IBBQIBCQJFVWVs7R1AAAJ3LMJcSenh795Cc/0e9//3vl5uam1uvq6tTe3q6rV69q\\\n",
              "aGhIg4ODqqqqsnFSAIATzOsZ2Cf53ve+p6tXr6qmpkbSzY0cv/jFL1ReXq5du3Zp9erVysnJ0ZEj\\\n",
              "R7Ro0SKbpwUA2M1lWZZl9xCZUFlZqf7+frvHAACjmPS70zGXEAEA9y4ej89qPRsQMAAwXCgUUkVF\\\n",
              "haLRaNp6NBpVRUWFQqGQPYNlGAEDAIOFQiGFw2HFYjH5/f5UxKLRqPx+v2KxmMLhcFZGjIABgKGS\\\n",
              "8UpKRqy7uzsVr6RsjBgBAwADxeNxtba2pq1t0zZNxiZVW1urydiktmlb2vHW1tasek2MgAGAgfLz\\\n",
              "89Xb2yu32y3pZrz2aZ8O6ZA88uiQDmmf9qUi5na71dvbq/z8fBunnlsEDAAM5fP5UhHrU5+GNSyP\\\n",
              "PHpFr8gjj4Y1rD71peLl8/nsHnlOETAAMJjP51MkElFCCYUVTjsWVlgJJRSJRLIuXhIBAwCjRaNR\\\n",
              "BQIB5SlPQQXTjgUVVJ7yFAgEZmyxzwYEDAAMdetW+WpVpy4bPqNnUpcTq1U9Y4t9tnDMvRABAHcv\\\n",
              "Ho+nbZXvUIckqU99Siih/dqvalWn1pMRO3PmTNZs5OAMDAAMlJ+fr6amprS1DnUo152rrq4u5bpz\\\n",
              "U/FKampqypp4SZyBAYCjHfmvE6mPv/uLr6UdS74xOflm5lt3G/b29qadoQWDwax7IzMBAwCDJaPU\\\n",
              "2tqatlX+1og1NTVlXbwkAgYAxguFQnruuedmXB70+XxZ9ZrXxxEwAHCwj182vJM7RSpb4yWxiQMA\\\n",
              "YCgCBgAwEgEDABiJgAEAjETAAABGImAAACMRMACAkVyWZVl2D5EJjzzyiDwej91jZNzExISWLl1q\\\n",
              "9xjzise8MPCY7TE8PKyLFy/aOsPdytqALRSVlZXq7++3e4x5xWNeGHjM+DRcQgQAGImAAQCMRMAM\\\n",
              "FwgE7B5h3vGYFwYeMz4Nr4EBAIzEGRgAwEgEzECvvfaaysvLdd99983YsdTc3Cyv16vS0lIdPXrU\\\n",
              "pgkzo6enR6WlpfJ6vWppabF7nIzZs2ePCgoKtGbNmtTapUuXVFNTo5KSEtXU1Ojy5cs2Tjj3RkZG\\\n",
              "5Pf7tXr1apWXl+vw4cOSsvtxX7lyRVVVVVq3bp3Ky8sVDAYlSUNDQ9q4caO8Xq+efvppXbt2zeZJ\\\n",
              "HcyCcQYGBqxz585ZX/3qV62//vWvqfWzZ89aFRUV1pUrV6x//vOf1sqVK63r16/bOOncuX79urVy\\\n",
              "5Urrvffes65evWpVVFRYZ8+etXusjPjTn/5kvf3221Z5eXlq7YUXXrCam5sty7Ks5uZm6/vf/75d\\\n",
              "42VELBaz3n77bcuyLOtf//qXVVJSYp09ezarH/eNGzesf//735ZlWda1a9esqqoq6+TJk9Y3v/lN\\\n",
              "69VXX7Usy7KeffZZ6+c//7mdYzoaZ2AGKisrU2lp6Yz1zs5ONTQ0aMmSJVqxYoW8Xq9OnTplw4Rz\\\n",
              "79SpU/J6vVq5cqUWL16shoYGdXZ22j1WRmzatEkPP/xw2lpnZ6caGxslSY2Njero6LBhsswpLCzU\\\n",
              "F7/4RUnSAw88oLKyMo2NjWX143a5XLr//vslSVNTU5qampLL5dKJEye0c+dOSdn3mOcaAcsiY2Nj\\\n",
              "Wr58eerz4uJijY2N2TjR3Mnmx3Y33n//fRUWFkqSHn30Ub3//vs2T5Q5w8PD+tvf/qaNGzdm/eOe\\\n",
              "np7W+vXrVVBQoJqaGq1atUp5eXnKycmRtPD+P5+tHLsHwO1t2bJFFy5cmLF+8OBB1dfX2zARnMLl\\\n",
              "csnlctk9RkZ88MEH2rFjh1566SU9+OCDacey8XEvWrRIp0+fViKR0Pbt23Xu3Dm7RzIKAXOo48eP\\\n",
              "z/p7ioqKNDIykvp8dHRURUVFczmWbbL5sd2NZcuWaXx8XIWFhRofH1dBQYHdI825qakp7dixQ7t3\\\n",
              "79ZTTz0laWE8bknKy8uT3+/XyZMnlUgkdP36deXk5Cy4/89ni0uIWaSurk7t7e26evWqhoaGNDg4\\\n",
              "qKqqKrvHmhMbNmzQ4OCghoaGdO3aNbW3t6uurs7useZNXV2d2traJEltbW1ZdxZuWZb27t2rsrIy\\\n",
              "Pf/886n1bH7cExMTSiQSkqQPP/xQx44dU1lZmfx+v15//XVJ2feY55zdu0gwe2+88YZVVFRkLV68\\\n",
              "2CooKLAef/zx1LEXX3zRWrlypeXz+aw//OEPNk4597q7u62SkhJr5cqV1osvvmj3OBnT0NBgPfro\\\n",
              "o1ZOTo5VVFRk/fKXv7QuXrxofe1rX7O8Xq+1efNmKx6P2z3mnPrzn/9sSbLWrl1rrVu3zlq3bp3V\\\n",
              "3d2d1Y/7nXfesdavX2+tXbvWKi8vt8LhsGVZlvXee+9ZGzZssFatWmXt3LnTunLlis2TOhd34gAA\\\n",
              "GIlLiAAAIxEwAICRCBgAwEgEDABgJAIGADASAQMAGImAAQCMRMAAAEYiYAAAIxEwAICRCBgAwEgE\\\n",
              "DABgJAIGADASAQMAGImAAQCMRMAAAEYiYAAAIxEwAICRCBgAwEgEDABgpP8HJ8GK0OGDmdcAAAAA\\\n",
              "SUVORK5CYII=\\\n",
              "\"\n",
              "  frames[4] = \"data:image/png;base64,iVBORw0KGgoAAAANSUhEUgAAAbAAAAEgCAYAAADVKCZpAAAAOXRFWHRTb2Z0d2FyZQBNYXRwbG90\\\n",
              "bGliIHZlcnNpb24zLjcuMSwgaHR0cHM6Ly9tYXRwbG90bGliLm9yZy/bCgiHAAAACXBIWXMAAAsT\\\n",
              "AAALEwEAmpwYAAAZEElEQVR4nO3dcUzU9/3H8ddVoglpO1oqlgO3U49jiKJbEbdkcdyUdqsEtDrL\\\n",
              "4h+sGq6/bGuM/aWbfyy5u6QOtmSxJnNZjnUd2R/ltzYdLLBhtMKyLDaOZtZVfnqsgwQ4bPD0fltD\\\n",
              "VcTv7w9zV69oK47j+/0cz0diAp8v2Pclhed9v/e5ry7LsiwBAGCY++weAACAe0HAAABGImAAACMR\\\n",
              "MACAkQgYAMBIBAwAYCQCBgAwEgEDABiJgAEAjETAAABGImAAACMRMACAkQgYAMBIBAwAYCQCBgAw\\\n",
              "EgEDABiJgAEAjETAAABGImAAACMRMACAkQgYAMBIBAwAYCQCBgAwEgEDABiJgAEAjETAAABGImAA\\\n",
              "ACMRMACAkQgYAMBIBAwAYCQCBgAwEgEDABiJgAEAjETAAABGyrF7gEx55JFH5PF47B4DAIwyPDys\\\n",
              "ixcv2j3GXcnagHk8HvX399s9BgAYpbKy0u4R7hqXEJEmHo/Pah0A7ELAkBIKhVRRUaFoNJq2Ho1G\\\n",
              "VVFRoVAoZM9gAHAbBAySbsYrHA4rFovJ7/enIhaNRuX3+xWLxRQOh4kYAMcgYEjFKykZse7u7lS8\\\n",
              "kogYAKcgYAtcPB5Xa2tr2to2bdNkbFK1tbWajE1qm7alHW9tbeU1MQC2I2ALXH5+vnp7e+V2uyXd\\\n",
              "jNc+7dMhHZJHHh3SIe3TvlTE3G63ent7lZ+fb+PUAEDAIMnn86Ui1qc+DWtYHnn0il6RRx4Na1h9\\\n",
              "6kvFy+fz2T0yABAw3OTz+RSJRJRQQmGF046FFVZCCUUiEeIFwDEIGCTd3G0YCASUpzwFFUw7FlRQ\\\n",
              "ecpTIBCYscUeAOxCwJC2Vb5a1anLhs/omdTlxGpVz9hiDwB2ytpbSeHuxOPxtK3yHeqQJPWpTwkl\\\n",
              "tF/7Va3q1HoyYmfOnGEjBwBbcQa2wOXn56upqSltrUMdynXnqqurS7nu3FS8kpqamogXMAvcoi0z\\\n",
              "CBgUCoUUDH70uldyt+HWrVvTtthLUjAY5I3MwCxwi7YMsrLUY489ZvcIxgkGg5bb7bbOnz+ftn7+\\\n",
              "/HnL7XZbwWDQnsEAQwWDQUuSJSntZyv5M5U85qSfLZN+d7osy7LsTWhmVFZW8s+p3Cr0mVs+/r87\\\n",
              "flk8Hr/t5cE7rQO4vY/fok26eXUjEokoEAik3aJNcs7VDZN+d3IJEWnuFCniBdw9btE2PwgYAMwx\\\n",
              "btE2PxwVsCtXrqiqqkrr1q1TeXl5amPB0NCQNm7cKK/Xq6efflrXrl2zeVIDhf7voz8AMo5btGWe\\\n",
              "owK2ZMkSnThxQu+8845Onz6tnp4evfXWW/rBD36g/fv36x//+Iceeughvfzyy3aPCgCfilu0ZZaj\\\n",
              "AuZyuXT//fdLkqampjQ1NSWXy6UTJ05o586dkqTGxkZ1dHTYOCUA3B1u0ZZZjgqYJE1PT2v9+vUq\\\n",
              "KChQTU2NVq1apby8POXk3LxpSHFxscbGxmyeEgA+GbdoyzzH3Upq0aJFOn36tBKJhLZv365z587d\\\n",
              "9fdGIhFFIhFJ0sTERKZGBIBPxC3a5ofjzsCS8vLy5Pf7dfLkSSUSCV2/fl2SNDo6qqKiott+TyAQ\\\n",
              "UH9/v/r7+7V06dL5HBcAUrhF2/xwVMAmJiaUSCQkSR9++KGOHTumsrIy+f1+vf7665KktrY21dfX\\\n",
              "2zglANzkOdCd+vNx3KIt8xx1CXF8fFyNjY2anp7WjRs3tGvXLtXW1mr16tVqaGjQD3/4Q33hC1/Q\\\n",
              "3r177R4VAD5VMkqtra1pW+WTW+z9fr+ampqI1z3iVlIAcI9uPfMabtl6x68z6RZtJv3udNQZGACY\\\n",
              "5JOidStu0ZYZjnoNDACAu0XAAABGImAAACMRMACAkQgYAMBIBAwAYCQCBgAwEgEDABiJgAEAjETA\\\n",
              "AABGImAAACMRMACAkQjYPYrH47NaBwDMLQJ2D0KhkCoqKhSNRtPWo9GoKioq+Ld9AGAeELBZCoVC\\\n",
              "CofDisVi8vv9qYhFo1H5/X7FYjGFw2EiBgAZRsBmIRmvpGTEuru7U/FKImIAkFkE7C7F43G1tram\\\n",
              "rW3TNk3GJlVbW6vJ2KS2aVva8dbWVl4TA4AMIWB3KT8/X729vXK73ZJuxmuf9umQDskjjw7pkPZp\\\n",
              "Xypibrdbvb29/IurAJAhBGwWfD5fKmJ96tOwhuWRR6/oFXnk0bCG1ae+VLx8Pp/dIwNA1iJgs+Tz\\\n",
              "+RSJRJRQQmGF046FFVZCCUUiEeIFABlGwGYpGo0qEAgoT3kKKph2LKig8pSnQCAwY4s9AGBuEbBZ\\\n",
              "uHWrfLWqU5cNn9EzqcuJ1aqescUeADD3cuwewBTxeDxtq3yHOiRJfepTQgnt135Vqzq1nozYmTNn\\\n",
              "2MgBABngqDOwkZER+f1+rV69WuXl5Tp8+LAk6dKlS6qpqVFJSYlqamp0+fLleZ8tPz9fTU1NaWsd\\\n",
              "6lCuO1ddXV3Kdeem4pXU1NREvAAgQxwVsJycHP30pz/VwMCA3nrrLR05ckQDAwNqaWnR5s2bNTg4\\\n",
              "qM2bN6ulpcWW+UKhkILBj173Su423Lp1a9oWe0kKBoO8kRkAMshRlxALCwtVWFgoSXrggQdUVlam\\\n",
              "sbExdXZ2qq+vT5LU2Nio6upq/fjHP87IDP/7+bLUx2Xn/nfG8WSUWltb07bKJ7fY+/1+NTU1ES8A\\\n",
              "yDCXZVmW3UPczvDwsDZt2qR3331Xn/3sZ5VIJCRJlmXpoYceSn1+J5WVlerv75/1f/fTApYUj8dv\\\n",
              "e3nwTusAYIJ7/d1pB0edgSV98MEH2rFjh1566SU9+OCDacdcLpdcLtdtvy8SiSgSiUiSJiYmMjrj\\\n",
              "nSJFvABgfjguYFNTU9qxY4d2796tp556SpK0bNkyjY+Pq7CwUOPj4yooKLjt9wYCAQUCAUk3n0Xc\\\n",
              "i0866wIAOIejNnFYlqW9e/eqrKxMzz//fGq9rq5ObW1tkqS2tjbV19fbNSIAwCEcdQb2l7/8Rb/5\\\n",
              "zW+0du1arV+/XpL0ox/9SAcOHNCuXbv08ssv63Of+5x++9vf2jsoAMB2jgrYV77yFd1pT8mbb745\\\n",
              "z9MAAJzMUZcQAQC4WwQMAGAkAgYAMBIBAwAYiYABAIxEwAAARiJgAAAjETAAgJEIGADASAQMAGAk\\\n",
              "AgYAMBIBAwAYiYABAIxEwAAARiJgAAAjETAAgJEIGADASAQMAGAkAgYAMBIBAwAYiYABAIxEwAAA\\\n",
              "RiJgAAAjETAAgJEIGADASI4L2J49e1RQUKA1a9ak1i5duqSamhqVlJSopqZGly9ftnHChSMej89q\\\n",
              "HQDmk+MC9u1vf1s9PT1pay0tLdq8ebMGBwe1efNmtbS02DTdwhEKhVRRUaFoNJq2Ho1GVVFRoVAo\\\n",
              "ZM9gAFIW+pNMxwVs06ZNevjhh9PWOjs71djYKElqbGxUR0eHDZMtHKFQSOFwWLFYTH6/PxWxaDQq\\\n",
              "v9+vWCymcDhMxAAb8SRTkuVAQ0NDVnl5eerzz3zmM6mPb9y4kfb5nTz22GMZmCz7BYNBS1LaH7fb\\\n",
              "bXV1dVlut3vGsWAwaPfIwIJz68+p2+22zp8/b1mWZZ0/fz7t5/Refj5N+t3puDOwT+NyueRyuW57\\\n",
              "LBKJqLKyUpWVlZqYmJjnycwXj8fV2tqatrZN2zQZm1Rtba0mY5Papm1px1tbWxfM5QrACZJXSJKS\\\n",
              "V0q6u7tTV0iSsv1KiREBW7ZsmcbHxyVJ4+PjKigouO3XBQIB9ff3q7+/X0uXLp3PEbNCfn6+ent7\\\n",
              "5Xa7Jd2M1z7t0yEdkkceHdIh7dO+VMTcbrd6e3uVn59v49TAwsGTzHRGBKyurk5tbW2SpLa2NtXX\\\n",
              "19s8Ufby+XypiPWpT8MalkcevaJX5JFHwxpWn/pS8fL5fHaPDCwYPMlM57iAfetb39KXv/xlnT9/\\\n",
              "XsXFxXr55Zd14MABHTt2TCUlJTp+/LgOHDhg95hZzefzKRKJKKGEwgqnHQsrrIQSikQixAuwAU8y\\\n",
              "P+KyLMuye4hMqKysVH9/v91jGCm523AyNpl6Zpc0rGHt137lunOz/ocDcLLu7m7V1tam4pX0jJ7R\\\n",
              "sIbV1dWlrVu3zvrvNel3p+POwGCvW7fKV6s69Ywu+UPhkUfVqp6xxR7A/IlGowoEAspTnoIKph0L\\\n",
              "Kqg85SkQCGT9zycBQ0o8Hk/bxdShDh3WYe3X/tSZ12EdVoc6JH20+ylbXyAGnIgnmR8hYEjJz89X\\\n",
              "U1NT2lqHOpTrzlVXV5dy3bmpeCU1NTVl7QvEgNPwJDMdAUOaUCikYPCjSxLJF4K3bt2atvtJkoLB\\\n",
              "YFa/xwRwGp5kfozd76TOFJPeTT7f1vx6TerPnQSDwbR3+Ccl3+nPHTgA+3AnjpvYhbgArW1bm/r4\\\n",
              "741/v+PXxePx2z5zu9M6gLnx06drUx//9/903fZrQqGQWltbZ+wGTr5G1tTUdE9XSEz63Zlj9wBw\\\n",
              "rjtFingB9guFQnruuedm/Dz6fD6dOXNmQfycErAF6JPOugCYY6E/ySRgAOAwd7psiHTsQgQAGImA\\\n",
              "AQCMRMAAAEYiYAAAIxEwAICRCBgAwEgEDABgJAIGADASAQMAGImAAQCMRMAAAEYiYAAAIxEwAICR\\\n",
              "CBgAwEgEDABgJGMC1tPTo9LSUnm9XrW0tNg9DgDAZkYEbHp6Wt/97nf1xz/+UQMDA3r11Vc1MDBg\\\n",
              "91gAABsZEbBTp07J6/Vq5cqVWrx4sRoaGtTZ2Wn3WAAAGxkRsLGxMS1fvjz1eXFxscbGxmycCABg\\\n",
              "txy7B5hLkUhEkUhEkjQxMWHzNACATDLiDKyoqEgjIyOpz0dHR1VUVDTj6wKBgPr7+9Xf36+lS5fO\\\n",
              "54gAgHlmRMA2bNigwcFBDQ0N6dq1a2pvb1ddXZ3dYwEAbGTEJcScnBz97Gc/0xNPPKHp6Wnt2bNH\\\n",
              "5eXldo8FALCREQGTpCeffFJPPvmk3WMAABzCiEuIAAB8HAEDABiJgAEAjETAAABGImAAACMRMACA\\\n",
              "kQgYAMBIBAwAYCQCBgAwEgEDABiJgAEAjETAAABGImAAACMRMACAkQgYAMBIBAwAYCQCBgAwEgED\\\n",
              "ABiJgAEAjETAAABGImAAACMRMACAkQgYAMBIBAwAYCTHBOy1115TeXm57rvvPvX396cda25ultfr\\\n",
              "VWlpqY4ePWrThAAAJ8mxe4CkNWvW6I033tCzzz6btj4wMKD29nadPXtWsVhMW7ZsUTQa1aJFi2ya\\\n",
              "FADgBI45AysrK1NpaemM9c7OTjU0NGjJkiVasWKFvF6vTp06ZcOEAAAncUzA7mRsbEzLly9PfV5c\\\n",
              "XKyxsTEbJwIAOMG8XkLcsmWLLly4MGP94MGDqq+v/4///kgkokgkIkmamJj4j/8+AIBzzWvAjh8/\\\n",
              "PuvvKSoq0sjISOrz0dFRFRUV3fZrA4GAAoGAJKmysvLehgQAGMHxlxDr6urU3t6uq1evamhoSIOD\\\n",
              "g6qqqrJ7LACAzRwTsN/97ncqLi7WyZMntXXrVj3xxBOSpPLycu3atUurV6/W17/+dR05coQdiAAA\\\n",
              "uSzLsuweIhMqKytnvJ8MAPDJTPrd6ZgzMAAAZoOAAQCMRMAAAEYiYAAAIxEwAICRCBgAwEgEDABg\\\n",
              "JAIGADASAQMAGImAAQCMRMAAAEYiYAAAIxEwAICRCBgAwEgEDABgJAIGADASAQMAGImAAQCMRMAA\\\n",
              "AEYiYAAAIxEwAICRCBgAwEgEDABgJAIGADCSYwL2wgsv6POf/7wqKiq0fft2JRKJ1LHm5mZ5vV6V\\\n",
              "lpbq6NGj9g0JAHAMxwSspqZG7777rs6cOSOfz6fm5mZJ0sDAgNrb23X27Fn19PToO9/5jqanp22e\\\n",
              "FgBgN8cE7PHHH1dOTo4k6Utf+pJGR0clSZ2dnWpoaNCSJUu0YsUKeb1enTp1ys5RAQAO4JiA3epX\\\n",
              "v/qVvvGNb0iSxsbGtHz58tSx4uJijY2N2TUaAMAhcubzP7ZlyxZduHBhxvrBgwdVX1+f+jgnJ0e7\\\n",
              "d++e9d8fiUQUiUQkSRMTE//ZsAAAR5vXgB0/fvwTj//6179WV1eX3nzzTblcLklSUVGRRkZGUl8z\\\n",
              "OjqqoqKi235/IBBQIBCQJFVWVs7R1AAAJ3LMJcSenh795Cc/0e9//3vl5uam1uvq6tTe3q6rV69q\\\n",
              "aGhIg4ODqqqqsnFSAIATzOsZ2Cf53ve+p6tXr6qmpkbSzY0cv/jFL1ReXq5du3Zp9erVysnJ0ZEj\\\n",
              "R7Ro0SKbpwUA2M1lWZZl9xCZUFlZqf7+frvHAACjmPS70zGXEAEA9y4ej89qPRsQMAAwXCgUUkVF\\\n",
              "haLRaNp6NBpVRUWFQqGQPYNlGAEDAIOFQiGFw2HFYjH5/f5UxKLRqPx+v2KxmMLhcFZGjIABgKGS\\\n",
              "8UpKRqy7uzsVr6RsjBgBAwADxeNxtba2pq1t0zZNxiZVW1urydiktmlb2vHW1tasek2MgAGAgfLz\\\n",
              "89Xb2yu32y3pZrz2aZ8O6ZA88uiQDmmf9qUi5na71dvbq/z8fBunnlsEDAAM5fP5UhHrU5+GNSyP\\\n",
              "PHpFr8gjj4Y1rD71peLl8/nsHnlOETAAMJjP51MkElFCCYUVTjsWVlgJJRSJRLIuXhIBAwCjRaNR\\\n",
              "BQIB5SlPQQXTjgUVVJ7yFAgEZmyxzwYEDAAMdetW+WpVpy4bPqNnUpcTq1U9Y4t9tnDMvRABAHcv\\\n",
              "Ho+nbZXvUIckqU99Siih/dqvalWn1pMRO3PmTNZs5OAMDAAMlJ+fr6amprS1DnUo152rrq4u5bpz\\\n",
              "U/FKampqypp4SZyBAYCjHfmvE6mPv/uLr6UdS74xOflm5lt3G/b29qadoQWDwax7IzMBAwCDJaPU\\\n",
              "2tqatlX+1og1NTVlXbwkAgYAxguFQnruuedmXB70+XxZ9ZrXxxEwAHCwj182vJM7RSpb4yWxiQMA\\\n",
              "YCgCBgAwEgEDABiJgAEAjETAAABGImAAACMRMACAkVyWZVl2D5EJjzzyiDwej91jZNzExISWLl1q\\\n",
              "9xjzise8MPCY7TE8PKyLFy/aOsPdytqALRSVlZXq7++3e4x5xWNeGHjM+DRcQgQAGImAAQCMRMAM\\\n",
              "FwgE7B5h3vGYFwYeMz4Nr4EBAIzEGRgAwEgEzECvvfaaysvLdd99983YsdTc3Cyv16vS0lIdPXrU\\\n",
              "pgkzo6enR6WlpfJ6vWppabF7nIzZs2ePCgoKtGbNmtTapUuXVFNTo5KSEtXU1Ojy5cs2Tjj3RkZG\\\n",
              "5Pf7tXr1apWXl+vw4cOSsvtxX7lyRVVVVVq3bp3Ky8sVDAYlSUNDQ9q4caO8Xq+efvppXbt2zeZJ\\\n",
              "HcyCcQYGBqxz585ZX/3qV62//vWvqfWzZ89aFRUV1pUrV6x//vOf1sqVK63r16/bOOncuX79urVy\\\n",
              "5Urrvffes65evWpVVFRYZ8+etXusjPjTn/5kvf3221Z5eXlq7YUXXrCam5sty7Ks5uZm6/vf/75d\\\n",
              "42VELBaz3n77bcuyLOtf//qXVVJSYp09ezarH/eNGzesf//735ZlWda1a9esqqoq6+TJk9Y3v/lN\\\n",
              "69VXX7Usy7KeffZZ6+c//7mdYzoaZ2AGKisrU2lp6Yz1zs5ONTQ0aMmSJVqxYoW8Xq9OnTplw4Rz\\\n",
              "79SpU/J6vVq5cqUWL16shoYGdXZ22j1WRmzatEkPP/xw2lpnZ6caGxslSY2Njero6LBhsswpLCzU\\\n",
              "F7/4RUnSAw88oLKyMo2NjWX143a5XLr//vslSVNTU5qampLL5dKJEye0c+dOSdn3mOcaAcsiY2Nj\\\n",
              "Wr58eerz4uJijY2N2TjR3Mnmx3Y33n//fRUWFkqSHn30Ub3//vs2T5Q5w8PD+tvf/qaNGzdm/eOe\\\n",
              "np7W+vXrVVBQoJqaGq1atUp5eXnKycmRtPD+P5+tHLsHwO1t2bJFFy5cmLF+8OBB1dfX2zARnMLl\\\n",
              "csnlctk9RkZ88MEH2rFjh1566SU9+OCDacey8XEvWrRIp0+fViKR0Pbt23Xu3Dm7RzIKAXOo48eP\\\n",
              "z/p7ioqKNDIykvp8dHRURUVFczmWbbL5sd2NZcuWaXx8XIWFhRofH1dBQYHdI825qakp7dixQ7t3\\\n",
              "79ZTTz0laWE8bknKy8uT3+/XyZMnlUgkdP36deXk5Cy4/89ni0uIWaSurk7t7e26evWqhoaGNDg4\\\n",
              "qKqqKrvHmhMbNmzQ4OCghoaGdO3aNbW3t6uurs7useZNXV2d2traJEltbW1ZdxZuWZb27t2rsrIy\\\n",
              "Pf/886n1bH7cExMTSiQSkqQPP/xQx44dU1lZmfx+v15//XVJ2feY55zdu0gwe2+88YZVVFRkLV68\\\n",
              "2CooKLAef/zx1LEXX3zRWrlypeXz+aw//OEPNk4597q7u62SkhJr5cqV1osvvmj3OBnT0NBgPfro\\\n",
              "o1ZOTo5VVFRk/fKXv7QuXrxofe1rX7O8Xq+1efNmKx6P2z3mnPrzn/9sSbLWrl1rrVu3zlq3bp3V\\\n",
              "3d2d1Y/7nXfesdavX2+tXbvWKi8vt8LhsGVZlvXee+9ZGzZssFatWmXt3LnTunLlis2TOhd34gAA\\\n",
              "GIlLiAAAIxEwAICRCBgAwEgEDABgJAIGADASAQMAGImAAQCMRMAAAEYiYAAAIxEwAICRCBgAwEgE\\\n",
              "DABgJAIGADASAQMAGImAAQCMRMAAAEYiYAAAIxEwAICRCBgAwEgEDABgpP8HJ8GK0OGDmdcAAAAA\\\n",
              "SUVORK5CYII=\\\n",
              "\"\n",
              "\n",
              "\n",
              "    /* set a timeout to make sure all the above elements are created before\n",
              "       the object is initialized. */\n",
              "    setTimeout(function() {\n",
              "        anim5a3d3826453c4b378bac1a0d9c9e5351 = new Animation(frames, img_id, slider_id, 299.0,\n",
              "                                 loop_select_id);\n",
              "    }, 0);\n",
              "  })()\n",
              "</script>\n"
            ]
          },
          "metadata": {},
          "execution_count": 39
        }
      ],
      "source": [
        "# create your own animation\n",
        "X = data.clone()\n",
        "fig,ax = plt.subplots()\n",
        "ani = FuncAnimation(fig, do_one, frames=5, interval=300,repeat=False)\n",
        "plt.close()\n",
        "HTML(ani.to_jshtml())"
      ]
    },
    {
      "cell_type": "code",
      "execution_count": 40,
      "metadata": {
        "colab": {
          "base_uri": "https://localhost:8080/",
          "height": 265
        },
        "id": "9R4Nej8DQTul",
        "outputId": "5bce100e-a2e8-414e-86a7-59edd7a0f79a"
      },
      "outputs": [
        {
          "output_type": "display_data",
          "data": {
            "text/plain": [
              "<Figure size 432x288 with 1 Axes>"
            ],
            "image/png": "[encoded data removed]"
          },
          "metadata": {
            "needs_background": "light"
          }
        }
      ],
      "source": [
        "plot_data(centroids+2, data, n_samples)"
      ]
    },
    {
      "cell_type": "markdown",
      "metadata": {
        "id": "qviacI3lQTul"
      },
      "source": [
        "## GPU batched algorithm"
      ]
    },
    {
      "cell_type": "markdown",
      "metadata": {
        "id": "rCnfBbnXQTum"
      },
      "source": [
        "To truly accelerate the algorithm, we need to be performing updates on a batch of points per iteration, instead of just one as we were doing."
      ]
    },
    {
      "cell_type": "code",
      "execution_count": 41,
      "metadata": {
        "colab": {
          "base_uri": "https://localhost:8080/"
        },
        "id": "ymCIMDH6QTum",
        "outputId": "cec86b0c-5dfc-44a5-a703-0bbdcbe0656f"
      },
      "outputs": [
        {
          "output_type": "execute_result",
          "data": {
            "text/plain": [
              "(torch.Size([5, 2]), torch.Size([1500, 2]))"
            ]
          },
          "metadata": {},
          "execution_count": 41
        }
      ],
      "source": [
        "bs=5 #5 # Will try later on n_batch_cluser ~~ 6\n",
        "X = data.clone()\n",
        "x = X[:bs]\n",
        "x.shape,X.shape"
      ]
    },
    {
      "cell_type": "code",
      "execution_count": 42,
      "metadata": {
        "colab": {
          "base_uri": "https://localhost:8080/"
        },
        "id": "iUuPuUgUQTun",
        "outputId": "53bbd7ce-00e4-49c3-ebb8-d4c2114dac33"
      },
      "outputs": [
        {
          "output_type": "execute_result",
          "data": {
            "text/plain": [
              "tensor([[[30.164,  9.484]],\n",
              "\n",
              "        [[29.829, 10.060]],\n",
              "\n",
              "        [[29.688,  2.965]],\n",
              "\n",
              "        [[30.772,  9.323]],\n",
              "\n",
              "        [[29.354,  3.960]],\n",
              "\n",
              "        [[31.168,  5.309]]])"
            ]
          },
          "metadata": {},
          "execution_count": 42
        }
      ],
      "source": [
        "X[-6:,None]"
      ]
    },
    {
      "cell_type": "code",
      "execution_count": 43,
      "metadata": {
        "colab": {
          "base_uri": "https://localhost:8080/"
        },
        "id": "M7sbYZH6QTun",
        "outputId": "a0241376-074e-42a1-8663-7ccee73ceb3d"
      },
      "outputs": [
        {
          "output_type": "execute_result",
          "data": {
            "text/plain": [
              "torch.Size([6, 5])"
            ]
          },
          "metadata": {},
          "execution_count": 43
        }
      ],
      "source": [
        "(x[None] - X[-6:,None]).sum(2).shape"
      ]
    },
    {
      "cell_type": "code",
      "execution_count": 44,
      "metadata": {
        "id": "RMdS84N4QTuo"
      },
      "outputs": [],
      "source": [
        "def dist_b(a,b): return (((a[None] - b[:,None])**2).sum(2)).sqrt()"
      ]
    },
    {
      "cell_type": "code",
      "execution_count": 45,
      "metadata": {
        "colab": {
          "base_uri": "https://localhost:8080/"
        },
        "id": "n6aJ2u6hQTup",
        "outputId": "64c3674a-6b92-4315-ab21-79b99a74be7a"
      },
      "outputs": [
        {
          "output_type": "execute_result",
          "data": {
            "text/plain": [
              "tensor([[ 0.000,  3.899,  4.834,  ..., 17.628, 22.610, 21.617],\n",
              "        [ 3.899,  0.000,  4.978,  ..., 21.499, 26.508, 25.500],\n",
              "        [ 4.834,  4.978,  0.000,  ..., 19.373, 24.757, 23.396],\n",
              "        [ 3.726,  0.185,  4.969,  ..., 21.335, 26.336, 25.333],\n",
              "        [ 6.273,  5.547,  1.615,  ..., 20.775, 26.201, 24.785]])"
            ]
          },
          "metadata": {},
          "execution_count": 45
        }
      ],
      "source": [
        "dist_b(X, x)"
      ]
    },
    {
      "cell_type": "code",
      "execution_count": 46,
      "metadata": {
        "colab": {
          "base_uri": "https://localhost:8080/"
        },
        "id": "RIt_pDyIQTup",
        "outputId": "0be35583-3ae4-4616-9990-01271734b0a8"
      },
      "outputs": [
        {
          "output_type": "execute_result",
          "data": {
            "text/plain": [
              "torch.Size([5, 1500])"
            ]
          },
          "metadata": {},
          "execution_count": 46
        }
      ],
      "source": [
        "dist_b(X, x).shape"
      ]
    },
    {
      "cell_type": "code",
      "execution_count": 47,
      "metadata": {
        "colab": {
          "base_uri": "https://localhost:8080/"
        },
        "id": "Sc82siX9QTup",
        "outputId": "de47a5a4-2e0e-4c17-f266-64bc99975d78"
      },
      "outputs": [
        {
          "output_type": "execute_result",
          "data": {
            "text/plain": [
              "tensor([[[26.204, 26.349],\n",
              "         [25.691, 30.213],\n",
              "         [30.431, 28.693],\n",
              "         ...,\n",
              "         [30.772,  9.323],\n",
              "         [29.354,  3.960],\n",
              "         [31.168,  5.309]]])"
            ]
          },
          "metadata": {},
          "execution_count": 47
        }
      ],
      "source": [
        "X[None,:]"
      ]
    },
    {
      "cell_type": "code",
      "execution_count": 48,
      "metadata": {
        "colab": {
          "base_uri": "https://localhost:8080/"
        },
        "id": "lM9cuxvVQTuq",
        "outputId": "458962a2-b4a1-417d-b6a4-f42398cf51f7"
      },
      "outputs": [
        {
          "output_type": "execute_result",
          "data": {
            "text/plain": [
              "(torch.Size([1, 1500, 2]), torch.Size([5, 1, 2]), torch.Size([5, 1500, 2]))"
            ]
          },
          "metadata": {},
          "execution_count": 48
        }
      ],
      "source": [
        "X[None,:].shape, x[:,None].shape, (X[None,:]-x[:,None]).shape"
      ]
    },
    {
      "cell_type": "code",
      "execution_count": 49,
      "metadata": {
        "colab": {
          "base_uri": "https://localhost:8080/"
        },
        "id": "SannDjKqQTur",
        "outputId": "cf638225-d320-411f-e1d6-84b1d7ad0181"
      },
      "outputs": [
        {
          "output_type": "execute_result",
          "data": {
            "text/plain": [
              "tensor([[    0.199,     0.030,     0.011,  ...,     0.000,     0.000,     0.000],\n",
              "        [    0.030,     0.199,     0.009,  ...,     0.000,     0.000,     0.000],\n",
              "        [    0.011,     0.009,     0.199,  ...,     0.000,     0.000,     0.000],\n",
              "        [    0.035,     0.199,     0.009,  ...,     0.000,     0.000,     0.000],\n",
              "        [    0.001,     0.004,     0.144,  ...,     0.000,     0.000,     0.000]])"
            ]
          },
          "metadata": {},
          "execution_count": 49
        }
      ],
      "source": [
        "weight = gaussian(dist_b(X, x), 2)\n",
        "weight"
      ]
    },
    {
      "cell_type": "code",
      "execution_count": 50,
      "metadata": {
        "colab": {
          "base_uri": "https://localhost:8080/"
        },
        "id": "LcVN1E2WQTur",
        "outputId": "48517b68-99ce-4df2-e344-881324eefc78"
      },
      "outputs": [
        {
          "output_type": "execute_result",
          "data": {
            "text/plain": [
              "(torch.Size([5, 1500]), torch.Size([1500, 2]))"
            ]
          },
          "metadata": {},
          "execution_count": 50
        }
      ],
      "source": [
        "weight.shape,X.shape"
      ]
    },
    {
      "cell_type": "code",
      "execution_count": 51,
      "metadata": {
        "colab": {
          "base_uri": "https://localhost:8080/"
        },
        "id": "bz7l8llhQTus",
        "outputId": "c53c2293-6ff3-4e6b-e17e-605cb3916750"
      },
      "outputs": [
        {
          "output_type": "execute_result",
          "data": {
            "text/plain": [
              "(torch.Size([5, 1, 1500]), torch.Size([1, 1500, 2]))"
            ]
          },
          "metadata": {},
          "execution_count": 51
        }
      ],
      "source": [
        "weight[:,None].shape, X[None].shape"
      ]
    },
    {
      "cell_type": "code",
      "execution_count": 52,
      "metadata": {
        "colab": {
          "base_uri": "https://localhost:8080/"
        },
        "id": "97kaGHBuQTut",
        "outputId": "a3c80690-03cd-4f49-9a07-27a29df36c48"
      },
      "outputs": [
        {
          "output_type": "execute_result",
          "data": {
            "text/plain": [
              "torch.Size([5, 2])"
            ]
          },
          "metadata": {},
          "execution_count": 52
        }
      ],
      "source": [
        "num = (weight[...,None]*X[None]).sum(1)\n",
        "num.shape"
      ]
    },
    {
      "cell_type": "code",
      "execution_count": 53,
      "metadata": {
        "colab": {
          "base_uri": "https://localhost:8080/"
        },
        "id": "kTqT3CeYQTut",
        "outputId": "21b16905-4d70-4b26-c0e6-968507c410f2"
      },
      "outputs": [
        {
          "output_type": "execute_result",
          "data": {
            "text/plain": [
              "tensor([[367.870, 386.231],\n",
              "        [518.332, 588.680],\n",
              "        [329.665, 330.782],\n",
              "        [527.617, 598.217],\n",
              "        [231.302, 234.155]])"
            ]
          },
          "metadata": {},
          "execution_count": 53
        }
      ],
      "source": [
        "num"
      ]
    },
    {
      "cell_type": "code",
      "execution_count": 54,
      "metadata": {
        "colab": {
          "base_uri": "https://localhost:8080/"
        },
        "id": "ezy9PDHjQTuu",
        "outputId": "365fd7b9-0000-4494-8bff-e510d02c5f27"
      },
      "outputs": [
        {
          "output_type": "execute_result",
          "data": {
            "text/plain": [
              "tensor([[367.870, 386.231],\n",
              "        [518.332, 588.680],\n",
              "        [329.665, 330.782],\n",
              "        [527.617, 598.217],\n",
              "        [231.302, 234.155]])"
            ]
          },
          "metadata": {},
          "execution_count": 54
        }
      ],
      "source": [
        "torch.einsum('ij,jk->ik', weight, X)"
      ]
    },
    {
      "cell_type": "code",
      "execution_count": 55,
      "metadata": {
        "colab": {
          "base_uri": "https://localhost:8080/"
        },
        "id": "VxmsPLO5QTuu",
        "outputId": "f8aa991f-9b84-4d6d-d7b3-0716eab9f534"
      },
      "outputs": [
        {
          "output_type": "execute_result",
          "data": {
            "text/plain": [
              "tensor([[367.870, 386.231],\n",
              "        [518.332, 588.680],\n",
              "        [329.665, 330.782],\n",
              "        [527.617, 598.217],\n",
              "        [231.302, 234.155]])"
            ]
          },
          "metadata": {},
          "execution_count": 55
        }
      ],
      "source": [
        "weight@X"
      ]
    },
    {
      "cell_type": "code",
      "execution_count": 56,
      "metadata": {
        "colab": {
          "base_uri": "https://localhost:8080/"
        },
        "id": "E7dHusdCQTuv",
        "outputId": "1c43ec00-0215-46a2-ba21-3b42197725c3"
      },
      "outputs": [
        {
          "output_type": "execute_result",
          "data": {
            "text/plain": [
              "torch.Size([5, 1])"
            ]
          },
          "metadata": {},
          "execution_count": 56
        }
      ],
      "source": [
        "div = weight.sum(1, keepdim=True)\n",
        "div.shape"
      ]
    },
    {
      "cell_type": "code",
      "execution_count": 57,
      "metadata": {
        "colab": {
          "base_uri": "https://localhost:8080/"
        },
        "id": "hQaRYLsKQTuw",
        "outputId": "ff457abb-7cbd-4a7d-9e8f-59a173251511"
      },
      "outputs": [
        {
          "output_type": "execute_result",
          "data": {
            "text/plain": [
              "tensor([[26.376, 27.692],\n",
              "        [26.101, 29.643],\n",
              "        [28.892, 28.990],\n",
              "        [26.071, 29.559],\n",
              "        [29.323, 29.685]])"
            ]
          },
          "metadata": {},
          "execution_count": 57
        }
      ],
      "source": [
        "num/div"
      ]
    },
    {
      "cell_type": "code",
      "execution_count": 58,
      "metadata": {
        "id": "C_FPP6RWQTuw"
      },
      "outputs": [],
      "source": [
        "def meanshift(data, bs=500, iter = 5):\n",
        "    n = len(data) # n=1500\n",
        "    X = data.clone() # X=data\n",
        "    for it in range(iter):\n",
        "        \n",
        "        for i in range(0, n, bs): #step by batch size\n",
        "            s = slice(i, min(i+bs,n))\n",
        "            weight = gaussian(dist_b(X, X[s]), 2.5)\n",
        "#             weight = tri(dist_b(X, X[s]), 8)\n",
        "            div = weight.sum(1, keepdim=True)\n",
        "            X[s] = weight@X/div\n",
        "    return X"
      ]
    },
    {
      "cell_type": "markdown",
      "metadata": {
        "id": "1J5vCiemQTux"
      },
      "source": [
        "Although each iteration still has to launch a new cuda kernel, there are now fewer iterations, and the acceleration from updating a batch of points more than makes up for it."
      ]
    },
    {
      "cell_type": "code",
      "execution_count": 59,
      "metadata": {
        "id": "bKIb6fPHQTux"
      },
      "outputs": [],
      "source": [
        "data = data.cuda()"
      ]
    },
    {
      "cell_type": "code",
      "execution_count": 60,
      "metadata": {
        "id": "yaiInCT-QTuy"
      },
      "outputs": [],
      "source": [
        "X = meanshift(data).cpu()"
      ]
    },
    {
      "cell_type": "code",
      "execution_count": 61,
      "metadata": {
        "colab": {
          "base_uri": "https://localhost:8080/"
        },
        "id": "_VvGy9NhQTuy",
        "outputId": "963f86c7-7f5e-49a8-f3b6-80258c4f1fc3"
      },
      "outputs": [
        {
          "output_type": "stream",
          "name": "stdout",
          "text": [
            "6.49 ms ± 885 µs per loop (mean ± std. dev. of 7 runs, 5 loops each)\n"
          ]
        }
      ],
      "source": [
        "%timeit -n 5 _=meanshift(data, 1250).cpu()"
      ]
    },
    {
      "cell_type": "code",
      "execution_count": 62,
      "metadata": {
        "id": "VoKweIJEQTuz"
      },
      "outputs": [],
      "source": [
        "X =  meanshift(data)"
      ]
    },
    {
      "cell_type": "code",
      "execution_count": 63,
      "metadata": {
        "colab": {
          "base_uri": "https://localhost:8080/"
        },
        "id": "WiK8leT6QTuz",
        "outputId": "8d3c3aed-7bb2-49f1-a470-5e9edd4618d2"
      },
      "outputs": [
        {
          "output_type": "execute_result",
          "data": {
            "text/plain": [
              "(tensor([[26.758, 29.152],\n",
              "         [26.758, 29.152],\n",
              "         [26.758, 29.152],\n",
              "         [26.758, 29.152],\n",
              "         [26.758, 29.152],\n",
              "         [26.758, 29.152],\n",
              "         [26.758, 29.152],\n",
              "         [26.758, 29.152],\n",
              "         [26.758, 29.152],\n",
              "         [26.758, 29.152]], device='cuda:0'), tensor([[26.204, 26.349],\n",
              "         [25.691, 30.213],\n",
              "         [30.431, 28.693],\n",
              "         [25.647, 30.033],\n",
              "         [31.236, 30.093],\n",
              "         [30.276, 26.987],\n",
              "         [29.619, 31.949],\n",
              "         [28.124, 32.035],\n",
              "         [24.275, 29.255],\n",
              "         [21.578, 28.565]], device='cuda:0'))"
            ]
          },
          "metadata": {},
          "execution_count": 63
        }
      ],
      "source": [
        "X[:10],data[:10]"
      ]
    },
    {
      "cell_type": "markdown",
      "metadata": {
        "id": "TG4rUjkfQTuz"
      },
      "source": [
        "Animation"
      ]
    },
    {
      "cell_type": "code",
      "execution_count": 66,
      "metadata": {
        "id": "LALepjqwQTu0"
      },
      "outputs": [],
      "source": [
        "def one_update(data,bs=500):\n",
        "    n = len(data)\n",
        "    for i in range(0,n,bs):\n",
        "        s = slice(i,min(i+bs,n))\n",
        "        weight = gaussian(dist_b(data, data[s]), 2.5)\n",
        "        div = weight.sum(1, keepdim=True)\n",
        "        X[s] = weight@X/div"
      ]
    },
    {
      "cell_type": "code",
      "source": [
        "X.cpu().numpy()"
      ],
      "metadata": {
        "colab": {
          "base_uri": "https://localhost:8080/"
        },
        "id": "W5sHSISAREfI",
        "outputId": "73878d9c-443b-4c44-ef64-41bdf96e4bd4"
      },
      "execution_count": 72,
      "outputs": [
        {
          "output_type": "execute_result",
          "data": {
            "text/plain": [
              "array([[26.20373  , 26.348627 ],\n",
              "       [25.690754 , 30.213326 ],\n",
              "       [30.431183 , 28.693407 ],\n",
              "       ...,\n",
              "       [30.77199  ,  9.323357 ],\n",
              "       [29.354288 ,  3.9596627],\n",
              "       [31.167728 ,  5.3087883]], dtype=float32)"
            ]
          },
          "metadata": {},
          "execution_count": 72
        }
      ]
    },
    {
      "cell_type": "code",
      "execution_count": 77,
      "metadata": {
        "colab": {
          "base_uri": "https://localhost:8080/",
          "height": 390
        },
        "id": "40TdcCCuQTu1",
        "outputId": "fe07a1a7-e473-4357-a3d6-4e191c38d187"
      },
      "outputs": [
        {
          "output_type": "execute_result",
          "data": {
            "text/plain": [
              "<IPython.core.display.HTML object>"
            ],
            "text/html": [
              "\n",
              "<link rel=\"stylesheet\"\n",
              "href=\"https://maxcdn.bootstrapcdn.com/font-awesome/4.4.0/css/font-awesome.min.css\">\n",
              "<script language=\"javascript\">\n",
              "  function isInternetExplorer() {\n",
              "    ua = navigator.userAgent;\n",
              "    /* MSIE used to detect old browsers and Trident used to newer ones*/\n",
              "    return ua.indexOf(\"MSIE \") > -1 || ua.indexOf(\"Trident/\") > -1;\n",
              "  }\n",
              "\n",
              "  /* Define the Animation class */\n",
              "  function Animation(frames, img_id, slider_id, interval, loop_select_id){\n",
              "    this.img_id = img_id;\n",
              "    this.slider_id = slider_id;\n",
              "    this.loop_select_id = loop_select_id;\n",
              "    this.interval = interval;\n",
              "    this.current_frame = 0;\n",
              "    this.direction = 0;\n",
              "    this.timer = null;\n",
              "    this.frames = new Array(frames.length);\n",
              "\n",
              "    for (var i=0; i<frames.length; i++)\n",
              "    {\n",
              "     this.frames[i] = new Image();\n",
              "     this.frames[i].src = frames[i];\n",
              "    }\n",
              "    var slider = document.getElementById(this.slider_id);\n",
              "    slider.max = this.frames.length - 1;\n",
              "    if (isInternetExplorer()) {\n",
              "        // switch from oninput to onchange because IE <= 11 does not conform\n",
              "        // with W3C specification. It ignores oninput and onchange behaves\n",
              "        // like oninput. In contrast, Microsoft Edge behaves correctly.\n",
              "        slider.setAttribute('onchange', slider.getAttribute('oninput'));\n",
              "        slider.setAttribute('oninput', null);\n",
              "    }\n",
              "    this.set_frame(this.current_frame);\n",
              "  }\n",
              "\n",
              "  Animation.prototype.get_loop_state = function(){\n",
              "    var button_group = document[this.loop_select_id].state;\n",
              "    for (var i = 0; i < button_group.length; i++) {\n",
              "        var button = button_group[i];\n",
              "        if (button.checked) {\n",
              "            return button.value;\n",
              "        }\n",
              "    }\n",
              "    return undefined;\n",
              "  }\n",
              "\n",
              "  Animation.prototype.set_frame = function(frame){\n",
              "    this.current_frame = frame;\n",
              "    document.getElementById(this.img_id).src =\n",
              "            this.frames[this.current_frame].src;\n",
              "    document.getElementById(this.slider_id).value = this.current_frame;\n",
              "  }\n",
              "\n",
              "  Animation.prototype.next_frame = function()\n",
              "  {\n",
              "    this.set_frame(Math.min(this.frames.length - 1, this.current_frame + 1));\n",
              "  }\n",
              "\n",
              "  Animation.prototype.previous_frame = function()\n",
              "  {\n",
              "    this.set_frame(Math.max(0, this.current_frame - 1));\n",
              "  }\n",
              "\n",
              "  Animation.prototype.first_frame = function()\n",
              "  {\n",
              "    this.set_frame(0);\n",
              "  }\n",
              "\n",
              "  Animation.prototype.last_frame = function()\n",
              "  {\n",
              "    this.set_frame(this.frames.length - 1);\n",
              "  }\n",
              "\n",
              "  Animation.prototype.slower = function()\n",
              "  {\n",
              "    this.interval /= 0.7;\n",
              "    if(this.direction > 0){this.play_animation();}\n",
              "    else if(this.direction < 0){this.reverse_animation();}\n",
              "  }\n",
              "\n",
              "  Animation.prototype.faster = function()\n",
              "  {\n",
              "    this.interval *= 0.7;\n",
              "    if(this.direction > 0){this.play_animation();}\n",
              "    else if(this.direction < 0){this.reverse_animation();}\n",
              "  }\n",
              "\n",
              "  Animation.prototype.anim_step_forward = function()\n",
              "  {\n",
              "    this.current_frame += 1;\n",
              "    if(this.current_frame < this.frames.length){\n",
              "      this.set_frame(this.current_frame);\n",
              "    }else{\n",
              "      var loop_state = this.get_loop_state();\n",
              "      if(loop_state == \"loop\"){\n",
              "        this.first_frame();\n",
              "      }else if(loop_state == \"reflect\"){\n",
              "        this.last_frame();\n",
              "        this.reverse_animation();\n",
              "      }else{\n",
              "        this.pause_animation();\n",
              "        this.last_frame();\n",
              "      }\n",
              "    }\n",
              "  }\n",
              "\n",
              "  Animation.prototype.anim_step_reverse = function()\n",
              "  {\n",
              "    this.current_frame -= 1;\n",
              "    if(this.current_frame >= 0){\n",
              "      this.set_frame(this.current_frame);\n",
              "    }else{\n",
              "      var loop_state = this.get_loop_state();\n",
              "      if(loop_state == \"loop\"){\n",
              "        this.last_frame();\n",
              "      }else if(loop_state == \"reflect\"){\n",
              "        this.first_frame();\n",
              "        this.play_animation();\n",
              "      }else{\n",
              "        this.pause_animation();\n",
              "        this.first_frame();\n",
              "      }\n",
              "    }\n",
              "  }\n",
              "\n",
              "  Animation.prototype.pause_animation = function()\n",
              "  {\n",
              "    this.direction = 0;\n",
              "    if (this.timer){\n",
              "      clearInterval(this.timer);\n",
              "      this.timer = null;\n",
              "    }\n",
              "  }\n",
              "\n",
              "  Animation.prototype.play_animation = function()\n",
              "  {\n",
              "    this.pause_animation();\n",
              "    this.direction = 1;\n",
              "    var t = this;\n",
              "    if (!this.timer) this.timer = setInterval(function() {\n",
              "        t.anim_step_forward();\n",
              "    }, this.interval);\n",
              "  }\n",
              "\n",
              "  Animation.prototype.reverse_animation = function()\n",
              "  {\n",
              "    this.pause_animation();\n",
              "    this.direction = -1;\n",
              "    var t = this;\n",
              "    if (!this.timer) this.timer = setInterval(function() {\n",
              "        t.anim_step_reverse();\n",
              "    }, this.interval);\n",
              "  }\n",
              "</script>\n",
              "\n",
              "<style>\n",
              ".animation {\n",
              "    display: inline-block;\n",
              "    text-align: center;\n",
              "}\n",
              "input[type=range].anim-slider {\n",
              "    width: 374px;\n",
              "    margin-left: auto;\n",
              "    margin-right: auto;\n",
              "}\n",
              ".anim-buttons {\n",
              "    margin: 8px 0px;\n",
              "}\n",
              ".anim-buttons button {\n",
              "    padding: 0;\n",
              "    width: 36px;\n",
              "}\n",
              ".anim-state label {\n",
              "    margin-right: 8px;\n",
              "}\n",
              ".anim-state input {\n",
              "    margin: 0;\n",
              "    vertical-align: middle;\n",
              "}\n",
              "</style>\n",
              "\n",
              "<div class=\"animation\">\n",
              "  <img id=\"_anim_img122dc0f4abb54f549cedcf0132e297ce\">\n",
              "  <div class=\"anim-controls\">\n",
              "    <input id=\"_anim_slider122dc0f4abb54f549cedcf0132e297ce\" type=\"range\" class=\"anim-slider\"\n",
              "           name=\"points\" min=\"0\" max=\"1\" step=\"1\" value=\"0\"\n",
              "           oninput=\"anim122dc0f4abb54f549cedcf0132e297ce.set_frame(parseInt(this.value));\">\n",
              "    <div class=\"anim-buttons\">\n",
              "      <button title=\"Decrease speed\" aria-label=\"Decrease speed\" onclick=\"anim122dc0f4abb54f549cedcf0132e297ce.slower()\">\n",
              "          <i class=\"fa fa-minus\"></i></button>\n",
              "      <button title=\"First frame\" aria-label=\"First frame\" onclick=\"anim122dc0f4abb54f549cedcf0132e297ce.first_frame()\">\n",
              "        <i class=\"fa fa-fast-backward\"></i></button>\n",
              "      <button title=\"Previous frame\" aria-label=\"Previous frame\" onclick=\"anim122dc0f4abb54f549cedcf0132e297ce.previous_frame()\">\n",
              "          <i class=\"fa fa-step-backward\"></i></button>\n",
              "      <button title=\"Play backwards\" aria-label=\"Play backwards\" onclick=\"anim122dc0f4abb54f549cedcf0132e297ce.reverse_animation()\">\n",
              "          <i class=\"fa fa-play fa-flip-horizontal\"></i></button>\n",
              "      <button title=\"Pause\" aria-label=\"Pause\" onclick=\"anim122dc0f4abb54f549cedcf0132e297ce.pause_animation()\">\n",
              "          <i class=\"fa fa-pause\"></i></button>\n",
              "      <button title=\"Play\" aria-label=\"Play\" onclick=\"anim122dc0f4abb54f549cedcf0132e297ce.play_animation()\">\n",
              "          <i class=\"fa fa-play\"></i></button>\n",
              "      <button title=\"Next frame\" aria-label=\"Next frame\" onclick=\"anim122dc0f4abb54f549cedcf0132e297ce.next_frame()\">\n",
              "          <i class=\"fa fa-step-forward\"></i></button>\n",
              "      <button title=\"Last frame\" aria-label=\"Last frame\" onclick=\"anim122dc0f4abb54f549cedcf0132e297ce.last_frame()\">\n",
              "          <i class=\"fa fa-fast-forward\"></i></button>\n",
              "      <button title=\"Increase speed\" aria-label=\"Increase speed\" onclick=\"anim122dc0f4abb54f549cedcf0132e297ce.faster()\">\n",
              "          <i class=\"fa fa-plus\"></i></button>\n",
              "    </div>\n",
              "    <form title=\"Repetition mode\" aria-label=\"Repetition mode\" action=\"#n\" name=\"_anim_loop_select122dc0f4abb54f549cedcf0132e297ce\"\n",
              "          class=\"anim-state\">\n",
              "      <input type=\"radio\" name=\"state\" value=\"once\" id=\"_anim_radio1_122dc0f4abb54f549cedcf0132e297ce\"\n",
              "             checked>\n",
              "      <label for=\"_anim_radio1_122dc0f4abb54f549cedcf0132e297ce\">Once</label>\n",
              "      <input type=\"radio\" name=\"state\" value=\"loop\" id=\"_anim_radio2_122dc0f4abb54f549cedcf0132e297ce\"\n",
              "             >\n",
              "      <label for=\"_anim_radio2_122dc0f4abb54f549cedcf0132e297ce\">Loop</label>\n",
              "      <input type=\"radio\" name=\"state\" value=\"reflect\" id=\"_anim_radio3_122dc0f4abb54f549cedcf0132e297ce\"\n",
              "             >\n",
              "      <label for=\"_anim_radio3_122dc0f4abb54f549cedcf0132e297ce\">Reflect</label>\n",
              "    </form>\n",
              "  </div>\n",
              "</div>\n",
              "\n",
              "\n",
              "<script language=\"javascript\">\n",
              "  /* Instantiate the Animation class. */\n",
              "  /* The IDs given should match those used in the template above. */\n",
              "  (function() {\n",
              "    var img_id = \"_anim_img122dc0f4abb54f549cedcf0132e297ce\";\n",
              "    var slider_id = \"_anim_slider122dc0f4abb54f549cedcf0132e297ce\";\n",
              "    var loop_select_id = \"_anim_loop_select122dc0f4abb54f549cedcf0132e297ce\";\n",
              "    var frames = new Array(5);\n",
              "    \n",
              "  frames[0] = \"data:image/png;base64,iVBORw0KGgoAAAANSUhEUgAAAbAAAAEgCAYAAADVKCZpAAAAOXRFWHRTb2Z0d2FyZQBNYXRwbG90\\\n",
              "bGliIHZlcnNpb24zLjcuMSwgaHR0cHM6Ly9tYXRwbG90bGliLm9yZy/bCgiHAAAACXBIWXMAAAsT\\\n",
              "AAALEwEAmpwYAABTb0lEQVR4nO3dd3yV5f3/8Vf2JIMsMoAkhLACBAlDFEhkuCggLvhixdUgWkuh\\\n",
              "RWltC2lVqLNWEY0i0GrhJ0oDBQUZCRshCMgQCJCQScg6Wedkcn5/3Nw354RDSFjJST7Px+P7CNxn\\\n",
              "XYev5c3nuj7XddsYjUYjQgghhJWxbekBCCGEENdDAkwIIYRVkgATQghhlSTAhBBCWCUJMCGEEFZJ\\\n",
              "AkwIIYRVkgATQghhlSTAhBBCWCUJMCGEEFZJAkwIIYRVkgATQghhlSTAhBBCWCUJMCGEEFZJAkwI\\\n",
              "IYRVkgATQghhlSTAhBBCWCUJMCGEEFZJAkwIIYRVkgATQghhlSTAhBBCWCUJMCGEEFZJAkwIIYRV\\\n",
              "kgATQghhlSTAhBBCWCUJMCGEEFZJAkwIIYRVkgATQghhlSTAhBBCWCUJMCGEEFZJAkwIIYRVkgAT\\\n",
              "QghhlSTAhBBCWCUJMCGEEFZJAkwIIYRVsm/pAdwqvr6+hIaGtvQwhBDCqmRkZFBYWNjSw2iSNhtg\\\n",
              "oaGhpKamtvQwhBDCqsTExLT0EJqsVU4h1tfXM2DAAMaNGwdAeno6Q4YMISIigscff5yampoWHqEQ\\\n",
              "QoiW1ioD7P3336dXr17a71955RVmzZrF6dOn8fb2ZsmSJS04OiGEEK1Bqwuw7Oxs1q9fz3PPPQeA\\\n",
              "0Whk69atPPLIIwBMmzaNpKSkFhyhEEKI1qDVBdhvf/tb3nzzTWxtlaEVFRXh5eWFvb2yXBcSEkJO\\\n",
              "Tk5LDlEIIUQr0KoCbN26dfj7+zNw4MDren1iYiIxMTHExMRQUFBwk0cnhBCiNWlVXYi7du1i7dq1\\\n",
              "fPvtt1RVVVFWVsbMmTPR6XTU1dVhb29PdnY2wcHBFl8fHx9PfHw8YF2dNEIIIZqvVVVgCxYsIDs7\\\n",
              "m4yMDFauXMk999zDl19+SVxcHF9//TUAy5cvZ8KECS080jaisgh2va/8FEIIK9OqAuxq/v73v/Pu\\\n",
              "u+8SERFBUVERzz77bEsPqW049AVs+ovyUwghrEyrmkI0FRsbS2xsLADh4eHs27evZQfUFkU/Yf7z\\\n",
              "aiqLlJCLfgLcfJr+mBBC3EJWUYGJW8TNB+6aee3gaaxSu5lVnExpCiGaodVWYKIVaaxSa2oV1xRq\\\n",
              "GIISrEII0QgJsLbuZkzxqZVacx9rrpsZhkKINk+mENs6tarZ90nTp+dMp/JuZFqvua9t6pSmEEIg\\\n",
              "FVjbp1YzNXrz6TlLlZl6rUYP2xZefo/rndaTKUEhxC0kAdbWqVVNZRE4ul4OtH2JSkjV6CHuD8o1\\\n",
              "NXBGvgJj/mo+ldeMTsWiKvDx8TGfEqwsomjbJ/iMnC4VlhDippApxPbiiuk5Y4OfQOQD0H0sRD16\\\n",
              "+bmma1zJCyD5DctTi5fCb/4vh9OvbxSnTp0y+8xTa9+l3+Q/Mf+lqbfrGwsh2jipwNqrwdPB0e1y\\\n",
              "lVRZBN//EdK+h9C7wW/m5esNpxVzD4JvT9jzT+V61CNwJpn5B/1IWPszAHFxcSSvX01k5V5OuQ0l\\\n",
              "7nefk1tuJGHpRugyn/nz59/+7yyEaFMkwNqrht2Dh75Qwqv7WPPpQtNpxZFzIWO78jxDifJ4bSV8\\\n",
              "/0fmf/4dCdsu32g0NzeXuNjhJD5gT/x3RnJ1VdpjCQkJUKNn/quvyCZoIcR1kylEoYh+Qln3mvix\\\n",
              "eZio1wdPh8HxgI1y3Xjpp4MbRTFz+PQn8/+UJjIRfakb41YY0OucmchEs8c//TSRom2fyFFWotUr\\\n",
              "rqzhk21nKK6UO8G3NhJg7VVBGnz5qPITLLewN+xU3JcI53YpjwX1v7Re9gg+PQaTvPcwQYGdACW8\\\n",
              "ZjKT93iPUEJ5j/eYyUwtxIJ8PUnetFFp6DBtFpGTOEQrtCo1iwXfnWBValZLD0U0IAHWXqnrXd//\\\n",
              "8erP2Zd4aQ9ZohIqWXuV6+Gx4NpRef13v4fkBUQG+5D8zjMEdbAhhRQyyCCUUJaylFBCySCDFFII\\\n",
              "CuxE8qaNRJZsUd7XdPpQDhcWrdCjMZ35w/09Gd07QCqxVkYCrL0aNB1cfaHvlEY2LZt0Ku5LhLMp\\\n",
              "0LEb3P+20qnYMVy5tm0hHPqCyNFPkRg/DB06Ekgw+7gEEtChI/HTz4is3Avb/q69TqNOV8pJHOIW\\\n",
              "a8q0oPocgOkju7H5eL5UYq2MNHG0R5VF8P1c0BfC9jegMO3yY6YbjwdPB30xHFkFXe5SrhefgaNf\\\n",
              "K3vKis8q17y6QkEap74bT3ziSbzwYh7zzD5yHvOYxSzi4+OV7sSRrwA22h4xDn2htPELcRuo04Kg\\\n",
              "hJOp4soaVqVmoa+p4/0tp7XnPBrTGVAqMvU5j8Z0pqOb4+0dvNBIBdbeVBZB0vNKaHXsBmGxMOwl\\\n",
              "pR0+8oHLFVBBmvK8tO+VoDq5HroOu/QmRuU50b8EexfQnePUlmXE/fMkueVGYonVpg2f5mltOjGW\\\n",
              "WKU78YGJnAp+RNlA7eZzeerwu99fnrIU4hYa3TuAuB5+jO4dcMVjl8PNhj/c35NRYa4AdHRzZPrI\\\n",
              "bnR0c2RVahavrd53RTUmDR+3l1RgbcW1Du013c+ltssHDVCm8rqPVa6BUlnB5TUyz87g0hEMxRA6\\\n",
              "AkKHo3UiZu+FOgNFeohbrie3XJlyTCIJgBRS0KFjFrOIJVa7npt3nrjYkfx05Kj5iR2VhcqUpOnm\\\n",
              "aiFuEtOqafPxfJJPFtAvJAdXR3utkiqurKGoopq7I3wZGenHX+bNY/7337AtJZnIyEjtvQZ4Gij/\\\n",
              "zyzOuv0KRv5Nu66Gn76mTntf9bpUazefBFhbca1zBxseExX5ABxdpeztinpE2bxcU6k8p6YSvLqA\\\n",
              "szeUZsGw34CDi/I+NQZlA3PGDujUHyoK8QkbwK9ivichWa99XBJJBHWw4YvHuxL//zJJKk8yG86v\\\n",
              "7uuvhBeYH3fl5itrYOKqGk7dNWcqb/nudN7fchp9TR3ThoUBoK+pN5tKXJWaReKOdACO/u8zDq/9\\\n",
              "DLi0MT9ZCbFTp07x0IP3UlqYz5sLXsPF0Y758+dTXFmDvqaOmaO6A2jva/rrhtOV4sZIgLUVjd2K\\\n",
              "pLJICaWRc5W9XG4+SrPGtr8rHYUAwYNgwxwY9CvABvZ/duX7bFsIIYOVX6vt9ADpW5k/wh68epHw\\\n",
              "X+UkjqAONiRPcyWyfwTJzoXErbAlt6gcgHkP9WL+B19eHptp5djYob9y9+d273KFU4+ro90V61SN\\\n",
              "s9F+qtOBxZU1uDrama1vFVVUs/KTdzn8vyXaK3Nzc4mLiyMxMZHnfhXP+bxc7bGEBKVhKTDul7y/\\\n",
              "5TR/uL8nj8Z0Nntf9b1vJlmHkzWwtqOxW5Hs+0QJK3Vqbtf7l889VLsIk6Yra13pKUrIDfoVOHsp\\\n",
              "zzcC6TuVX9deOlGjQ5Dy085J+RkymPkvPcG83/+aIE8HJbyCfaBTNJGTXiV58yaCAjsx7+l7mf/v\\\n",
              "HdfXOi9t9u2e2tIORrN1qqaEw/joIO6O8KWkspr3Np2yuE7V0c0Rp3o9x5P/a3Z9IhPR5+oZN24c\\\n",
              "VXl6CxvzP2VUmKs2FtP1MtNf30yyP00qsLbFtJvv1Lcmlcqlf3nWGi43ZoBy6sa+T5RpQUMJZO6C\\\n",
              "8Yuh6Cwc+hJq9eDbXXl55qWKq/Ck8tPdH+prlE5GgMJTkL2P+X1jeSneCR9ff+Wx1E+h+1giB8fz\\\n",
              "097t+GR9q3Q2quOs0SvTmk2ZNpQbXopLxkcHo/yHabyiArFUmRRX1vDauuPsPF3ITqVgw9XRDjCf\\\n",
              "3iuurMHWpQNz/vkflvzhaQry87SN+ROYQAIJzGMeoYQCylR5p8AgkpOTiegSSEQXGh3HzWRaNbZX\\\n",
              "rSrAqqqqGDFiBNXV1dTV1fHII4+QkJBAeno6kydPpqioiIEDB/Lvf/8bR8f2WTI3Sq1QMnZeDqm7\\\n",
              "ZioVlaOreQOHGgKObsrPPf9U1sa6DIJ/DlDCy94Zut+PVrmpzRwADm5KQDl5Ql0VVOmU64Wn8ek1\\\n",
              "HEYlwJlNkLVP+cxDX+BTU6lUgqc2wLndcGarUgGO+euVlaOl6cKbefdnYZVM299dHe1Y8N0JXB3t\\\n",
              "zaYPTde6Zo3pob0u+WQBQ8K8qam7iKO9HaN7B+Dtqvw9om5SLqqoIXHHWWaOimDn9hTi4uJIyU1h\\\n",
              "AhO0jfnA5Y35QUH8d/1GkvPssPOuYPPxfC2wGmvVvxnUyq49a1VTiE5OTmzdupXDhw9z6NAhNmzY\\\n",
              "wN69e3nllVeYNWsWp0+fxtvbmyVLllz7zdqyqx25pG4EHvuG+YZgNx+l2snaqzRkqOcdao0fNpcb\\\n",
              "O3a9f3nPl28vJdiOfKPs9br/HQiPU9ruf3HpedWlUF+tTDd6dYWybGV9LGs3xP0RHl5iMpbLaxCA\\\n",
              "UsGNnGu5opLpQmGB6akY+pp6Zo6KMDsho7iyhgPnlIOmD5zTadOE6uuGhvtyMKuUH9KLif9XKhmF\\\n",
              "lQCsPZTLgu9OcDyvFIA1h3Kx8w7inX8uanRj/jv/XMTig3oWfHeC19YdN5vSUz+zPVdIt1qrqsBs\\\n",
              "bGxwd3cHoLa2ltraWmxsbNi6dSv/+c9/AJg2bRrz589nxowZLTnUlnW1jkPTCsWvQaXy/R+Vaqcs\\\n",
              "B+76rXLNdEpObexQOxWH/QaOr1EeL7+0YH1kBTyZdLk6sjFpd7/jSeg5HlY/C+4B0HkYfP9nyDkA\\\n",
              "/r2VvV1RjwBGZcrSzkEZT+R9ltftZLqwXbrWtJtadXyy7Qzvb0lj5qju/CXpKLvOFLH9VAExod7s\\\n",
              "PF1ENz83dp4u5HdfHeJP43rz//ZnsfdMIYUVNUzoH0jKqQLOFFQy+6tDZBTp6drRlSfv7IqzvS3Z\\\n",
              "JQYyivTM+WwDW955sdGN+dOnT8d90t+IHdSP7v4d6BfiZTGwpOHi1mhVAQZQX1/PwIEDOX36NC++\\\n",
              "+CLdunXDy8sLe3tlqCEhIeTk5LTwKFvY9fzlPvYNKElXNjAnPa9UYZbet6YSsIHzP4HuHDh7QlWp\\\n",
              "sh9s7BvK89SmkJhfgZ0j+HRX2uzPbFJeozsHO968PI2pdiw6uipTltv+rlRe3e658iQO07U7mS5s\\\n",
              "d5pyQsajMZ21kNDX1LHrjDITsetMEX2CPLk7wocgLxeqautJPlmAvuYIP6QXa++zPa2QUkMdoARi\\\n",
              "/UUj54r1/O9wLiX6WoaEeeNquMDmt39DefEFJjJR25hvugYWSyxJRUmw+s+Ud/mQxDNF/OH+nlpA\\\n",
              "mX4XkFb6W6HVBZidnR2HDh1Cp9Px0EMPceLEiWu/6JLExEQSE5VTHAoKCm7VEFve9fzl7tcdnt54\\\n",
              "uYlj3yfKjSlN18rUho9tCy+Hk1dX2P8pRP+f8h6ANgVog/IcexcllO78jdKWH9APeo1X1r+qdEr4\\\n",
              "9Xno8s0vwXxtS6381LW7jJ1X3tZFtAtXa0worqzhNysOsvN0IfqaemaNidSaLgw19RzOLqV/iCcu\\\n",
              "jnbsPG0+tZ5VrMfD2Z6yKiW0Onu7MKZXABuPn+fHTB0dnJVmjhJ9Ld6uDuw+fo7zS1+irlx5n2tt\\\n",
              "zC8rusC3f3+ewbOXMCi0I59sO6OFrL6mDn1NPeOjgyx+L3FjWl2Aqby8vIiLi2PPnj3odDrq6uqw\\\n",
              "t7cnOzub4OBgi6+Jj48nPj4egJiYmNs5XOvg5qMEQ8MTOcwquUvTgm4dYdzbypFSunPK4b1qpRT1\\\n",
              "iFJNqU0Y9TXKOldNpfL7bvcoa2BVOqWL8fEVSmW16S/K6yIfUIJ07BtKKKqfr56FeKnpQyqw9qWx\\\n",
              "abZVqVnsPK10vB44V8yZAqVhYnTvANIuVPBDejGujna8dE939p4tJKvYQG5pFd6uDuSWKls/Onsr\\\n",
              "m/F/yimjsqZeq8LKq+pxdrAl0r8DP+WUYufigVu/sZTuWqF9fhJJuHv74TdqHhWbFpFUmmQ2Pvf+\\\n",
              "95Jb7cAHW9NIPqn843n6yG64OtpfajSxk8rrFmhVAVZQUICDgwNeXl4YDAY2bdrEK6+8QlxcHF9/\\\n",
              "/TWTJ09m+fLlTJgwoaWHav3UEGq4KTjqUaUyi3pU+f2pb5VACb1b+f2mvyjh5+gKsX9SKrDhLyuB\\\n",
              "FfWoMkVoGojq+7uaTHuatvJPXWVeUaoBqzaUyKbldqOx6UOlmqnnwLlidp4uYt6aY+w8XcjGY0oV\\\n",
              "1dnbRQuOH9KVJo67uvnw14lRrD2UQ0llLcknL5BVYuCubj78bmwP3t10iiBPJzYez6fUUEdhRbX2\\\n",
              "eV1GTyMTtBCzc++I16OvYecdTEzfD9n23kvodcrn9X7wGaJ+8Sxdfdw4V1RJ/PDwKypJqbxujVYV\\\n",
              "YHl5eUybNo36+nouXrzIY489xrhx4+jduzeTJ0/mT3/6EwMGDODZZ59t6aFar2sdOWUaWH4zLa+3\\\n",
              "VRYo04wdw2HKV5erKzXYQAmd6Ccsn7KhrqWpP02pz1OnFa82TtHmNHbae0c3R2aNidSuF1VUs/N0\\\n",
              "IQXlSugEebnwxNCujO4dQG39UXaeLqJPsCebj+czbVgYv/vqEFklBgD6BHtyR1dvvnhuiPLBqw7z\\\n",
              "1YFsvFwuV2v39QkgN+Q3HPRy4eS2JAKmLMDOOxhPF3ti+vWm55vL+WzuUwy69xF8Rz7BD+nF5JdV\\\n",
              "k1Gkx9XRXqsgpdX91mpVAdavXz8OHjx4xfXw8HD27dvXAiNqg67VANLw8YbrbXfNhOQFyq+Lzyrd\\\n",
              "jWpDiHqWovq8q4WlX3el8rqRcYo2x/Qv+0+2nbFYjZkeAeXj7sSg0I58sDWNP43rTTc/d4oraxjY\\\n",
              "1ZuBXTuintax92wRkwYEs+dMIVV1RlwczHcP5eiUYHNysCXUx5WMIj2nCyr5MVPHk8/9lotPPMeW\\\n",
              "s3ryyqrwcHbgX3szAXhw/hf07RZC4vaz2thCvF3407jet/qPSlzSqgLMWtSVlFC6ejWekyZh7+3d\\\n",
              "0sNpHksNIM05jxCUjdE1esj/SamiTA/jNZ1CbE4INRyDdCG2G5bWvixNvTV8nhps7zwWzfLd6agn\\\n",
              "c7y/5TTxw8M5llvKHV28SD5ZQHphJVV1RpztbSiprNX2h61KzeJ3Y3vguDWN7gEdSNx+lm5+btpn\\\n",
              "ni3UM7y7P3mHTtDNz40zBZXcHaFMae88XYSts7JvrGtHV37M1PGH+3vSzc+9Wd9VXD8JsOtQuno1\\\n",
              "F956GwAfa5/OVO8PZtqNaPqYaaiY/v7ev135Xg1DpzkhdK2pTdFmWVr7sjT1drU1slWpWdqBvjNH\\\n",
              "decP9/dkR1oBu84UaY0bg0M7UqKvodRQx7/2nsPbzZGfsnUknyzgD/f3ZOnTgymurCEtv5zkkwV0\\\n",
              "cLYj2MuZ2WMiCfVVAm107wCtcWTtoVx6B3pQVXcRGxuYPaYH+zOKr7nWdatP52hvJMCug+ekSWY/\\\n",
              "rY7pviv1vl9XdCNifjSV2lxxtZC50ZPiZcqw3Wpqo4P6uHryhlrFjO4dwPZTBZcqH+VsxNG9A3ht\\\n",
              "3XH83J3IOpCNs4Mdbo72lBrqCPZyBowknyzg7ghf9DV1FFfW0NHNkXcei2b0uykUV9ZSXlXP/oxi\\\n",
              "7ujqzaMxnbXKSQnMNOJ6+GmNI8O7F2uPqUFnqcqSpo6bSwLsOth7e1t35dXwzMTuYy3vu4p+4vJz\\\n",
              "1HBSr4N5aDUMu+aGmEwZtlvXanQwnXZTT+FQq5hHYzprJ3EA7NpbpJ2N+M5j0fxmhbKmfrawUmvQ\\\n",
              "eLBvkHY/sAPnSnh/y2kOnNMxsKsX04aF8dmTg5j91SFGdPc1uyGlehsXMDJzVHfGRwfRLyQHsNHC\\\n",
              "S11zM22lb853Fc0jAdaemFZeoPwMvfvqVZPpvjFL62NqaNXoAaNyTqLs4RI3WcNpN9MqZlVqlhZe\\\n",
              "3fzcGRHpp3Ux/u6rQ+w8XUhcDz9eukfZhN87sAPPxyoBkppRwq4zRQR0cLp0Sn0hP2WX8qdxvZky\\\n",
              "uIvFNTn1/mPqWpd6WLDpc0b3DmBoeL5UWbeBBFgrd1MbRixNATY8M7GhxiojtRJTT5kf+Qp0i5Np\\\n",
              "QHFTNZx2M61iHo3pzPZTynqXt5uDWRdj8skC4nr48c5j0dpG6N5BHvxmxY/U1l/U9otV1dUD4Gxv\\\n",
              "e+noqZ/4Ib1EO0HjtXXH+dO43lr3Iyh3clanHVUd3RzNphqlSePWkwBr5W5Gw4gWgveOw34MNy9g\\\n",
              "LHUfNjZ1KHdUFtfhatNu6tTiXydGaWtOKtPQU4NFX1PPmkM5ZBTpAbg7woeBXTsyoLMXf1t/nIFd\\\n",
              "vPnqQDaX75pg5LV1xy9NBx7XghDg/S1pFk/XkCaN20sCrAU1pbq6GQ0j5iHYglN70mkobqLGwqJh\\\n",
              "6HV0c8TV0Y6MIj1eLg6M7x/Eb8dEalVSbE9/iitr6ObvbtaEUaKvAZQKTP08tdPR0hShNGncXhJg\\\n",
              "N9G1Aqnh4w2rK0uvvxkNI7e8a7KpwSSdhuImam5YPBrTWWuwCPZ2uWKKzzT0uo10164tfXowAN4x\\\n",
              "l9fDrjY9KE0at5mxjRo4cOBt/8zCzz4zHu/R01j42WfatdriYmPhZ59pP00fN33M9PXn4uMvXyss\\\n",
              "tPxZV7neIioKjcad/1B+CtGKFVVUGz9OOW0sqqhu6aG0Wi3xd+f1kgrsJrJU6ZhWWep193vuoWjJ\\\n",
              "EjwnTTKrrjwnTaJy3z4qt22ndPVqPsjK4tNPPyU5OZlwPz+tOjtbUEBcXBy/+tWvmD9//u37glcj\\\n",
              "LfDCSjRWIckpGdbH9tpPEZbUlZRQtGQJdSUl2jV1uk+d/qsrKeGi3kDHZ57mol45b83n2Wep2LqV\\\n",
              "C2+9Tenq1WbvBRC0cCG+L77Iwq+/JiEhgdzcXOLi4jjw0UdceOttDnz0EXFxceTm5pKQkNA6AkyI\\\n",
              "NkBd41IbNUTrJxXYdbLUHdhwDavo008p/nwp9iHB1GXnYOvqgs+zz15RqZV88SWFixZxUW/A76Vf\\\n",
              "89am73l7wwbts3Jzc5n0wQe8NmAAf/rgA3Lz87XHEhISACTIhLjkeispacCwPhJgzaSGlPs99wCW\\\n",
              "pwsv6vXYurqiP/Cj8prsHNxGjmikicKo/SwqKuLL1FSzRycykZT8FJ7ZsAEvvJjIRO1usACfJiYy\\\n",
              "1dubsCeftL7DhYW4ya63lV0aMKyPBFgzqSFVuW8fQQsXmgWGGlAX9QYuvPU2zgOiAXCOjjZ77uWg\\\n",
              "M2Dr6oLb8OEYjh7FY9w47GxtWf3ii0xatIjcvDwmMpGZzGQCE0gggXnMI5RQQLlLbFBQEKtfeIG6\\\n",
              "xR9T6u5+RceiVZ+cL8R1kEqq/ZAAayaXgQOx7eitNVqYBoa6BlZXUoKtqwt1RUVUHTyE6x0DKPni\\\n",
              "S8CIx7hxXNQb8H3xBS4a9BQuWoTrnXei37OHisFKu67Hv79g9YsvMvHtt0nRpTCBCYQSylKWApBB\\\n",
              "Bimk0MnT83KDR6dOFiu8NnVyvhBNIJVU+yEB1gSmVUzh4sVcLC7BITzsqlOC9t7eeE6aRMkXX+D7\\\n",
              "4otcrDJQuGgRAPofD6LfsweH8DBcBgwAwDE8DPe778Jl4EAK3v8nXlP/D18PDxa//TYPPfccCSRo\\\n",
              "4QWQQAI6dHw5eTqRkZHA1cPJ6k/OF0KIq5AAawLTKiZg7lzyL/1sOCVXV1KiVVoXDVUUf/45Dl27\\\n",
              "4Hb33dpz6svLsfX0pPZsOsaaWgAqdu6ky8cfk79wIfo9e6jNP0/aiZM8n38eL7yYxzyzz5nHPGYx\\\n",
              "i9+tXEn0s8/Se9Cgq47d6k/OF0KIq5A2+ibwnDQJ/zm/x3PSJJzCwujyySc4hYVd8bzS1aspXLSI\\\n",
              "wkUfUfXzzwDUnsukJj0d12F3AlB99CgXS5W7uDr17gV2dtSdyyTzV/E4BIfgeuedlE2dytO5OeTr\\\n",
              "9cQSSyihZJDB0zxNBhmEEkossZwvLWXU2LGcOnXKYlu/EEK0Za2qAsvKyuLJJ58kPz8fGxsb4uPj\\\n",
              "mTlzJsXFxTz++ONkZGQQGhrKV199hfdtakhorAnC9DFQmje8pv4fNenpeD78CDXnznGxtpaLej3e\\\n",
              "v3ySquM/c1Gnw2XQINwGD6J03TqoV07CrsvORvef/2A/43kefPFF8qurAbRuwxRS0KFjFrOIJVa7\\\n",
              "fl6nIy42lpRXXqFu8cdU7NqFc89e2Lq44P3EVGncEEK0Wa0qwOzt7XnnnXe44447KC8vZ+DAgYwZ\\\n",
              "M4Zly5YxatQo5s6dy8KFC1m4cCF///vfb8uYGmuCMN2/BZg1ZNSeP09dbi4AVQUF5Ge+xkWdDofw\\\n",
              "MEL++T723t64DR9O9u9/j72XNy79+2Hv5YXb8OE84u3Nh5eqNLjUbRgYyDs9ovnDzp0k1SWZjeP/\\\n",
              "+kcT9uST5B4/TuW27eh37wHQ9p0JIURb1KoCLDAwkMDAQAA6dOhAr169yMnJYc2aNaSkpAAwbdo0\\\n",
              "YmNjb1uANd4EoezfumjQU3VC2Xfi3Ksn7nffhWP37uS//jrOfftSX1xMh3vvo+C997TGjbqSEgwH\\\n",
              "DuB5770UL/mci2VlBL35d3JfeYUXnJy56OPDR0XKjfoC/fxITkmhq4MD4XPnMnXbNm0z8ws+Prz8\\\n",
              "wP0AuET1xalbN8AGWxcXadwQQrRprSrATGVkZHDw4EGGDBlCfn6+FmydOnUi3+QkilutsSYI7yee\\\n",
              "wNbVlYt6A/rde3AbOQKfX/0Ke29vCj74kNpzmXiO+wXer75KxtSpXNTpKPtmNbWZWdReyKfuXCb2\\\n",
              "XbsAUJuZSeZTT2OsUm57PjOqL7aZ5/gqK4svhw/He+P3nP/xRwIO/8Tql15i4ptvMsnBgd+PHg3Y\\\n",
              "UPLFFxQu+gj/Ob+XqksI0S60yiaOiooKHn74Yf7xj3/g4eFh9piNjQ02NjYWX5eYmEhMTAwxMTEU\\\n",
              "FBTc8DgaNkbUlZSQ/9ZbnHvmGarT07Vw835iKv5zfk/A3LmUrl596flqdWYgd+5cas+mg7Mzjj17\\\n",
              "Yti/n7pzmdi4uCghFhICgLGqCjs/P5yjo3HsHMIby5ax8ZFHCXVwpHDRIqX9vmsXQh0c2frbWfza\\\n",
              "1w9bF9dLLfo2Ssu+Xm+xkUOaPIQQbU2rC7Da2loefvhhpk6dyqRLU2ABAQHk5eUBkJeXh7+/v8XX\\\n",
              "xsfHk5qaSmpqKn5+ftf1+aZ/0avrXyVffEHBBx+QM/t3FC/5HP3uPeQvXGh2CK/Ps89Stm49F956\\\n",
              "m5zZv8Nj3Dj85/weWxdnKrdtx9bLC6qquFhRAYBNhw4YDQZcBg2iy6eJ2Li5AXBRr6fq0CEM+1Mp\\\n",
              "XrqMzqNHUXXokDI4Z2dqz2VS/Pnn+Pr64D/n93R8+ikcwsNwG343tq4uFC766IpDgk2/ixqwEmZC\\\n",
              "CGvXqqYQjUYjzz77LL169WL27Nna9fHjx7N8+XLmzp3L8uXLmTBhwi0bg6Xbn1zUX96I7DJoEDYO\\\n",
              "9gTMnXvFIbxq1aXfs4eydevxe+nXl0LChopdO6k6pMN95Agcg4IoT07BkJoKRiO6VV9rpyE6dO6M\\\n",
              "rZMTVYcPYx8YqJ1mX755C7WZmTh07aJMS17qMMycPp3as+kULl5MwNy5VO7bp53TaOm7eE6aJKdz\\\n",
              "CCHahFYVYLt27eLf//43ffv2JTo6GoA33niDuXPn8thjj7FkyRK6du3KV199dcvGYPoXvenRUEo4\\\n",
              "2TRoTTea/fR+4gkq9+3DsD+Vyn0/4F2iPNfW1YWqQ4dxHXYn9l7KKR0uAweS+/IrXKxSNjyrXAfe\\\n",
              "gb2XN1WHD1OXl0fZ6tX4z/k9nT9RNjoHzJ1rtgfNd8YMajIycAgJQbdqFZXbtlMWFYX3E09wUa/H\\\n",
              "98UXzb5Lw+8ohBDWqlUF2N13343RaLT42JYtW27LGCw1bdh7e+P30ktXPFdt4jANAht7BwAM+1Mp\\\n",
              "+eIL/F56Cfd77qFy3z6cIiIoXLQIw9EjuERFUZuZecV72jo5c9GgxyUmBsfwMFzvGKAFUJdPPtGe\\\n",
              "p04LXtQbqD2Xie7cf3C98051FJc2VStNHQ33gsnpHEKItqBVBZi1UYOgOj2d3LlzcerWTWm06NLl\\\n",
              "UjgpzSYVW7dSuW07LlFRuI0ccenXfen47DMYDv+EU2Qkti7O2Do7A1C46CMADKmpuI0cQcOtyHUl\\\n",
              "JeTM/h36PXvo+Mwz+L74IupBwRVbt5oFqqUqS06oF0K0BRJgzXC1v/jzFy6kctt2atIz8H3xBTzG\\\n",
              "jUP39dfoD/5IdXq62ZSdh07H+Zpa6kqKqUnPwJCaSoe4WK0iqk5PR7duHXXnMnHo0sXiqfelq1ej\\\n",
              "33Nps7KLM95PTKV09WrsvLy0Kc/GAkrWwIQQbYEEWDOoe60u6vVmU4oBc+eSlZVF7dl0bF1dsfPy\\\n",
              "ojw5mdqz6eQvXEiXTz7RgkU9sFcNIIfwMK3pApRqre5cJm4jR+A7YwaFixebPQ5KEF7UG7ho0AM2\\\n",
              "FH32mbIZ+lIzybUCStbAhBBtQatro2/dbMx+qu3odl5ehH75pbYPq+SLL6k9m45DeBi+M2aYtbJX\\\n",
              "btuO65130vGZp3GJiaH2bDpl69Zpn6AeHBwwdy6FixdTuW07FVu3mo3C3tsb7yemUn3mDIWLFmkH\\\n",
              "B6vNJKaHD1uiTn3K9KEQwppJBdYM3k9Mxdb18hFNDSsdW1cXLrz1Nr4vvqAFyNVa2dXTOgypqVwO\\\n",
              "xsvhUrRkCZXbtuM2csRVb1SpPh4wd67Z2pc0aQgh2gMJsGZoGAwNp+IaBpSla6avbxiIpiy9V2OP\\\n",
              "OzUILGnUEEK0dTbGq/WtW7mYmBhSU1Nv+ee01qAoWrKEC2+9LWcjCiGa5Xb93XkzSAV2g1prR580\\\n",
              "aggh2joJsBvUWoNC1sGEEG2ddCFep4YH+baW6cPbeVBvSVUJS48upaRKDgUWQtx+EmDXyfR099bk\\\n",
              "do4r6XQS7x54l6TTSbf8s4QQoiGZQrxOt2vqsLlNIrdzSnNixESzn0IIcTtJgF2n27XG1Nwmkdu5\\\n",
              "9uXt7M3TUU/fls8SQoiGZAqxlbvWqRrXS9avhGgZ+rJS9q/9Bn1ZaUsPxepJgLVyt+rYJ1m/EqJl\\\n",
              "HEvZzPYvl3IsZXNLD8XqyRRiOyXrV0LcXvqyUo6lbCZ84BAA+sSObuERWT+pwNopdf3K2/nmVHaN\\\n",
              "TUnKdKVoLxqbHlQrr7MHfmDQ+Idx9fC8rvcRl0mAiZuisSnJ5kxXStiJ2+1mhkVj04N9YkczYurT\\\n",
              "Taq8ZJqxaWQKUdywkqoSDHUGZvSfYXFKsjnTlWrYAdLhKG4LNSwABo1/uFmvVacF+8SOxtXDUwsn\\\n",
              "SyHl6uHZ5Pdv7H3EZa2uAnvmmWfw9/cnKipKu1ZcXMyYMWPo3r07Y8aMoeQ2nDIhmqakqoRXd77K\\\n",
              "4sOLcbF3wdvZ26yKKioqsjhdWVRUZLHamhgxkdkDZ5uFnVRl4lZqTmXUUMNKSQ0pS9ODzan0Gnsf\\\n",
              "cVmrC7CnnnqKDRs2mF1buHAho0aNIi0tjVGjRrFw4cIWGl3b19SwUJ+34sQKduTsIMwjjNjOscDl\\\n",
              "Kuqp2U/Rr18/Tp06ZfbaU6dO0a9fP56a/dQVU4uWwk46JsWtZCksmho2TQ0/fVkpGz56j+8+/8Ti\\\n",
              "tGBRUdH1Db6da3UBNmLECDp27Gh2bc2aNUybNg2AadOmkZSU1AIjazsaC6mGYXG156rPO3jhIEMD\\\n",
              "h5Jels7MrTNJL01nYsREwn8IZ+3iteTm5jJk+BD2H9lPSVUJC9YtIDY2ltzcXNYuXkv4D+HXnFq0\\\n",
              "VJU19fsI0VSmoXWz16COpWzm43//h/eT9+IYEmr2mPoPuvnz51/XWNuzVhdgluTn5xMYGAhAp06d\\\n",
              "yM/Pb+ERWbfGKpqGYaE+99Wdr2oBoa55DQwYyN68vfTs2JMwjzAtxObPn8/axWu199Rd0DF29FgS\\\n",
              "Pk/gL7/8C3l5edpjaxev5anZTzUaPtfqmJQKTTRVU7oE1TWtEVOfJnzgEPav/YainGyLrzu0YR3b\\\n",
              "v1zKoQ3rrnh/018n7dnPpuNpFJeVc/+4X2izEqdOnSIuLo7c3FwSEhKaHGLS5KGwuiYOGxsbbGxs\\\n",
              "LD6WmJhIYmIiAAUFBbdzWFbFtKmipKqEpNNJTIyYiLeztxYWalUT2zmW3Tm72ZGzg5e2voSLnQuh\\\n",
              "nqGsPLmS/n79AThaeJS/3fU3/rzrz6TlprHlsy3mn8dEUi6k8P6L7+OFF7HEkkSS9vi3K77li//7\\\n",
              "gpfufumGv48QjWmsYcO0cUKdVty/9hu2f7mUrONHSD+Yqr1OX1bKoQ3ryDx+BACjzZXvD7D9y6Uk\\\n",
              "rvh/fLZylXYtLy+PuLg4PvjHezz//AwKiou1xxISEgCuGWTS5KGwigALCAggLy+PwMBA8vLy8Pf3\\\n",
              "t/i8+Ph44uPjAeWuosIyb2dvJkZMJOl0EoY6A4sPL8ZQZ8DF3kULMrWq2X9+P6Geoew9v5fDBYcB\\\n",
              "yK3MBcDeVvnPJzU/lR8v/Mjy+5eTdDqJk5+c5J3n3qFOV8dEJjKTmUxgAgkkMI95hBIKQBJJePh5\\\n",
              "8NtPf4udux0lVSXXtS9NzmQU19KUTcRqF2HDrsLaqipqq6vxCe5CTXUV+rJSDm5cx95vVgAQNiCG\\\n",
              "0H4DWb1wPkMemsydD0+hprqK0H4D8Y3szbpP/2X2OROZSEpuCg8/9jheeDGRiWb/oPv000956aWX\\\n",
              "8PHxsfg99q/5hgvnznDP0zPafZOHVUwhjh8/nuXLlwOwfPlyJkyY0MIjsi6W1ohM29VnD5wNYDYN\\\n",
              "F9s5ljCPMHbk7CCjLAOA/n79GdppKG/c/QazB85m3p3zeKrPUwz0H0hxVTGZZZnsP7+fKcOn8Nd/\\\n",
              "/5XAwEBSSCGDDEIJZSlLCSWUDDJIIQV7L3t+++lvCe0WyuLDi2UKUNwyDTcRA1dMCaqNFurUnBp6\\\n",
              "RhtIXbeaMz/uY+/XKziWshkbo/KaLlHR3PfCLH7470rSD6byw39XYrSBvV+vYMOidyk8dZwP5r1K\\\n",
              "UFAQgPYPuvd4j1BCeY/3mMlMJjIRgKCgIJKTky2Gl/o9UtetJvPIYbb9+7Nb9wdmJVpdBTZlyhRS\\\n",
              "UlIoLCwkJCSEhIQE5s6dy2OPPcaSJUvo2rUrX331VUsP06pY2ltlOu2mtr6rFRhASlYK6WXpDA8e\\\n",
              "zpxBc/gu/TsApvScgrezN108urDixApOFJ/gwIUDHLhwgJUnVlJVX0XtxVr+OPyP7HxxJ9/+6VsS\\\n",
              "SGApl6dVEkhAh46Zr8/kt/f+VrsuU4DiVmk45WZpKvFYymbSD6YSNiBGq8S2f7mUOx+eQtiAGNIP\\\n",
              "ptIlKpqa6ip63jUSB2dn7f08/ALw6hTEkIcmc+7wAQB0+bmEDYjhvqlP0m/UvcTFxZGSm8IEJmj/\\\n",
              "oAO0f9AFBgaSnJxMZGSkNm5L+8z0paVcOHeGkb987vb84bVirS7AVqxYYfH6li1bLF4XlzVcz1JZ\\\n",
              "WiNqOO3WcO2ru1d3wjzCmN5vOl5OXhwtPMqOnB242LsQ2zlW6TgsSwfAy9ELXY2OqvoqAAx1Bp76\\\n",
              "91Psfns3Xngxj3lm45zHPGYxi1Wvr+KF0S8QGRl51SnAq30nIZqj4SZi00CzNL1ouik5fOAQamqq\\\n",
              "qa2qor6+jr1fr8DRydmskjv8/XoATu/bzYWMs/SJHUN5YQEjf/kcrh6ehAC/f3Yas/+24Kr/oHty\\\n",
              "8FB83FzNxt0waF09PBn5y2duzR+SFWp1ASau39VOsWjOGpH6Hl5OXuiqdbyy4xU6u3dm7/m9DO00\\\n",
              "lNyKXJ787kl01Tq8HL2I8I4gNT+V/n79KTIU4enkyb4j+0hfmE6dro5YYrVpQ9M1sFhiScpNYkTs\\\n",
              "CGYmzuT50c9bDKgVJ1Zoa3QvRL9wc/6gRLtnGmhqo0ZtVRUOzs5XPGf/2m848L/Ldzj3DgohfOAQ\\\n",
              "Lfh8QkJx9/HDxgayTx7nfNoJvINCKMnN5uSubejLy9j+3Xre/3Zzo/+gW/Z9Mt3f/Tu/fucD7TFp\\\n",
              "1micBFgb0rDSMq1eAIu/bhgaEyMmsv/8fnbk7AAgpyKHnIochgcPJ8o3isWHFwPgbOeMrkbHoE6D\\\n",
              "GBEyQmsGca9118IL0BanU0hBh45ZzDLrQszPy+cvv/wL7v9zv+4uRCFuhBoONdVVWsfhfS/M0hok\\\n",
              "+sSOpqa6CkNZGed+OkhJbjZHt37PmR/3UZKbjYd/ABVFStezu7cPYQNiGPLQZHJPHkNfWsrmb/4f\\\n",
              "i1P2UmaoZiL3X/0fdIYkXv9yFWOnv6RNIzbn+Kn2SAKsDWlYaZlWZA27DdUOw9fvft0sxLydvXn9\\\n",
              "7tdZcWIFhjoDAC72LkzpOQVdtY6k00nkVeYR4h5CVX0V5yvO08m9E/eH3Q/A2tNr8R7pTcGay9sY\\\n",
              "kkgiMDCQt//xNjNfmElSUZLZuKN/Ec24vuMsfqcpPaeYrc0JcT0ariWZUkNCX1ZK/pk00g+msv6f\\\n",
              "bxLUozcD7h2Hq4cndz06lf1rv0F3PpcufaNJ27+H0vw8vINCcHZzp+yCsje1Y3BnRkx96lKn4Fns\\\n",
              "Onhq4QXX/gfd+fx8YmNjWf7mG9w1/qF232V4LRJgbZhpRbbixAqz67tzlb1dL29/mTdHvAmYV2UN\\\n",
              "p+tKqkp4a/9b5FUqm5BPl54GILsiG1BCzlBnIKcyh26PdQPQQszey54nP3iSNbZrCJoTROabmVQX\\\n",
              "K/+DjvllDFWjqkjJSiHMM8zs89Qxq40jQlwvS00bpqGmPmfkL5+jvq6WzCOHyTxymPwzaVo1prbU\\\n",
              "55z8mdL8PLw6BdLtjsF07tOfte++Rn1tLcU5WRzasI7UdcqUY2D3ntw3bChfbdmmjSWJJDoFBLBu\\\n",
              "yTri4+NJyk0yG+uDI+/mp/99TXl2hlklKK4kAdaGmVZkppWMt7M3A/wHsDdvL3vz9mrV1rJjy0gv\\\n",
              "TafQUMicQXMAeGv/W0zvN50PD33I3ry9DAwYSJcOXdiVuwsbbJQW+upiunt15w87/gCALbYEPBRA\\\n",
              "tH80u1bvInhOMEdsjpBZlkmnrp2Y/9/5vPDIC9w16S4+/PuHpGSlENs5Vts4nZKVolWMoGyUblgp\\\n",
              "CtEcltaSTEOtprqKvV+voKa6iqAevck8chivgCDSD6ay9t0F2AABEZE4ODmRefQQXaKiqa+vI3Xd\\\n",
              "ak6n7qW+thaA8pIisi5tbgYoLSxgsI87hkHR/G//IQA8XJx4a/Zv8K+v4tv/reWBX4wnN1fZWzlv\\\n",
              "3jxenj2LDR+9R/rBVI6lbNaqw6tVkO2ZBFg70XB6cUrPKRy8cJC9eXsBOFF0AoCtmVsprSnlSOER\\\n",
              "3OzdyKnMIbs8W+s4rLtYx9nSs1zQXwCgvLacvXl7ya/MR1ejw9nOmbLaMoYGDqVnfE+y+mfh29GX\\\n",
              "zPJM7bip6o7VnPn5DD4+PtretO/Sv2Px4cXa+tuM/jOY0X8GBy8cZEfODpJOJ8lmZXFTmYaaehSU\\\n",
              "jRGi7xuHo5MzPiGhbFj8Ljk/HwUg++ej9Ikdg4uHJx18/TiWsgkA3flcgntFUV5UQNmFfCoKC3Du\\\n",
              "4EFVeRn6kiLsnZwZGRZMVWUl+zKyeX7kYOwry9j+5VK6REXzzpxZzH7zXeLj47UTOO57YRYHN66j\\\n",
              "tqrK7GxGaP4tX9oyCbB2SG3u+OOQP2rVj6HOADbwcMTD/GX3X9BV69BV6wh2C2ZI4BAqaiooqCrg\\\n",
              "cMFh3B3cAfB38aebVzeifKMI9wjnjX1vcGfgnXyb8S219bUcLTyKvbs9uhodQwOHap9n2jyirtOp\\\n",
              "gWWoM9DNS5mCnNJzClN6TjFrPhHielgKANMGiej7xpnt6wI48O1qDGWlOLm54xXQCXsnZ7KO/4Sh\\\n",
              "rJScE0cZ+sgUDGVl5Kefoa66CuPFiwAE94rCt3NXCrPOAUZyfj6Gh38AD4/04+7uObg5OeLbpSuO\\\n",
              "Ls7a8VRL/vYX7n/2eYpystn2788Y+cvncHRyNjuWaugjU8za/qUas5KTOMTNpYZGSlYKT0c9TUpW\\\n",
              "CsuOLaNnx568f/B9DPUGnGydACirKWPlyZXo6/QAONk6UVFbAYCfix/Lji3Dxd6FtWfXUlJdQnF1\\\n",
              "McODh3PgwgFS81Pp0qELAAP8BxDmGXbFobzq4cHqFOeyY8s4UXyCxYcXMytlFitOrLjmHjA5jV5c\\\n",
              "S/jAIYQNiNH2ejVGDTv/rt3w6hRIdWUFTm7u5Px8FBf3Djh36EDctOe569GpePr5cz7tBPlnT1Ne\\\n",
              "WIC7rx+VxcXavrCLdfUEdu9JWHQMnv7+uDk5AlCUdQ6f4C4Edu8JQFlWBvqyUrYu/Zj0g6lsXfqx\\\n",
              "dqCw0Qb2fKPsPXP18JSDfE1IBdbGWdoI3LDdXv25O3e31pRRfbEabydvSqqVUAj1DEVfq+flQS+z\\\n",
              "4IcFZFZkYm9nz/Dg4dzhfwfFVcUY6gwEugaSVZHFQ90eIk+fx7Te0/jPif9oXYqNjU0dR3FVMXvz\\\n",
              "9nIg/wAH8g/gYu/S6PSh3MVZqK5WnZw98INW7VhqjDCt0MIHDiHr+BEiBg/jwrkz6M7nUV9bR5e+\\\n",
              "/ck8opwHWpSdQaeICEoLLtDB14/62lr0pTpsUE7gcHb30KYeAfLSlCn64F5RVBYXk/3zUbJ/PkqX\\\n",
              "vsqB2Nk/H+XgxnX4dw0n88ghLtYp21D6xI7m4MZ1xIybpJ3DKHvDLpMAa+Ms/eV+tVM4YjvH8udd\\\n",
              "fya/Mp/YzrGMCx/HP378B0ajkXnD5mldgh92+JA3fniD8upyduTsQF+r58CFAwwPHs5/z/wXgAv6\\\n",
              "C2SWZ5JVnkVORQ5RvlFXTAe+uvNVbb+Zeriw+pja1diUFno5jV6orrZW1Cd2tHaivNoYYco0FNQj\\\n",
              "pQAyjxzGOyiEnBNHGfiLSdRUVaPXlRDUow/HUjZrlZZnQCCU6nDz9sHDN4CL9XXkpZXh5OaOnYMD\\\n",
              "el0JHv4BdOndlz3frFA6GAfdSfdBwyi9cIHS/DxsjDBowsMU5WRq4wTlXEX1KCv1BBBZB1NIgLVx\\\n",
              "jf3lrlZAauffxIiJjOoyincPvEuQexBdPLowImQEsZ1jtbMQ7w+7n5SsFAb4D9C6BG1sbLT1q2D3\\\n",
              "YDLKMgj1CCXzZCY5FTnaZ5kGFsCOnB0MDx6uhZdp0Dbn1A05jV6orladuHp4ct8Ls8za5htWa2oo\\\n",
              "mB4h1Sm8O7XV1XDHYM6fPsX5S5XU7lVfEBzZiz6xY8g5cYy4adM59P3/tLMU0w+maqdxdOreE72u\\\n",
              "hLDoGKLvG8f5s8peM0dHJ37470ptP1mPu0ZaHKc6ls69+2r3J5P1L4UEWBtn+pd7wyk7NTR25+xm\\\n",
              "7/m9GOoMTOk5BUOdAUOdQTvGyfRkjg3pG0gvS2do4FAm95hMRlkGv47+NZ/89Ak7cnYwe+BsXh36\\\n",
              "Kuml6WSUZWCoM3C44DC7c3eTWZ6pBZaq4fShVFHiRjR2ckXDxw5uXKe1zg+4d5zFMHNwdmbPN0oF\\\n",
              "lH1pStDZvQMdfPzY880KuvTtj+58LkWX9mwdS9lMUI8+AGancZxPO4GDoxPHUjYz5KHJAOjLy0g/\\\n",
              "mIpXQBAludmcPfADPsEhZp+vnpbv0qGD2f3JQLoRQQKsXWlY5ZitOZ3fy8ELB7VmincPvMvQTkOZ\\\n",
              "0X8G94fdT5RvlNZ2H+YRxt68vQwLGsarQ19l6dGlWjWl7ucy1BnYm7eXGf1n4OHooT1uup9LrbxM\\\n",
              "K0DZ6yVuJdOqS70lio2x8alHUCogn+Au2gkc5ZeOjvLv2o3QfneYBd+uVV+SfjCVgG7duevRqejL\\\n",
              "SrF3diL35HEyjxy+fLL9pfWviEFDcfX0tLim1XBcsv5lTgKsHVEDSw2ZiRETtRPoz+jOaPutTM9D\\\n",
              "HBY8jDDPMF6IfsHilGNJVQmGOgMz+s/Q1rhM2+IB5gyaw6BOg64IKNObZqoVnkwFilvJNBAstc5f\\\n",
              "LRhcOnTA1dOT0vw8wgbEED32F5QXFRIxeBjBPZROQvVGl1lHlY3MakC6enji6OSshZdagQ15aLJZ\\\n",
              "+KnvoZ6Mf/bAD1fcgFPORjQnAdaOqNOJS48uNavE1PMPTacXTX/f8PWA1tCx9OhSFh9ezOyBs6+Y\\\n",
              "ClQD6mpdhOpz7/C/A1CCVYhbybSCaRgGloLBNPBM7868ZelHlF3IZ8Oid5ny2ltae/very/fpTn6\\\n",
              "vsvne6qvNdrAucMHSD+YSufefa/4TPXz1IaTq41LKCTA2qHm3B+sue9l+rrYzrHsP7/fYjCZrscl\\\n",
              "nU5iR84OBnUaZHYeohA3W3MrmIaBp66JqXT5uVpXo3pqfV1VNfbOThjKy83W1RyclY3JQx+Zwoip\\\n",
              "T1tsJjGdsuzcu69MFV6DBFgbZ2kf2M3o2jN936u913fp37EjZwdRvlFXdBWarsdJA4dorSzdCFMN\\\n",
              "KaONMk2oHvdkemr99i+Xaifbw5XrV6YdhA3XudTP8wkOuV1f02pJgLVxt2qT742+r2loNSVQ5c7M\\\n",
              "orVwdHLWbrOihtX5s+an1sOVVZTpbVtMW+GlMeP6SYC1cY3d5PJaxzM19jxLVVPD1zR2L6/mVoFy\\\n",
              "2kb71lrO/7PUFdhwg7Rp1Wapimr4Hg2rvNbyXa2B1QTYhg0bmDlzJvX19Tz33HPMnTu3pYdkFRq7\\\n",
              "yeWNHM9kKYDUfWOGOgMvRL9wUzcYyzRj+3Y7T2PXl5VyaMM6jDZolZaqYbV0tY3HjblWxSUnzzed\\\n",
              "VQRYfX09L774Ips2bSIkJIRBgwYxfvx4evfu3dJDszpNDYLWFhhy2kb7djun2Y6lbNYaNdSjm1SW\\\n",
              "mkCa2xhyrefLlGLTWUWA7du3j4iICMLDwwGYPHkya9askQC7Dk0NgusJjMamDIW4Ebdz/5Npy3tL\\\n",
              "hIjs9Wo6qwiwnJwcOnfurP0+JCSEH374oQVHJCyRKkm0Ba4engx7bGpLD0M0gVUEWFMlJiaSmJgI\\\n",
              "QEFBQQuPRgghxK1kFTe0DA4OJisrS/t9dnY2wcHBVzwvPj6e1NRUUlNT8fPzu51DFEIIcZtZRYAN\\\n",
              "GjSItLQ00tPTqampYeXKlYwfP76lhyWEEKIFWcUUor29PR9++CH33nsv9fX1PPPMM/Tp06elhyWE\\\n",
              "EKIFWUWAATzwwAM88MADLT0MIYQQrYRVTCEKIYQQDUmACSGEsEoSYEIIIaySBJgQQgirJAEmhBDC\\\n",
              "KkmACSGEsEoSYEIIIaySBJgQQgirJAEmhBDCKkmACSGEsEoSYEIIIaySBJgQQgirJAEmhBDCKkmA\\\n",
              "CSGEsEoSYEIIIaySBJgQQgirJAEmhBDCKkmACSGEsEoSYEIIIaySBJgQQgir1GoCbNWqVfTp0wdb\\\n",
              "W1tSU1PNHluwYAERERH06NGDjRs3ttAIhRBCtCb2LT0AVVRUFKtXr2b69Olm148fP87KlSs5duwY\\\n",
              "ubm5jB49mlOnTmFnZ9dCIxVCCNEatJoKrFevXvTo0eOK62vWrGHy5Mk4OTkRFhZGREQE+/bta4ER\\\n",
              "CiGEaE1aTYBdTU5ODp07d9Z+HxISQk5OTguOSAghRGtwW6cQR48ezfnz56+4/vrrrzNhwoQbfv/E\\\n",
              "xEQSExMBKCgouOH3E0II0Xrd1gDbvHlzs18THBxMVlaW9vvs7GyCg4MtPjc+Pp74+HgAYmJirm+Q\\\n",
              "QgghrEKrn0IcP348K1eupLq6mvT0dNLS0hg8eHBLD0sIIUQLazUB9t///peQkBD27NnDgw8+yL33\\\n",
              "3gtAnz59eOyxx+jduzf33XcfixYtkg5EIYQQ2BiNRmNLD+JWiImJuWI/mRBCiMZZ09+draYCE0II\\\n",
              "IZpDAkwIIYRVkgATQghhlSTAhBBCWCUJMCGEEFZJAkwIIYRVkgATQghhlSTAhBBCWCUJMCGEEFZJ\\\n",
              "AkwIIYRVkgATQghhlSTAhBBCWCUJMCGEEFZJAkwIIYRVkgATQghhlSTAhBBCWCUJMCGEEFZJAkwI\\\n",
              "IYRVkgATQohbwFBRw4/fn8NQUdPSQ2mzWk2AzZkzh549e9KvXz8eeughdDqd9tiCBQuIiIigR48e\\\n",
              "bNy4seUGKYQQTfTz7jz2rD7Dz7vzWnoobVarCbAxY8Zw9OhRfvrpJyIjI1mwYAEAx48fZ+XKlRw7\\\n",
              "dowNGzbwwgsvUF9f38KjFUKIxvUaFsidk7rRa1jgNZ8r1dr1aTUBNnbsWOzt7QEYOnQo2dnZAKxZ\\\n",
              "s4bJkyfj5OREWFgYERER7Nu3ryWHKoQQ1+Ti7sgdY7vi4u54zedKtXZ97Ft6AJZ8/vnnPP744wDk\\\n",
              "5OQwdOhQ7bGQkBBycnJaamhCCHHTqVVaU6o1cdltDbDRo0dz/vz5K66//vrrTJgwQfu1vb09U6dO\\\n",
              "bfb7JyYmkpiYCEBBQcGNDVYIIW4TtVoTzXNbA2zz5s2NPr5s2TLWrVvHli1bsLGxASA4OJisrCzt\\\n",
              "OdnZ2QQHB1t8fXx8PPHx8QDExMTcpFELIdozQ0UNP+/Oo9ewwCZNB94OrXFMLaHVrIFt2LCBN998\\\n",
              "k7Vr1+Lq6qpdHz9+PCtXrqS6upr09HTS0tIYPHhwC45UCNGeqOtTR5Kzr9pocbUmDPV6SX5ls5o0\\\n",
              "rtXUIWtmilazBvbrX/+a6upqxowZAyiNHB9//DF9+vThscceo3fv3tjb27No0SLs7OxaeLRCiLai\\\n",
              "YTXT8PfqupShvIb96zOoq65n8C/CzV5bV13P/vUZAGZTgWrQ5JwqIfNosfZ4UVERPj4+V4wl+1we\\\n",
              "F07WUFtdT6qF91PJmpmi1QTY6dOnr/rYq6++yquvvnobRyOEaC/UkAElLBr+Xl2f+uF/ZwHIPaOj\\\n",
              "JL+S9MOFWtDEPBhqsWW+17BADOU15J0ppVOEB2H9fZk/fz6ffvopycnJREZGas89deoUdw8bQUzo\\\n",
              "vbz6hz/RJaojYf19LY5Z1swUrSbAhBDidjNU1FBXXU/Mg6FXVDUNw6hfXAgXzpWRebSYnavSyDxa\\\n",
              "TPSYznSJ6kjk4AC8A9yueH8Xd0eK8yrJP1sGwNzfv0riF+8DEBcXp4XYqVOniIuLo6Aon++K/kXQ\\\n",
              "114M8JzATtIY/VTvdr3O1ZhWswYmhBC328+789i/PgMHJzstJBru31LXowBGP9WbQQ+G4h3oxqAH\\\n",
              "Q3FwtCPzaDHphwuv+hkxD4Ti6efC/oLVWngB5ObmEhcXx/r164mLiyM3N1d7bMnKf7Ij4/+RebSY\\\n",
              "n5KzMVTUsO9/Z/nhf2dls7MJCTAhRLulnpYR1t/3qk0Tpg0Taqgd3qR0RncfHNDoVB9A3ulScrLO\\\n",
              "8+22r82uT2Qi+lw948aNQ5+rZyITzR7fun8NFVWl2HA5aFPXZ7T7xg1TMoUohGi31Grrx+/Pac0W\\\n",
              "6pSd2qChhpM6pWi89NrsUyXkntGRc0JnNtVnuQnkDu6J38B9D4yluLSAiUxkJjOZwAQSSGAe8wgl\\\n",
              "FIAkkggKCuK7dRupK+igfW5ddT1GpHHDlASYEMLq3ei+qF7DArVOQfV9Ni87rnUO9hoWqF3v0qcj\\\n",
              "R1KyyUsrBcDZzZ7Mo8V8vTCVsAF+gFKh1VbX0y8uRHvdz7vhxfveYtGGOaSUpjCBCYQSylKWApBB\\\n",
              "BimkEBQUZNbgoX63vnEhZt9N9oJJgAkh2oCGnYONMf2LX31tr2GBjH6qt0nY5JF5tJguUR3pNSyQ\\\n",
              "AxvPcXhTFvryGgqzyqmurAOgg48z5UVVAJQVVnF4Uxaefi4A2tTfntVnqK1WDiAfN3U4XpEL+N3f\\\n",
              "niOBBC28ABJIQIeO+c+/S+egUG2spkFq+t1+Ss4mdX0GtdX1DLnU1t/eSIAJIaxec/ZFmYYdYBZ8\\\n",
              "akA0fL+MQ0qTRlFWBd4BbuSc0AHQJaojpfkG3Do6Ul5QxUWjkfOnywjp6Y2+oobCnyvoFOFBVUUN\\\n",
              "R7fl4h9t5O3P/oIXXsxjntm45jGPWcxi3sI5ONV2ZNrL92tB6hXgok1lanvPapRQtLmuP7G2QZo4\\\n",
              "hBBWrzknv5ve5uRqtzwxfb8jydmUFhjw8HXGM8CFopwKAIJ7euHq7kj2iRI6dnLnod8N5IHn+zHo\\\n",
              "wVCMGDm2LZf8s2WcP11GUU4l+bosnn9lCnl5ucQSSyihZJDB0zxNBhmEEkossZTqi5j7zrMsf/M7\\\n",
              "wvr70iWqI7p8AztXpWnhtWf1GYwoAdp9cMCt+CO1ClKBCSHaFTWcGk4l/vj9uSvWkwwVNWQeL1Je\\\n",
              "18GBY9uUVvfACE9ssME/zIMuUR0JjPDkx+/PEdbfl+yTJeSdLsWvqxsOjvb4hXpQXFTIP//3O0r1\\\n",
              "ynslkQRACino0DGLWcQSq11XQyyy32ZGP9Vbm0ZUm0pyTpVgA2QeLSataz72Tnbtci1MAkwI0S6Z\\\n",
              "HvPk39XD4tFNPyVnk59eDoCdvS0xD4ZSV1NP+qFCSgsMFGaXU1WhrIdlHi3m2I4cygqUNTF7R3uC\\\n",
              "I70xAp4dOjKs14N8d+Bf2nsnkYSnqw9/+r/3WbL+7yTlJZmN7/6Rj9DrjlB+3p3H3Y92Jz2y0Gx9\\\n",
              "zr+rB3dO6kZtdX2T1//aGgkwIUS7ZNp5GHApDLRzDxusM3XwdcY/1EPrKiwtMGDvaEtVRR1eAS7E\\\n",
              "PBAKoDVbuHd0AiPa+YidIjx4MGYadvY2rPthOQAdPfx48f63iO4RxYYXNjJ69GgKivMBmHz/dO7u\\\n",
              "8hg/rD1LzgmdWaOG6fqc2rbvcKkCa29sjEaj8dpPsz4xMTGkpqa29DCEEK3Y1Q7y1ZfXcHhTFv3H\\\n",
              "dMbB0Y6cUyXkpZUS0tObEVMi2b7iFNknSnB2s6eqso5BD4ZSU1PP2R8LKC+q0roTA8I9sHe0pUNH\\\n",
              "Z07sPk/PYQF8tvIDNv/wX2aMeZMAr84AeAW4UOdWzMyEaYy98yFmzngZB0c7DJeaP4K6e3Lf9L5N\\\n",
              "miK80fZ6a/q7U5o4hBDtVsPmD3VaUe06dHS0w8HJTtvzlX2ihJ2r0vDp7A5AVaVSgRkqlMBTwstJ\\\n",
              "a623d7Ql54SO3DQdABXFNdzd5TH+889veXDqcKJGBuHsZo8u34BtuTd/ePRTxg15mkObsjBeGh9A\\\n",
              "blopPyVnW/wODW+90p5utSIBJoRo10wDoNewQKU1vsBAl6iO9I0LIay/Lx5+zgB4+DqTebSYgowy\\\n",
              "+o/pTEhPb3T5BopyKwEICPdAbWz39HNh5JQeBPf0oqygCg8/Z/qPVl7j6qxMR3bwcdFCcPjjkYR0\\\n",
              "7aSFnw3QNy6EkJ7e2u8taRhYV+usbItkDUwI0a413AStbmgO6+/LkeRscs/oKCuooktUR7wD3Ti8\\\n",
              "KYvctFKCIr3xvVSJeQW4XKrSjJQXVeHkas/dj3fn2M5cSi8YACgrqOJISjbZJ0rIPlGCSwdHs/Ws\\\n",
              "n3fnocs34OHnTHi0n3byxtjn+ph1SzbUcM9ae7rVigSYEKJdu9om6LR9+VoTRkhPb/y7ehA5OIC6\\\n",
              "mnoyDhdyeEsmtVUXAQjs5smdk7qR8ZMy9Vitr+NISrbW1AFK9RbzQCj+XT2wAcL6+5oFk768hg4+\\\n",
              "zpQVVGHveOXp+FfTngKrIQkwIUS71jAA1COaOkV4EDUymJL8SjwDXEhdn0HeGR022FCpu3xqvYef\\\n",
              "s1YthfX3JfmLE2BUbqPSwceZ0/svUK2vo6ywitRvM7RDf9UDhFXqCffQvk/XaA4JMCGEMKGGx/nT\\\n",
              "ZdjZK00YxnqlWTvnhI5OER74dXVHX1qNe0dnRk3rDcAP/zuLDRAc6U3q+gwyjxVTXlRFtb6O4J5e\\\n",
              "2GCjbUa+Y2zXKyq/2up66mrqcXC0o29cyBXjksN7ryQBJoQQJtTwMAJ1NfXknNDhH+pBcKS3dvuU\\\n",
              "Oyd1MzvNo7a6XtsIHdTdk5gHQ7WTMrwCXBgyPpysY8V06uZptlZlesr9tQ7kNd14LXdpVrSaAPvz\\\n",
              "n//MmjVrsLW1xd/fn2XLlhEUFITRaGTmzJl8++23uLq6smzZMu64446WHq4Qoo1ycXdk8KUwMVTU\\\n",
              "aM0W6j6xn5KzqauupyS/kp2r0sg8WsygB0MJ7ul1qWW+lK59fek1LJC8M6Vknyhh39p0sk+UcOek\\\n",
              "bmbvc/7S43DtUzQa3vKlva57mWo1bfRz5szhp59+4tChQ4wbN46//vWvAHz33XekpaWRlpZGYmIi\\\n",
              "M2bMaOGRCiGsScN9Us3RcJ+Yi7sjDk527F+foYVXSE/luKiRU3oQ82Aogx4M1QKvUzdPAHw6u5u1\\\n",
              "tv+8O4/U9RlknyjRbtnSlLGMfqp3u2mRb4pWU4F5eHhov66srMTGRpmJXrNmDU8++SQ2NjYMHToU\\\n",
              "nU5HXl4egYHy/0AhxLU1515hTaGGR1h/X9IjC6mrrmf/+gwcnOzMpgENFTXYADEPhtKvwc0oew0L\\\n",
              "xFBeQ2FWBXc/2r3J04HtuePQklYTYACvvvoq//rXv/D09CQ5ORmAnJwcOnfurD0nJCSEnJwcCTAh\\\n",
              "RJM0515hTWEaIt5j3TBU1GinwZv6eXce+9dnaNOGDRXnVZJ9ooT0w4V4j3Wz+FnSuNG42zqFOHr0\\\n",
              "aKKioq74vzVr1gDw+uuvk5WVxdSpU/nwww+b/f6JiYnExMQQExNDQUHBzR6+EMIKNedeYTfz/Rs7\\\n",
              "EeNIcrY2/Wj6eHs+Fup63NYKbPPmzU163tSpU3nggQdISEggODiYrKzL+yOys7MJDg62+Lr4+Hji\\\n",
              "4+MB5UBKIYRoiltR6Via7lM/p+bSKfedunmafV7D6c6bXT22Na2miSMtLU379Zo1a+jZsycA48eP\\\n",
              "51//+hdGo5G9e/fi6ekp04dCiJuqKZXOjTSDNPwcR0c77pzUjX4N9ns1rNpudfVo7VrNGtjcuXM5\\\n",
              "efIktra2dO3alY8//hiABx54gG+//ZaIiAhcXV1ZunRpC49UCNHWNKXSuRnNIA3v5dWQNGk0j9wP\\\n",
              "TAghmqC9NFRY09+draYCE0KI1kyqo9an1ayBCSGEEM0hASaEEMIqSYAJIYSwShJgQgghrJIEmBBC\\\n",
              "CKskASaEEMIqSYAJIYSwSm12I7Ovry+hoaG37fMKCgrw8/O7bZ93K8l3ab3a0veR79I6ZWRkUFhY\\\n",
              "2NLDaJI2G2C3mzXtXr8W+S6tV1v6PvJdxI2SKUQhhBBWSQJMCCGEVZIAu0nU+5C1BfJdWq+29H3k\\\n",
              "u4gbJWtgQgghrJJUYEIIIaySBNgNmDNnDj179qRfv3489NBD6HQ67bEFCxYQERFBjx492LhxY8sN\\\n",
              "shlWrVpFnz59sLW1vaKjyhq/z4YNG+jRowcREREsXLiwpYfTLM888wz+/v5ERUVp14qLixkzZgzd\\\n",
              "u3dnzJgxlJSUtOAImy4rK4u4uDh69+5Nnz59eP/99wHr/T5VVVUMHjyY/v3706dPH+bNmwdAeno6\\\n",
              "Q4YMISIigscff5yamuu/c7NoIqO4bhs3bjTW1tYajUaj8eWXXza+/PLLRqPRaDx27JixX79+xqqq\\\n",
              "KuPZs2eN4eHhxrq6upYcapMcP37ceOLECePIkSON+/fv165b4/epq6szhoeHG8+cOWOsrq429uvX\\\n",
              "z3js2LGWHlaTbdu2zXjgwAFjnz59tGtz5swxLliwwGg0Go0LFizQ/ntr7XJzc40HDhwwGo1GY1lZ\\\n",
              "mbF79+7GY8eOWe33uXjxorG8vNxoNBqNNTU1xsGDBxv37NljfPTRR40rVqwwGo1G4/Tp040fffRR\\\n",
              "Sw6zXZAK7AaMHTsWe3vlnqBDhw4lOzsbgDVr1jB58mScnJwICwsjIiKCffv2teRQm6RXr1706NHj\\\n",
              "iuvW+H327dtHREQE4eHhODo6MnnyZNasWdPSw2qyESNG0LFjR7Nra9asYdq0aQBMmzaNpKSkFhhZ\\\n",
              "8wUGBnLHHXcA0KFDB3r16kVOTo7Vfh8bGxvc3d0BqK2tpba2FhsbG7Zu3cojjzwCWNf3sWYSYDfJ\\\n",
              "559/zv333w9ATk4OnTt31h4LCQkhJyenpYZ2w6zx+1jjmK8lPz+fwMBAADp16kR+fn4Lj6j5MjIy\\\n",
              "OHjwIEOGDLHq71NfX090dDT+/v6MGTOGbt264eXlpf2Dti3892YN7Ft6AK3d6NGjOX/+/BXXX3/9\\\n",
              "dSZMmKD92t7enqlTp97u4TVbU76PaP1sbGywsbFp6WE0S0VFBQ8//DD/+Mc/8PDwMHvM2r6PnZ0d\\\n",
              "hw4dQqfT8dBDD3HixImWHlK7JAF2DZs3b2708WXLlrFu3Tq2bNmi/Q8wODiYrKws7TnZ2dkEBwff\\\n",
              "0nE21bW+jyWt+ftcjTWO+VoCAgLIy8sjMDCQvLw8/P39W3pITVZbW8vDDz/M1KlTmTRpEmDd30fl\\\n",
              "5eVFXFwce/bsQafTUVdXh729fZv4780ayBTiDdiwYQNvvvkma9euxdXVVbs+fvx4Vq5cSXV1Nenp\\\n",
              "6aSlpTF48OAWHOmNscbvM2jQINLS0khPT6empoaVK1cyfvz4lh7WDRk/fjzLly8HYPny5VZTMRuN\\\n",
              "Rp599ll69erF7NmztevW+n0KCgq0jmODwcCmTZvo1asXcXFxfP3114B1fR+r1tJdJNasW7duxpCQ\\\n",
              "EGP//v2N/fv3N06fPl177LXXXjOGh4cbIyMjjd9++20LjrLpVq9ebQwODjY6Ojoa/f39jWPHjtUe\\\n",
              "s8bvs379emP37t2N4eHhxtdee62lh9MskydPNnbq1Mlob29vDA4ONn722WfGwsJC4z333GOMiIgw\\\n",
              "jho1ylhUVNTSw2ySHTt2GAFj3759tf+trF+/3mq/z+HDh43R0dHGvn37Gvv06WNMSEgwGo1G45kz\\\n",
              "Z4yDBg0yduvWzfjII48Yq6qqWnikbZ+cxCGEEMIqyRSiEEIIqyQBJoQQwipJgAkhhLBKEmBCCCGs\\\n",
              "kgSYEEIIqyQBJoQQwipJgAkhhLBKEmBCCCGskgSYEEIIqyQBJoQQwipJgAkhhLBKEmBCCCGskgSY\\\n",
              "EEIIqyQBJoQQwipJgAkhhLBKEmBCCCGskgSYEEIIqyQBJoQQwipJgAkhhLBKEmBCCCGs0v8HuVN4\\\n",
              "ZSD5FvUAAAAASUVORK5CYII=\\\n",
              "\"\n",
              "  frames[1] = \"data:image/png;base64,iVBORw0KGgoAAAANSUhEUgAAAbAAAAEgCAYAAADVKCZpAAAAOXRFWHRTb2Z0d2FyZQBNYXRwbG90\\\n",
              "bGliIHZlcnNpb24zLjcuMSwgaHR0cHM6Ly9tYXRwbG90bGliLm9yZy/bCgiHAAAACXBIWXMAAAsT\\\n",
              "AAALEwEAmpwYAAAyTklEQVR4nO3deXhU1eH/8fckkx1IQiCBhCVACEsgIARUqpIowY0Cglr8YUvR\\\n",
              "Eq3VWuwXpbb9hvgToX5bkSrVhiqltYVftXyDlQqCJrhBIcoiICRgItmIIRuQfbm/P4YZEgiyJczc\\\n",
              "zOf1PDwzc+6Sc5+H5DPn3HPOtRiGYSAiImIyHs6ugIiIyOVQgImIiCkpwERExJQUYCIiYkoKMBER\\\n",
              "MSUFmIiImJICTERETEkBJiIipqQAExERU1KAiYiIKSnARETElBRgIiJiSgowERExJQWYiIiYkgJM\\\n",
              "RERMSQEmIiKmpAATERFTUoCJiIgpKcBERMSUFGAiImJKCjARETElBZiIiJiSAkxERExJASYiIqak\\\n",
              "ABMREVNSgImIiCkpwERExJQUYCIiYkoKMBERMSUFmIiImJICTERETEkBJiIipqQAExERU1KAiYiI\\\n",
              "KVmdXYGO0qNHDyIjI51dDRERU8nNzeX48ePOrsZF6bQBFhkZSWZmprOrISJiKnFxcc6uwkVTF6KI\\\n",
              "iJiSAkxERExJASYiIqakABMREVNSgImIiCkpwERExJQUYO6oqhQ+WW57vUylpW0fe75yEZH2pgBz\\\n",
              "R7vfgM3/bXu9DIsWLSI2NpasrKxW5VlZWcTGxrJo0aJ2qKSIyLdTgLmj0fdD4jO2V7uzW2XnaaUt\\\n",
              "WrSIlJQUCgsLSUhIcIRYVlYWCQkJFBYWkpKSohATkQ6nAHMXLQMpIAS+87jt1e7sVlkbrTR7eNkV\\\n",
              "FhaSED+RDRs2OMLLTiEmIh1NAeYu7IGU9vC5976qSuHUcRgYD9F32MrOaqWVlpaycuXKVodNZzrV\\\n",
              "RbVMmTKF6sJqpjO91faVK1fqnpiIdBgFmLsYfT8MngzZ78HHL8Lf7oGSbFt4pT0M234PX2VA1r9t\\\n",
              "+weE2I7Z/QaUZBNy8A3SN6wjPDwcsIXX4zzOMpYRSSTLWMbjPO4IsfDwcNLT0wkJCWmzOiIiV8pi\\\n",
              "GIbh7Ep0hLi4OC3me7aqUlsgHfnAFlaDJ0P4GNi6FPp9B/qMAcMCFgO8AmzHbF0KPQbD8WyYuJCs\\\n",
              "Y6dI+PnrVBfVOsLLLpdc5jMf/3B/0tPTiY6OdsplisjlM9PfTrXA3In93tftv7WF1+TnoKHKtq3P\\\n",
              "GFtobfs9fPqSLbhKj4B/D1t4eflDZT7Rh14mdf53qaCCFFJanT6FFCqoIDU1VeElIh1OAeaO/LtD\\\n",
              "+DWw7y1biwtOt7jOaowf3gzVx8HDCg3VsGcNWdYYkn6XRhBBJJPcavdkkgkiiKSkpHOG2IuItDcF\\\n",
              "mDva/QZs/Y2tlWXBNlhj0CRb16Knz5n9PLwgqD8MvBmArOP1JDy/ncLiEuKJJ5JIcsllLnPJJZdI\\\n",
              "Iokn/pwh9iLuRJP8rx4FmDvqOwF8g2zvG2psr+89Dfk7oanuzH7VJVDxNVTmU1rdTMLqagpP2lpp\\\n",
              "aaSxnOXMZ77j3tdylpNGGoAjxPRLK+5Ek/yvLgVYZ9bW5OT05yDtIaitsJVlbbQNry8+cP7zlHxJ\\\n",
              "iL8H88Z4tSpOIw3/wCreeevv+If7O8LLbt68eRqFKG5Dk/yvPgVYZ9bW5OStv4GyI+DpayurzLO9\\\n",
              "Npz6lhPZWl2L4n1JnujtKA0P9CL9+97c2esb0tPTHUPsAZKTk/WLKm6jzUn+CQma5N/BFGCdWcvJ\\\n",
              "yFWlUJEHgX2hWx9oqr2sUy6K9yX55m6Ed7WQ/sKDRM9aDKPvJzoihPTf/pDw3r0UXuJWzjvJv7Ba\\\n",
              "k/w7mNXZFZAOZJ+MvCMV8rbb5n7Z9RkPJQeh7sQln3bRjfDY2ABCInqcmexcX0X0oZfZ+6enCLnj\\\n",
              "6fa7BhEXFxISwv9u2MTkxElUHi92TPKfxjRSSCGZZMd8yTTSNMm/HblUC6y2tpbx48czatQoYmJi\\\n",
              "SE62DdPOycnh2muvJSoqiu9973vU19c7uaYu7Oz7XrvfsI02/CoDuvW1lfl0gx5DbOEV1P/cc1jO\\\n",
              "99/C4ngX4u8BxXtt4bj5v23bEp8hZOJD7Xk1Ii6lrKqeP249QllVfavPn5R4E3DXM/gF9SSDDMeo\\\n",
              "3FWscozWzSDDEV6aJ9k+XCrAfHx8+OCDD9izZw+7d+9m48aNbN++naeeeor58+dz+PBhgoODee21\\\n",
              "15xdVdd19n2v0ffDxIUw8SmIuctWVncCDm2wve8SZnv1ON0Y9+sBAWHnObmBI8R8g22hmPuRbQ3F\\\n",
              "EXefu0CwSCfzZmYeS949yJuZeXz+dTmTXshgybsHAYPJ14+my6RHvnWS/+9+v+KSw+vs0JQzXCrA\\\n",
              "LBYLXbp0AaChoYGGhgYsFgsffPABd999NwBz5swhLS3NibV0cWc/KiUgBBJ+AQlPww0/g3HzwK87\\\n",
              "1JTZVuPoHWvbL2yE7TVkAJwqOnM+v+5n3ls8cEx2ri23LTH19Se2IHvv6St6QKaIKyurqmfZ5ixK\\\n",
              "T9WRdNNAqusb+emaXZRVNeBpgfKqBmYP86I2/ZVvneT/8MMPX/L8yJahKa253D2wpqYmxo4dy+HD\\\n",
              "h/nJT37CoEGDCAoKwmq1VbVPnz4UFBQ4uZYuzL5c1Pm2BfU9E17TX7V1AQJE3gQjZthWpc/faSuz\\\n",
              "+tn27T4IBiWA1f90A+z0WomDJkHGYtvcsez3bK2+8/1sERdVVlXP6k9zqalvws/bgzkTBtA9wLvV\\\n",
              "9h+t3sHnRysBGNQzgCMlVYzpF0R+RQ1NBrz270958Z+/5mTZN0xnuqPbsOU9sHjiSTueRkJCwiV1\\\n",
              "I94T17fVq5zhcgHm6enJ7t27qaio4K677uLgwYMXfWxqaiqpqbY/yCUlJR1VRXMbfT/UV+HoChyf\\\n",
              "BN7+tvKAEFsrqrEGjrwPt/0P7PyjLZxCBtleE585E1KfLIev0m1dlNG3tX5ApohJrP40l+XvZzs+\\\n",
              "+3tbmTQ8jGffOcCvpgzn7d2FjvDytMCRkir6BvsR2tWHrj6e1J2qIH/NL2g6VQbgmA+ZQQYVVDCf\\\n",
              "+bbwOmuS/969ey9qIEf3AG8emjiofS+6k3C5ALMLCgoiISGBbdu2UVFRQWNjI1arlfz8fCIiIto8\\\n",
              "JikpiaSkJMC2orKcR+EuWxh5+9vCKPoO2yNVbnwS8j6F+F/Anb+1PW6lqQEmPAbXzIHIG1qHlP29\\\n",
              "PfxETKCsqp43M/O4J64v3QO8qalvdGzzsVo4UFjJX7blUlBRy8fZW2lqPnNs0+ke9LzyGvLKT69i\\\n",
              "49WVLqNupfKTNY790kjDs0t3Zjz6e/61IoW0k2mt6qBJ/u3DpQKspKQELy8vgoKCqKmpYfPmzTz1\\\n",
              "1FMkJCTw1ltvMWvWLFavXs20adOcXVXz2v2GLbwGTz4TQO89bSsrz7GtPG9voX3xDyj7Cjy9oOdg\\\n",
              "6HlW9+C3dVeKuKCyqnp+/o/dpB+y9dBMGh7Gu/uOObbXNRqs33PmHnBD8zmnaFPQDbMBHCHm2aU7\\\n",
              "YfctIb/LQHrOeo7j/++X1J84DmiSf3tyqQArKipizpw5NDU10dzczL333suUKVMYPnw4s2bN4le/\\\n",
              "+hXXXHMNDz74oLOrak5VpbZwmrjQ1nVobzVNfs72am+B1Vfbht6DbaCGfbv9eWJqcYlJvZmZR/qh\\\n",
              "Em6I6kF1fSPJ6/efaUldIXuIndqzibD7luDVPQKrp4X4cbGEjfsLa5J/xENJ8xRe7cilAiw2NpZd\\\n",
              "u3adUz5w4EB27NjhhBp1Evbgqa+yLSWV+EzrAOo5GGa/aXvfb1yL0YQGjH/ozL72IfqglpeY0qTh\\\n",
              "YWz/qpTBoV1Y/v5hfnBdP/LK/An0s7K3wDap3wNoq+EV4m+ltLqxjS1nBN0wm65jv4unXzc8LbB4\\\n",
              "+kgOFZ9kybul/Ner6/n5VN3aaE8uNYxeOogjeCyth9ifT0DI6cEdAa3Lzx6iL2IyWw4Uk36oBD9v\\\n",
              "K7+4fSi+3la+LqvGz9vKtFG98bTYwsvTcu6xZecJr+jQAMIDfQnw8QTA068bYLtftiuvgnvi+vKL\\\n",
              "24cy95bYjrost+VSLTDpIJcz2KKt1pbueYnJtRyS3j3Am2WbDwHwn5wyIkP8HYM0mgzw9KDVAI6z\\\n",
              "HveKBRjYw5+q+iYKK21ri47pF4SXpwf1jU3syqsEDI0i7EAKsM6mrftUlxM8LUNPpJM4O0zmTBhw\\\n",
              "+p2FoooackuriY0IpKuvlU+OlNI32I/iE7XUn062lt2LBlBe00BZVYPjfDcO7sn8xOhWIx2l4yjA\\\n",
              "Opv2uk+l1pa4ge4B3sxPHALAss22FTIShoYyZ0KkI4Be3JLFX7Z9TXigL8/dNZI/ffwV4UF+FFbU\\\n",
              "8KMbBvKnj3MY2COA4AAv5kyIdJxXra6OpwDrbNRyErkscyZE4u/teU6r6WeTookI8uOeuL68mZnH\\\n",
              "x4dL+cXtQ3n+7lEAxA8NdUZ1BQVY56OWk8hladlq+uPWI6cX6YWHJg5ylGtZJ9eiABMROcv5gkpd\\\n",
              "g65FASYichYFlTloHpiIiJiSAkxERExJASYiIqakAHNhjeXllL72Go3l5c6uioiIy1GAXUWlpaWX\\\n",
              "VF65bh3f/M9vqVy3riOrJSJiSgqwq2TRokXExsaSlZXVqjwrK4vY2Ng2H7EQOGMGoQv+i8AZM65S\\\n",
              "LUVEzEMBdgHt0Y23aNEiUlJSHI8St4dYVlYWCQkJFBYWkpKSck6IWYODCXnwQazBwVdyCSIinZIC\\\n",
              "7AKutBvPHl529hDbsGGDI7zs2goxERFpmwLsAq6kG6+0tJSVK1e2KpvOdKoLq5kyZQrVhdVMZ3qr\\\n",
              "7StXrjzvPTERETlDAXYBl9uN11heDmlpbE5LIzw8HLCF1+M8zjKWEUkky1jG4zzuCLHw8HDS09MJ\\\n",
              "CbnIZ3aJiLgxBdglanlPzP6+Lien1Wtjebmj6zFs717S09MJDw8ngwxyySWSSFaxikgiySWXDDIc\\\n",
              "4RUdHe3sSxQRMQWthXgR7IEUOGOGI5iaq2uo2fcFVVs/pPyf/6ThqxyqduygauuHVO3YQdjChTRX\\\n",
              "19BcXc3Anj1JTU1lypQppJDCKlY5zp1CChVU8EbqGwovEZFLoAC7gMbycgoXLqRq64cAdLn5Zk59\\\n",
              "8gmV771HQ3Y2nmFhNHyVg19cHM3V1fiOHk3V1g85MWIkYHB8xR/Yl5FB0rZtBBFEMsmtzp9MMvOZ\\\n",
              "T1JSklpgIiKXQF2IF1D+xt+o2vohXv362cLrgw+o/nQbDdnZADSVluIzcgQ1X3xBzc5M6nNyAKj6\\\n",
              "z39orq0lt76eWW+/TWFREfHEO7oN5zLX0Z0YT/w5Q+xFROTbqQX2LRrLy6na8R8AGo4e5dQHH+A3\\\n",
              "diwe3brRfOLE6Z0aqftin+OY5spKAGoyMyn+6it+WJDPN42NAKSRBkAGGVRQwXzmE0+8o9weYnv3\\\n",
              "7tVADhGRC3CpFlheXh4JCQkMHz6cmJgYli9fDkBZWRmJiYkMHjyYxMREyq/C2oD2rsOanZkAp7sI\\\n",
              "ayj5/e/PhFdbLBbH225lZdzdtWurzWmk4d/bj/Vr1+IbdCbU7ObNm6fwEhG5CC4VYFarld/97ncc\\\n",
              "OHCA7du3s2LFCg4cOMDSpUu55ZZbyM7O5pZbbmHp0qUdXpfKdeuo2voh/tdfT4+fPILfqFiOr1hB\\\n",
              "3ZGvwMur9c6enmfeG0arTY/26MkjLQIp1GrltbAwJg0Zwtb//McxxB4gOTlZE5lFRC6SSwVY7969\\\n",
              "GTNmDABdu3Zl2LBhFBQUsH79eubMmQPAnDlzSEtL6/C6dLn5ZgIm3kSv//41PR97DA9fXwCaiouh\\\n",
              "oaH1zk1NrVpeZ7OHWKjVyp/79aN/TS2FTz9NdHS0Y4i9wktE5NK47D2w3Nxcdu3axbXXXktxcTG9\\\n",
              "e/cGoFevXhQXF3fYz7UPmW8sLaVq64cUlJbRWFqKNSQEn5EjWt3vauWsltfZHu3Rk/uDuxPk6QlW\\\n",
              "K93n/JCSl14mGIPPP/yQsEF6fLmIyKVwyQA7deoUM2fO5MUXX6Rbt26ttlksFiznae2kpqaSmpoK\\\n",
              "QElJyWX9bPs8L//rrwegbp8tsJqKivCLiwMfb6irBw8PW2hdILjsPMPCCCors7XeGhsp/eOrNBYW\\\n",
              "ARDq709j9+6OuWZavFdE5MJcLsAaGhqYOXMms2fPZsbp9QfDwsIoKiqid+/eFBUVERoa2uaxSUlJ\\\n",
              "JCUlARAXF3dZP9++5mGXm2+m4s03qdqxk8aSEjyDg6nPz7eFF0BzM15RUTQcPvyt57N06ULg1O9S\\\n",
              "l32YmhYtx+bTIxP94uIInDGD8jf+xvEVK2iurqHnY49eVt1FRNyJS90DMwyDBx98kGHDhvHEE084\\\n",
              "yqdOncrq1asBWL16NdOmTeuwOtjXPvQZMAAPPz/q9u0j8M47MerraDp2zLbT6UEbRk0Nnr16tTre\\\n",
              "e+hQPE93dwIETpuKd0QENTt3nt7BGwCv0DAAAq4df7rFZW/JXVyLTkTE3blUC+yTTz7hr3/9KyNH\\\n",
              "jmT06NEAPPfccyxcuJB7772X1157jf79+/OPf/zjKtXI1lVZ88VeGr7KgW5d4cRJaGrCo3swjQUF\\\n",
              "dH/gAWq++IL6/HyaiorodsstdJtyJ0cffpjGr49iDQoicMYMmqtrqHznXzR8fRSAgPHjCLz9NkeL\\\n",
              "L/j++/Hw99fDK0VELpLFMC7yJo7JxMXFkZmZeUXnODOgo4yy11+n+4MPnB6NaKHblDs59cEHjntW\\\n",
              "LddLbOszQF1ODsee+b/4DhtKyLx5591PRMRZ2uNv59WiALuAxvJyyt94A7AQfP/sdg+Z0tde45v/\\\n",
              "+S2hC/6LkAcfbNdzi4hcKjMFmEvdA3NFlevWcXzFH/Dw97us8Gr5+JW2XMkDM0VE3JlL3QNzRfZg\\\n",
              "udyAsQ/LB9psYdkHjYiIyKVRgF3AlQbMxQag7oWJiFwadSF2MHsAXiiU7C21ynXrrlLNRETMTS0w\\\n",
              "F3GlXZUiIu5GAeYidC9MROTSqAtRRERMSQEmIiKmpAATERFTUoCJiIgpKcBERMSUFGAiImJKCjAR\\\n",
              "ETElBZiIiJiSAkxERExJASYiIqakABMREVNSgImIiCkpwNxAeW05q/atory27adCi4iYkQLMDaQd\\\n",
              "TuOFz14g7XDaRe2vwBMRM9DjVNzA9KjprV4vxB54AHNHzO2gWomIXBmXa4E98MADhIaGMmLECEdZ\\\n",
              "WVkZiYmJDB48mMTERMrL1TK4FMG+wcwdMZdg329/KrTd9KjpPDH2iYsOvNLS0ksqFxFpDy4XYD/8\\\n",
              "4Q/ZuHFjq7KlS5dyyy23kJ2dzS233MLSpUudVDv3cCmBt2jRImJjY8nKympVnpWVRWxsLIsWLeqg\\\n",
              "Woq4D31JbJvLBdhNN91E9+7dW5WtX7+eOXPmADBnzhzS0tKcUDM526JFi0hJSaGwsJCEhARHiGVl\\\n",
              "ZZGQkEBhYSEpKSkKMZEroC+J38JwQTk5OUZMTIzjc2BgoON9c3Nzq8/nM3bs2A6omdglJycbQKt/\\\n",
              "4eHhxjvvvGOEh4efsy05OdnZVRYxjarKCmPH+reMpxc+1er369ChQ4ZhGMahQ4da/Z615++Xmf52\\\n",
              "ulwL7EIsFgsWi6XNbampqcTFxREXF0dJSclVrpl7KK8t56WPXyI1NbVV+XSmU11YzZQpU6gurGY6\\\n",
              "01ttX7lypdt3d4hcjOoTlWz8wzJ++Ytf8NzS3zjK7T0dGzZscPRw2LlrT4cpAiwsLIyioiIAioqK\\\n",
              "CA0NbXO/pKQkMjMzyczMpGfPnlezip1ay2H1aYfTSD2SymOpjxEeHg7YwutxHmcZy4gkkmUs43Ee\\\n",
              "d4RYeHg46enphISEOPEqRFxT9YlKdr79T6pPVAKwP2ML+7Z/ymf5x1rtpy+J5zJFgE2dOpXVq1cD\\\n",
              "sHr1aqZNm+bkGrmPnMoc7t9wPy989gJPfvgk8X3jeWLsEzw86WHSNqYRFBpEBhnkkkskkaxiFZFE\\\n",
              "kksuGWQ4wis6OtrZlyJy1Z0dTm1t273xHT782yr2Z2wBICZ+Erc/8BAfpKfrS+IFuFyA3XfffVx/\\\n",
              "/fUcOnSIPn368Nprr7Fw4UI2b97M4MGD2bJlCwsXLnR2NTuFli0r+/ucyhxH2Z5v9vC9f32Po6eO\\\n",
              "ArC9aDvP/ec5xoSO4Zcf/5L3qt4j8P8EUkEFKaS0OncKKVRQQWpqKj379dTEaHFL+zO2tAqntrYZ\\\n",
              "Frhp9lxi4idRfaKS3Rvfob6ulsFRUaSfDjF9SWybxTAMw9mV6AhxcXFkZmY6uxoubdW+Vbzw2Qs8\\\n",
              "MfYJAF747AX6de3H0ZNH8fbwptloptFoPOc4bw9v6pvrMb4xOPTcIbpUdHF8M7TLJZf5zMc/3J9H\\\n",
              "//gofy/9O0+MfUITo8UtVJ+oZH/GFgaOvZaDn26loa4Ob28fRt82Bf9ugQCUFuSz9a9/YuL3f0RI\\\n",
              "RB8Adr79Tz782yrAFmrjps5kw4YNTJkyxRFednOZSy65/PMf/48Z99zbbnU3099OrcThhuz3ssaE\\\n",
              "juG6XtdReKoQX6svcWFxZBbb/uPWN9c79vfAg2aaHZ/rm+upO1ZHztIcGisaiSfe8Y0whRSSSSaS\\\n",
              "SOKJJ60wjZeSXuKx1McuemK0iJnZB2Hk7LL9Lnn7+LL9rTUA5OzdhbePL2PvvIv3V/2BE98UU3Pq\\\n",
              "FANir2HIdyZSX1dLTHwiBV/uJ6RPJG+98hI//b9LCCKIZJJb/ZxkkpnPfB5++MeMGDVaLbDOxEzf\\\n",
              "Iq42e8vrxogb+ajgI0d5mH8YxdXFAFiwjfQ0aP3fw8viRc3JGnJ+nUNdeZ2jfDrTySCDCioIIsgW\\\n",
              "XqQ5toeHh7N3716366MX92NvRfUbMZqIIcPoP2osG//wAhXHzowatFg8MIzmVsdZfXxorKsjKCyc\\\n",
              "iuJC6vy68Jt/pHGips5xD+zsL4nLWU4aae3ajWimv51qgbkJe6tretR0R0sovm88I3qMoKaxhn3H\\\n",
              "9zlaX3BucNl19+vOgLABXP/D61m17Ex3hv2XaMIjE3jvt++RVpHW6rh58+YpvMQtxMRPAqC+rpZt\\\n",
              "b63h4LaPqDhW6AgmAMNoxsNqxYKFpsYGABrrbF8Im5oa8OsVweLX/8aJGluZ/cug/UvifOa3+pJo\\\n",
              "H2Lvbl8SFWBuwr5Ab01jDTWNNXxx/AtyKnIoqi7i6Wufxs/q1yrAzqe4upgevj04GneUntN6UrLe\\\n",
              "Nt8urHcYP/rDj/AO8yagVwAf/vpDiotsrbnk5GS3nKMi7m3ohIkUH8kmZ1cmQb160z/2GthrUHHM\\\n",
              "NiXIxz+AmjZGJ548XoLFw4O4fuFsPpDtKE8jjW5+PvzPT3/Ob1JfJ608rdVx7vglUQHmJuytrprG\\\n",
              "Gv68/88AfFb8GQD3vH0PN0bcSIhvCOW15a3ud7Vlf9l+AMLuCsNqsVKSUcKEZyawrmIdVMCN/W/k\\\n",
              "X5v+xfTbpjNv3jyFl7gV++jC+rpaeg0cTO2pUxRlH6Ti2Ab8g4Lx9PKiqaGhzfCyM5qbuXWErTvQ\\\n",
              "HmLBXbuw/Ne/YOZDP2HqA0mtJjO765dEBZibsC/QW15bTk1jDbu+2cXh8sNUNVZR11zHlrxzh/l+\\\n",
              "m94BvfHAA6ZD4KRATgWdgirw9fTlo4KPGNdrnNt1Z4hUn6ikvq6W62feBwZs++cagnr1PrO94vRU\\\n",
              "EosFLjD8wMPqxR3XxNCjb382frqdpBvGUpeXw65N73DNrVNIT08nISHBrb8kKsDcUHff7kwIn8Ce\\\n",
              "kj10sXbhVOOpSzo+KjCKxMhEYnvEsmTHErqGdGV/qa1VVttUS7BPMPF94wkJtIVXy/tvF/tIFxEz\\\n",
              "2p+xhe1vrWHANXFM/P6P8PL1JaRPJBte+g311dVndryIsXPNp++NjQ30IfbOm+ke3J3K4iK2v7WG\\\n",
              "xto6/AMD2f7Jx/SNHNBRl+PyXG4is3Sslg+r/PGoH5PYPxEvi1erfewjEM8n71Qer+x5hed3Ps/R\\\n",
              "k0c5WX8SgFE9RtGvaz/K68rJyMs452de7BOhRcyk5WobMfGT6DdyNDm7Mjn46VbGTZ1JaX5u6/C6\\\n",
              "DF7NTTTU1xE6cBAAX277iA//topjez9vj0swLbXA3Mz0qOmOgRwHyw6yvWg70Hqul30E4tnzv+zq\\\n",
              "muoY0G0AT457kud3Ps8jox7h7a/eZsG4BQT5BDlaWy1/ZstXkc7Efs8LYNzUmURED+PoF7v5es8u\\\n",
              "Cg8dYOwdM+g3YjRde/Qkd+/nVJVdxnqFFgu1J0/g4+cHQFVpCQOuiXOMeHRXCjA3E+wbjJ/Vj1f2\\\n",
              "vAJAREAEBVUFDAsZxv7S/cSExGD1sOLl4UVUUBRrD61lbNhYRvYYyc5jO9lfup/eAb1ZfvNy3s15\\\n",
              "l5wTOby0+yWOnjzKuF7jmDti7jmrbdjvv4l0RvYQsb+Ovm0Kx77KdkxkPllaSnlhPtfPvA8vL59z\\\n",
              "jvfy8cXq40PNiUq8fHxpqKtttd3q48vkpJ+yL2MTdVVVVH5TTMSwGG57ZL5jVQ93pQBzI/Z7UfF9\\\n",
              "46lprAHg9gG3k5GXwZjQMfxx7x9ZMG4BAwIHUF5bzpqDa/jxqB879vGz2r799e/WnwGBZ/rdj548\\\n",
              "yo0RNzpaWLrnJe7Ev1sg46bObPX5tkfms3P9P/nm6yNMuOf7FB7aT31dLRXFhQSGhlF98gQNNbbf\\\n",
              "wWbDcIxI9PIPwD8wkMpvbFNQuoWGMfja71BemMfRL/YAMOCaOIXXaQowN2K/F7Xz2E4W37DYES4D\\\n",
              "Agewat8qx+jBAYEDSDucxit7XuGJsU/wbs67vLLnFWYNmYWf1Y8F4xYAcN/Q+xznvm/ofY7ztbzP\\\n",
              "ppaXuCP/boFM/P4Djs8RQ4ZSfaISbx9fYuIn8embf2fPexvwtHrRVF9H1x49OXm8hOryUq6feR8N\\\n",
              "dXV88/URQvsPIvNf64ibMoN+I0cR2n8Q46bNVHidpgBzI9OjprPz2E4+KviItMNprcLl7PtULV/X\\\n",
              "HLSt4xbsG8wvr/ul45hg32AeGf1Imz+n5auIu7OvMm+cHh/l37UbAL0GR1Pw5X6GXHcjVl8fLIat\\\n",
              "C3J/xhaOfrGHiOjh3DR7Lg21tRz9Yg+RsWMUXi0owNxIsG8wi29YfM4gC/u2loHW8vN9Q+/Dz+p3\\\n",
              "0YGke15iZvaV5GPiJ7VbWOzP2MK2f9q+CHr7+DL6til4+foycOy1fPXZf875WS3vq/l3C6T6RCVe\\\n",
              "vr5uP2jjbFrMV0SkBftivPbHmbSHli2wa26d4tKtKDP97VQLTESkhbNHFbYH/26BTLh3drudT2wU\\\n",
              "YCIiLZw9qlBcl1biEBERU1KAiYiIKSnARETElBRgIiJiSgowERExJdME2MaNGxkyZAhRUVEsXbrU\\\n",
              "2dUREREnM0WANTU18ZOf/IR3332XAwcOsGbNGg4cOODsaomIiBOZIsB27NhBVFQUAwcOxNvbm1mz\\\n",
              "ZrF+/XpnV0tERJzIFAFWUFBA3759HZ/79OlDQUGBE2skIiLO1qlW4khNTSU1NRWAkpISJ9dGREQ6\\\n",
              "kilaYBEREeTl5Tk+5+fnExERcc5+SUlJZGZmkpmZSc+ePa9mFUVE5CozRYCNGzeO7OxscnJyqK+v\\\n",
              "Z+3atUydOtXZ1RIREScyRRei1Wrl5Zdf5tZbb6WpqYkHHniAmJgYZ1dLREScyBQBBnDHHXdwxx13\\\n",
              "OLsaIiLiIkzRhSgiInI2BZiIiJiSAkxERExJASYiIqakABMREVNSgImIiCkpwERExJQUYCIiYkoK\\\n",
              "MBERMSUFmIiImJICTERETEkBJiIipqQAExERU1KAiYiIKSnARETElBRgIiJiSgowERExJQWYiIiY\\\n",
              "kgJMRERMSQEmIiKmpAATERFTUoCJiIgpuUyAvfnmm8TExODh4UFmZmarbUuWLCEqKoohQ4awadMm\\\n",
              "J9VQRERcidXZFbAbMWIE69at46GHHmpVfuDAAdauXcv+/fspLCxk0qRJZGVl4enp6aSaioiIK3CZ\\\n",
              "FtiwYcMYMmTIOeXr169n1qxZ+Pj4MGDAAKKiotixY4cTaigiIq7EZQLsfAoKCujbt6/jc58+fSgo\\\n",
              "KHBijURExBVc1S7ESZMmcezYsXPKFy9ezLRp0674/KmpqaSmpgJQUlJyxecTERHXdVUDbMuWLZd8\\\n",
              "TEREBHl5eY7P+fn5REREtLlvUlISSUlJAMTFxV1eJUVExBRcvgtx6tSprF27lrq6OnJycsjOzmb8\\\n",
              "+PHOrpaIiDiZywTY//7v/9KnTx+2bdvGnXfeya233gpATEwM9957L8OHD+e2225jxYoVGoEoIiJY\\\n",
              "DMMwnF2JjhAXF3fOfDIREfl2Zvrb6TItMBERkUuhABMREVNSgImIiCkpwERExJQUYCIiYkoKMBER\\\n",
              "MSUFmIiImJICTERETEkBJiIipqQAExERU1KAiYiIKSnARETElBRgIiJiSgowERExJQWYiIiYkgJM\\\n",
              "RERMSQEmIiKmpAATERFTUoCJiIgpKcBERMSUFGAiImJKCjARETEllwmwBQsWMHToUGJjY7nrrruo\\\n",
              "qKhwbFuyZAlRUVEMGTKETZs2Oa+SIiLiMlwmwBITE9m3bx979+4lOjqaJUuWAHDgwAHWrl3L/v37\\\n",
              "2bhxI4888ghNTU1Orq2IiDibywTY5MmTsVqtAFx33XXk5+cDsH79embNmoWPjw8DBgwgKiqKHTt2\\\n",
              "OLOqIiLiAlwmwFp6/fXXuf322wEoKCigb9++jm19+vShoKDAWVUTEREXYb2aP2zSpEkcO3bsnPLF\\\n",
              "ixczbdo0x3ur1crs2bMv+fypqamkpqYCUFJScmWVFRERl3ZVA2zLli3fuv3Pf/4z77zzDu+//z4W\\\n",
              "iwWAiIgI8vLyHPvk5+cTERHR5vFJSUkkJSUBEBcX1061FhERV+QyXYgbN27k+eef5+2338bf399R\\\n",
              "PnXqVNauXUtdXR05OTlkZ2czfvx4J9ZURERcwVVtgX2bRx99lLq6OhITEwHbQI5XX32VmJgY7r33\\\n",
              "XoYPH47VamXFihV4eno6ubYiIuJsFsMwDGdXoiPExcWRmZnp7GqIiLSr0tJSQkJCLrr8Upnpb6fL\\\n",
              "dCGKiMi3W7RoEbGxsWRlZbUqz8rKIjY2lkWLFjmnYk6iABMRcRE1p+r5/L2vqTlVf862RYsWkZKS\\\n",
              "QmFhIQkJCY4Qy8rKIiEhgcLCQlJSUtwqxBRgIiIu4stPi9i27ghfflrUqtweXnb2ENuwYYMjvOzc\\\n",
              "KcQUYCIiLmLYhN5cP2MQwyb0dpSVlpaycuXKVvtNZzrVhdVMmTKF6sJqpjO91faVK1dSWlp6Nars\\\n",
              "VAowEZGr5Nu6CAH8ungzZnJ//Lp4O8pCQkJIT08nPDwcsIXX4zzOMpYRSSTLWMbjPO4Isd69w0lP\\\n",
              "T2+XAR2uzmWG0YuIdDY1p+r58tMiBozqQc6e4zTWNbFzQy5fflLIHY/E4hvgxd70fCzAyIQ++HXx\\\n",
              "puZUPV+k52MAsafLoqOjSU9PJz4+gYyiDKYxjUgiWcUqAHLJJYMMAv1DWPHsG0RHRzv1uq8WBZiI\\\n",
              "SAfZm55P5oZcjh4opeBgBXF3RhIU5kdFcQ3vvLyHgEAfig5XAmD18WTM5P58vulrdm+2rT5kAcZ/\\\n",
              "dyAA0dHRPPXjZ/nZfz9ACimO8AJIIYUKKnhx4evcdu93rvp1Oou6EEVEOojl9KvRZDDuzkiix4cR\\\n",
              "GduDriG+nCipdYRX+OBAx32v4pwTjuOLjlQ6uhuzsrL4zSu/Ioggkklu9XOSSSaIIJ5/9VfkFeZ2\\\n",
              "+HW5CgWYiEg7OPv+Vs2pehrqm+jW05fC7EqKjlTywV+/ZPfmPAxarx9RebyW4twT/Ovl3QQE+wAQ\\\n",
              "EORN/sFy3v3jF6x56T1uuP4miooKiSeeSCLJJZe5zCWXXCKJJJ54CgsLiY9POGeeWGelLkQRkXZg\\\n",
              "HwIPMGZyf778tMjRFRgU5kf+wXLHvqdK61odW1Vex79X7MUwwMvPtlRefV0jANlfHGXJm/OorLaN\\\n",
              "KkwjDYAMMqiggvnMJ554R3lRkW2I/d69ezv9QA61wERE2sHZQ+CHTejN6MS+RAwN4jv3DKbP0GCG\\\n",
              "TAjDw2pp83j7on4NNU2nX5vxtFoIDAxiwrA7W+2bRhqGvycP37YYulgd4WU3b968Th9eoBaYiEi7\\\n",
              "sA+Bb/nZr6s3BQcrqCqvo6K4hvDBgTQ3nrv8rKeXhaaGM+UWKxiN0NRoQCPcGTcHq5eFf21fDUCg\\\n",
              "fwg/u+sFhscMoWdgBL//188dLbQHZ/2UqRPmUnOqvtVw/M5ILTARkQ4ybEJv+o3o7givkvxTbe7X\\\n",
              "MrzAFl5nu3XUD7h97A8I9A/hp9/9HT279OFESS2T75nAK0v/To/gUL53axJz7360zdU8OiO1wERE\\\n",
              "OohfF29uuGcwH5NNQ22To3vwUnh6W2iqtwXcnXFzmDhiOt26BNHcaFBX3YR/V2/ue2wyYb038eWW\\\n",
              "Mqzenues5tFZKcBERDpQzp7jHN1XxpAJYXzz9UmaGpov6fimeoOe/QM4nl+F0QTdugRx+8MjyT9U\\\n",
              "TmneKQaM6gHA9bcNJ6hbEcMm9O70XYd26kIUEelA9sEdVWX15w8vT7C08dfY6mMrrD7RgHG68RYW\\\n",
              "2Y3IET3w72obZv/xm9mO+11nL0PV2SnAREQ6gH1eGNiG1d90XzR9hgYTNrCrbYeWgxGbwGiRbZbT\\\n",
              "D533OT2kvqq8nl5R3egzNJiE7w8FztxfO7qvzC3ud7VFXYgiIh3g7HlhwWEBTPvZNY71EWtO1rN7\\\n",
              "cx4+/lbqqhvxDbASPjiIr3YfZ8i1vQjuFUDZsVMc+rSY0AFduPn7w8jZcxyAz9/7mmETejPph8P5\\\n",
              "8tMit7jf1RYFmIhIB2g5H8weWvb7U8Mm9GZvej7j7oxk8PgwcvYcd+wfNvBMIG384xcAhEcFk7Pn\\\n",
              "ONvWHaEgq5yj+8oAWzC2HLrvbhRgIiIdoOW8sM/f+/qcVToyN+Ry/YxBBIcFEDw5wHFcy2MKs08v\\\n",
              "9Ovt6Qi1AaN6kBN93G1bXS0pwEREOljL1lhbr+c7prGuqdVjVezh1jLw3JkCTESkg7W1SseFuv78\\\n",
              "ung7HqUibXOZUYi//vWviY2NZfTo0UyePJnCwkIADMPgpz/9KVFRUcTGxvL55587uaYiIuIKXCbA\\\n",
              "FixYwN69e9m9ezdTpkzhmWeeAeDdd98lOzub7OxsUlNT+fGPf+zkmoqIiCtwmQDr1q2b431VVRUW\\\n",
              "i22SxPr16/nBD36AxWLhuuuuo6KigqIi95zzICIiZ7jUPbBf/vKX/OUvfyEwMJD09HQACgoK6Nu3\\\n",
              "r2OfPn36UFBQQO/eGoEjIuLOrmoLbNKkSYwYMeKcf+vXrwdg8eLF5OXlMXv2bF5++eVLPn9qaipx\\\n",
              "cXHExcVRUlLS3tUXEREXclVbYFu2bLmo/WbPns0dd9xBSkoKERER5OXlObbl5+cTERHR5nFJSUkk\\\n",
              "JSUBEBcXd+UVFhERl+Uy98Cys7Md79evX8/Qobb1vqZOncpf/vIXDMNg+/btBAYGqvtQRERc5x7Y\\\n",
              "woULOXToEB4eHvTv359XX30VgDvuuIN///vfREVF4e/vz6pVqy7qfLm5uZfUCispKaFnz56XVXez\\\n",
              "0DV2DrrGzsMVrzM3N9fZVbhoFsMwzn2+tRuKi4sjMzPT2dXoULrGzkHX2Hm4y3V2FJfpQhQREbkU\\\n",
              "CjARETElBdhp9tGLnZmusXPQNXYe7nKdHUX3wERExJTUAhMREVNy+wBbsGABQ4cOJTY2lrvuuouK\\\n",
              "igrHtiVLlhAVFcWQIUPYtGmT8yp5hd58801iYmLw8PA4Z8RTZ7lGgI0bNzJkyBCioqJYunSps6vT\\\n",
              "Lh544AFCQ0MZMWKEo6ysrIzExEQGDx5MYmIi5eXlTqzhlcvLyyMhIYHhw4cTExPD8uXLgc51nbW1\\\n",
              "tYwfP55Ro0YRExNDcnIyADk5OVx77bVERUXxve99j/r6eifX1GQMN7dp0yajoaHBMAzDePLJJ40n\\\n",
              "n3zSMAzD2L9/vxEbG2vU1tYaX331lTFw4ECjsbHRmVW9bAcOHDAOHjxoTJw40di5c6ejvDNdY2Nj\\\n",
              "ozFw4EDjyJEjRl1dnREbG2vs37/f2dW6Ylu3bjU+++wzIyYmxlG2YMECY8mSJYZhGMaSJUsc/2fN\\\n",
              "qrCw0Pjss88MwzCMEydOGIMHDzb279/fqa6zubnZOHnypGEYhlFfX2+MHz/e2LZtm3HPPfcYa9as\\\n",
              "MQzDMB566CHjD3/4gzOraTpu3wKbPHkyVqttPvd1111Hfn4+YFsNZNasWfj4+DBgwACioqLYsWOH\\\n",
              "M6t62YYNG8aQIUPOKe9M17hjxw6ioqIYOHAg3t7ezJo1y7HGppnddNNNdO/evVXZ+vXrmTNnDgBz\\\n",
              "5swhLS3NCTVrP71792bMmDEAdO3alWHDhlFQUNCprtNisdClSxcAGhoaaGhowGKx8MEHH3D33XcD\\\n",
              "5r9GZ3D7AGvp9ddf5/bbbwfOvwp+Z9KZrrEzXcuFFBcXO5ZT69WrF8XFxU6uUfvJzc1l165dXHvt\\\n",
              "tZ3uOpuamhg9ejShoaEkJiYyaNAggoKCHF+gO/P/2Y7iMktJdaRJkyZx7Nixc8oXL17MtGnTHO+t\\\n",
              "ViuzZ8++2tVrFxdzjdL5WCwWx7PzzO7UqVPMnDmTF198sdXzAaFzXKenpye7d++moqKCu+66i4MH\\\n",
              "Dzq7SqbnFgF2oVXw//znP/POO+/w/vvvO35JLmUVfFdwsSv9t2S2a/w2nelaLiQsLIyioiJ69+5N\\\n",
              "UVERoaGhzq7SFWtoaGDmzJnMnj2bGTNmAJ3zOgGCgoJISEhg27ZtVFRU0NjYiNVq7dT/ZzuK23ch\\\n",
              "bty4keeff563334bf39/R/nUqVNZu3YtdXV15OTkkJ2dzfjx451Y0/bXma5x3LhxZGdnk5OTQ319\\\n",
              "PWvXrmXq1KnOrlaHmDp1KqtXrwZg9erVpm9hG4bBgw8+yLBhw3jiiScc5Z3pOktKShwjnGtqati8\\\n",
              "eTPDhg0jISGBt956CzD/NTqFs0eRONugQYOMPn36GKNGjTJGjRplPPTQQ45tzz77rDFw4EAjOjra\\\n",
              "+Pe//+3EWl6ZdevWGREREYa3t7cRGhpqTJ482bGts1yjYRjGhg0bjMGDBxsDBw40nn32WWdXp13M\\\n",
              "mjXL6NWrl2G1Wo2IiAjjT3/6k3H8+HHj5ptvNqKiooxbbrnFKC0tdXY1r8hHH31kAMbIkSMdv4cb\\\n",
              "NmzoVNe5Z88eY/To0cbIkSONmJgYIyUlxTAMwzhy5Igxbtw4Y9CgQcbdd99t1NbWOrmm5qKVOERE\\\n",
              "xJTcvgtRRETMSQEmIiKmpAATERFTUoCJiIgpKcBERMSUFGAiImJKCjARETElBZiIiJiSAkxERExJ\\\n",
              "ASYiIqakABMREVNSgImIiCkpwERExJQUYCIiYkoKMBERMSUFmIiImJICTERETEkBJiIipqQAExER\\\n",
              "U1KAiYiIKf1/3WS3Tla53XkAAAAASUVORK5CYII=\\\n",
              "\"\n",
              "  frames[2] = \"data:image/png;base64,iVBORw0KGgoAAAANSUhEUgAAAbAAAAEgCAYAAADVKCZpAAAAOXRFWHRTb2Z0d2FyZQBNYXRwbG90\\\n",
              "bGliIHZlcnNpb24zLjcuMSwgaHR0cHM6Ly9tYXRwbG90bGliLm9yZy/bCgiHAAAACXBIWXMAAAsT\\\n",
              "AAALEwEAmpwYAAAcBUlEQVR4nO3df3TU9Z3v8ddIDtzFHw1EIkyChpBMDIFA7QB6r8VMIVqFDVEQ\\\n",
              "06V7onAynmPbpbja4jm9OzP3aGHdtuhe6XYnpZht95otXpq4RPGAJm6PxYPjKWYhhYma9IYMsmFg\\\n",
              "tBp+xu/9I8000wQFzOQ7n8nzcQ4H5vPNj/d4TJ58v/PJF4dlWZYAADDMFXYPAADA5SBgAAAjETAA\\\n",
              "gJEIGADASAQMAGAkAgYAMBIBAwAYiYABAIxEwAAARiJgAAAjETAAgJEIGADASAQMAGAkAgYAMBIB\\\n",
              "AwAYiYABAIxEwAAARiJgAAAjETAAgJEIGADASAQMAGAkAgYAMBIBAwAYiYABAIxEwAAARiJgAAAj\\\n",
              "ETAAgJEIGADASAQMAGAkAgYAMBIBAwAYiYABAIxEwAAARiJgAAAjZdg9QLJce+21ysvLs3sMADBK\\\n",
              "Z2enjh8/bvcYFyVtA5aXl6dQKGT3GABgFLfbbfcIF41LiBhWNBq9pHUAGG0EDEP4/X6VlpYqHA4n\\\n",
              "rIfDYZWWlsrv99szGAAMQsCQwO/3KxAIKBKJyOPxxCMWDofl8XgUiUQUCASIGADbETDEDcRrwEDE\\\n",
              "mpqa4vEaQMQA2I2AQVL/a1u1tbUJa5WqVG+kV8uWLVNvpFeVqkw4Xltby2tiAGxDwCBJysrKUnNz\\\n",
              "s5xOp6T+eK3TOm3WZuUpT5u1Weu0Lh4xp9Op5uZmZWVl2Tg1gLGMgCHO5XLFI9aiFnWqU3nK0zZt\\\n",
              "U57y1KlOtaglHi+Xy2X3yADGMAKGBC6XS8FgUDHFFFAg4VhAAcUUUzAYJF4AbEfAkCAcDsvr9SpT\\\n",
              "mfLJl3DMJ58ylSmv1ztkiz0AjDYChrjBW+XLVBa/bPiAHohfTixT2ZAt9gBgh7S9lRQuTTQaTdgq\\\n",
              "36AGSVKLWhRTTOu1XmUqi68PRKy1tZWNHABswRnYWNLTLm27U9p2V/+fB8nKylJNTU3CWoMaNNE5\\\n",
              "UTt37tRE58R4vAbU1NQQL+AicGu25CBgY8nz90u//430+9elLW6p4W8SDvv9fvl8f3rda2C34dKl\\\n",
              "SxO22EuSz+fjB5mBi8Ct2ZKHgI0VH0elYwcS1/bX9a8PMhCxP98qP3iLPfECLg63Zksuh2VZlt1D\\\n",
              "JIPb7eafUxls5yNSqHbourtGWvaDIcvRaHTYy4MXWgeQ6M9vzSb1X9UIBoPyer0Jt2aTUueqhknf\\\n",
              "OzkDGyvee+WS1i8UKeIFfDZuzTY6CNhYUfY/h1+vDI7uHMAYwK3ZRkdKBez06dNasGCB5s6dq5KS\\\n",
              "kviGgo6ODi1cuFAFBQW67777dPbsWZsnNcjHUen1p/tf75IkOfp/u3Kq9I2QdP1820YD0hm3Zku+\\\n",
              "lArYhAkT9Oqrr+rtt9/W/v37tWvXLr3xxhv67ne/q/Xr1+udd97RpEmTtHXrVrtHNcf+X0i7/066\\\n",
              "rlQqvF1as1sq/1/SQ7+RphTaPR2Q1rg1W3KlVMAcDoeuuuoqSdK5c+d07tw5ORwOvfrqq1q5cqUk\\\n",
              "qbq6Wg0NDTZOaZh5X+8P1q3fllZv7z/j+h/rpCu5VAEkG7dmS66UCpgk9fX1ad68ecrOzlZ5eblm\\\n",
              "zpypzMxMZWT03zQkNzdX3d3dNk9pkCuzCBZgA27NlnwpdyupcePGaf/+/YrFYrr77rt16NChi37f\\\n",
              "YDCoYLB/U0JPT0+yRgSAT8Wt2UZHyp2BDcjMzJTH49HevXsVi8V0/vx5SdKRI0eUk5Mz7Pt4vV6F\\\n",
              "QiGFQiFNmTJlNMcFMAa1HPovFX/vReVtaNLMx5r07/u7deLjs3r+QExfr16T8Lbcmm3kpVTAenp6\\\n",
              "FIvFJEmnTp3S7t27VVxcLI/Ho+eff16SVFdXp+XLl9s4JYCx7B/3HFbehiblbWjS/c++qVPn++8F\\\n",
              "0WdJD/9yv7aHurTxpUPKv+N+bs2WZCl1CfHo0aOqrq5WX1+fPvnkE61atUrLli3TrFmzVFVVpe99\\\n",
              "73v64he/qLVr19o9KoAxavOedz7lqEP3uqdLku51T9fk2/yS+n9Iebhbs3k8HtXU1BCvy8StpADg\\\n",
              "EvzjnsP60QUi9r+r5ukv5w19icOkW7OZ9L0zpc7AACDV/c2SIn39lhnaHurqP8u6cvxnvg+3ZksO\\\n",
              "AgYAl2jyleP14G0z7R5jzEupTRwAAFwsAgYAMBIBAwAYiYABAIxEwAAARiJgAAAjETAAgJEIGADA\\\n",
              "SAQMAGAkAgYAMBIBAwAYiYB9TtFo9JLWAQAjg4B9Dn6/X6WlpQqHwwnr4XBYpaWl/Bs/AJBEBOwy\\\n",
              "+f1+BQIBRSIReTyeeMTC4bA8Ho8ikYgCgQARA4AkIWCXYSBeAwYi1tTUFI/XACIGAMlBwC5RNBpV\\\n",
              "bW1twlqlKtUb6dWyZcvUG+lVpSoTjtfW1vKaGACMMAJ2ibKystTc3Cyn0ympP17rtE6btVl5ytNm\\\n",
              "bdY6rYtHzOl0qrm5mX95FQBGGAG7DC6XKx6xFrWoU53KU562aZvylKdOdapFLfF4uVwuu0cGgLRD\\\n",
              "wC6Ty+VSMBhUTDEFFEg4FlBAMcUUDAaJFwAkCQG7TOFwWF6vV5nKlE++hGM++ZSpTHm93iFb7AEA\\\n",
              "I4OAXYbBW+XLVBa/bPiAHohfTixT2ZAt9gCAkZNh9wAmOX/ypDr+5V/k+fu/V+ToUUlSgxokSS1q\\\n",
              "UUwxrdd6laksvj4QsdbWVjZyAMAISqkzsK6uLnk8Hs2aNUslJSV6+umnJUknTpxQeXm5CgsLVV5e\\\n",
              "rpMnTyZ1jvMnTyq6davO/9nn+WDHDp3/p59otdudsN6gBk10TtTOnTs10TkxHq8BNTU1xAsARlhK\\\n",
              "BSwjI0M//OEP1dbWpjfeeENbtmxRW1ubNm3apMWLF6u9vV2LFy/Wpk2bkjrHkb99RP/1Dz9Q+y3/\\\n",
              "Xb+7sVjHf7ZNkvSFe+5R9qOP6Pt1dfL5/vS618Buw6VLlyZssZckn8/HDzIDQBKkVMCmTZumm266\\\n",
              "SZJ09dVXq7i4WN3d3WpsbFR1dbUkqbq6Wg0NDUmb4UxHh0795jcJaz1PPqnf3VisU//5n8pau1YZ\\\n",
              "kybJ7/fL5/MN2So/eIs98QKA5HFYlmXZPcRwOjs7tWjRIh04cEDXX3+9YrGYJMmyLE2aNCn++ELc\\\n",
              "brdCodAlf97/9+CD+vi1/xj+4IQJKmxpVsakSfGlaDQ67OXBC60DQCq73O+ddkipM7ABH330kVas\\\n",
              "WKGnnnpK11xzTcIxh8Mhh8Mx7PsFg0G53W653W719PRc1ue+bsOGCx88c0Yf7NiRsHShSBEvAEiu\\\n",
              "lAvYuXPntGLFCq1evVr33HOPJOm6667T0T/u+jt69Kiys7OHfV+v16tQKKRQKKQpU6Zc1uefMGOG\\\n",
              "8l96UVfetkj5L72oG+qfU0ZuribMnq3Jax7QF/44EwDAXim1jd6yLK1du1bFxcV6+OGH4+sVFRWq\\\n",
              "q6vThg0bVFdXp+XLlyd1jgkzZuj6f/7n+OPCPbuT+vkAAJcupQL2+uuv6+c//7nmzJmjefPmSZK+\\\n",
              "//3va8OGDVq1apW2bt2qG264Qb/85S/tHRQAYLuUCtitt96qC+0peeWVV0Z5GgBAKku518AAALgY\\\n",
              "BAwAYCQCBgAwEgEDABiJgAEAjETAAABGImAAACMRMACAkQgYAMBIBAwAYCQCBgAwEgEDABiJgAEA\\\n",
              "jETAAABGImAAACMRMACAkQgYAMBIBAwAYCQCBgAwEgEDABiJgAEAjETAAABGImAAACMRMACAkVIu\\\n",
              "YGvWrFF2drZmz54dXztx4oTKy8tVWFio8vJynTx50sYJx55oNHpJ6wAwGlIuYPfff7927dqVsLZp\\\n",
              "0yYtXrxY7e3tWrx4sTZt2mTTdGOP3+9XaWmpwuFwwno4HFZpaan8fr89gwEY81IuYIsWLdLkyZMT\\\n",
              "1hobG1VdXS1Jqq6uVkNDgw2TjT1+v1+BQECRSEQejycesXA4LI/Ho0gkokAgQMQAm4z1qyMpF7Dh\\\n",
              "HDt2TNOmTZMkTZ06VceOHbN5ovQ3EK8BAxFramqKx2sAEQNGH1dHDAnYYA6HQw6HY9hjwWBQbrdb\\\n",
              "brdbPT09ozxZ+ohGo6qtrU1Yq1SleiO9WrZsmXojvapUZcLx2traMfO3PsBuXB35IysFdXR0WCUl\\\n",
              "JfHHLpfLikQilmVZViQSsVwu12d+jC996UtJm28sOHz4sOV0Oi1JVqUqrWY1W9u0zcpTnrVN26xm\\\n",
              "NVuVqrQkWU6n0zp8+LDdIwNjgs/nsyQl/HI6ndbOnTvjX7ODf/l8vkv6+CZ97zTiDKyiokJ1dXWS\\\n",
              "pLq6Oi1fvtzmidKfy+VSc3OznE6nWtSiTnUqT3napm3KU5461akWtcjpdKq5uVkul8vukYG0x9WR\\\n",
              "RCkXsK997Wu65ZZbdPjwYeXm5mrr1q3asGGDdu/ercLCQu3Zs0cbNmywe8wxweVyKRgMKqaYAgok\\\n",
              "HAsooJhiCgaDxAsYJVlZWfG/WEr98VqnddqszcpTnjZrs9ZpXTxiA3/BzMrKsnHq5HFYlmXZPUQy\\\n",
              "uN1uhUIhu8cw2sD19N5Ib/wLZECnOrVe6zXROZEzMGCUJfNr06TvnSl3BobUMPjF4DKVxS8bPqAH\\\n",
              "4pcTy1Q25EVkAMnH1ZF+nIGNQSdPn1TDOw2qLKjUpP82acjxaDSq0tLShK3ylapUi1oUU0yZylSZ\\\n",
              "ytSghvhxp9Op1tbWtL1UAaQSzsD6cQY2BjW806AfvfUjPXfoOW07sE0nTyfemisrK0s1NTWJ76MG\\\n",
              "TXRO1M6dOzXROTEhXpJUU1NDvIBRwNWRQezdBJk8Jm0FHW0nTp2wvv3Kt63Zz86O//ry//my9V7s\\\n",
              "vYS3G7xdd/BW+cFb7HUZ23QBXJ7jx48P2SpfqUorU5mWJCtTmfEfbxn8tXv8+PGL/hwmfe/kDGwM\\\n",
              "+rdD/6Y9XXsS1k6ePalHX3s0Yc3v98vn8w3ZKj94i73P50v/H5YERlHvhx/o9e3/ql3/9LS2rvOq\\\n",
              "+/Ch+DGujiTiNbAxaE7dnGHXJ1wxQaG/HvrfLBqNDvsFcKF1AJen+/Ah1f/dI0PW7/rWd1R866L4\\\n",
              "48G3ehv8F8zBlxclXdZfME363skZGOIWX7942PULRYp4ASPrhR88Puz6i1t+kPCYqyP9CNgY9FdF\\\n",
              "fzVkbcn1S7RhIT8gDoy23g8/0Jsv/F/1fviBTn304fBv9MknQ5b8fr9aW1uH7DJ0uVxqbW1N+3hJ\\\n",
              "UobdA2D0PXbzY3rs5sfsHgOApIMte/Qf/7pNkrR4zUPa89NnhrzNLStXD/u+Y/3qCAEDABuVlC2J\\\n",
              "/z7xmi8od9ZsvfTMD3XiaLcmT8vRnd/8W2Xl5No8ZWpiEwcAIM6k7528BgYAMBIBAwAYiYABAIxE\\\n",
              "wAAARiJgAAAjETAAgJEIGADASAQMAGAkAgYAMBIBAwAYiYABAIxEwAAARiJgAAAjGROwXbt2qaio\\\n",
              "SAUFBdq0aZPd4wAAbGZEwPr6+vSNb3xDL730ktra2vTcc8+pra3N7rEAADYyImD79u1TQUGB8vPz\\\n",
              "NX78eFVVVamxsdHusQAANjIiYN3d3Zo+fXr8cW5urrq7u22cCABgtwy7BxhJwWBQwWBQktTT02Pz\\\n",
              "NACAZDLiDCwnJ0ddXV3xx0eOHFFOTs6Qt/N6vQqFQgqFQpoyZcpojggAGGVGBGz+/Plqb29XR0eH\\\n",
              "zp49q/r6elVUVNg9FgDARkZcQszIyNAzzzyjO+64Q319fVqzZo1KSkrsHgsAYCMjAiZJd911l+66\\\n",
              "6y67xwAApAgjLiECAPDnCBgAwEgEDABgJAIGADASAQMAGImAAQCMRMAAAEYiYAAAIxEwAICRCBgA\\\n",
              "wEgEDABgJAIGADASAQMAGImAAQCMRMAAAEYiYAAAIxEwAICRCBgAwEgEDABgJAIGADASAQMAGImA\\\n",
              "AQCMRMAAAEYiYAAAI6VMwLZv366SkhJdccUVCoVCCcc2btyogoICFRUV6eWXX7ZpQgBAKsmwe4AB\\\n",
              "s2fP1o4dO/Tggw8mrLe1tam+vl4HDx5UJBLRkiVLFA6HNW7cOJsmBQCkgpQ5AysuLlZRUdGQ9cbG\\\n",
              "RlVVVWnChAmaMWOGCgoKtG/fPhsmBACkkpQJ2IV0d3dr+vTp8ce5ubnq7u62cSIAQCoY1UuIS5Ys\\\n",
              "0fvvvz9k/YknntDy5cs/98cPBoMKBoOSpJ6ens/98QAAqWtUA7Znz55Lfp+cnBx1dXXFHx85ckQ5\\\n",
              "OTnDvq3X65XX65Ukud3uyxsSAGCElL+EWFFRofr6ep05c0YdHR1qb2/XggUL7B4LAGCzlAnYr371\\\n",
              "K+Xm5mrv3r1aunSp7rjjDklSSUmJVq1apVmzZumrX/2qtmzZwg5EAIAclmVZdg+RDG63e8jPkwEA\\\n",
              "Pp1J3ztT5gwMAIBLQcAAAEYiYAAAIxEwAICRCBgAwEgEDABgJAIGADASAQMAGImAAQCMRMAAAEYi\\\n",
              "YAAAIxEwAICRCBgAwEgEDABgJAIGADASAQMAGImAAQCMRMAAAEYiYAAAIxEwAICRCBgAwEgEDABg\\\n",
              "JAIGADASAQMAGCllAvboo4/qxhtvVGlpqe6++27FYrH4sY0bN6qgoEBFRUV6+eWX7RsSAJAyUiZg\\\n",
              "5eXlOnDggFpbW+VyubRx40ZJUltbm+rr63Xw4EHt2rVLDz30kPr6+myeFgBgt5QJ2O23366MjAxJ\\\n",
              "0s0336wjR45IkhobG1VVVaUJEyZoxowZKigo0L59++wcFQCQAlImYIP97Gc/05133ilJ6u7u1vTp\\\n",
              "0+PHcnNz1d3dbddoAIAUkTGan2zJkiV6//33h6w/8cQTWr58efzPGRkZWr169SV//GAwqGAwKEnq\\\n",
              "6en5fMMCAFLaqAZsz549n3r82Wef1c6dO/XKK6/I4XBIknJyctTV1RV/myNHjignJ2fY9/d6vfJ6\\\n",
              "vZIkt9s9QlMDAFJRylxC3LVrl5588km98MILmjhxYny9oqJC9fX1OnPmjDo6OtTe3q4FCxbYOCkA\\\n",
              "IBWM6hnYp/nmN7+pM2fOqLy8XFL/Ro6f/OQnKikp0apVqzRr1ixlZGRoy5YtGjdunM3TAgDs5rAs\\\n",
              "y7J7iGRwu90KhUJ2jwEARjHpe2fKXEIEAFy+aDR6SevpgIABgOH8fr9KS0sVDocT1sPhsEpLS+X3\\\n",
              "++0ZLMkIGAAYzO/3KxAIKBKJyOPxxCMWDofl8XgUiUQUCATSMmIEDAAMNRCvAQMRa2pqisdrQDpG\\\n",
              "jIABgIGi0ahqa2sT1ipVqd5Ir5YtW6beSK8qVZlwvLa2Nq1eEyNgAGCgrKwsNTc3y+l0SuqP1zqt\\\n",
              "02ZtVp7ytFmbtU7r4hFzOp1qbm5WVlaWjVOPLAIGAIZyuVzxiLWoRZ3qVJ7ytE3blKc8dapTLWqJ\\\n",
              "x8vlctk98ogiYABgMJfLpWAwqJhiCiiQcCyggGKKKRgMpl28JAIGAEYLh8Pyer3KVKZ88iUc88mn\\\n",
              "TGXK6/UO2WKfDggYABhq8Fb5MpXFLxs+oAfilxPLVDZki326SJl7IQIALl40Gk3YKt+gBklSi1oU\\\n",
              "U0zrtV5lKouvD0SstbU1bTZyEDAASDEnj32snT9u1YfHTknjJPVJf3F1hk5/fF55pVnyfL1YWVlZ\\\n",
              "qqmpSfg5sAY1yOl06hfBX8jr9aoh0pDwcWtqatImXhKXEAEg5bxS19YfL0nq6//t1B/Oy/pE6tgf\\\n",
              "VfMvfiep/weZfb4/ve41sNtw6dKlCVvsJcnn86XdDzJzBgYAKebjk2c/9fjvW0/E/zwQpdra2oSt\\\n",
              "8gNb7D0ej2pqatIuXhIBA4CUk1eapQOvRS54/MtfK0x47Pf79a1vfWvI5UGXy5VWr3n9OQIGAClm\\\n",
              "wV/mK9r9kY6+82HC+pQbrlb5mlmadN2VQ97nQpFK13hJBAwAUs5fXDVe9zzitnuMlMcmDgCAkQgY\\\n",
              "AMBIBAwAYCQCBgAwEgEDABiJgAEAjETAAABGcliWZdk9RDJce+21ysvLs3uMUdPT06MpU6bYPcao\\\n",
              "GWvPV+I5jwWp8Hw7Ozt1/PhxW2e4WGkbsLHG7XYrFArZPcaoGWvPV+I5jwVj7fl+XlxCBAAYiYAB\\\n",
              "AIxEwNKE1+u1e4RRNdaer8RzHgvG2vP9vHgNDABgJM7AAABGImAG2759u0pKSnTFFVcM2bm0ceNG\\\n",
              "FRQUqKioSC+//LJNEybHrl27VFRUpIKCAm3atMnucZJizZo1ys7O1uzZs+NrJ06cUHl5uQoLC1Ve\\\n",
              "Xq6TJ0/aOOHI6urqksfj0axZs1RSUqKnn35aUno/59OnT2vBggWaO3euSkpK5PP5JEkdHR1auHCh\\\n",
              "CgoKdN999+ns2U//15nHNAvGamtrsw4dOmTddttt1ptvvhlfP3jwoFVaWmqdPn3aeu+996z8/Hzr\\\n",
              "/PnzNk46cs6fP2/l5+db7777rnXmzBmrtLTUOnjwoN1jjbjXXnvNeuutt6ySkpL42qOPPmpt3LjR\\\n",
              "sizL2rhxo/Wd73zHrvFGXCQSsd566y3Lsizrww8/tAoLC62DBw+m9XP+5JNPrD/84Q+WZVnW2bNn\\\n",
              "rQULFlh79+617r33Xuu5556zLMuyHnzwQevHP/6xnWOmNM7ADFZcXKyioqIh642NjaqqqtKECRM0\\\n",
              "Y8YMFRQUaN++fTZMOPL27dungoIC5efna/z48aqqqlJjY6PdY424RYsWafLkyQlrjY2Nqq6uliRV\\\n",
              "V1eroaHBhsmSY9q0abrpppskSVdffbWKi4vV3d2d1s/Z4XDoqquukiSdO3dO586dk8Ph0KuvvqqV\\\n",
              "K1dKSr/nPNIIWBrq7u7W9OnT449zc3PV3d1t40QjJ52f22c5duyYpk2bJkmaOnWqjh07ZvNEydHZ\\\n",
              "2anf/va3WrhwYdo/576+Ps2bN0/Z2dkqLy/XzJkzlZmZqYyMDElj6//vy5Fh9wD4dEuWLNH7778/\\\n",
              "ZP2JJ57Q8uXLbZgIqcDhcMjhcNg9xoj76KOPtGLFCj311FO65pprEo6l43MeN26c9u/fr1gsprvv\\\n",
              "vluHDh2yeySjELAUt2fPnkt+n5ycHHV1dcUfHzlyRDk5OSM5lm3S+bl9luuuu05Hjx7VtGnTdPTo\\\n",
              "UWVnZ9s90og6d+6cVqxYodWrV+uee+6RlP7PeUBmZqY8Ho/27t2rWCym8+fPKyMjY0z9/305uISY\\\n",
              "hioqKlRfX68zZ86oo6ND7e3tWrBggd1jjYj58+ervb1dHR0dOnv2rOrr61VRUWH3WKOioqJCdXV1\\\n",
              "kqS6urq0OgO3LEtr165VcXGxHn744fh6Oj/nnp4exWIxSdKpU6e0e/duFRcXy+Px6Pnnn5eUfs95\\\n",
              "xNm9iwSXb8eOHVZOTo41fvx4Kzs727r99tvjxx5//HErPz/fcrlc1osvvmjjlCOvqanJKiwstPLz\\\n",
              "863HH3/c7nGSoqqqypo6daqVkZFh5eTkWD/96U+t48ePW1/5ylesgoICa/HixVY0GrV7zBHz61//\\\n",
              "2pJkzZkzx5o7d641d+5cq6mpKa2f89tvv23NmzfPmjNnjlVSUmIFAgHLsizr3XfftebPn2/NnDnT\\\n",
              "WrlypXX69GmbJ01d3IkDAGAkLiECAIxEwAAARiJgAAAjETAAgJEIGADASAQMAGAkAgYAMBIBAwAY\\\n",
              "iYABAIxEwAAARiJgAAAjETAAgJEIGADASAQMAGAkAgYAMBIBAwAYiYABAIxEwAAARiJgAAAjETAA\\\n",
              "gJH+Px/w8iWvKelAAAAAAElFTkSuQmCC\\\n",
              "\"\n",
              "  frames[3] = \"data:image/png;base64,iVBORw0KGgoAAAANSUhEUgAAAbAAAAEgCAYAAADVKCZpAAAAOXRFWHRTb2Z0d2FyZQBNYXRwbG90\\\n",
              "bGliIHZlcnNpb24zLjcuMSwgaHR0cHM6Ly9tYXRwbG90bGliLm9yZy/bCgiHAAAACXBIWXMAAAsT\\\n",
              "AAALEwEAmpwYAAAZQUlEQVR4nO3df0xV9/3H8ReVaELajpZK5YLdVS+XIYpuom7J4rhT2q0SwOos\\\n",
              "i3+warj9Zltj7Dfd/GPJvTepky1ZrMlctstcR/ZH+a5NBwtsGq2wLIuNo5l1la9e1kGiXDV49X63\\\n",
              "xvqzn+8f5t56i1pxXM75XJ6PxEQ+B/R908LznnM/95hnjDECAMAyDzg9AAAA94OAAQCsRMAAAFYi\\\n",
              "YAAAKxEwAICVCBgAwEoEDABgJQIGALASAQMAWImAAQCsRMAAAFYiYAAAKxEwAICVCBgAwEoEDABg\\\n",
              "JQIGALASAQMAWImAAQCsRMAAAFYiYAAAKxEwAICVCBgAwEoEDABgJQIGALASAQMAWImAAQCsRMAA\\\n",
              "AFYiYAAAKxEwAICVCBgAwEoEDABgJQIGALASAQMAWImAAQCslO/0ANny2GOPyev1Oj0GAFhlZGRE\\\n",
              "58+fd3qMe5KzAfN6vRoYGHB6DACwSk1NjdMj3DMuISJDIpGY0DoAOIWAIS0cDqu6ulqxWCxjPRaL\\\n",
              "qbq6WuFw2JnBAOA2CBgk3YxXJBJRPB5XIBBIRywWiykQCCgejysSiRAxAK5BwJCOV0oqYr29vel4\\\n",
              "pRAxAG5BwKa5RCKh9vb2jLUmNelS/JLq6+t1KX5JTWrKON7e3s5rYgAcR8CmuaKiIvX19cnj8Ui6\\\n",
              "Ga+t2qpd2iWvvNqlXdqqremIeTwe9fX1qaioyMGpAYCAQZLf709HrF/9GtGIvPLqVb0qr7wa0Yj6\\\n",
              "1Z+Ol9/vd3pkACBguMnv9ysajSqppCKKZByLKKKkkopGo8QLgGsQMEi6udswGAyqUIUKKZRxLKSQ\\\n",
              "ClWoYDA4bos9ADiFgCFjq3ytatOXDZ/Tc+nLibWqHbfFHgCclLO3ksK9SSQSGVvlu9QlSepXv5JK\\\n",
              "apu2qVa16fVUxI4dO8ZGDgCO4gxsmisqKlJra2vGWpe6VOApUE9Pjwo8Bel4pbS2thIvYAK4RVt2\\\n",
              "EDAoHA4rFPr4da/UbsO1a9dmbLGXpFAoxBuZgQngFm1ZZHLUsmXLnB7BXUIPf/zrTp8SChmPx2NO\\\n",
              "njyZsX7y5Enj8XhMKBTK8pBAbgmFQkaSkZTxvZX6nkodc9P3lk0/O/OMMcbZhGZHTU0N/5zKrcKf\\\n",
              "ueX3/3fHT0skEre9PHindQC398lbtEk3r25Eo1EFg8GMW7RJ7rm6YdPPTi4hIsOdIkW8gHvHLdqm\\\n",
              "BrsQp4u7nHUBmFypW7SldvimbtHWqEZFFFFIIXnllXRz0xS3aLs/rjoDu3z5slasWKElS5aoqqoq\\\n",
              "vbFgeHhYK1eulM/n07PPPqurV686PCkA3B23aMs+VwVs1qxZOnTokN59910dPXpU+/bt09tvv63v\\\n",
              "f//72rZtm/7xj3/okUce0d69e50eFQA+Fbdoyy5XBSwvL08PPvigJOnatWu6du2a8vLydOjQIW3Y\\\n",
              "sEGS1NLSoq6uLgenBIB7wy3asstVAZOkGzduaOnSpSouLlZdXZ0WLFigwsJC5efffLmurKxMo6Oj\\\n",
              "Dk8JAHfHLdqyz3WbOGbMmKGjR48qmUxq3bp1OnHixD1/bTQaVTQalSSNjY1la0QAuCtu0TY1XHcG\\\n",
              "llJYWKhAIKDDhw8rmUzq+vXrkqTTp0+rtLT0tl8TDAY1MDCggYEBzZ49eyrHBYA0btE2NVwVsLGx\\\n",
              "MSWTSUnShx9+qAMHDqiyslKBQEBvvPGGJKmjo0ONjY0OTgkAknd7b/rX7XCLtuxz1SXEM2fOqKWl\\\n",
              "RTdu3NBHH32kjRs3qr6+XgsXLlRzc7N+8IMf6POf/7y2bNni9KgA8KlSUWpvb8/YKp/aYh8IBNTa\\\n",
              "2kq87hO3kgKA+3DrmddI29q7fq5Nt2iz6Wenq87AAMAWnxatW3GLtuxw1WtgAADcKwIGALASAQMA\\\n",
              "WImAAQCsRMAAAFYiYAAAKxEwAICVCBgAwEoEDABgJQIGALASAQMAWImAAQCsRMDuUyKRmNA6AGBy\\\n",
              "EbD7EA6HVV1drVgslrEei8VUXV3Nv+0DAFOAgE1QOBxWJBJRPB5XIBBIRywWiykQCCgejysSiRAx\\\n",
              "AMgyAjYBqXilpCLW29ubjlcKEQOA7CJg9yiRSKi9vT1jrUlNuhS/pPr6el2KX1KTmjKOt7e385oY\\\n",
              "AGQJAbtHRUVF6uvrk8fjkXQzXlu1Vbu0S155tUu7tFVb0xHzeDzq6+vjX1wFgCwhYBPg9/vTEetX\\\n",
              "v0Y0Iq+8elWvyiuvRjSifvWn4+X3+50eGQByFgGbIL/fr2g0qqSSiiiScSyiiJJKKhqNEi8AyDIC\\\n",
              "NkGxWEzBYFCFKlRIoYxjIYVUqEIFg8FxW+wBAJOLgE3ArVvla1Wbvmz4nJ5LX06sVe24LfYAgMmX\\\n",
              "7/QAtkgkEhlb5bvUJUnqV7+SSmqbtqlWten1VMSOHTvGRg4AyAJXnYGdOnVKgUBACxcuVFVVlXbv\\\n",
              "3i1JunDhgurq6lReXq66ujpdvHhxymcrKipSa2trxlqXulTgKVBPT48KPAXpeKW0trYSLwDIElcF\\\n",
              "LD8/Xz/5yU80ODiot99+W3v27NHg4KDa2tq0evVqDQ0NafXq1Wpra3NkvnA4rFDo49e9UrsN165d\\\n",
              "m7HFXpJCoRBvZAaALHLVJcSSkhKVlJRIkh566CFVVlZqdHRU3d3d6u/vlyS1tLSotrZWP/rRj7Iy\\\n",
              "w/9+rjL9+8oT/zvueCpK7e3tGVvlU1vsA4GAWltbiRcAZFmeMcY4PcTtjIyMaNWqVXrvvff0xBNP\\\n",
              "KJlMSpKMMXrkkUfSH99JTU2NBgYGJvz3flrAUhKJxG0vD95pHQBscL8/O53gqjOwlA8++EDr16/X\\\n",
              "K6+8oocffjjjWF5envLy8m77ddFoVNFoVJI0NjaW1RnvFCniBQBTw3UBu3btmtavX69NmzbpmWee\\\n",
              "kSQ9/vjjOnPmjEpKSnTmzBkVFxff9muDwaCCwaCkm88i7sfdzroAAO7hqk0cxhht2bJFlZWVevHF\\\n",
              "F9PrDQ0N6ujokCR1dHSosbHRqREBAC7hqjOwv/zlL/rNb36jxYsXa+nSpZKkH/7wh9q+fbs2btyo\\\n",
              "vXv36rOf/ax++9vfOjsoAMBxrgrYl7/8Zd1pT8lbb701xdMAANzMVZcQAQC4VwQMAGAlAgYAsBIB\\\n",
              "AwBYiYABAKxEwAAAViJgAAArETAAgJUIGADASgQMAGAlAgYAsBIBAwBYiYABAKxEwAAAViJgAAAr\\\n",
              "ETAAgJUIGADASgQMAGAlAgYAsBIBAwBYiYABAKxEwAAAViJgAAArETAAgJVcF7DNmzeruLhYixYt\\\n",
              "Sq9duHBBdXV1Ki8vV11dnS5evOjghAAAN3BdwL71rW9p3759GWttbW1avXq1hoaGtHr1arW1tTk0\\\n",
              "3fSSSCQmtA4AU8l1AVu1apUeffTRjLXu7m61tLRIklpaWtTV1eXAZNNLOBxWdXW1YrFYxnosFlN1\\\n",
              "dbXC4bAzgwFIm+5PMl0XsNs5d+6cSkpKJElz5szRuXPnHJ4ot4XDYUUiEcXjcQUCgXTEYrGYAoGA\\\n",
              "4vG4IpEIEQMcxJNMScaFhoeHTVVVVfrjz3zmMxnHCwsLb/t1v/jFL8yyZcvMsmXLzBNPPJHNEXNW\\\n",
              "KBQykjJ+eTwe09PTYzwez7hjoVDI6ZGBaefW71OPx2NOnjxpjDHm5MmTGd+n9/P9uWzZskmeNnus\\\n",
              "CJjf7zfxeNwYY0w8Hjd+v/9T/wyb/iO4xfnz58dFqklNplCFRpIpVKFpUtO4uJ0/f97p0YFpI9tP\\\n",
              "Mm362WnFJcSGhgZ1dHRIkjo6OtTY2OjwRLmpqKhIfX198ng8kqQmNWmrtmqXdskrr3Zpl7Zqq5rU\\\n",
              "JEnyeDzq6+tTUVGRg1MD00cikVB7e3vGWpOadCl+SfX19boUv5T+/kxpb2/P2dfEXBewb37zm/rS\\\n",
              "l76kkydPqqysTHv37tX27dt14MABlZeX6+DBg9q+fbvTY+Ysv9+fjli/+jWiEXnl1at6VV55NaIR\\\n",
              "9as/HS+/3+/0yMC0wZPMTHnGGOP0ENlQU1OjgYEBp8ewVm9vr+rr69PxSnlOz2lEI+rp6dHatWsd\\\n",
              "nBCYvlIbqi7FL6XjlTKiEW3TNhV4Cu7rSaZNPztddwYG58ViMQWDQRWqUCGFMo6FFFKhChUMBsft\\\n",
              "fgIwNfx+v6LRqJJKKqJIxrGIIkoqqWg0mvNXSAgYMty6Vb5WtenLhqkzL6+8qlXtuC32AKYOTzJv\\\n",
              "ImBISyQS6XhJUpe6tFu7tU3b0pcldmu3utQlSemI5eoLxIAb8STzYwQMaUVFRWptbc1Y61KXCjwF\\\n",
              "6unpUYGnIB2vlNbW1px9gRhwG55kZiJgyBAOhxUKfXxJIrWLae3atRm7nyQpFApNj3f7Ay7Bk8xP\\\n",
              "cPqNaNli05vxptqiXy9K/7qTUCiU8Q7/lNQ7/bkDB+Ac7sRxE9vop6HFHYvTv/97y9/v+HmJROK2\\\n",
              "z9zutA5gcvzk2fr07//7f3pu+znhcFjt7e3jtsqnXiNrbW29ryskNv3szHd6ALjXnSJFvADnhcNh\\\n",
              "vfDCC+O+H/1+v44dOzYtvk8J2DR0t7MuAPaY7k8yCRgAuMydLhsiE7sQAQBWImAAACsRMACAlQgY\\\n",
              "AMBKBAwAYCUCBgCwEgEDAFiJgAEArETAAABWImAAACsRMACAlQgYAMBKBAwAYCUCBgCwEgEDAFjJ\\\n",
              "moDt27dPFRUV8vl8amtrc3ocAIDDrAjYjRs39J3vfEd//OMfNTg4qNdee02Dg4NOjwUAcJAVATty\\\n",
              "5Ih8Pp/mz5+vmTNnqrm5Wd3d3U6PBQBwkBUBGx0d1dy5c9Mfl5WVaXR01MGJAABOy3d6gMkUjUYV\\\n",
              "jUYlSWNjYw5PAwDIJivOwEpLS3Xq1Kn0x6dPn1Zpaem4zwsGgxoYGNDAwIBmz549lSMCAKaYFQFb\\\n",
              "vny5hoaGNDw8rKtXr6qzs1MNDQ1OjwUAcJAVlxDz8/P105/+VE899ZRu3LihzZs3q6qqyumxAAAO\\\n",
              "siJgkvT000/r6aefdnoMAIBLWHEJEQCATyJgAAArETAAgJUIGADASgQMAGAlAgYAsBIBAwBYiYAB\\\n",
              "AKxEwAAAViJgAAArETAAgJUIGADASgQMAGAlAgYAsBIBAwBYiYABAKxEwAAAViJgAAArETAAgJUI\\\n",
              "GADASgQMAGAlAgYAsBIBAwBYiYABAKzkmoC9/vrrqqqq0gMPPKCBgYGMYzt37pTP51NFRYX279/v\\\n",
              "0IQAADfJd3qAlEWLFunNN9/U888/n7E+ODiozs5OHT9+XPF4XGvWrFEsFtOMGTMcmhQA4AauOQOr\\\n",
              "rKxURUXFuPXu7m41Nzdr1qxZmjdvnnw+n44cOeLAhAAAN3FNwO5kdHRUc+fOTX9cVlam0dFRBycC\\\n",
              "ALjBlF5CXLNmjc6ePTtufceOHWpsbPyP//xoNKpoNCpJGhsb+4//PACAe01pwA4ePDjhryktLdWp\\\n",
              "U6fSH58+fVqlpaW3/dxgMKhgMChJqqmpub8hAQBWcP0lxIaGBnV2durKlSsaHh7W0NCQVqxY4fRY\\\n",
              "AACHuSZgv/vd71RWVqbDhw9r7dq1euqppyRJVVVV2rhxoxYuXKivfe1r2rNnDzsQAQDKM8YYp4fI\\\n",
              "hpqamnHvJwMA3J1NPztdcwYGAMBEEDAAgJUIGADASgQMAGAlAgYAsBIBAwBYiYABAKxEwAAAViJg\\\n",
              "AAArETAAgJUIGADASgQMAGAlAgYAsBIBAwBYiYABAKxEwAAAViJgAAArETAAgJUIGADASgQMAGAl\\\n",
              "AgYAsBIBAwBYiYABAKxEwAAAVnJNwF566SV97nOfU3V1tdatW6dkMpk+tnPnTvl8PlVUVGj//v3O\\\n",
              "DQkAcA3XBKyurk7vvfeejh07Jr/fr507d0qSBgcH1dnZqePHj2vfvn369re/rRs3bjg8LQDAaa4J\\\n",
              "2JNPPqn8/HxJ0he/+EWdPn1aktTd3a3m5mbNmjVL8+bNk8/n05EjR5wcFQDgAq4J2K1+9atf6etf\\\n",
              "/7okaXR0VHPnzk0fKysr0+joqFOjAQBcIn8q/7I1a9bo7Nmz49Z37NihxsbG9O/z8/O1adOmCf/5\\\n",
              "0WhU0WhUkjQ2NvafDQsAcLUpDdjBgwfvevzXv/61enp69NZbbykvL0+SVFpaqlOnTqU/5/Tp0yot\\\n",
              "Lb3t1weDQQWDQUlSTU3NJE0NAHAj11xC3Ldvn3784x/r97//vQoKCtLrDQ0N6uzs1JUrVzQ8PKyh\\\n",
              "oSGtWLHCwUkBAG4wpWdgd/Pd735XV65cUV1dnaSbGzl+/vOfq6qqShs3btTChQuVn5+vPXv2aMaM\\\n",
              "GQ5PCwBwWp4xxjg9RDbU1NRoYGDA6TEAwCo2/ex0zSVEAMD9SyQSE1rPBQQMACwXDodVXV2tWCyW\\\n",
              "sR6LxVRdXa1wOOzMYFlGwADAYuFwWJFIRPF4XIFAIB2xWCymQCCgeDyuSCSSkxEjYABgqVS8UlIR\\\n",
              "6+3tTccrJRcjRsAAwEKJRELt7e0Za01q0qX4JdXX1+tS/JKa1JRxvL29PadeEyNgAGChoqIi9fX1\\\n",
              "yePxSLoZr63aql3aJa+82qVd2qqt6Yh5PB719fWpqKjIwaknFwEDAEv5/f50xPrVrxGNyCuvXtWr\\\n",
              "8sqrEY2oX/3pePn9fqdHnlQEDAAs5vf7FY1GlVRSEUUyjkUUUVJJRaPRnIuXRMAAwGqxWEzBYFCF\\\n",
              "KlRIoYxjIYVUqEIFg8FxW+xzAQEDAEvdulW+VrXpy4bP6bn05cRa1Y7bYp8rXHMvRADAvUskEhlb\\\n",
              "5bvUJUnqV7+SSmqbtqlWten1VMSOHTuWMxs5OAMDAAsVFRWptbU1Y61LXSrwFKinp0cFnoJ0vFJa\\\n",
              "W1tzJl4SZ2AA4Fp7/utQxsff+flXMz5OvTE59WbmW3cb9vX1ZZyhhUKhnHsjMwEDAIulotTe3p6x\\\n",
              "Vf7WiLW2tuZcvCQCBgDWC4fDeuGFF8ZdHvT7/Tn1mtcnETAAcKlPXjK8mztFKlfjJbGJAwBgKQIG\\\n",
              "ALASAQMAWImAAQCsRMAAAFYiYAAAKxEwAICV8owxxukhsuGxxx6T1+t1eoysGxsb0+zZs50eY0rx\\\n",
              "mKcHHrMzRkZGdP78eUdnuFc5G7DpoqamRgMDA06PMaV4zNMDjxmfhkuIAAArETAAgJUImOWCwaDT\\\n",
              "I0w5HvP0wGPGp+E1MACAlTgDAwBYiYBZ6vXXX1dVVZUeeOCBcbuWdu7cKZ/Pp4qKCu3fv9+hCSff\\\n",
              "vn37VFFRIZ/Pp7a2NqfHyZrNmzeruLhYixYtSq9duHBBdXV1Ki8vV11dnS5evOjghJPv1KlTCgQC\\\n",
              "WrhwoaqqqrR7925Juf24L1++rBUrVmjJkiWqqqpSKBSSJA0PD2vlypXy+Xx69tlndfXqVYcndTED\\\n",
              "Kw0ODpoTJ06Yr3zlK+avf/1rev348eOmurraXL582fzzn/808+fPN9evX3dw0slx/fp1M3/+fPP+\\\n",
              "+++bK1eumOrqanP8+HGnx8qKP/3pT+add94xVVVV6bWXXnrJ7Ny50xhjzM6dO833vvc9p8bLing8\\\n",
              "bt555x1jjDH/+te/THl5uTl+/HhOP+6PPvrI/Pvf/zbGGHP16lWzYsUKc/jwYfONb3zDvPbaa8YY\\\n",
              "Y55//nnzs5/9zMkxXY0zMEtVVlaqoqJi3Hp3d7eam5s1a9YszZs3Tz6fT0eOHHFgwsl15MgR+Xw+\\\n",
              "zZ8/XzNnzlRzc7O6u7udHisrVq1apUcffTRjrbu7Wy0tLZKklpYWdXV1OTBZ9pSUlOgLX/iCJOmh\\\n",
              "hx5SZWWlRkdHc/px5+Xl6cEHH5QkXbt2TdeuXVNeXp4OHTqkDRs2SMq9xzzZCFiOGR0d1dy5c9Mf\\\n",
              "l5WVaXR01MGJJkeuPq57de7cOZWUlEiS5syZo3Pnzjk8UfaMjIzob3/7m1auXJnzj/vGjRtaunSp\\\n",
              "iouLVVdXpwULFqiwsFD5+fmSpt//5xOV7/QAuLM1a9bo7Nmz49Z37NihxsZGByaCG+Tl5SkvL8/p\\\n",
              "MbLigw8+0Pr16/XKK6/o4YcfzjiWi497xowZOnr0qJLJpNatW6cTJ044PZJVCJiLHTx4cMJfU1pa\\\n",
              "qlOnTqU/Pn36tEpLSydzLEfk6uO6V48//rjOnDmjkpISnTlzRsXFxU6PNOmuXbum9evXa9OmTXrm\\\n",
              "mWckTY/HLUmFhYUKBAI6fPiwksmkrl+/rvz8/Gn3//lEcQkxxzQ0NKizs1NXrlzR8PCwhoaGtGLF\\\n",
              "CqfH+o8tX75cQ0NDGh4e1tWrV9XZ2amGhganx5oyDQ0N6ujokCR1dHTk3Bm4MUZbtmxRZWWlXnzx\\\n",
              "xfR6Lj/usbExJZNJSdKHH36oAwcOqLKyUoFAQG+88Yak3HvMk87pXSS4P2+++aYpLS01M2fONMXF\\\n",
              "xebJJ59MH3v55ZfN/Pnzjd/vN3/4wx8cnHJy9fb2mvLycjN//nzz8ssvOz1O1jQ3N5s5c+aY/Px8\\\n",
              "U1paan75y1+a8+fPm69+9avG5/OZ1atXm0Qi4fSYk+rPf/6zkWQWL15slixZYpYsWWJ6e3tz+nG/\\\n",
              "++67ZunSpWbx4sWmqqrKRCIRY4wx77//vlm+fLlZsGCB2bBhg7l8+bLDk7oXd+IAAFiJS4gAACsR\\\n",
              "MACAlQgYAMBKBAwAYCUCBgCwEgEDAFiJgAEArETAAABWImAAACsRMACAlQgYAMBKBAwAYCUCBgCw\\\n",
              "EgEDAFiJgAEArETAAABWImAAACsRMACAlQgYAMBKBAwAYKX/B6qwtlbsB1TtAAAAAElFTkSuQmCC\\\n",
              "\"\n",
              "  frames[4] = \"data:image/png;base64,iVBORw0KGgoAAAANSUhEUgAAAbAAAAEgCAYAAADVKCZpAAAAOXRFWHRTb2Z0d2FyZQBNYXRwbG90\\\n",
              "bGliIHZlcnNpb24zLjcuMSwgaHR0cHM6Ly9tYXRwbG90bGliLm9yZy/bCgiHAAAACXBIWXMAAAsT\\\n",
              "AAALEwEAmpwYAAAZQUlEQVR4nO3df0xV9/3H8ReVaELajpZK5YLdVS+XIYpuom7J4rhT2q0SwOos\\\n",
              "i3+warj9Zltj7Dfd/GPJvTepky1ZrMlctstcR/ZH+a5NBwtsGq2wLIuNo5l1la9e1kGiXDV49X63\\\n",
              "xvqzn+8f5t56i1pxXM75XJ6PxAQ+B+z7poXnPed+7mmeMcYIAADLPOD0AAAA3A8CBgCwEgEDAFiJ\\\n",
              "gAEArETAAABWImAAACsRMACAlQgYAMBKBAwAYCUCBgCwEgEDAFiJgAEArETAAABWImAAACsRMACA\\\n",
              "lQgYAMBKBAwAYCUCBgCwEgEDAFiJgAEArETAAABWImAAACsRMACAlQgYAMBKBAwAYCUCBgCwEgED\\\n",
              "AFiJgAEArETAAABWImAAACsRMACAlQgYAMBKBAwAYCUCBgCwUr7TA2TLY489Jq/X6/QYAGCVkZER\\\n",
              "nT9/3ukx7knOBszr9WpgYMDpMQDAKjU1NU6PcM+4hIgMiURiQusA4BQChrRwOKzq6mrFYrGM9Vgs\\\n",
              "purqaoXDYWcGA4DbIGCQdDNekUhE8XhcgUAgHbFYLKZAIKB4PK5IJELEALgGAUM6XimpiPX29qbj\\\n",
              "lULEALgFAZvmEomE2tvbM9aa1KRL8Uuqr6/XpfglNakp43h7ezuviQFwHAGb5oqKitTX1yePxyPp\\\n",
              "Zry2aqt2aZe88mqXdmmrtqYj5vF41NfXp6KiIgenBgACBkl+vz8dsX71a0Qj8sqrV/WqvPJqRCPq\\\n",
              "V386Xn6/3+mRAYCA4Sa/369oNKqkkoooknEsooiSSioajRIvAK5BwCDp5m7DYDCoQhUqpFDGsZBC\\\n",
              "KlShgsHguC32AOAUAoaMrfK1qk1fNnxOz6UvJ9aqdtwWewBwUs7eSgr3JpFIZGyV71KXJKlf/Uoq\\\n",
              "qW3aplrVptdTETt27BgbOQA4ijOwaa6oqEitra0Za13qUoGnQD09PSrwFKTjldLa2kq8gAngFm3Z\\\n",
              "QcCgcDisUOjj171Suw3Xrl2bscVekkKhEG9kBiaAW7RlkclRy5Ytc3oEdwk9/PGfO31JKGQ8Ho85\\\n",
              "efJkxvrJkyeNx+MxoVAoy0MCuSUUChlJRlLGz1bqZyp1zE0/Wzb97swzxhhnE5odNTU1/O9UbhX+\\\n",
              "zC0f/98dvyyRSNz28uCd1gHc3idv0SbdvLoRjUYVDAYzbtEmuefqhk2/O7mEiAx3ihTxAu4dt2ib\\\n",
              "GuxCnC7uctYFYHKlbtGW2uGbukVboxoVUUQhheSVV9LNTVPcou3+uOoM7PLly1qxYoWWLFmiqqqq\\\n",
              "9MaC4eFhrVy5Uj6fT88++6yuXr3q8KQAcHfcoi37XBWwWbNm6dChQ3r33Xd19OhR7du3T2+//ba+\\\n",
              "//3va9u2bfrHP/6hRx55RHv37nV6VAD4VNyiLbtcFbC8vDw9+OCDkqRr167p2rVrysvL06FDh7Rh\\\n",
              "wwZJUktLi7q6uhycEgDuDbdoyy5XBUySbty4oaVLl6q4uFh1dXVasGCBCgsLlZ9/8+W6srIyjY6O\\\n",
              "OjwlANwdt2jLPtdt4pgxY4aOHj2qZDKpdevW6cSJE/f8vdFoVNFoVJI0NjaWrREB4K64RdvUcN0Z\\\n",
              "WEphYaECgYAOHz6sZDKp69evS5JOnz6t0tLS235PMBjUwMCABgYGNHv27KkcFwDSuEXb1HBVwMbG\\\n",
              "xpRMJiVJH374oQ4cOKDKykoFAgG98cYbkqSOjg41NjY6OCUASN7tvek/t8Mt2rLPVZcQz5w5o5aW\\\n",
              "Ft24cUMfffSRNm7cqPr6ei1cuFDNzc36wQ9+oM9//vPasmWL06MCwKdKRam9vT1jq3xqi30gEFBr\\\n",
              "ayvxuk/cSgoA7sOtZ14jbWvv+rU23aLNpt+drjoDAwBbfFq0bsUt2rLDVa+BAQBwrwgYAMBKBAwA\\\n",
              "YCUCBgCwEgEDAFiJgAEArETAAABWImAAACsRMACAlQgYAMBKBAwAYCUCBgCwEgG7T4lEYkLrAIDJ\\\n",
              "RcDuQzgcVnV1tWKxWMZ6LBZTdXU1/28fAJgCBGyCwuGwIpGI4vG4AoFAOmKxWEyBQEDxeFyRSISI\\\n",
              "AUCWEbAJSMUrJRWx3t7edLxSiBgAZBcBu0eJRELt7e0Za01q0qX4JdXX1+tS/JKa1JRxvL29ndfE\\\n",
              "ACBLCNg9KioqUl9fnzwej6Sb8dqqrdqlXfLKq13apa3amo6Yx+NRX18f/8dVAMgSAjYBfr8/HbF+\\\n",
              "9WtEI/LKq1f1qrzyakQj6ld/Ol5+v9/pkQEgZxGwCfL7/YpGo0oqqYgiGcciiiippKLRKPECgCwj\\\n",
              "YBMUi8UUDAZVqEKFFMo4FlJIhSpUMBgct8UeADC5CNgE3LpVvla16cuGz+m59OXEWtWO22IPAJh8\\\n",
              "+U4PYItEIpGxVb5LXZKkfvUrqaS2aZtqVZteT0Xs2LFjbOQAgCxw1RnYqVOnFAgEtHDhQlVVVWn3\\\n",
              "7t2SpAsXLqiurk7l5eWqq6vTxYsXp3y2oqIitba2Zqx1qUsFngL19PSowFOQjldKa2sr8QKALHFV\\\n",
              "wPLz8/WTn/xEg4ODevvtt7Vnzx4NDg6qra1Nq1ev1tDQkFavXq22tjZH5guHwwqFPn7dK7XbcO3a\\\n",
              "tRlb7CUpFArxRmYAyCJXXUIsKSlRSUmJJOmhhx5SZWWlRkdH1d3drf7+fklSS0uLamtr9aMf/Sgr\\\n",
              "M/zv5yrTH1ee+N9xx1NRam9vz9gqn9piHwgE1NraSrwAIMvyjDHG6SFuZ2RkRKtWrdJ7772nJ554\\\n",
              "QslkUpJkjNEjjzyS/vxOampqNDAwMOF/7qcFLCWRSNz28uCd1gHABvf7u9MJrjoDS/nggw+0fv16\\\n",
              "vfLKK3r44YczjuXl5SkvL++23xeNRhWNRiVJY2NjWZ3xTpEiXgAwNVwXsGvXrmn9+vXatGmTnnnm\\\n",
              "GUnS448/rjNnzqikpERnzpxRcXHxbb83GAwqGAxKuvks4n7c7awLAOAertrEYYzRli1bVFlZqRdf\\\n",
              "fDG93tDQoI6ODklSR0eHGhsbnRoRAOASrjoD+8tf/qLf/OY3Wrx4sZYuXSpJ+uEPf6jt27dr48aN\\\n",
              "2rt3rz772c/qt7/9rbODAgAc56qAffnLX9ad9pS89dZbUzwNAMDNXHUJEQCAe0XAAABWImAAACsR\\\n",
              "MACAlQgYAMBKBAwAYCUCBgCwEgEDAFiJgAEArETAAABWImAAACsRMACAlQgYAMBKBAwAYCUCBgCw\\\n",
              "EgEDAFiJgAEArETAAABWImAAACsRMACAlQgYAMBKBAwAYCUCBgCwEgEDAFjJdQHbvHmziouLtWjR\\\n",
              "ovTahQsXVFdXp/LyctXV1enixYsOTggAcAPXBexb3/qW9u3bl7HW1tam1atXa2hoSKtXr1ZbW5tD\\\n",
              "000viURiQusAMJVcF7BVq1bp0UcfzVjr7u5WS0uLJKmlpUVdXV0OTDa9hMNhVVdXKxaLZazHYjFV\\\n",
              "V1crHA47MxiAtOn+JNN1Abudc+fOqaSkRJI0Z84cnTt3zuGJcls4HFYkElE8HlcgEEhHLBaLKRAI\\\n",
              "KB6PKxKJEDHAQTzJlGRcaHh42FRVVaU//8xnPpNxvLCw8Lbf94tf/MIsW7bMLFu2zDzxxBPZHDFn\\\n",
              "hUIhIynjj8fjMT09Pcbj8Yw7FgqFnB4ZmHZu/Tn1eDzm5MmTxhhjTp48mfFzej8/n8uWLZvkabPH\\\n",
              "ioD5/X4Tj8eNMcbE43Hj9/s/9e+w6V+CW5w/f35cpJrUZApVaCSZQhWaJjWNi9v58+edHh2YNrL9\\\n",
              "JNOm351WXEJsaGhQR0eHJKmjo0ONjY0OT5SbioqK1NfXJ4/HI0lqUpO2aqt2aZe88mqXdmmrtqpJ\\\n",
              "TZIkj8ejvr4+FRUVOTg1MH0kEgm1t7dnrDWpSZfil1RfX69L8Uvpn8+U9vb2nH1NzHUB++Y3v6kv\\\n",
              "felLOnnypMrKyrR3715t375dBw4cUHl5uQ4ePKjt27c7PWbO8vv96Yj1q18jGpFXXr2qV+WVVyMa\\\n",
              "Ub/60/Hy+/1OjwxMGzzJzJRnjDFOD5ENNTU1GhgYcHoMa/X29qq+vj4dr5Tn9JxGNKKenh6tXbvW\\\n",
              "wQmB6Su1oepS/FI6XikjGtE2bVOBp+C+nmTa9LvTdWdgcF4sFlMwGFShChVSKONYSCEVqlDBYHDc\\\n",
              "7icAU8Pv9ysajSqppCKKZByLKKKkkopGozl/hYSAIcOtW+VrVZu+bJg68/LKq1rVjttiD2Dq8CTz\\\n",
              "JgKGtEQikY6XJHWpS7u1W9u0LX1ZYrd2q0tdkpSOWK6+QAy4EU8yP0bAkFZUVKTW1taMtS51qcBT\\\n",
              "oJ6eHhV4CtLxSmltbc3ZF4gBt+FJZiYChgzhcFih0MeXJFK7mNauXZux+0mSQqHQ9Hi3P+ASPMn8\\\n",
              "BKffiJYtNr0Zb6ot+vWi9J87CYVCGe/wT0m90587cADO4U4cN7GNfhpa3LE4/fHfW/5+x69LJBK3\\\n",
              "feZ2p3UAk+Mnz9anP/7v/+m57deEw2G1t7eP2yqfeo2stbX1vq6Q2PS7M9/pAeBed4oU8QKcFw6H\\\n",
              "9cILL4z7efT7/Tp27Ni0+DklYNPQ3c66ANhjuj/JJGAA4DJ3umyITOxCBABYiYABAKxEwAAAViJg\\\n",
              "AAArETAAgJUIGADASgQMAGAlAgYAsBIBAwBYiYABAKxEwAAAViJgAAArETAAgJUIGADASgQMAGAl\\\n",
              "awK2b98+VVRUyOfzqa2tzelxAAAOsyJgN27c0He+8x398Y9/1ODgoF577TUNDg46PRYAwEFWBOzI\\\n",
              "kSPy+XyaP3++Zs6cqebmZnV3dzs9FgDAQVYEbHR0VHPnzk1/XlZWptHRUQcnAgA4Ld/pASZTNBpV\\\n",
              "NBqVJI2NjTk8DQAgm6w4AystLdWpU6fSn58+fVqlpaXjvi4YDGpgYEADAwOaPXv2VI4IAJhiVgRs\\\n",
              "+fLlGhoa0vDwsK5evarOzk41NDQ4PRYAwEFWXELMz8/XT3/6Uz311FO6ceOGNm/erKqqKqfHAgA4\\\n",
              "yIqASdLTTz+tp59+2ukxAAAuYcUlRAAAPomAAQCsRMAAAFYiYAAAKxEwAICVCBgAwEoEDABgJQIG\\\n",
              "ALASAQMAWImAAQCsRMAAAFYiYAAAKxEwAICVCBgAwEoEDABgJQIGALASAQMAWImAAQCsRMAAAFYi\\\n",
              "YAAAKxEwAICVCBgAwEoEDABgJQIGALCSawL2+uuvq6qqSg888IAGBgYyju3cuVM+n08VFRXav3+/\\\n",
              "QxMCANwk3+kBUhYtWqQ333xTzz//fMb64OCgOjs7dfz4ccXjca1Zs0axWEwzZsxwaFIAgBu45gys\\\n",
              "srJSFRUV49a7u7vV3NysWbNmad68efL5fDpy5IgDEwIA3MQ1AbuT0dFRzZ07N/15WVmZRkdHHZwI\\\n",
              "AOAGU3oJcc2aNTp79uy49R07dqixsfE//vuj0aii0agkaWxs7D/++wAA7jWlATt48OCEv6e0tFSn\\\n",
              "Tp1Kf3769GmVlpbe9muDwaCCwaAkqaam5v6GBABYwfWXEBsaGtTZ2akrV65oeHhYQ0NDWrFihdNj\\\n",
              "AQAc5pqA/e53v1NZWZkOHz6stWvX6qmnnpIkVVVVaePGjVq4cKG+9rWvac+ePexABAAozxhjnB4i\\\n",
              "G2pqasa9nwwAcHc2/e50zRkYAAATQcAAAFYiYAAAKxEwAICVCBgAwEoEDABgJQIGALASAQMAWImA\\\n",
              "AQCsRMAAAFYiYAAAKxEwAICVCBgAwEoEDABgJQIGALASAQMAWImAAQCsRMAAAFYiYAAAKxEwAICV\\\n",
              "CBgAwEoEDABgJQIGALASAQMAWMk1AXvppZf0uc99TtXV1Vq3bp2SyWT62M6dO+Xz+VRRUaH9+/c7\\\n",
              "NyQAwDVcE7C6ujq99957OnbsmPx+v3bu3ClJGhwcVGdnp44fP659+/bp29/+tm7cuOHwtAAAp7km\\\n",
              "YE8++aTy8/MlSV/84hd1+vRpSVJ3d7eam5s1a9YszZs3Tz6fT0eOHHFyVACAC7gmYLf61a9+pa9/\\\n",
              "/euSpNHRUc2dOzd9rKysTKOjo06NBgBwifyp/IetWbNGZ8+eHbe+Y8cONTY2pj/Oz8/Xpk2bJvz3\\\n",
              "R6NRRaNRSdLY2Nh/NiwAwNWmNGAHDx686/Ff//rX6unp0VtvvaW8vDxJUmlpqU6dOpX+mtOnT6u0\\\n",
              "tPS23x8MBhUMBiVJNTU1kzQ1AMCNXHMJcd++ffrxj3+s3//+9yooKEivNzQ0qLOzU1euXNHw8LCG\\\n",
              "hoa0YsUKBycFALjBlJ6B3c13v/tdXblyRXV1dZJubuT4+c9/rqqqKm3cuFELFy5Ufn6+9uzZoxkz\\\n",
              "Zjg8LQDAaXnGGOP0ENlQU1OjgYEBp8cAAKvY9LvTNZcQAQD3L5FITGg9FxAwALBcOBxWdXW1YrFY\\\n",
              "xnosFlN1dbXC4bAzg2UZAQMAi4XDYUUiEcXjcQUCgXTEYrGYAoGA4vG4IpFITkaMgAGApVLxSklF\\\n",
              "rLe3Nx2vlFyMGAEDAAslEgm1t7dnrDWpSZfil1RfX69L8UtqUlPG8fb29px6TYyAAYCFioqK1NfX\\\n",
              "J4/HI+lmvLZqq3Zpl7zyapd2aau2piPm8XjU19enoqIiB6eeXAQMACzl9/vTEetXv0Y0Iq+8elWv\\\n",
              "yiuvRjSifvWn4+X3+50eeVIRMACwmN/vVzQaVVJJRRTJOBZRREklFY1Gcy5eEgEDAKvFYjEFg0EV\\\n",
              "qlAhhTKOhRRSoQoVDAbHbbHPBQQMACx161b5WtWmLxs+p+fSlxNrVTtui32ucM29EAEA9y6RSGRs\\\n",
              "le9SlySpX/1KKqlt2qZa1abXUxE7duxYzmzk4AwMACxUVFSk1tbWjLUudanAU6Cenh4VeArS8Upp\\\n",
              "bW3NmXhJnIEBgKvt+a9D6Y+/8/OvZhxLvTE59WbmW3cb9vX1ZZyhhUKhnHsjMwEDAIulotTe3p6x\\\n",
              "Vf7WiLW2tuZcvCQCBgDWC4fDeuGFF8ZdHvT7/Tn1mtcnETAAcLFPXja8kztFKlfjJbGJAwBgKQIG\\\n",
              "ALASAQMAWImAAQCsRMAAAFYiYAAAKxEwAICV8owxxukhsuGxxx6T1+t1eoysGxsb0+zZs50eY0rx\\\n",
              "mKcHHrMzRkZGdP78eUdnuFc5G7DpoqamRgMDA06PMaV4zNMDjxmfhkuIAAArETAAgJUImOWCwaDT\\\n",
              "I0w5HvP0wGPGp+E1MACAlTgDAwBYiYBZ6vXXX1dVVZUeeOCBcbuWdu7cKZ/Pp4qKCu3fv9+hCSff\\\n",
              "vn37VFFRIZ/Pp7a2NqfHyZrNmzeruLhYixYtSq9duHBBdXV1Ki8vV11dnS5evOjghJPv1KlTCgQC\\\n",
              "WrhwoaqqqrR7925Juf24L1++rBUrVmjJkiWqqqpSKBSSJA0PD2vlypXy+Xx69tlndfXqVYcndTED\\\n",
              "Kw0ODpoTJ06Yr3zlK+avf/1rev348eOmurraXL582fzzn/808+fPN9evX3dw0slx/fp1M3/+fPP+\\\n",
              "+++bK1eumOrqanP8+HGnx8qKP/3pT+add94xVVVV6bWXXnrJ7Ny50xhjzM6dO833vvc9p8bLing8\\\n",
              "bt555x1jjDH/+te/THl5uTl+/HhOP+6PPvrI/Pvf/zbGGHP16lWzYsUKc/jwYfONb3zDvPbaa8YY\\\n",
              "Y55//nnzs5/9zMkxXY0zMEtVVlaqoqJi3Hp3d7eam5s1a9YszZs3Tz6fT0eOHHFgwsl15MgR+Xw+\\\n",
              "zZ8/XzNnzlRzc7O6u7udHisrVq1apUcffTRjrbu7Wy0tLZKklpYWdXV1OTBZ9pSUlOgLX/iCJOmh\\\n",
              "hx5SZWWlRkdHc/px5+Xl6cEHH5QkXbt2TdeuXVNeXp4OHTqkDRs2SMq9xzzZCFiOGR0d1dy5c9Of\\\n",
              "l5WVaXR01MGJJkeuPq57de7cOZWUlEiS5syZo3Pnzjk8UfaMjIzob3/7m1auXJnzj/vGjRtaunSp\\\n",
              "iouLVVdXpwULFqiwsFD5+fmSpt9/5xOV7/QAuLM1a9bo7Nmz49Z37NihxsZGByaCG+Tl5SkvL8/p\\\n",
              "MbLigw8+0Pr16/XKK6/o4YcfzjiWi497xowZOnr0qJLJpNatW6cTJ044PZJVCJiLHTx4cMLfU1pa\\\n",
              "qlOnTqU/P336tEpLSydzLEfk6uO6V48//rjOnDmjkpISnTlzRsXFxU6PNOmuXbum9evXa9OmTXrm\\\n",
              "mWckTY/HLUmFhYUKBAI6fPiwksmkrl+/rvz8/Gn33/lEcQkxxzQ0NKizs1NXrlzR8PCwhoaGtGLF\\\n",
              "CqfH+o8tX75cQ0NDGh4e1tWrV9XZ2amGhganx5oyDQ0N6ujokCR1dHTk3Bm4MUZbtmxRZWWlXnzx\\\n",
              "xfR6Lj/usbExJZNJSdKHH36oAwcOqLKyUoFAQG+88Yak3HvMk87pXSS4P2+++aYpLS01M2fONMXF\\\n",
              "xebJJ59MH3v55ZfN/Pnzjd/vN3/4wx8cnHJy9fb2mvLycjN//nzz8ssvOz1O1jQ3N5s5c+aY/Px8\\\n",
              "U1paan75y1+a8+fPm69+9avG5/OZ1atXm0Qi4fSYk+rPf/6zkWQWL15slixZYpYsWWJ6e3tz+nG/\\\n",
              "++67ZunSpWbx4sWmqqrKRCIRY4wx77//vlm+fLlZsGCB2bBhg7l8+bLDk7oXd+IAAFiJS4gAACsR\\\n",
              "MACAlQgYAMBKBAwAYCUCBgCwEgEDAFiJgAEArETAAABWImAAACsRMACAlQgYAMBKBAwAYCUCBgCw\\\n",
              "EgEDAFiJgAEArETAAABWImAAACsRMACAlQgYAMBKBAwAYKX/B56wtlbxsxuoAAAAAElFTkSuQmCC\\\n",
              "\"\n",
              "\n",
              "\n",
              "    /* set a timeout to make sure all the above elements are created before\n",
              "       the object is initialized. */\n",
              "    setTimeout(function() {\n",
              "        anim122dc0f4abb54f549cedcf0132e297ce = new Animation(frames, img_id, slider_id, 299.0,\n",
              "                                 loop_select_id);\n",
              "    }, 0);\n",
              "  })()\n",
              "</script>\n"
            ]
          },
          "metadata": {},
          "execution_count": 77
        }
      ],
      "source": [
        "def do_one(d):\n",
        "    if d:one_update(X)\n",
        "    ax.clear()\n",
        "    plot_data(centroids+2, X, n_samples, ax=ax)\n",
        "\n",
        "X = data.clone()\n",
        "X = X.cpu()\n",
        "fig,ax = plt.subplots()\n",
        "ani = FuncAnimation(fig, do_one, frames=5, interval=300,repeat=False)\n",
        "plt.close()\n",
        "HTML(ani.to_jshtml())"
      ]
    },
    {
      "cell_type": "markdown",
      "metadata": {
        "id": "MJpn2E2JQTu1"
      },
      "source": [
        "**Homework:** implement k-means clustering, dbscan, locality sensitive hashing, or some other clustering, fast nearest neighbors, or similar algorithm of your choice, on the GPU. Check if your version is faster than a pure python or CPU version.\n",
        "\n",
        "Bonus: Implement it in APL too!\n",
        "\n",
        "Super bonus: Invent a new meanshift algorithm which picks only the closest points, to avoid quadratic time.\n",
        "\n",
        "Super super bonus: Publish a paper that describes it :D"
      ]
    }
  ],
  "metadata": {
    "kernelspec": {
      "display_name": "Python 3 (ipykernel)",
      "language": "python",
      "name": "python3"
    },
    "colab": {
      "provenance": []
    },
    "accelerator": "GPU",
    "gpuClass": "standard"
  },
  "nbformat": 4,
  "nbformat_minor": 0
}